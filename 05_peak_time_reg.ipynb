{
 "cells": [
  {
   "cell_type": "code",
   "execution_count": 1,
   "metadata": {},
   "outputs": [
    {
     "name": "stderr",
     "output_type": "stream",
     "text": [
      "Using TensorFlow backend.\n",
      "/usr/local/linux/anaconda3.7/lib/python3.7/site-packages/tensorflow/python/framework/dtypes.py:516: FutureWarning: Passing (type, 1) or '1type' as a synonym of type is deprecated; in a future version of numpy, it will be understood as (type, (1,)) / '(1,)type'.\n",
      "  _np_qint8 = np.dtype([(\"qint8\", np.int8, 1)])\n",
      "/usr/local/linux/anaconda3.7/lib/python3.7/site-packages/tensorflow/python/framework/dtypes.py:517: FutureWarning: Passing (type, 1) or '1type' as a synonym of type is deprecated; in a future version of numpy, it will be understood as (type, (1,)) / '(1,)type'.\n",
      "  _np_quint8 = np.dtype([(\"quint8\", np.uint8, 1)])\n",
      "/usr/local/linux/anaconda3.7/lib/python3.7/site-packages/tensorflow/python/framework/dtypes.py:518: FutureWarning: Passing (type, 1) or '1type' as a synonym of type is deprecated; in a future version of numpy, it will be understood as (type, (1,)) / '(1,)type'.\n",
      "  _np_qint16 = np.dtype([(\"qint16\", np.int16, 1)])\n",
      "/usr/local/linux/anaconda3.7/lib/python3.7/site-packages/tensorflow/python/framework/dtypes.py:519: FutureWarning: Passing (type, 1) or '1type' as a synonym of type is deprecated; in a future version of numpy, it will be understood as (type, (1,)) / '(1,)type'.\n",
      "  _np_quint16 = np.dtype([(\"quint16\", np.uint16, 1)])\n",
      "/usr/local/linux/anaconda3.7/lib/python3.7/site-packages/tensorflow/python/framework/dtypes.py:520: FutureWarning: Passing (type, 1) or '1type' as a synonym of type is deprecated; in a future version of numpy, it will be understood as (type, (1,)) / '(1,)type'.\n",
      "  _np_qint32 = np.dtype([(\"qint32\", np.int32, 1)])\n",
      "/usr/local/linux/anaconda3.7/lib/python3.7/site-packages/tensorflow/python/framework/dtypes.py:525: FutureWarning: Passing (type, 1) or '1type' as a synonym of type is deprecated; in a future version of numpy, it will be understood as (type, (1,)) / '(1,)type'.\n",
      "  np_resource = np.dtype([(\"resource\", np.ubyte, 1)])\n",
      "/usr/local/linux/anaconda3.7/lib/python3.7/site-packages/tensorboard/compat/tensorflow_stub/dtypes.py:541: FutureWarning: Passing (type, 1) or '1type' as a synonym of type is deprecated; in a future version of numpy, it will be understood as (type, (1,)) / '(1,)type'.\n",
      "  _np_qint8 = np.dtype([(\"qint8\", np.int8, 1)])\n",
      "/usr/local/linux/anaconda3.7/lib/python3.7/site-packages/tensorboard/compat/tensorflow_stub/dtypes.py:542: FutureWarning: Passing (type, 1) or '1type' as a synonym of type is deprecated; in a future version of numpy, it will be understood as (type, (1,)) / '(1,)type'.\n",
      "  _np_quint8 = np.dtype([(\"quint8\", np.uint8, 1)])\n",
      "/usr/local/linux/anaconda3.7/lib/python3.7/site-packages/tensorboard/compat/tensorflow_stub/dtypes.py:543: FutureWarning: Passing (type, 1) or '1type' as a synonym of type is deprecated; in a future version of numpy, it will be understood as (type, (1,)) / '(1,)type'.\n",
      "  _np_qint16 = np.dtype([(\"qint16\", np.int16, 1)])\n",
      "/usr/local/linux/anaconda3.7/lib/python3.7/site-packages/tensorboard/compat/tensorflow_stub/dtypes.py:544: FutureWarning: Passing (type, 1) or '1type' as a synonym of type is deprecated; in a future version of numpy, it will be understood as (type, (1,)) / '(1,)type'.\n",
      "  _np_quint16 = np.dtype([(\"quint16\", np.uint16, 1)])\n",
      "/usr/local/linux/anaconda3.7/lib/python3.7/site-packages/tensorboard/compat/tensorflow_stub/dtypes.py:545: FutureWarning: Passing (type, 1) or '1type' as a synonym of type is deprecated; in a future version of numpy, it will be understood as (type, (1,)) / '(1,)type'.\n",
      "  _np_qint32 = np.dtype([(\"qint32\", np.int32, 1)])\n",
      "/usr/local/linux/anaconda3.7/lib/python3.7/site-packages/tensorboard/compat/tensorflow_stub/dtypes.py:550: FutureWarning: Passing (type, 1) or '1type' as a synonym of type is deprecated; in a future version of numpy, it will be understood as (type, (1,)) / '(1,)type'.\n",
      "  np_resource = np.dtype([(\"resource\", np.ubyte, 1)])\n"
     ]
    }
   ],
   "source": [
    "%matplotlib inline\n",
    "%load_ext autoreload\n",
    "%autoreload 2\n",
    "from matplotlib import pyplot as plt\n",
    "import seaborn as sns\n",
    "import numpy as np\n",
    "import os\n",
    "from os.path import join as oj\n",
    "from sklearn.feature_extraction.image import extract_patches_2d\n",
    "from sklearn.linear_model import LinearRegression, LogisticRegression, RidgeCV\n",
    "from sklearn.neural_network import MLPRegressor\n",
    "from sklearn.model_selection import cross_validate, train_test_split\n",
    "from sklearn import metrics\n",
    "import numpy as np\n",
    "from collections import Counter\n",
    "from sklearn.datasets import make_classification\n",
    "from torch import nn\n",
    "import torch.nn.functional as F\n",
    "import torch\n",
    "from copy import deepcopy\n",
    "from sklearn import metrics\n",
    "plt.style.use('dark_background')\n",
    "import mat4py\n",
    "import pandas as pd\n",
    "import data_tracks\n",
    "from skorch.callbacks import Checkpoint, TrainEndCheckpoint\n",
    "from skorch import NeuralNetRegressor, NeuralNetClassifier\n",
    "import models\n",
    "from imblearn.over_sampling import RandomOverSampler\n",
    "from statsmodels import robust\n",
    "from sklearn.ensemble import RandomForestRegressor, GradientBoostingRegressor\n",
    "from sklearn.tree import DecisionTreeRegressor\n",
    "from sklearn.svm import SVC, SVR\n",
    "from sklearn.neural_network import MLPRegressor, MLPClassifier\n",
    "from sklearn.model_selection import KFold\n",
    "import pickle as pkl\n",
    "from tqdm import tqdm\n",
    "from sklearn.metrics import r2_score\n",
    "import train_reg\n",
    "#df = data_tracks.get_tracks() # note: different Xs can be different shapes\n",
    "#df = data_tracks.remove_invalid_tracks(df)\n",
    "#df = data_tracks.preprocess(df)\n",
    "#df = data_tracks.add_outcome(df)\n",
    "#n = df.shape[0]"
   ]
  },
  {
   "cell_type": "code",
   "execution_count": 2,
   "metadata": {},
   "outputs": [],
   "source": [
    "df = data_tracks.get_data()\n",
    "\n",
    "X_first_sig_frac = []\n",
    "X_last_sig_frac = []\n",
    "X_sig_mean_frac = []\n",
    "X_sig_exist = []\n",
    "X_min_time_frac = []\n",
    "X_fall_below_mean_time = []\n",
    "\n",
    "for i in range(len(df)):\n",
    "    track = df.iloc[i]\n",
    "    X_sig = np.where(track['X'] > track['X_mean'] + 1*track['X_std'])[0]\n",
    "    X_min_time_frac.append(np.argmin(track['X'])/track['lifetime'])\n",
    "    below_mean_after_peak = np.where(track['X'][track['X_peak_idx']:] < track['X_mean'])[0]\n",
    "    if len(below_mean_after_peak)>0:\n",
    "        X_fall_below_mean_time.append(np.min(below_mean_after_peak)/track['lifetime'])\n",
    "    else:\n",
    "        X_fall_below_mean_time.append(1-track['X_peak_idx']/track['lifetime'])\n",
    "        \n",
    "    if len(X_sig) >= 1:\n",
    "        X_first_sig_frac.append(min(X_sig)/track['lifetime'])\n",
    "        X_last_sig_frac.append(max(X_sig)/track['lifetime'])\n",
    "        X_sig_mean_frac.append(np.mean(X_sig)/track['lifetime'])\n",
    "        X_sig_exist.append(True)\n",
    "    else:\n",
    "        X_first_sig_frac.append(0.36)\n",
    "        X_last_sig_frac.append(0.80)\n",
    "        X_sig_mean_frac.append(0.59)\n",
    "        X_sig_exist.append(False)\n",
    "df['X_first_sig_frac'] = X_first_sig_frac\n",
    "df['X_last_sig_frac'] = X_last_sig_frac\n",
    "df['X_sig_mean_frac'] = X_sig_mean_frac\n",
    "df['X_sig_exist'] = X_sig_exist\n",
    "df['X_min_time_frac'] = X_min_time_frac\n",
    "df['X_fall_below_mean_time'] = X_fall_below_mean_time"
   ]
  },
  {
   "cell_type": "code",
   "execution_count": 3,
   "metadata": {},
   "outputs": [],
   "source": [
    "outcome_def = 'Y_peak_time_frac_diff'\n",
    "df[outcome_def] = df['Y_peak_time_frac'] - df['X_peak_time_frac']\n",
    "#df = df[df['X_sig_exist'] == True]\n",
    "out_dir = f'results/regression/{outcome_def}'\n",
    "os.makedirs(out_dir, exist_ok=True)\n",
    "feat_names = data_tracks.get_feature_names(df)\n",
    "feat_names = [x for x in feat_names \n",
    "              if not x.startswith('sc_') \n",
    "              and not x.startswith('nmf_')\n",
    "              and not x in ['center_max', 'left_max', 'right_max', 'up_max', 'down_max',\n",
    "                           'X_max_around_Y_peak', 'X_max_after_Y_peak', 'X_max_diff']\n",
    "              and not x.startswith('pc_')\n",
    "#               and not 'slope' in x\n",
    "             ]\n",
    "#feat_names = ['X_peak_time_frac']"
   ]
  },
  {
   "cell_type": "code",
   "execution_count": 4,
   "metadata": {},
   "outputs": [
    {
     "name": "stderr",
     "output_type": "stream",
     "text": [
      " 25%|██▌       | 1/4 [00:07<00:23,  7.77s/it]"
     ]
    },
    {
     "name": "stdout",
     "output_type": "stream",
     "text": [
      "[0.276875808403219, 0.26803793242113294, 0.35490767607204876, 0.28109289975326, 0.2664427820798958]\n"
     ]
    },
    {
     "name": "stderr",
     "output_type": "stream",
     "text": [
      " 50%|█████     | 2/4 [00:08<00:11,  5.70s/it]"
     ]
    },
    {
     "name": "stdout",
     "output_type": "stream",
     "text": [
      "[0.11516289148205139, 0.15009029229998938, 0.15315750669048733, 0.13247245903354554, 0.15295366291211365]\n",
      "[0.27049141241043906, 0.2521477299018967, 0.3131893343915746, 0.3219146592738401, 0.3439192896976614]\n"
     ]
    },
    {
     "name": "stderr",
     "output_type": "stream",
     "text": [
      "100%|██████████| 4/4 [00:09<00:00,  4.17s/it]"
     ]
    },
    {
     "name": "stdout",
     "output_type": "stream",
     "text": [
      "[0.26043375709715444, 0.20543081788032422, 0.32398032509237007, 0.3060839212546601, 0.27380301295840326]\n"
     ]
    },
    {
     "name": "stderr",
     "output_type": "stream",
     "text": [
      "\n"
     ]
    }
   ],
   "source": [
    "for model_type in tqdm(['rf', 'svm', 'linear', 'gb']):\n",
    "    out_name = f'{model_type}'\n",
    "                    #print(out_name)\n",
    "    train_reg.train_reg(df, feat_names=feat_names[1:15] + feat_names[31:], model_type=model_type, \n",
    "                 outcome_def=outcome_def,\n",
    "                 out_name=f'{out_dir}/{out_name}.pkl') "
   ]
  },
  {
   "cell_type": "code",
   "execution_count": 5,
   "metadata": {},
   "outputs": [
    {
     "data": {
      "text/html": [
       "<div>\n",
       "<style scoped>\n",
       "    .dataframe tbody tr th:only-of-type {\n",
       "        vertical-align: middle;\n",
       "    }\n",
       "\n",
       "    .dataframe tbody tr th {\n",
       "        vertical-align: top;\n",
       "    }\n",
       "\n",
       "    .dataframe thead th {\n",
       "        text-align: right;\n",
       "    }\n",
       "</style>\n",
       "<table border=\"1\" class=\"dataframe\">\n",
       "  <thead>\n",
       "    <tr style=\"text-align: right;\">\n",
       "      <th></th>\n",
       "      <th>cv_accuracy_by_cell</th>\n",
       "      <th>r2</th>\n",
       "    </tr>\n",
       "    <tr>\n",
       "      <th>model_type</th>\n",
       "      <th></th>\n",
       "      <th></th>\n",
       "    </tr>\n",
       "  </thead>\n",
       "  <tbody>\n",
       "    <tr>\n",
       "      <th>linear</th>\n",
       "      <td>[0.27049141241043906, 0.2521477299018967, 0.31...</td>\n",
       "      <td>0.302</td>\n",
       "    </tr>\n",
       "    <tr>\n",
       "      <th>rf</th>\n",
       "      <td>[0.276875808403219, 0.26803793242113294, 0.354...</td>\n",
       "      <td>0.285</td>\n",
       "    </tr>\n",
       "    <tr>\n",
       "      <th>gb</th>\n",
       "      <td>[0.26043375709715444, 0.20543081788032422, 0.3...</td>\n",
       "      <td>0.273</td>\n",
       "    </tr>\n",
       "    <tr>\n",
       "      <th>svm</th>\n",
       "      <td>[0.11516289148205139, 0.15009029229998938, 0.1...</td>\n",
       "      <td>0.140</td>\n",
       "    </tr>\n",
       "    <tr>\n",
       "      <th>dt</th>\n",
       "      <td>[-0.3754075984574454, -0.8550746872676571, -0....</td>\n",
       "      <td>-0.490</td>\n",
       "    </tr>\n",
       "    <tr>\n",
       "      <th>mlp2</th>\n",
       "      <td>[-2896.828116664122, -93273.4952796763, -45862...</td>\n",
       "      <td>-33651.147</td>\n",
       "    </tr>\n",
       "  </tbody>\n",
       "</table>\n",
       "</div>"
      ],
      "text/plain": [
       "                                          cv_accuracy_by_cell         r2\n",
       "model_type                                                              \n",
       "linear      [0.27049141241043906, 0.2521477299018967, 0.31...      0.302\n",
       "rf          [0.276875808403219, 0.26803793242113294, 0.354...      0.285\n",
       "gb          [0.26043375709715444, 0.20543081788032422, 0.3...      0.273\n",
       "svm         [0.11516289148205139, 0.15009029229998938, 0.1...      0.140\n",
       "dt          [-0.3754075984574454, -0.8550746872676571, -0....     -0.490\n",
       "mlp2        [-2896.828116664122, -93273.4952796763, -45862... -33651.147"
      ]
     },
     "execution_count": 5,
     "metadata": {},
     "output_type": "execute_result"
    }
   ],
   "source": [
    "results = train_reg.load_results(out_dir)\n",
    "r = results\n",
    "r = r[[k for k in r if not 'std' in k]]\n",
    "r = r[[k for k in r if not '_f' in k]]\n",
    "# r = r[r.index.str.contains('ros')] # only use random sampling\n",
    "r = r.sort_values(by=['r2'], ascending=False)\n",
    "# r.style.background_gradient(cmap='viridis', axis=None) # all values on same cmap\n",
    "r"
   ]
  },
  {
   "cell_type": "code",
   "execution_count": null,
   "metadata": {},
   "outputs": [],
   "source": []
  }
 ],
 "metadata": {
  "kernelspec": {
   "display_name": "Python 3",
   "language": "python",
   "name": "python3"
  },
  "language_info": {
   "codemirror_mode": {
    "name": "ipython",
    "version": 3
   },
   "file_extension": ".py",
   "mimetype": "text/x-python",
   "name": "python",
   "nbconvert_exporter": "python",
   "pygments_lexer": "ipython3",
   "version": "3.7.5"
  }
 },
 "nbformat": 4,
 "nbformat_minor": 4
}
