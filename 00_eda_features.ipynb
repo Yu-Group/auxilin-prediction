{
 "cells": [
  {
   "cell_type": "code",
   "execution_count": 7,
   "metadata": {},
   "outputs": [
    {
     "name": "stdout",
     "output_type": "stream",
     "text": [
      "The autoreload extension is already loaded. To reload it, use:\n",
      "  %reload_ext autoreload\n"
     ]
    }
   ],
   "source": [
    "%matplotlib inline\n",
    "%load_ext autoreload\n",
    "%autoreload 2\n",
    "from matplotlib import pyplot as plt\n",
    "import seaborn as sns\n",
    "import os\n",
    "import numpy as np\n",
    "from copy import deepcopy\n",
    "plt.style.use('dark_background')\n",
    "import mat4py\n",
    "import data\n",
    "import pickle as pkl\n",
    "from util.style import *\n",
    "import viz"
   ]
  },
  {
   "cell_type": "code",
   "execution_count": 8,
   "metadata": {},
   "outputs": [],
   "source": [
    "df = data.get_data(use_processed=True) # all_data=True\n",
    "df = df[df['valid'] == 1] # exclude test cells, short/long tracks, hotspots\n",
    "outcome = 'y_consec_thresh'"
   ]
  },
  {
   "cell_type": "code",
   "execution_count": 9,
   "metadata": {},
   "outputs": [
    {
     "data": {
      "text/plain": [
       "(2936, 82)"
      ]
     },
     "execution_count": 9,
     "metadata": {},
     "output_type": "execute_result"
    }
   ],
   "source": [
    "df.shape"
   ]
  },
  {
   "cell_type": "code",
   "execution_count": 11,
   "metadata": {},
   "outputs": [
    {
     "name": "stdout",
     "output_type": "stream",
     "text": [
      "['mean_total_displacement', 'mean_square_displacement', 'lifetime', 'lifetime_ref', 'X_max', 'X_min', 'X_mean', 'X_std', 'X_peak_time_frac', 'slope_end', 'rise', 'fall', 'fall_final', 'rise_slope', 'fall_slope', 'max_diff', 'min_diff', 'fall_imp']\n",
      "num feats 18\n"
     ]
    }
   ],
   "source": [
    "feat_names = data.get_feature_names(df)\n",
    "\n",
    "# don't use dict_feats\n",
    "feat_names = [x for x in feat_names \n",
    "              if not x.startswith('sc_') \n",
    "              and not x.startswith('nmf_')\n",
    "              and not x in ['center_max', 'left_max', 'right_max', 'up_max', 'down_max', \n",
    "                            'X_max_around_Y_peak', 'X_max_after_Y_peak', 'X_max_diff_after_Y_peak']\n",
    "              and not x.startswith('pc_')\n",
    "              and not 'extended' in x\n",
    "#               and not 'X_peak' in x\n",
    "#               and not 'slope' in x\n",
    "#               and not x in ['fall_final', 'fall_slope', 'fall_imp', 'fall']\n",
    "             ]\n",
    "feat_names = [x for x in feat_names if not '_tf_smooth' in x]\n",
    "feat_names = [x for x in feat_names if not 'local' in x]\n",
    "feat_names = [x for x in feat_names if not 'last' in x]\n",
    "# feat_names = [x for x in feat_names if '_tf_smooth' in x]\n",
    "print(feat_names)\n",
    "print('num feats', len(feat_names))"
   ]
  },
  {
   "cell_type": "markdown",
   "metadata": {},
   "source": [
    "# binarize the features"
   ]
  },
  {
   "cell_type": "code",
   "execution_count": 20,
   "metadata": {},
   "outputs": [],
   "source": [
    "d = df[feat_names + [outcome]]"
   ]
  },
  {
   "cell_type": "code",
   "execution_count": null,
   "metadata": {},
   "outputs": [],
   "source": [
    "R, C = 4, 5\n",
    "plt.figure(figsize=(C * 3, R * 3))\n",
    "for i, k in enumerate(sorted(d.keys())):\n",
    "    plt.subplot(R, C, i + 1)\n",
    "    x1 = d[k][d[outcome]==1]\n",
    "    x2 = d[k][d[outcome]==0]\n",
    "    plt.hist(x1, color=cb)\n",
    "    plt.hist(x2, color='pink')\n",
    "    plt.axvline(np.mean([x1.mean(), x2.mean()]))\n",
    "#     plt.yscale('log')\n",
    "    plt.title(k)\n",
    "    plt.axis('off')\n",
    "plt.tight_layout()"
   ]
  },
  {
   "cell_type": "code",
   "execution_count": null,
   "metadata": {},
   "outputs": [],
   "source": []
  }
 ],
 "metadata": {
  "kernelspec": {
   "display_name": "Python 3",
   "language": "python",
   "name": "python3"
  },
  "language_info": {
   "codemirror_mode": {
    "name": "ipython",
    "version": 3
   },
   "file_extension": ".py",
   "mimetype": "text/x-python",
   "name": "python",
   "nbconvert_exporter": "python",
   "pygments_lexer": "ipython3",
   "version": "3.7.5"
  },
  "pycharm": {
   "stem_cell": {
    "cell_type": "raw",
    "metadata": {
     "collapsed": false
    },
    "source": []
   }
  }
 },
 "nbformat": 4,
 "nbformat_minor": 4
}
