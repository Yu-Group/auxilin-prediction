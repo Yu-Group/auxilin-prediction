{
 "cells": [
  {
   "cell_type": "code",
   "execution_count": 1,
   "metadata": {},
   "outputs": [
    {
     "name": "stderr",
     "output_type": "stream",
     "text": [
      "/accounts/projects/vision/.local/lib/python3.7/site-packages/sklearn/base.py:334: UserWarning: Trying to unpickle estimator MLPClassifier from version 0.22 when using version 0.23.2. This might lead to breaking code or invalid results. Use at your own risk.\n",
      "  UserWarning)\n",
      "/accounts/projects/vision/.local/lib/python3.7/site-packages/sklearn/base.py:334: UserWarning: Trying to unpickle estimator LabelBinarizer from version 0.22 when using version 0.23.2. This might lead to breaking code or invalid results. Use at your own risk.\n",
      "  UserWarning)\n",
      "/accounts/projects/vision/.local/lib/python3.7/site-packages/sklearn/base.py:334: UserWarning: Trying to unpickle estimator LabelEncoder from version 0.22 when using version 0.23.2. This might lead to breaking code or invalid results. Use at your own risk.\n",
      "  UserWarning)\n",
      "/accounts/projects/vision/.local/lib/python3.7/site-packages/sklearn/base.py:334: UserWarning: Trying to unpickle estimator _SigmoidCalibration from version 0.22 when using version 0.23.2. This might lead to breaking code or invalid results. Use at your own risk.\n",
      "  UserWarning)\n",
      "/accounts/projects/vision/.local/lib/python3.7/site-packages/sklearn/base.py:334: UserWarning: Trying to unpickle estimator CalibratedClassifierCV from version 0.22 when using version 0.23.2. This might lead to breaking code or invalid results. Use at your own risk.\n",
      "  UserWarning)\n",
      "/accounts/projects/vision/.local/lib/python3.7/site-packages/sklearn/base.py:334: UserWarning: Trying to unpickle estimator Lasso from version 0.22 when using version 0.23.2. This might lead to breaking code or invalid results. Use at your own risk.\n",
      "  UserWarning)\n",
      "/accounts/projects/vision/.local/lib/python3.7/site-packages/sklearn/base.py:334: UserWarning: Trying to unpickle estimator SelectFromModel from version 0.22 when using version 0.23.2. This might lead to breaking code or invalid results. Use at your own risk.\n",
      "  UserWarning)\n"
     ]
    },
    {
     "name": "stdout",
     "output_type": "stream",
     "text": [
      "using model mlp2_17_select_lasso=7_ros=1_h=0_cal=True\n",
      "\t0.744 mlp2_17_select_lasso=7_ros=1_h=0_cal=True\n",
      "succesfully loaded!\n"
     ]
    },
    {
     "name": "stderr",
     "output_type": "stream",
     "text": [
      "/accounts/projects/vision/.local/lib/python3.7/site-packages/sklearn/base.py:334: UserWarning: Trying to unpickle estimator MLPClassifier from version 0.22 when using version 0.23.2. This might lead to breaking code or invalid results. Use at your own risk.\n",
      "  UserWarning)\n",
      "/accounts/projects/vision/.local/lib/python3.7/site-packages/sklearn/base.py:334: UserWarning: Trying to unpickle estimator LabelBinarizer from version 0.22 when using version 0.23.2. This might lead to breaking code or invalid results. Use at your own risk.\n",
      "  UserWarning)\n",
      "/accounts/projects/vision/.local/lib/python3.7/site-packages/sklearn/base.py:334: UserWarning: Trying to unpickle estimator LabelEncoder from version 0.22 when using version 0.23.2. This might lead to breaking code or invalid results. Use at your own risk.\n",
      "  UserWarning)\n",
      "/accounts/projects/vision/.local/lib/python3.7/site-packages/sklearn/base.py:334: UserWarning: Trying to unpickle estimator _SigmoidCalibration from version 0.22 when using version 0.23.2. This might lead to breaking code or invalid results. Use at your own risk.\n",
      "  UserWarning)\n",
      "/accounts/projects/vision/.local/lib/python3.7/site-packages/sklearn/base.py:334: UserWarning: Trying to unpickle estimator CalibratedClassifierCV from version 0.22 when using version 0.23.2. This might lead to breaking code or invalid results. Use at your own risk.\n",
      "  UserWarning)\n",
      "/accounts/projects/vision/.local/lib/python3.7/site-packages/sklearn/base.py:334: UserWarning: Trying to unpickle estimator Lasso from version 0.22 when using version 0.23.2. This might lead to breaking code or invalid results. Use at your own risk.\n",
      "  UserWarning)\n",
      "/accounts/projects/vision/.local/lib/python3.7/site-packages/sklearn/base.py:334: UserWarning: Trying to unpickle estimator SelectFromModel from version 0.22 when using version 0.23.2. This might lead to breaking code or invalid results. Use at your own risk.\n",
      "  UserWarning)\n",
      "/accounts/projects/vision/.local/lib/python3.7/site-packages/sklearn/base.py:334: UserWarning: Trying to unpickle estimator MLPClassifier from version 0.22 when using version 0.23.2. This might lead to breaking code or invalid results. Use at your own risk.\n",
      "  UserWarning)\n",
      "/accounts/projects/vision/.local/lib/python3.7/site-packages/sklearn/base.py:334: UserWarning: Trying to unpickle estimator LabelBinarizer from version 0.22 when using version 0.23.2. This might lead to breaking code or invalid results. Use at your own risk.\n",
      "  UserWarning)\n",
      "/accounts/projects/vision/.local/lib/python3.7/site-packages/sklearn/base.py:334: UserWarning: Trying to unpickle estimator LabelEncoder from version 0.22 when using version 0.23.2. This might lead to breaking code or invalid results. Use at your own risk.\n",
      "  UserWarning)\n",
      "/accounts/projects/vision/.local/lib/python3.7/site-packages/sklearn/base.py:334: UserWarning: Trying to unpickle estimator _SigmoidCalibration from version 0.22 when using version 0.23.2. This might lead to breaking code or invalid results. Use at your own risk.\n",
      "  UserWarning)\n",
      "/accounts/projects/vision/.local/lib/python3.7/site-packages/sklearn/base.py:334: UserWarning: Trying to unpickle estimator CalibratedClassifierCV from version 0.22 when using version 0.23.2. This might lead to breaking code or invalid results. Use at your own risk.\n",
      "  UserWarning)\n",
      "/accounts/projects/vision/.local/lib/python3.7/site-packages/sklearn/base.py:334: UserWarning: Trying to unpickle estimator Lasso from version 0.22 when using version 0.23.2. This might lead to breaking code or invalid results. Use at your own risk.\n",
      "  UserWarning)\n",
      "/accounts/projects/vision/.local/lib/python3.7/site-packages/sklearn/base.py:334: UserWarning: Trying to unpickle estimator SelectFromModel from version 0.22 when using version 0.23.2. This might lead to breaking code or invalid results. Use at your own risk.\n",
      "  UserWarning)\n"
     ]
    }
   ],
   "source": [
    "%matplotlib inline\n",
    "%load_ext autoreload\n",
    "%autoreload 2\n",
    "from os.path import join as oj\n",
    "\n",
    "import numpy as np\n",
    "from matplotlib import pyplot as plt\n",
    "# plt.style.use('dark_background')\n",
    "import sys\n",
    "sys.path.append('../src')\n",
    "import data\n",
    "from matplotlib_venn import venn3\n",
    "import pickle as pkl\n",
    "import viz\n",
    "from viz import *\n",
    "import analyze_helper\n",
    "from sklearn import decomposition\n",
    "from sklearn.calibration import calibration_curve\n",
    "import pandas as pd\n",
    "from config import *\n",
    "\n",
    "outcome_def = 'y_consec_thresh'\n",
    "out_dir = '../models'\n",
    "# out_dir = oj(DIR_RESULTS, 'may7_1') # mar7_2 is 0.95, mar8_1 is 0.96\n",
    "results = analyze_helper.load_results(out_dir)\n",
    "\n",
    "# get data\n",
    "df = data.get_data()\n",
    "n = df.shape[0]\n",
    "df_cv = df[df.valid == 1] # exclude test cells, short/long tracks, hotspots\n",
    "X, y, norms = analyze_helper.normalize(df_cv, outcome_def)\n",
    "\n",
    "# select model\n",
    "r = results\n",
    "r = r.sort_values('accuracy', ascending=False)\n",
    "idx = np.array(r.index)\n",
    "accs = np.array(r.accuracy)\n",
    "# model_name = idx[0]\n",
    "model_name = 'mlp2_17_select_lasso=7_ros=1_h=0_cal=True'\n",
    "# model_name = 'svm_16_ros=1.2_select_rf=3'\n",
    "print('using model', model_name)\n",
    "for i in range(min(accs.size, 5)):\n",
    "    print(f'\\t{accs[i]:.3f}', idx[i])\n",
    "    \n",
    "\n",
    "# load model + preds\n",
    "d_full_cv, idxs_cv = analyze_helper.get_data_over_folds(model_name, out_dir, df_cv.cell_num, X, y)\n",
    "y_full_cv = df_cv[outcome_def].iloc[idxs_cv].values.astype(np.int)\n",
    "preds = d_full_cv[model_name].values\n",
    "preds_proba = d_full_cv[model_name + '_proba'].values\n",
    "\n",
    "results_individual = pkl.load(open(oj(out_dir, f'{model_name}.pkl'), 'rb'))\n",
    "assert np.sum(idxs_cv == np.arange(idxs_cv.size)) == idxs_cv.size, \\\n",
    "       'points not in same order'\n",
    "assert np.mean(preds==y_full_cv) == np.average(results_individual['cv']['accuracy'], \n",
    "                                               weights=results_individual['num_pts_by_fold_cv']), \\\n",
    "        'did not properly load model/data'\n",
    "tp, tn, fp, fn = analyze_helper.calc_errs(preds, y_full_cv)\n",
    "print('succesfully loaded!')"
   ]
  },
  {
   "cell_type": "markdown",
   "metadata": {},
   "source": [
    "# look at single model"
   ]
  },
  {
   "cell_type": "code",
   "execution_count": 2,
   "metadata": {},
   "outputs": [
    {
     "name": "stdout",
     "output_type": "stream",
     "text": [
      "mlp2_17_select_lasso=7_ros=1_h=0_cal=True\n"
     ]
    }
   ],
   "source": [
    "# what is this model?\n",
    "print(model_name)\n",
    "feat_names = results_individual['feat_names_selected']\n",
    "imps = pd.DataFrame.from_dict({feat_names[i]: [results_individual['imps']['imps'][0][i]]\n",
    " for i in range(len(feat_names))}).values.flatten()"
   ]
  },
  {
   "cell_type": "code",
   "execution_count": 6,
   "metadata": {},
   "outputs": [
    {
     "data": {
      "image/png": "[encoded data removed]",
      "text/plain": [
       "<Figure size 432x288 with 1 Axes>"
      ]
     },
     "metadata": {
      "needs_background": "light"
     },
     "output_type": "display_data"
    }
   ],
   "source": [
    "# plt.figure(dpi=500)\n",
    "args = np.argsort(imps)\n",
    "imps = imps[args]\n",
    "feat_names = feat_names[args]\n",
    "plt.barh(feat_names, imps, color=cb)\n",
    "plt.xlabel('Permutation importance') #\\n(Drop in accuracy when feature is removed)')\n",
    "viz.savefig('permutation_importance')\n",
    "plt.show()"
   ]
  },
  {
   "cell_type": "markdown",
   "metadata": {},
   "source": [
    "### visualize errs"
   ]
  },
  {
   "cell_type": "code",
   "execution_count": null,
   "metadata": {},
   "outputs": [],
   "source": [
    "# visualize the biggest errors\n",
    "num_to_plot = 16\n",
    "print('total pts', preds.shape[0])\n",
    "# for idxs, name in zip([fp, fn, tp, tn], ['fp', 'fn', 'tp', 'tn']):\n",
    "for idxs, name in zip([fp, fn], ['fp', 'fn']):\n",
    "# for idxs, name in zip([tp, tn], ['tp', 'tn']):\n",
    "    print(name, idxs.sum(), idxs.sum() / preds.shape[0])\n",
    "    inds = viz.viz_biggest_errs(df_cv, idxs_cv, idxs, y_full_cv,\n",
    "                                preds, preds_proba, num_to_plot, show_track_num=False)\n",
    "    viz.savefig(name)\n",
    "    plt.show()"
   ]
  },
  {
   "cell_type": "code",
   "execution_count": null,
   "metadata": {},
   "outputs": [],
   "source": [
    "# visualize errs 1d\n",
    "key = 'X_max' # lifetime, X_min, fall, X_max\n",
    "viz.viz_errs_1d(X.iloc[idxs_cv], preds, preds_proba, y_full_cv, norms, key=key)"
   ]
  },
  {
   "cell_type": "code",
   "execution_count": null,
   "metadata": {},
   "outputs": [],
   "source": [
    "# visualize errs 2d\n",
    "key1 = 'fall' # fall, x_pos, pc_1\n",
    "key2 = 'X_mean' # X_min, y_pos, pc_2\n",
    "viz.viz_errs_2d(df_cv, idxs_cv, preds, y_full_cv, key1=key1, key2=key2, plot_correct=False)\n",
    "plt.xscale('log')\n",
    "plt.yscale('log')"
   ]
  },
  {
   "cell_type": "code",
   "execution_count": null,
   "metadata": {},
   "outputs": [],
   "source": [
    "# histogram of when things are peaking based on errs\n",
    "dist_to_end = df_cv.iloc[idxs_fp]['lifetime'] - df_cv.iloc[idxs_fp]['Y_peak_idx'] - 1\n",
    "frac_to_end = 1 - df_cv.iloc[idxs_fp]['Y_peak_idx'] / df_cv.iloc[idxs_fp]['lifetime']\n",
    "print(np.unique(dist_to_end, return_counts=True))\n",
    "plt.hist(frac_to_end, bins=100)\n",
    "plt.show()"
   ]
  },
  {
   "cell_type": "code",
   "execution_count": null,
   "metadata": {},
   "outputs": [],
   "source": [
    "viz.plot_confusion_matrix(y_full_cv, preds, \n",
    "                          classes=np.array(['aux-', 'aux+']), normalize=False)"
   ]
  },
  {
   "cell_type": "markdown",
   "metadata": {},
   "source": [
    "### calculate accs"
   ]
  },
  {
   "cell_type": "code",
   "execution_count": 196,
   "metadata": {},
   "outputs": [
    {
     "name": "stdout",
     "output_type": "stream",
     "text": [
      "loading + preprocessing data...\n",
      "\tloading tracks...\n",
      "\tpreprocessing data...\n",
      "\tadding features...\n",
      "hotspots acc:\t\t\t0.6995884773662552\n"
     ]
    }
   ],
   "source": [
    "# calculate acc for hotspots\n",
    "results_individual = pkl.load(open(oj(out_dir, f'{model_name}.pkl'), 'rb'))\n",
    "df = data.get_data(use_processed=False, remove_hotspots=False, save_processed=False)\n",
    "df = df[df['hotspots']==1]\n",
    "X, y, norms = normalize(df)\n",
    "\n",
    "preds, pred_proba = analyze_helper.analyze_individual_results(results_individual, \n",
    "                                               X, y, print_results=False, \n",
    "                                               plot_results=False, model_cv_fold=1)\n",
    "print(f'hotspots acc:\\t\\t\\t{np.mean(preds==df[outcome_def])}')"
   ]
  },
  {
   "cell_type": "code",
   "execution_count": 33,
   "metadata": {},
   "outputs": [
    {
     "name": "stdout",
     "output_type": "stream",
     "text": [
      "inter-cell accs [0.71 0.73 0.69 0.69 0.69]\n"
     ]
    }
   ],
   "source": [
    "print('accuracy across cells', np.array(results_individual['cv']['accuracy']).round(2))"
   ]
  },
  {
   "cell_type": "markdown",
   "metadata": {},
   "source": [
    "### viz feature relationships"
   ]
  },
  {
   "cell_type": "code",
   "execution_count": 10,
   "metadata": {},
   "outputs": [
    {
     "data": {
      "text/plain": [
       "<Figure size 3000x2000 with 0 Axes>"
      ]
     },
     "metadata": {},
     "output_type": "display_data"
    },
    {
     "data": {
      "image/png": "[encoded data removed]",
      "text/plain": [
       "<Figure size 432x432 with 3 Axes>"
      ]
     },
     "metadata": {
      "needs_background": "light"
     },
     "output_type": "display_data"
    }
   ],
   "source": [
    "# joint histograms of two features (colored by outcome)\n",
    "plt.figure(dpi=500)\n",
    "df_cv['outcome'] = df_cv[outcome_def].map({0: 'aux-', 1: 'aux+'})\n",
    "viz.jointplot_grouped('lifetime', 'mean_square_displacement', 'outcome', df_cv, scatter_alpha=0.1)"
   ]
  },
  {
   "cell_type": "code",
   "execution_count": null,
   "metadata": {},
   "outputs": [],
   "source": [
    "# joint histogram, colored by predicted prob\n",
    "d = df_cv.iloc[idxs_cv]\n",
    "d['preds'] = preds\n",
    "d['preds_proba'] = preds_proba\n",
    "key1 = 'lifetime'\n",
    "key2 = 'X_mean'\n",
    "plt.figure(dpi=300)\n",
    "plt.scatter(d[key1], d[key2], marker='.', c=d['preds_proba'], alpha=0.5)\n",
    "plt.xlabel(key1)\n",
    "plt.ylabel(key2)\n",
    "cb = plt.colorbar()\n",
    "cb.set_label('predicted prob.')\n",
    "viz.savefig('top_feats_scatter')"
   ]
  },
  {
   "cell_type": "markdown",
   "metadata": {},
   "source": [
    "### viz boundaries / outliers"
   ]
  },
  {
   "cell_type": "code",
   "execution_count": null,
   "metadata": {},
   "outputs": [],
   "source": [
    "# m = results_individual['imps']['model'][0]    \n",
    "# viz.plot_decision_boundary('X_std', 'fall', m, df_cv, norms, num_pts=df_cv.shape[0])"
   ]
  },
  {
   "cell_type": "code",
   "execution_count": null,
   "metadata": {},
   "outputs": [],
   "source": [
    "# visualize outliers in venn-diagram\n",
    "viz.viz_errs_outliers_venn(X.iloc[idxs_cv], preds, y_full_cv, num_feats_reduced=5)"
   ]
  },
  {
   "cell_type": "code",
   "execution_count": null,
   "metadata": {},
   "outputs": [],
   "source": [
    "# calibration curve\n",
    "plt.figure(dpi=200)\n",
    "prob_true, prob_pred = calibration_curve(y_full_cv, preds_proba, \n",
    "                                         normalize=False, n_bins=20, strategy='quantile')\n",
    "plt.plot(prob_true, prob_pred, '.-')\n",
    "plt.plot([0, 1], [0, 1], alpha=0.3, color='gray')\n",
    "plt.xlabel('True probability')\n",
    "plt.ylabel('Predicted probability')\n",
    "viz.savefig('calibration')\n",
    "plt.show()"
   ]
  },
  {
   "cell_type": "code",
   "execution_count": null,
   "metadata": {},
   "outputs": [],
   "source": [
    "# cumulative acc plots\n",
    "viz.cumulative_acc_plot_all(preds_proba, preds, y_full_cv, df, outcome_def, show=False)\n",
    "viz.savefig('cum_acc')"
   ]
  },
  {
   "cell_type": "code",
   "execution_count": null,
   "metadata": {},
   "outputs": [],
   "source": [
    "viz.cumulative_acc_plot_hard(preds_proba, preds, y_full_cv)"
   ]
  },
  {
   "cell_type": "markdown",
   "metadata": {},
   "source": [
    "### look at pcs"
   ]
  },
  {
   "cell_type": "code",
   "execution_count": null,
   "metadata": {},
   "outputs": [],
   "source": [
    "# perform pca\n",
    "pca = decomposition.PCA(whiten=True)\n",
    "pca.fit(X.iloc[idxs_cv])\n",
    "viz.plot_pcs(pca, X.iloc[idxs_cv])"
   ]
  },
  {
   "cell_type": "code",
   "execution_count": null,
   "metadata": {},
   "outputs": [],
   "source": [
    "pca = decomposition.PCA(n_components=2, whiten=True)\n",
    "X_reduced = pca.fit_transform(X.iloc[idxs_cv])\n",
    "plt.figure(dpi=200)\n",
    "ys_neg = y[idxs_cv] == 0\n",
    "plt.plot(X_reduced[:, 0][ys_neg], X_reduced[:, 1][ys_neg], 'o', \n",
    "         color=cr, alpha=0.3, markeredgewidth=0, ms=2)\n",
    "plt.plot(X_reduced[:, 0][~ys_neg], X_reduced[:, 1][~ys_neg], 'o', \n",
    "         color=cb, alpha=0.3, markeredgewidth=0, ms=2)\n",
    "plt.xlabel('PC1')\n",
    "plt.ylabel('PC2')\n",
    "plt.show()"
   ]
  },
  {
   "cell_type": "code",
   "execution_count": null,
   "metadata": {},
   "outputs": [],
   "source": [
    "Y_feat_names = ['X_max',\n",
    "                #'y_consec_sig', \n",
    "                'y_conservative_thresh', \n",
    "                'Y_peak_time_frac',\n",
    "                'Y_max',\n",
    "                'y_z_score',\n",
    "                'X_max_diff'\n",
    "                ]\n",
    "pca = PCA(n_components=2)\n",
    "df_train = df[df.cell_num.isin([1, 2, 3, 4, 5])]\n",
    "df_train['y_cv'] = preds\n",
    "df_no_consec = df_train[df_train.y_consec_sig == False]\n",
    "df_X = df_no_consec[Y_feat_names]\n",
    "df_X = (df_X - df_X.mean()) / df_X.std()\n",
    "#X_new = X_new[np.where(df.y_consec_sig == False)[0],:]\n",
    "X_new = pca.fit_transform(df_X)\n",
    "#fig, ax = plt.subplots()\n",
    "tn = np.where((df_no_consec[outcome_def] == 0) & (df_no_consec['y_cv'] == 0))[0]\n",
    "tp = np.where((df_no_consec[outcome_def] == 1) & (df_no_consec['y_cv'] == 1))[0]\n",
    "fn = np.where((df_no_consec[outcome_def] == 1) & (df_no_consec['y_cv'] == 0))[0]\n",
    "fp = np.where((df_no_consec[outcome_def] == 0) & (df_no_consec['y_cv'] == 1))[0]"
   ]
  },
  {
   "cell_type": "markdown",
   "metadata": {},
   "source": [
    "# look at many models"
   ]
  },
  {
   "cell_type": "code",
   "execution_count": null,
   "metadata": {},
   "outputs": [],
   "source": [
    "# model_names = ['mlp2_11_none', 'svm_35_none', 'logistic_4_none', 'rf_9_none']\n",
    "# model_names = ['mlp2_11_none', 'mlp2_9_none', 'mlp2_4_none']\n",
    "model_names = idx[:3]\n",
    "d_full_cv, idxs_cv = analyze_helper.get_data_over_folds(model_names, out_dir, df.cell_num, X, y)\n",
    "y_full_cv = df_cv[outcome_def].iloc[idxs_cv].values"
   ]
  },
  {
   "cell_type": "markdown",
   "metadata": {},
   "source": [
    "### ensemble err"
   ]
  },
  {
   "cell_type": "code",
   "execution_count": 202,
   "metadata": {},
   "outputs": [
    {
     "name": "stdout",
     "output_type": "stream",
     "text": [
      "balanced_accuracy 0.7042086967746695\n",
      "accuracy 0.7206502107164359\n",
      "precision 0.7748538011695907\n",
      "recall 0.7733463035019456\n",
      "f1 0.7740993184031157\n",
      "roc_auc 0.7042086967746695\n",
      "precision_recall_curve (array([0.61890427, 0.7748538 , 1.        ]), array([1.       , 0.7733463, 0.       ]), array([False,  True]))\n",
      "roc_curve (array([0.        , 0.36492891, 1.        ]), array([0.       , 0.7733463, 1.       ]), array([2, 1, 0]))\n"
     ]
    }
   ],
   "source": [
    "# ensemble\n",
    "d_full_cv_probs = d_full_cv[[k for k in d_full_cv.keys() if 'proba' in k]]\n",
    "preds_soft = d_full_cv_probs.sum(axis=1) / d_full_cv_probs.shape[1]\n",
    "\n",
    "for score_name in train.scorers.keys():\n",
    "    print(score_name, train.scorers[score_name](y_full_cv, preds_soft > 0.5))\n",
    "# metrics.accuracy_score(y_ensemble, preds_soft>0.5) "
   ]
  },
  {
   "cell_type": "markdown",
   "metadata": {},
   "source": [
    "**venn-diagram**"
   ]
  },
  {
   "cell_type": "code",
   "execution_count": null,
   "metadata": {},
   "outputs": [],
   "source": [
    "sets = []\n",
    "for model_name in model_names:\n",
    "    args = np.argwhere(d_full_cv[model_name] != y_full_cv)\n",
    "    sets.append(set(args.flatten().tolist()))\n",
    "    \n",
    "plt.figure(dpi=300)\n",
    "plt.title('venn diagram of shared errors')\n",
    "venn3(sets, model_names[:3])\n",
    "plt.show()"
   ]
  }
 ],
 "metadata": {
  "kernelspec": {
   "display_name": "Python 3",
   "language": "python",
   "name": "python3"
  },
  "language_info": {
   "codemirror_mode": {
    "name": "ipython",
    "version": 3
   },
   "file_extension": ".py",
   "mimetype": "text/x-python",
   "name": "python",
   "nbconvert_exporter": "python",
   "pygments_lexer": "ipython3",
   "version": "3.7.5"
  },
  "pycharm": {
   "stem_cell": {
    "cell_type": "raw",
    "metadata": {
     "collapsed": false
    },
    "source": []
   }
  }
 },
 "nbformat": 4,
 "nbformat_minor": 4
}
