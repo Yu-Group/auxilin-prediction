{
 "cells": [
  {
   "cell_type": "code",
   "execution_count": 1,
   "metadata": {},
   "outputs": [],
   "source": [
    "import pandas as pd"
   ]
  },
  {
   "cell_type": "code",
   "execution_count": 3,
   "metadata": {},
   "outputs": [
    {
     "data": {
      "text/plain": [
       "'\\\\begin{tabular}{lrrrrr}\\n\\\\toprule\\n{} &  clath\\\\_aux+gak &  clath\\\\_aux+gak\\\\_a7d2 &  clath\\\\_aux+gak\\\\_a7d2\\\\_new &  clath\\\\_aux+gak\\\\_new &  clath\\\\_gak \\\\\\\\\\n\\\\midrule\\ngb\\\\_basic    &          76.10 &               69.75 &                   66.93 &              80.41 &      76.57 \\\\\\\\\\ngb\\\\_dasc     &          73.17 &               70.05 &                   61.16 &              76.78 &      73.39 \\\\\\\\\\nrf\\\\_basic    &          76.73 &               70.35 &                   67.53 &              80.09 &      76.65 \\\\\\\\\\nrf\\\\_dasc     &          70.23 &               68.46 &                   57.97 &              73.14 &      70.28 \\\\\\\\\\nridge\\\\_basic &          76.10 &               70.35 &                   67.93 &              80.25 &      75.66 \\\\\\\\\\nridge\\\\_dasc  &          71.49 &               67.86 &                   67.33 &              74.25 &      72.18 \\\\\\\\\\nsvm\\\\_basic   &          76.31 &               70.35 &                   65.14 &              80.73 &      76.80 \\\\\\\\\\nsvm\\\\_dasc    &          73.17 &               69.65 &                   62.35 &              74.25 &      73.46 \\\\\\\\\\nlstm        &          77.99 &               70.95 &                   70.54 &              82.46 &      76.72 \\\\\\\\\\n\\\\bottomrule\\n\\\\end{tabular}\\n'"
      ]
     },
     "execution_count": 3,
     "metadata": {},
     "output_type": "execute_result"
    }
   ],
   "source": [
    "res = pd.read_csv(\"classification_results.csv\", index_col=0)\n",
    "res = res.round(2)\n",
    "res.to_latex()"
   ]
  },
  {
   "cell_type": "code",
   "execution_count": null,
   "metadata": {},
   "outputs": [],
   "source": []
  }
 ],
 "metadata": {
  "kernelspec": {
   "display_name": "Python 3",
   "language": "python",
   "name": "python3"
  },
  "language_info": {
   "codemirror_mode": {
    "name": "ipython",
    "version": 3
   },
   "file_extension": ".py",
   "mimetype": "text/x-python",
   "name": "python",
   "nbconvert_exporter": "python",
   "pygments_lexer": "ipython3",
   "version": "3.8.3"
  }
 },
 "nbformat": 4,
 "nbformat_minor": 4
}
