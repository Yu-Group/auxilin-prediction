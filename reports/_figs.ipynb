{
 "cells": [
  {
   "cell_type": "code",
   "execution_count": null,
   "metadata": {},
   "outputs": [],
   "source": [
    "%matplotlib inline\n",
    "%load_ext autoreload\n",
    "%autoreload 2\n",
    "from matplotlib import pyplot as plt\n",
    "import seaborn as sns\n",
    "import numpy as np\n",
    "import sys\n",
    "sys.path.append('..')\n",
    "import os\n",
    "from os.path import join as oj\n",
    "import numpy as np\n",
    "from copy import deepcopy\n",
    "import pandas as pd\n",
    "import data\n",
    "import models\n",
    "import pickle as pkl\n",
    "from style import *\n",
    "import viz\n",
    "import config\n",
    "outcome_def = 'y_consec_thresh'"
   ]
  },
  {
   "cell_type": "code",
   "execution_count": 54,
   "metadata": {},
   "outputs": [],
   "source": [
    "df = data.get_data(use_processed=True, dset='orig') # all_data=True\n",
    "dfv = df[df['valid'] == 1] # exclude test cells, short/long tracks, hotspots"
   ]
  },
  {
   "cell_type": "markdown",
   "metadata": {},
   "source": [
    "**plot curves**"
   ]
  },
  {
   "cell_type": "code",
   "execution_count": null,
   "metadata": {},
   "outputs": [],
   "source": [
    "plt.figure(figsize=(3, 8))\n",
    "R, C = 3, 1\n",
    "dfv_minus = dfv[dfv[outcome_def] == 0].sort_values('X_max')\n",
    "viz.plot_curves(dfv_minus, R=R, C=C, fig=True, ylim_constant=True, legend=False)\n",
    "plt.xlabel('Time (frames)')\n",
    "plt.ylabel('Amplitude')\n",
    "plt.subplot(R, C, 1)\n",
    "plt.title('A', loc='left', fontweight='bold')\n",
    "plt.tight_layout()\n",
    "plt.savefig('figs/fig_traces_minus.pdf')\n",
    "\n",
    "plt.figure(figsize=(3, 8))\n",
    "dfv_plus = dfv[dfv[outcome_def] == 0].sort_values('X_max', ascending=False)\n",
    "viz.plot_curves(dfv_plus, R=R, C=C, fig=True, ylim_constant=True, legend=False)\n",
    "plt.xlabel('Time (frames)')\n",
    "plt.ylabel('Amplitude')\n",
    "plt.subplot(R, C, 1)\n",
    "plt.title('B', loc='left', fontweight='bold')\n",
    "plt.tight_layout()\n",
    "plt.savefig('figs/fig_traces_plus.pdf')"
   ]
  },
  {
   "cell_type": "markdown",
   "metadata": {},
   "source": [
    "**plot a column of curves**"
   ]
  },
  {
   "cell_type": "code",
   "execution_count": null,
   "metadata": {},
   "outputs": [],
   "source": [
    "plt.figure(figsize=(3, 7))\n",
    "viz.plot_curves(df, R=3, C=1, fig=True)\n",
    "plt.xlabel('Time (frames)')\n",
    "plt.savefig('figs/fig_traces_column.pdf')"
   ]
  },
  {
   "cell_type": "markdown",
   "metadata": {},
   "source": [
    "# viz hists"
   ]
  },
  {
   "cell_type": "code",
   "execution_count": null,
   "metadata": {},
   "outputs": [],
   "source": [
    "outcome = df[outcome_def]\n",
    "R, C = 2, 1\n",
    "\n",
    "\n",
    "plt.figure(figsize=(3, 8), dpi=200)\n",
    "plt.subplot(R, C, 1)\n",
    "plt.title('C', loc='left', fontweight='bold')\n",
    "plt.hist(df['lifetime'][outcome == 1], label='aux+', alpha=1, color=cg, bins=25)\n",
    "plt.hist(df['lifetime'][outcome == 0], label='aux-', alpha=0.7, color=cy, bins=25)\n",
    "plt.xlabel('Lifetime')\n",
    "plt.ylabel('Count')\n",
    "\n",
    "plt.subplot(R, C, 2)\n",
    "plt.hist(df['X_max'][outcome == 1], label='aux+', alpha=1, color=cg, bins=25)\n",
    "plt.hist(df['X_max'][outcome == 0], label='aux-', alpha=0.7, color=cy, bins=25)\n",
    "plt.xlabel('Clathrin max amplitude')\n",
    "plt.ylabel('Count')\n",
    "\n",
    "'''\n",
    "plt.subplot(R, C, 3)\n",
    "plt.hist(df['fall'][outcome == 1], label='aux+', alpha=1, color=cb, bins=25)\n",
    "plt.hist(df['fall'][outcome == 0], label='aux-', alpha=0.7, color=cr, bins=25)\n",
    "plt.xlabel('Fall')\n",
    "plt.ylabel('Count')\n",
    "'''\n",
    "plt.legend()\n",
    "plt.tight_layout()\n",
    "\n",
    "plt.savefig('figs/fig_hists.pdf')\n",
    "plt.show()"
   ]
  },
  {
   "cell_type": "markdown",
   "metadata": {},
   "source": [
    "# dset sizes"
   ]
  },
  {
   "cell_type": "code",
   "execution_count": 83,
   "metadata": {},
   "outputs": [
    {
     "name": "stdout",
     "output_type": "stream",
     "text": [
      "valid:\t\t15356 aux+ / 50595 (0.304)\n",
      "----------------------------------------\n",
      "hotspots:\t 879 aux+ /  879\n",
      "short:\t\t13046 aux+ / 58124 (0.776)\n",
      "long:\t\t  92 aux+ /   92 (1.000)\n",
      "hard:\t\t4875 aux+ / 7002 (0.696)\n",
      "\n",
      "lifetime threshes 15 161\n"
     ]
    }
   ],
   "source": [
    "viz.print_metadata(acc=None, metadata_file='processed/metadata_clath_aux.pkl')"
   ]
  },
  {
   "cell_type": "code",
   "execution_count": 85,
   "metadata": {},
   "outputs": [],
   "source": [
    "df_test = df[df.cell_num.isin(config.SPLITS['orig']['test'])]"
   ]
  },
  {
   "cell_type": "code",
   "execution_count": 88,
   "metadata": {},
   "outputs": [
    {
     "name": "stdout",
     "output_type": "stream",
     "text": [
      "valid 2497 561.0\n"
     ]
    }
   ],
   "source": [
    "print('valid', df_test.shape[0], df_test[outcome_def].sum())"
   ]
  },
  {
   "cell_type": "code",
   "execution_count": 91,
   "metadata": {},
   "outputs": [
    {
     "name": "stdout",
     "output_type": "stream",
     "text": [
      "difficult 1045 469.0\n"
     ]
    }
   ],
   "source": [
    "d = df_test[~df_test['short'] & ~df_test['long']]\n",
    "print('difficult', d.shape[0], d[outcome_def].sum())"
   ]
  }
 ],
 "metadata": {
  "kernelspec": {
   "display_name": "Python 3",
   "language": "python",
   "name": "python3"
  },
  "language_info": {
   "codemirror_mode": {
    "name": "ipython",
    "version": 3
   },
   "file_extension": ".py",
   "mimetype": "text/x-python",
   "name": "python",
   "nbconvert_exporter": "python",
   "pygments_lexer": "ipython3",
   "version": "3.7.5"
  },
  "pycharm": {
   "stem_cell": {
    "cell_type": "raw",
    "metadata": {
     "collapsed": false
    },
    "source": []
   }
  }
 },
 "nbformat": 4,
 "nbformat_minor": 4
}
