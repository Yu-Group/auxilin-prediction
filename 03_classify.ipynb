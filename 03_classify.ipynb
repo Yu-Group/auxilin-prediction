{
 "cells": [
  {
   "cell_type": "code",
   "execution_count": 5,
   "metadata": {},
   "outputs": [
    {
     "name": "stdout",
     "output_type": "stream",
     "text": [
      "The autoreload extension is already loaded. To reload it, use:\n",
      "  %reload_ext autoreload\n",
      "['total_displacement', 'mean_square_displacement', 'lifetime', 'lifetime_extended', 'X_max', 'X_max_extended', 'X_min', 'X_mean', 'X_std', 'X_peak_time_frac', 'slope_end', 'X_peak_last_15', 'X_peak_last_5', 'rise', 'fall', 'rise_extended', 'fall_extended', 'fall_late_extended', 'fall_final', 'rise_slope', 'fall_slope', 'rise_local_3', 'fall_local_3', 'rise_local_11', 'fall_local_11', 'max_diff', 'min_diff', 'fall_imp']\n",
      "num feats 28\n"
     ]
    }
   ],
   "source": [
    "%matplotlib inline\n",
    "%load_ext autoreload\n",
    "%autoreload 2\n",
    "\n",
    "import warnings\n",
    "warnings.filterwarnings(\"ignore\")\n",
    "from matplotlib import pyplot as plt\n",
    "import seaborn as sns\n",
    "import numpy as np\n",
    "import os\n",
    "from os.path import join as oj\n",
    "from sklearn import metrics\n",
    "import numpy as np\n",
    "from collections import Counter\n",
    "from copy import deepcopy\n",
    "from sklearn import metrics\n",
    "plt.style.use('dark_background')\n",
    "import mat4py\n",
    "import pandas as pd\n",
    "import data\n",
    "import models\n",
    "import pickle as pkl\n",
    "from tqdm import tqdm\n",
    "import train\n",
    "from style import *\n",
    "from sklearn import decomposition\n",
    "import viz\n",
    "\n",
    "df = data.get_data()\n",
    "df = df[df['valid']] # exclude test cells, short/long tracks, hotspots\n",
    "feat_names = data.get_feature_names(df)\n",
    "\n",
    "# don't use dict_feats\n",
    "feat_names = [x for x in feat_names \n",
    "              if not x.startswith('sc_') \n",
    "              and not x.startswith('nmf_')\n",
    "              and not x in ['center_max', 'left_max', 'right_max', 'up_max', 'down_max', \n",
    "                            'X_max_around_Y_peak', 'X_max_after_Y_peak', 'X_max_diff_after_Y_peak']\n",
    "              and not x.startswith('pc_')\n",
    "#               and not 'local' in x\n",
    "#               and not 'X_peak' in x\n",
    "#               and not 'slope' in x\n",
    "#               and not x in ['fall_final', 'fall_slope', 'fall_imp', 'fall']\n",
    "             ]\n",
    "print(feat_names)\n",
    "print('num feats', len(feat_names))"
   ]
  },
  {
   "cell_type": "markdown",
   "metadata": {},
   "source": [
    "# loop over classifiers"
   ]
  },
  {
   "cell_type": "code",
   "execution_count": null,
   "metadata": {},
   "outputs": [
    {
     "name": "stderr",
     "output_type": "stream",
     "text": [
      " 67%|██████▋   | 4/6 [01:27<00:40, 20.03s/it]"
     ]
    }
   ],
   "source": [
    "outcome_def = 'y_consec_thresh'\n",
    "out_dir = oj('/scratch/users/vision/abc', 'mar6_3')\n",
    "os.makedirs(out_dir, exist_ok=True)\n",
    "feature_selection_nums = [3, 5, 7, 15] #[3, 5, 7, 12, 16]: # number of feature to select [4, 9, 11, 23, 35, 39]\n",
    "for feature_selection_num in feature_selection_nums:\n",
    "    for feature_selection in ['select_rf', None]: # select_lasso, select_rf, None\n",
    "        if feature_selection is None and feature_selection_num > feature_selection_nums[0]: # don't do extra computation\n",
    "            break\n",
    "        for model_type in tqdm(['qda', 'logistic', 'svm', 'gb', 'rf', 'mlp2']): #,'gb', 'logistic', 'dt', 'svm', 'gb', 'rf', 'mlp2', 'irf']):\n",
    "            for num_feats in [16, 25, len(feat_names)]: #[16, 25, len(feat_names)]: # number of total features to consider\n",
    "                for balancing in ['ros']: # None, ros                        \n",
    "                    for balancing_ratio in [0.8, 1, 1.2]: # positive: negative  \n",
    "                        hyperparams = [0] if model_type in ['logistic', 'rf', 'gb', 'dt', 'irf', 'qda'] else [-1, 0, 1]\n",
    "                        for hyperparam in hyperparams: # 0 is default\n",
    "                            feats = feat_names[:num_feats]\n",
    "                            out_name = f'{model_type}_{num_feats}_{feature_selection}={feature_selection_num}_{balancing}={balancing_ratio}_h={hyperparam}'\n",
    "                            train.train(df, feat_names=feats, model_type=model_type, \n",
    "                                        balancing=balancing, balancing_ratio=balancing_ratio,\n",
    "                                        outcome_def=outcome_def,\n",
    "                                        feature_selection=feature_selection,\n",
    "                                        feature_selection_num=feature_selection_num,\n",
    "                                        hyperparam=hyperparam,\n",
    "                                        out_name=f'{out_dir}/{out_name}.pkl')"
   ]
  },
  {
   "cell_type": "markdown",
   "metadata": {},
   "source": [
    "# dim reduction with classifier"
   ]
  },
  {
   "cell_type": "code",
   "execution_count": 3,
   "metadata": {},
   "outputs": [],
   "source": [
    "# feats_to_reduce = feat_names[:11] \n",
    "feats_to_reduce = feat_names\n",
    "X = df[feat_names]\n",
    "X = (X - X.mean()) / X.std()"
   ]
  },
  {
   "cell_type": "markdown",
   "metadata": {},
   "source": [
    "**look at pcs**"
   ]
  },
  {
   "cell_type": "code",
   "execution_count": null,
   "metadata": {},
   "outputs": [],
   "source": [
    "# perform pca\n",
    "pca = decomposition.PCA(whiten=True)\n",
    "# pca = decomposition.SparsePCA()\n",
    "# pca = decomposition.NMF()\n",
    "pca.fit(X)\n",
    "plt.figure(figsize=(6, 9), dpi=200)\n",
    "viz.plot_pcs(pca, X)"
   ]
  },
  {
   "cell_type": "code",
   "execution_count": null,
   "metadata": {},
   "outputs": [],
   "source": [
    "plt.figure(dpi=200)\n",
    "ys_neg = df[outcome_def].values == 0\n",
    "plt.plot(df['pc_0'][ys_neg], df['pc_1'][ys_neg], 'o', \n",
    "         color=cr, alpha=0.3, markeredgewidth=0, ms=2) #\n",
    "plt.plot(df['pc_0'][~ys_neg], df['pc_1'][~ys_neg], 'o', \n",
    "         color=cb, alpha=0.3, markeredgewidth=0, ms=2)\n",
    "plt.xlabel('PC1')\n",
    "plt.ylabel('PC2')\n",
    "plt.show()"
   ]
  }
 ],
 "metadata": {
  "kernelspec": {
   "display_name": "Python 3",
   "language": "python",
   "name": "python3"
  },
  "language_info": {
   "codemirror_mode": {
    "name": "ipython",
    "version": 3
   },
   "file_extension": ".py",
   "mimetype": "text/x-python",
   "name": "python",
   "nbconvert_exporter": "python",
   "pygments_lexer": "ipython3",
   "version": "3.7.5"
  }
 },
 "nbformat": 4,
 "nbformat_minor": 4
}
