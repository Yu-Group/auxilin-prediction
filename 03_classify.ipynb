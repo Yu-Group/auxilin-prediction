{
 "cells": [
  {
   "cell_type": "code",
   "execution_count": 47,
   "metadata": {},
   "outputs": [
    {
     "name": "stdout",
     "output_type": "stream",
     "text": [
      "The autoreload extension is already loaded. To reload it, use:\n",
      "  %reload_ext autoreload\n",
      "loading + preprocessing data...\n",
      "\tloading tracks...\n",
      "\tpreprocessing data...\n",
      "\tadding features...\n",
      "['total_displacement', 'mean_square_displacement', 'lifetime', 'X_max', 'X_min', 'X_mean', 'X_std', 'X_spike_time', 'rise', 'fall', 'rise_local_3', 'fall_local_3', 'rise_local_11', 'fall_local_11', 'max_diff', 'min_diff', 'X_max_spl', 'dx_max_spl', 'd2x_max_spl', 'num_local_max_spl', 'num_local_min_spl', 'pc_0', 'pc_1', 'pc_2', 'pc_3', 'pc_4', 'pc_5', 'pc_6', 'pc_7', 'pc_8', 'pc_9']\n",
      "num feats 31\n"
     ]
    }
   ],
   "source": [
    "%matplotlib inline\n",
    "%load_ext autoreload\n",
    "%autoreload 2\n",
    "\n",
    "import warnings\n",
    "warnings.filterwarnings(\"ignore\")\n",
    "from matplotlib import pyplot as plt\n",
    "import seaborn as sns\n",
    "import numpy as np\n",
    "import os\n",
    "from os.path import join as oj\n",
    "from sklearn import metrics\n",
    "import numpy as np\n",
    "from collections import Counter\n",
    "from copy import deepcopy\n",
    "from sklearn import metrics\n",
    "plt.style.use('dark_background')\n",
    "import mat4py\n",
    "import pandas as pd\n",
    "import data_tracks\n",
    "import models\n",
    "import pickle as pkl\n",
    "from tqdm import tqdm\n",
    "import train\n",
    "from style import *\n",
    "from sklearn import decomposition\n",
    "import viz\n",
    "\n",
    "df = data_tracks.get_data(use_processed=False, use_processed_dicts=True) #use_processed=False, use_processed_dicts=True)\n",
    "feat_names = data_tracks.get_feature_names(df)\n",
    "# feat_names = [f for f in feat_names if 'pc_' in f]\n",
    "\n",
    "# don't use dict_feats\n",
    "feat_names = [x for x in feat_names \n",
    "              if not x.startswith('sc_') \n",
    "              and not x.startswith('nmf_')\n",
    "              and not x in ['center_max', 'left_max', 'right_max', 'up_max', 'down_max']\n",
    "              and not 'slope' in x\n",
    "             ]\n",
    "print(feat_names)\n",
    "print('num feats', len(feat_names))"
   ]
  },
  {
   "cell_type": "markdown",
   "metadata": {},
   "source": [
    "# loop over classifiers"
   ]
  },
  {
   "cell_type": "code",
   "execution_count": null,
   "metadata": {},
   "outputs": [],
   "source": [
    "outcome_def = 'y_consec_thresh'\n",
    "# out_dir = f'results/outcome={outcome_def}'\n",
    "out_dir = f'results/jan21_8'\n",
    "os.makedirs(out_dir, exist_ok=True)\n",
    "for feature_selection_num in [3, 5, 7, 11, 15]: #[3, 5, 7, 12, 16]: # number of feature to select [4, 9, 11, 23, 35, 39]\n",
    "    for feature_selection in ['select_rf', 'select_lasso']: # select_lasso, select_rf, None\n",
    "        for model_type in tqdm(['logistic', 'dt', 'rf', 'irf', 'mlp2', 'svm']): #,'gb', 'logistic', 'dt', 'svm', 'gb', rf', 'mlp2', 'irf']):\n",
    "            for num_feats in [16, 25, len(feat_names)]: #[16, 25, len(feat_names)]: # number of total features to consider\n",
    "                for balancing in ['ros']: # None, ros                        \n",
    "                    for balancing_ratio in [0.8, 1, 1.2]: # positive: negative                        \n",
    "                        feats = feat_names[:num_feats]\n",
    "                        out_name = f'{model_type}_{num_feats}_{balancing}={balancing_ratio}_{feature_selection}={feature_selection_num}'\n",
    "                        #print(out_name)\n",
    "                        train.train(df, feat_names=feats, model_type=model_type, \n",
    "                                    balancing=balancing, balancing_ratio=balancing_ratio,\n",
    "                                    outcome_def=outcome_def,\n",
    "                                    feature_selection=feature_selection,\n",
    "                                    feature_selection_num=feature_selection_num,\n",
    "                                    out_name=f'{out_dir}/{out_name}.pkl')"
   ]
  },
  {
   "cell_type": "markdown",
   "metadata": {},
   "source": [
    "# dim reduction with classifier"
   ]
  },
  {
   "cell_type": "code",
   "execution_count": 3,
   "metadata": {},
   "outputs": [],
   "source": [
    "# feats_to_reduce = feat_names[:11] \n",
    "feats_to_reduce = feat_names\n",
    "X = df[feat_names]\n",
    "X = (X - X.mean()) / X.std()"
   ]
  },
  {
   "cell_type": "markdown",
   "metadata": {},
   "source": [
    "**look at pcs**"
   ]
  },
  {
   "cell_type": "code",
   "execution_count": null,
   "metadata": {},
   "outputs": [],
   "source": [
    "# perform pca\n",
    "pca = decomposition.PCA(whiten=True)\n",
    "# pca = decomposition.SparsePCA()\n",
    "# pca = decomposition.NMF()\n",
    "pca.fit(X)\n",
    "plt.figure(figsize=(6, 9), dpi=200)\n",
    "viz.plot_pcs(pca, X)"
   ]
  },
  {
   "cell_type": "code",
   "execution_count": null,
   "metadata": {},
   "outputs": [],
   "source": [
    "plt.figure(dpi=200)\n",
    "ys_neg = df[outcome_def].values == 0\n",
    "plt.plot(df['pc_0'][ys_neg], df['pc_1'][ys_neg], 'o', \n",
    "         color=cr, alpha=0.3, markeredgewidth=0, ms=2) #\n",
    "plt.plot(df['pc_0'][~ys_neg], df['pc_1'][~ys_neg], 'o', \n",
    "         color=cb, alpha=0.3, markeredgewidth=0, ms=2)\n",
    "plt.xlabel('PC1')\n",
    "plt.ylabel('PC2')\n",
    "plt.show()"
   ]
  }
 ],
 "metadata": {
  "kernelspec": {
   "display_name": "Python 3",
   "language": "python",
   "name": "python3"
  },
  "language_info": {
   "codemirror_mode": {
    "name": "ipython",
    "version": 3
   },
   "file_extension": ".py",
   "mimetype": "text/x-python",
   "name": "python",
   "nbconvert_exporter": "python",
   "pygments_lexer": "ipython3",
   "version": "3.7.5"
  }
 },
 "nbformat": 4,
 "nbformat_minor": 4
}
