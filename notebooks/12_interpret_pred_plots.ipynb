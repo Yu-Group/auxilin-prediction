{
 "cells": [
  {
   "cell_type": "code",
   "execution_count": 1,
   "metadata": {},
   "outputs": [],
   "source": [
    "%matplotlib inline\n",
    "%load_ext autoreload\n",
    "%autoreload 2\n",
    "import os\n",
    "from os.path import join as oj\n",
    "import sys\n",
    "sys.path.append('../src')\n",
    "import numpy as np\n",
    "import seaborn as sns\n",
    "import torch\n",
    "import matplotlib\n",
    "from matplotlib import pyplot as plt\n",
    "from sklearn import metrics\n",
    "import sklearn.calibration\n",
    "from sklearn.linear_model import RidgeCV\n",
    "from sklearn.model_selection import train_test_split\n",
    "# plt.style.use('dark_background')\n",
    "import data\n",
    "from skorch.callbacks import Checkpoint\n",
    "from skorch import NeuralNetRegressor\n",
    "from config import *\n",
    "from tqdm import tqdm\n",
    "import pickle as pkl\n",
    "import train_reg\n",
    "from math import floor\n",
    "from copy import deepcopy\n",
    "from sklearn.metrics import confusion_matrix\n",
    "import config\n",
    "import models\n",
    "import pandas as pd\n",
    "import features\n",
    "from scipy.stats import skew, pearsonr\n",
    "import outcomes\n",
    "import neural_networks\n",
    "from sklearn.model_selection import KFold\n",
    "from torch import nn, optim\n",
    "from torch.nn import functional as F\n",
    "import interpret\n",
    "import matplotlib.pyplot as plt\n",
    "import matplotlib as mpl\n",
    "from matplotlib.colors import LinearSegmentedColormap\n",
    "import viz"
   ]
  },
  {
   "cell_type": "markdown",
   "metadata": {},
   "source": [
    "# prepare data"
   ]
  },
  {
   "cell_type": "code",
   "execution_count": 4,
   "metadata": {},
   "outputs": [
    {
     "name": "stderr",
     "output_type": "stream",
     "text": [
      "100%|██████████| 1/1 [00:11<00:00, 11.22s/it]"
     ]
    },
    {
     "name": "stdout",
     "output_type": "stream",
     "text": [
      "type <class 'dict'>\n"
     ]
    },
    {
     "name": "stderr",
     "output_type": "stream",
     "text": [
      "\n"
     ]
    }
   ],
   "source": [
    "# currently trained only on 'clath_aux+gak_a7d2_new'\n",
    "# dsets = ['clath_aux+gak_new']\n",
    "dsets = ['clath_aux_dynamin']\n",
    "splits = ['test']\n",
    "# feat_names = ['X_same_length_normalized'] # + data.select_final_feats(data.get_feature_names(df))\n",
    "\n",
    "#feat_names = ['X_same_length_normalized'] + data.select_final_feats(data.get_feature_names(df))\n",
    "              #['mean_total_displacement', 'mean_square_displacement', 'lifetime']\n",
    "meta = ['cell_num', 'Y_sig_mean', 'Y_sig_mean_normalized']\n",
    "dfs, feat_names = data.load_dfs_for_lstm(dsets=dsets, splits=splits, meta=meta, normalize=False)\n",
    "print('type', type(dfs))\n",
    "# load model\n",
    "p = 1\n",
    "results = pkl.load(open(config.FINAL_MODEL, 'rb'))\n",
    "dnn = neural_networks.neural_net_sklearn(D_in=40, H=20, p=p-1, arch='lstm')\n",
    "dnn.model.load_state_dict(results['model_state_dict'])\n",
    "\n",
    "# load data\n",
    "# df = dfs[('clath_aux+gak_a7d2', 'train')]\n",
    "# df = dfs[('clath_aux+gak_new', 'test')]\n",
    "df = dfs[list(dfs.keys())[0]]\n",
    "X = df[feat_names[:p]]\n",
    "y = df['y_consec_thresh']\n",
    "\n",
    "\n",
    "# add preds\n",
    "track_name = 'X_same_length_normalized'\n",
    "track_name_unnormalized = 'X_same_length'\n",
    "# df = dfs[('clath_aux+gak_new', 'test')]\n",
    "df['preds'] = dnn.predict(df[feat_names[:1]])\n",
    "df = df.sort_values(by='preds')\n",
    "x = df[feat_names[:1]]\n",
    "y = df['y_consec_thresh'].values\n",
    "preds = dnn.predict(x)\n",
    "n = df.shape[0]\n",
    "\n",
    "# sort things\n",
    "print(f'acc {np.mean((preds > 0) == y):0.3f} vs baseline {1-np.mean(y):0.2f}', )"
   ]
  },
  {
   "cell_type": "markdown",
   "metadata": {},
   "source": [
    "# calibration plot"
   ]
  },
  {
   "cell_type": "code",
   "execution_count": 45,
   "metadata": {},
   "outputs": [
    {
     "data": {
      "image/png": "[encoded data removed]",
      "text/plain": [
       "<Figure size 432x288 with 1 Axes>"
      ]
     },
     "metadata": {
      "needs_background": "light"
     },
     "output_type": "display_data"
    }
   ],
   "source": [
    "nbins = 10\n",
    "delta = (preds.max() - preds.min()) / nbins\n",
    "bins = np.linspace(preds.min(), preds.max(), nbins)\n",
    "accs = (preds > 0)==y\n",
    "prob_trues = []\n",
    "num_pts = []\n",
    "for i in range(nbins - 1):\n",
    "    idxs = (preds > bins[i]) & (preds <= bins[i+1])\n",
    "    num_pts.append(idxs.sum())\n",
    "    prob_trues.append(y[idxs].mean())\n",
    "plt.scatter(bins[:-1] + delta, prob_trues, s=np.array(num_pts)/6)    \n",
    "plt.plot(bins[:-1] + delta, prob_trues, color=viz.cb)\n",
    "plt.xlabel('Predicted auxilin peak amplitude')\n",
    "plt.ylabel('Fraction of valid events')\n",
    "plt.tight_layout()\n",
    "viz.savefig('calibration')"
   ]
  },
  {
   "cell_type": "markdown",
   "metadata": {},
   "source": [
    "# scatter plots"
   ]
  },
  {
   "cell_type": "code",
   "execution_count": null,
   "metadata": {},
   "outputs": [],
   "source": [
    "R, C = 2, 3\n",
    "vabs = max(abs(df['preds'])) // 2\n",
    "norm=matplotlib.colors.Normalize(vmin=-vabs, vmax=vabs)\n",
    "kwargs = dict(\n",
    "    cmap=viz.cmap,\n",
    "    norm=norm,\n",
    "    alpha=0.5,\n",
    "    s=14, edgecolors=None\n",
    ")\n",
    "plt.figure(figsize=(C * 4.5, R * 3))\n",
    "\n",
    "plt.subplot(R, C, 1)\n",
    "plt.axhline(0, color='gray', alpha=0.5)\n",
    "plt.plot(df['X_max'], df['preds'], '.', alpha=0.1, markeredgewidth=0) #, c=df['preds'], **kwargs)\n",
    "plt.xlabel('Max Clathrin Amplitude')\n",
    "plt.ylabel('Predicted auxilin\\npeak amplitude')\n",
    "plt.title('A', loc='left', fontweight='bold')\n",
    "\n",
    "plt.subplot(R, C, 2)\n",
    "plt.axhline(0, color='gray', alpha=0.5)\n",
    "plt.plot(df['X_mean'], df['preds'], '.', alpha=0.1, markeredgewidth=0) #, c=df['preds'], **kwargs)\n",
    "plt.xlabel('Mean Clathrin Amplitude')\n",
    "plt.title('B', loc='left', fontweight='bold')\n",
    "\n",
    "plt.subplot(R, C, 3)\n",
    "plt.axhline(0, color='gray', alpha=0.5)\n",
    "plt.plot(df['X_d1'], df['preds'], '.', alpha=0.1, markeredgewidth=0) #, c=df['preds'], **kwargs)\n",
    "plt.xlabel('DASC (D1)')\n",
    "plt.yticks([])\n",
    "plt.title('C', loc='left', fontweight='bold')\n",
    "\n",
    "plt.subplot(R, C, 4)\n",
    "plt.axhline(0, color='gray', alpha=0.5)\n",
    "plt.plot(df['lifetime'], df['preds'], '.', alpha=0.1, markeredgewidth=0) #, c=df['preds'], **kwargs)\n",
    "plt.xlabel('Lifetime')\n",
    "plt.yticks([])\n",
    "plt.title('D', loc='left', fontweight='bold')\n",
    "\n",
    "plt.subplot(R, C, 5)\n",
    "plt.axhline(0, color='gray', alpha=0.5)\n",
    "plt.plot(df['X_peak_idx'], df['preds'], '.', alpha=0.1, markeredgewidth=0) #, c=df['preds'], **kwargs)\n",
    "plt.xlabel('Time to Clathrin peak')\n",
    "plt.yticks([])\n",
    "plt.title('E', loc='left', fontweight='bold')\n",
    "\n",
    "plt.subplot(R, C, 6)\n",
    "plt.axhline(0, color='gray', alpha=0.5)\n",
    "plt.plot(df['lifetime'] - df['X_peak_idx'], df['preds'], '.', alpha=0.1, markeredgewidth=0) #, c=df['preds'], **kwargs)\n",
    "plt.xlabel('Time after Clathrin peak')\n",
    "plt.yticks([])\n",
    "plt.title('F', loc='left', fontweight='bold')\n",
    "\n",
    "viz.savefig('top_feats_scatter')"
   ]
  },
  {
   "cell_type": "markdown",
   "metadata": {},
   "source": [
    "# colored scatter plot (deprecated)"
   ]
  },
  {
   "cell_type": "code",
   "execution_count": null,
   "metadata": {},
   "outputs": [],
   "source": [
    "R, C = 1, 3\n",
    "vabs = max(abs(df['preds'])) // 2\n",
    "norm=matplotlib.colors.Normalize(vmin=-vabs, vmax=vabs)\n",
    "kwargs = dict(\n",
    "    cmap=viz.cmap,\n",
    "    norm=norm,\n",
    "    alpha=0.5,\n",
    "    s=14, edgecolors=None\n",
    ")\n",
    "plt.figure(figsize=(C * 4.5, R * 3))\n",
    "plt.subplot(R, C, 1)\n",
    "plt.scatter(df['lifetime'], df['X_max'], c=df['preds'], **kwargs)\n",
    "plt.xlabel('Lifetime')\n",
    "plt.ylabel('Max Clathrin Amplitude')\n",
    "plt.yscale('log')\n",
    "plt.title('A', loc='left', fontweight='bold')\n",
    "\n",
    "plt.subplot(R, C, 2)\n",
    "plt.scatter(df['lifetime'], df['mean_total_displacement'] * df['lifetime'], c=df['preds'], **kwargs)\n",
    "plt.xlabel('Lifetime')\n",
    "plt.ylabel('Total displacement')\n",
    "plt.title('B', loc='left', fontweight='bold')\n",
    "\n",
    "plt.subplot(R, C, 3)\n",
    "plt.scatter(df['lifetime'], df['X_d1'] * df['lifetime'], c=df['preds'], **kwargs)\n",
    "plt.xlabel('Lifetime')\n",
    "plt.ylabel('DASC (D1)')\n",
    "plt.title('C', loc='left', fontweight='bold')\n",
    "cb = plt.colorbar(label='Predicted aux+ peak')\n",
    "cb.outline.set_visible(False)\n",
    "viz.savefig('top_feats_scatter')"
   ]
  },
  {
   "cell_type": "markdown",
   "metadata": {},
   "source": [
    "# viz errs"
   ]
  },
  {
   "cell_type": "code",
   "execution_count": null,
   "metadata": {},
   "outputs": [],
   "source": [
    "y = df['y_consec_thresh'].astype(bool)\n",
    "p = df['preds'].values > 0\n",
    "\n",
    "tp = y & p\n",
    "tn = ~y & ~p\n",
    "fp = ~y & p\n",
    "fn = y & ~p\n",
    "print('fracs', 'fp', fp.sum() / y.size, 'fn', fn.sum() / y.size)\n",
    "for idxs, name in zip([fp, fn], ['fp', 'fn']):    \n",
    "    print(name)\n",
    "    d = df[idxs]\n",
    "    errs = viz.viz_biggest_errs(d, None, None, d['y_consec_thresh'],\n",
    "                                d['preds'] > 0, d['preds'],\n",
    "                                num_to_plot=20, # 20 makes best plots\n",
    "                                show_track_pid=True,\n",
    "                                show_track_num=False,\n",
    "                                plot_z=True,\n",
    "                                lifetime_max=100,\n",
    "                                text_labels=idxs is fn)\n",
    "    viz.savefig(name)"
   ]
  },
  {
   "cell_type": "markdown",
   "metadata": {},
   "source": [
    "# cumulative errs"
   ]
  },
  {
   "cell_type": "code",
   "execution_count": 3,
   "metadata": {},
   "outputs": [
    {
     "name": "stderr",
     "output_type": "stream",
     "text": [
      "100%|██████████| 1/1 [00:50<00:00, 50.75s/it]\n"
     ]
    },
    {
     "name": "stdout",
     "output_type": "stream",
     "text": [
      "type <class 'dict'>\n"
     ]
    }
   ],
   "source": [
    "# currently trained only on 'clath_aux+gak_a7d2_new'\n",
    "# dsets = ['clath_aux+gak_new']\n",
    "dsets = ['clath_aux_dynamin']\n",
    "splits = ['test']\n",
    "# feat_names = ['X_same_length_normalized'] # + data.select_final_feats(data.get_feature_names(df))\n",
    "\n",
    "#feat_names = ['X_same_length_normalized'] + data.select_final_feats(data.get_feature_names(df))\n",
    "              #['mean_total_displacement', 'mean_square_displacement', 'lifetime']\n",
    "meta = ['cell_num', 'Y_sig_mean', 'Y_sig_mean_normalized']\n",
    "dfs, feat_names = data.load_dfs_for_lstm(dsets=dsets, splits=splits, meta=meta, normalize=False, filter_short=False)\n",
    "print('type', type(dfs))\n",
    "# load model\n",
    "p = 1\n",
    "results = pkl.load(open(config.FINAL_MODEL, 'rb'))\n",
    "dnn = neural_networks.neural_net_sklearn(D_in=40, H=20, p=p-1, arch='lstm')\n",
    "dnn.model.load_state_dict(results['model_state_dict'])\n",
    "\n",
    "# load data\n",
    "# df = dfs[('clath_aux+gak_a7d2', 'train')]\n",
    "# df = dfs[('clath_aux+gak_new', 'test')]\n",
    "dd = dfs[list(dfs.keys())[0]]\n",
    "dd = dd[dd.short]\n",
    "dfull = pd.concat((df, dd), axis=0)\n",
    "dfull['preds_proba'] = dnn.predict(dfull[feat_names[:1]])\n",
    "dfull['preds'] = (dfull['preds_proba'].values > 0).astype(int)"
   ]
  },
  {
   "cell_type": "code",
   "execution_count": null,
   "metadata": {},
   "outputs": [],
   "source": [
    "viz.cumulative_acc_plot_all(df=dfull,\n",
    "                            pred_proba_key='preds_proba',\n",
    "                            pred_key='preds',\n",
    "                            outcome_def='y_consec_thresh', show=False)\n",
    "plt.xlim((dfull.shape[0]*3/4, dfull.shape[0]))\n",
    "plt.ylim((0.85, 1.0))\n",
    "viz.savefig('cum_acc')"
   ]
  },
  {
   "cell_type": "markdown",
   "metadata": {},
   "source": [
    "# correcting labels"
   ]
  },
  {
   "cell_type": "code",
   "execution_count": null,
   "metadata": {},
   "outputs": [],
   "source": [
    "for idxs, name in zip([fp, fn], ['fp', 'fn']):    \n",
    "    d = df[idxs]\n",
    "    errs = viz.viz_biggest_errs(d, None, None, d['y_consec_thresh'],\n",
    "                                d['preds'] > 0, d['preds'],\n",
    "                                plot_z=True,\n",
    "#                                 lifetime_max=100,\n",
    "                                sort_by_residuals=False,\n",
    "                                show_track_num=True,\n",
    "                                num_to_plot=idxs.sum(),\n",
    "                               )\n",
    "    plt.savefig(name + '.pdf')\n",
    "#     viz.savefig(name)"
   ]
  },
  {
   "cell_type": "code",
   "execution_count": 57,
   "metadata": {},
   "outputs": [],
   "source": [
    "pos_fp = np.array([\n",
    "    2, 5, 6, 7, 8, 9, 12, 13, 14, 16, 18, 19, 21, 32, 36, 37, 38, 39, 43, 44, 52, 56, 59, 71, 72, 76, 80, 81, 97, 98,\n",
    "    108, 109, 111, 120, 122, 126, 129, 138, 165, 166, 168, 183, 185, 195, 202, 216, 224, 225, 232, 242, 243, 244, 246,\n",
    "    247, 261, 268, 279, 288, 294, 308, 324, 326, 327, 340, 342, 345, 346, 365, 378, 380, 396, 401, 425, 440, 447, 485,\n",
    "    495, 512, 541, 544, 576, 612, 620, 625, 632, 649, 654, 663, 665, 666, 672, 688, 699, 706, 707, 717, 734, 745, 771,\n",
    "    816, 837, 846, 851, 857, 874, 876, 887, 893, 896, 903, 910, 935, 951, 964, 975, 982, 990, 998, 1000, 1006, 1011,\n",
    "    1015, 1019, 1021, 1023, 1030, 1031, 1036, 1039, 1045, 1050, 1058, 1061, 1063, 1064, 1070, 1071, 1082, 1086, 1093,\n",
    "    1095, 1099, 1110, 1113, 1118, 1122, 1126, 1127, 1132, 1143, 1150, 1152, 1155,\n",
    "])\n",
    "\n",
    "hotspots_fp = np.array([\n",
    "    25, 58, 69, 70, 73, 91, 105, 106, 107, 141, 142, 145, 151, 161, 162, 164, 172, 218, 234, 241, 254, 277, 297, 317,\n",
    "    320, 338, 341, 362, 363, 364, 373, 390, 411, 415, 473, 474, 523, 524, 539, 556, 571, 572, 603, 604, 606, 608, 611,\n",
    "    613, 621, 624, 638, 639, 640, 648, 676, 679, 686, 692, 702, 703, 715, 743, 744, 762, 774, 775, 777, 781, 786, 790,\n",
    "    795, 801, 805, 811, 820, 822, 828, 832, 839, 841, 853, 854, 860, 861, 866, 870, 881, 886, 894, 897, 906, 916, 922,\n",
    "    936, 940, 941, 949, 958, 965, 972, 974, 977, 980, 984, 986, 987, 992, 994, 996, 1001, 1005, 1010, 1013, 1014, 1017,\n",
    "    1026, 1035, 1037, 1038, 1052, 1053, 1072, 1075, 1078, 1081, 1085, 1087, 1088, 1089, 1092, 1094, 1096, 1097, 1100,\n",
    "    1101, 1102, 1104, 1107, 1111, 1112, 1114, 1115, 1119, 1120, 1121, 1123, 1124, 1129, 1134, 1145, 1146, 1148, 1154,\n",
    "])\n",
    "\n",
    "neg_fn = np.array([\n",
    "    1, 3, 5, 11, 12, 24, 29, 33, 37, 38, 39, 45, 48, 49, 59, 61, 62, 63, 64, 65, 68, 69, 72, 73, 79, 80, 91, 92, 93, 94,\n",
    "    99, 101, 104, 105, 106, 107, 108, 113, 123, 124, 127, 131, 132, 136, 138, 140, 141, 147, 149, 153, 154, 156, 160,\n",
    "    165, 166, 167, 170, 174, 176, 183, 185, 188, 189, 191, 192, 196, 200, 207, 208, 211, 213, 214, 215, 219, 227, 228,\n",
    "    230, 321, 233, 254, 257, 259, 260, 274, 281, 285, 287, 288, 296, 297, 309, 332, 363, 378, 381, 382, 383, 384, 385,\n",
    "    393, 394, 402, 405, 413, 427, 478, 482, 483, 509, 512, 513, 514, 520, 524, 527, 544, 548, 549, 552, 556, 557, 559,\n",
    "    579, 599, 608, 617,\n",
    "])\n",
    "\n",
    "hotspots_fn = np.array([\n",
    "    148, 240, 244, 250, 251, 252, 261, 283, 293, 317, 318, 366, 410, 412, 428, 432, 459, 460, 462, 463, 470, 503, 518,\n",
    "    519, 565, 568, 589, 590, 600, 605, 614, 619,\n",
    "])"
   ]
  },
  {
   "cell_type": "code",
   "execution_count": null,
   "metadata": {},
   "outputs": [],
   "source": [
    "d_fp = df[fn]\n",
    "d = d_fp.iloc[hotspots_fn]\n",
    "errs = viz.viz_biggest_errs(d, None, None, d['y_consec_thresh'],\n",
    "                            d['preds'] > 0, d['preds'],\n",
    "                            plot_z=True,\n",
    "                            sort_by_residuals=False,\n",
    "                            num_to_plot=25\n",
    "                           )"
   ]
  },
  {
   "cell_type": "code",
   "execution_count": 62,
   "metadata": {},
   "outputs": [
    {
     "data": {
      "text/plain": [
       "array([242828, 254428, 257377, 207581, 235660, 205824, 225114, 213307,\n",
       "       209487, 206981, 239467, 252051, 205115, 206939, 226274, 242758,\n",
       "       228777, 256040, 255719, 235465, 209012, 222720, 256464, 223698,\n",
       "       254836, 223231, 254747, 255906, 253835, 254133, 204951, 254969])"
      ]
     },
     "execution_count": 62,
     "metadata": {},
     "output_type": "execute_result"
    }
   ],
   "source": [
    "d.pid.values"
   ]
  }
 ],
 "metadata": {
  "kernelspec": {
   "display_name": "Python 3",
   "language": "python",
   "name": "python3"
  },
  "language_info": {
   "codemirror_mode": {
    "name": "ipython",
    "version": 3
   },
   "file_extension": ".py",
   "mimetype": "text/x-python",
   "name": "python",
   "nbconvert_exporter": "python",
   "pygments_lexer": "ipython3",
   "version": "3.8.3"
  }
 },
 "nbformat": 4,
 "nbformat_minor": 4
}
