{
 "cells": [
  {
   "cell_type": "code",
   "execution_count": 136,
   "metadata": {},
   "outputs": [
    {
     "name": "stdout",
     "output_type": "stream",
     "text": [
      "The autoreload extension is already loaded. To reload it, use:\n",
      "  %reload_ext autoreload\n"
     ]
    }
   ],
   "source": [
    "%matplotlib inline\n",
    "%load_ext autoreload\n",
    "%autoreload 2\n",
    "import os\n",
    "from os.path import join as oj\n",
    "import sys\n",
    "sys.path.append('../src')\n",
    "import numpy as np\n",
    "import seaborn as sns\n",
    "import torch\n",
    "import matplotlib\n",
    "from matplotlib import pyplot as plt\n",
    "from sklearn import metrics\n",
    "import sklearn.calibration\n",
    "from sklearn.linear_model import RidgeCV\n",
    "from sklearn.model_selection import train_test_split\n",
    "# plt.style.use('dark_background')\n",
    "import data\n",
    "from skorch.callbacks import Checkpoint\n",
    "from skorch import NeuralNetRegressor\n",
    "from config import *\n",
    "from tqdm import tqdm\n",
    "import pickle as pkl\n",
    "import train_reg\n",
    "from math import floor\n",
    "from copy import deepcopy\n",
    "from sklearn.metrics import confusion_matrix\n",
    "import config\n",
    "import models\n",
    "import pandas as pd\n",
    "import features\n",
    "from scipy.stats import skew, pearsonr\n",
    "import outcomes\n",
    "import neural_networks\n",
    "from sklearn.model_selection import KFold\n",
    "from torch import nn, optim\n",
    "from torch.nn import functional as F\n",
    "import interpret\n",
    "import matplotlib.pyplot as plt\n",
    "from functools import partial\n",
    "import matplotlib as mpl\n",
    "from matplotlib.colors import LinearSegmentedColormap\n",
    "import viz"
   ]
  },
  {
   "cell_type": "markdown",
   "metadata": {},
   "source": [
    "# prepare data"
   ]
  },
  {
   "cell_type": "code",
   "execution_count": 78,
   "metadata": {},
   "outputs": [
    {
     "name": "stderr",
     "output_type": "stream",
     "text": [
      "100%|██████████| 1/1 [00:12<00:00, 12.91s/it]"
     ]
    },
    {
     "name": "stdout",
     "output_type": "stream",
     "text": [
      "type <class 'dict'>\n"
     ]
    },
    {
     "name": "stderr",
     "output_type": "stream",
     "text": [
      "\n"
     ]
    }
   ],
   "source": [
    "# currently trained only on 'clath_aux+gak_a7d2_new'\n",
    "# dsets = ['clath_aux+gak_new']\n",
    "dsets = ['clath_aux_dynamin']\n",
    "splits = ['test']\n",
    "# feat_names = ['X_same_length_normalized'] # + data.select_final_feats(data.get_feature_names(df))\n",
    "\n",
    "#feat_names = ['X_same_length_normalized'] + data.select_final_feats(data.get_feature_names(df))\n",
    "              #['mean_total_displacement', 'mean_square_displacement', 'lifetime']\n",
    "meta = ['cell_num', 'Y_sig_mean', 'Y_sig_mean_normalized']\n",
    "dfs, feat_names = data.load_dfs_for_lstm(dsets=dsets, splits=splits, meta=meta, normalize=False)\n",
    "print('type', type(dfs))\n",
    "# load model\n",
    "p = 1\n",
    "results = pkl.load(open(config.FINAL_MODEL, 'rb'))\n",
    "dnn = neural_networks.neural_net_sklearn(D_in=40, H=20, p=p-1, arch='lstm')\n",
    "dnn.model.load_state_dict(results['model_state_dict'])\n",
    "\n",
    "# load data\n",
    "# df = dfs[('clath_aux+gak_a7d2', 'train')]\n",
    "# df = dfs[('clath_aux+gak_new', 'test')]\n",
    "df = dfs[list(dfs.keys())[0]]\n",
    "X = df[feat_names[:p]]\n",
    "y = df['y_consec_thresh']"
   ]
  },
  {
   "cell_type": "markdown",
   "metadata": {},
   "source": [
    "# prediction plots"
   ]
  },
  {
   "cell_type": "code",
   "execution_count": 58,
   "metadata": {},
   "outputs": [
    {
     "name": "stdout",
     "output_type": "stream",
     "text": [
      "acc 0.841 vs baseline 0.66\n"
     ]
    }
   ],
   "source": [
    "track_name = 'X_same_length_normalized'\n",
    "track_name_unnormalized = 'X_same_length'\n",
    "# df = dfs[('clath_aux+gak_new', 'test')]\n",
    "df['preds'] = dnn.predict(df[feat_names[:1]])\n",
    "df = df.sort_values(by='preds')\n",
    "x = df[feat_names[:1]]\n",
    "y = df['y_consec_thresh'].values\n",
    "preds = dnn.predict(x)\n",
    "n = df.shape[0]\n",
    "\n",
    "# sort things\n",
    "print(f'acc {np.mean((preds > 0) == y):0.3f} vs baseline {1-np.mean(y):0.2f}', )"
   ]
  },
  {
   "cell_type": "markdown",
   "metadata": {},
   "source": [
    "# look at different dsets"
   ]
  },
  {
   "cell_type": "code",
   "execution_count": 43,
   "metadata": {},
   "outputs": [
    {
     "name": "stderr",
     "output_type": "stream",
     "text": [
      "  0%|          | 0/6 [00:00<?, ?it/s]"
     ]
    },
    {
     "name": "stdout",
     "output_type": "stream",
     "text": [
      "loading data\n"
     ]
    },
    {
     "name": "stderr",
     "output_type": "stream",
     "text": [
      "100%|██████████| 6/6 [03:13<00:00, 32.31s/it]\n"
     ]
    }
   ],
   "source": [
    "print(\"loading data\")\n",
    "dsets = ['clath_aux+gak_a7d2', 'clath_aux+gak', 'clath_aux+gak_a7d2_new', 'clath_aux+gak_new', 'clath_gak', 'clath_aux_dynamin'] # need to add dynamin\n",
    "splits = ['train', 'test']\n",
    "#feat_names = ['X_same_length_normalized'] + data.select_final_feats(data.get_feature_names(df))\n",
    "              #['mean_total_displacement', 'mean_square_displacement', 'lifetime']\n",
    "meta = ['cell_num', 'Y_sig_mean', 'Y_sig_mean_normalized', 'y_consec_thresh']\n",
    "dfs, feat_names = data.load_dfs_for_lstm(dsets=dsets, splits=splits, meta=meta, filter_short=False, normalize=False)\n",
    "\n",
    "# df_full = pd.concat([dfs[(k, s)]\n",
    "#                  for (k, s) in dfs\n",
    "#                  if s == 'train'])[feat_names + meta]\n",
    "# df_full = df_full.dropna()\n",
    "ds = {(k, v): dfs[(k, v)]\n",
    "      for (k, v) in sorted(dfs.keys(), key=lambda x: x[1] + x[0])\n",
    "      #if not k == 'clath_aux+gak_a7d2_new'\n",
    "     }"
   ]
  },
  {
   "cell_type": "markdown",
   "metadata": {},
   "source": [
    "**summarize dsets**"
   ]
  },
  {
   "cell_type": "code",
   "execution_count": null,
   "metadata": {},
   "outputs": [],
   "source": [
    "vals = {} # key is dataset, Partition\n",
    "for k in sorted(ds, key=lambda kv: (kv[0], kv[1])):\n",
    "    d = ds[k]\n",
    "    d.short = d.lifetime <= 15\n",
    "    # print(k, d.lifetime.min())\n",
    "    y = d['y_consec_thresh']\n",
    "    feats = ['Total clean tracks',\n",
    "             'Difficult tracks', 'Difficult valid events', \n",
    "             'Short tracks', 'Short valid events',]\n",
    "    vals[k] = [d.shape[0],\n",
    "            (~d.short).sum(), y[~d.short].sum(),\n",
    "            d.short.sum(), y[d.short].sum()\n",
    "           ]\n",
    "    vals[k] = [int(x) for x in vals[k]]\n",
    "#     print(feats, vals)\n",
    "df = pd.DataFrame.from_dict(vals).transpose().round(decimals=0)\n",
    "df.columns = feats\n",
    "df.index = df.index.set_names(['Dataset', 'Partition'])\n",
    "print(df.to_latex(index=True, index_names=True))"
   ]
  },
  {
   "cell_type": "markdown",
   "metadata": {},
   "source": [
    "**look at preds**"
   ]
  },
  {
   "cell_type": "code",
   "execution_count": 85,
   "metadata": {},
   "outputs": [
    {
     "name": "stderr",
     "output_type": "stream",
     "text": [
      "<ipython-input-85-eb83b6147e67>:26: MatplotlibDeprecationWarning: Adding an axes using the same arguments as a previous axes currently reuses the earlier instance.  In a future version, a new instance will always be created and returned.  Meanwhile, this warning can be suppressed, and the future behavior ensured, by passing a unique label to each axes instance.\n",
      "  plt.subplot(R, C, i + 1)\n"
     ]
    },
    {
     "data": {
      "image/png": "[encoded data removed]",
      "text/plain": [
       "<Figure size 648x288 with 6 Axes>"
      ]
     },
     "metadata": {
      "needs_background": "light"
     },
     "output_type": "display_data"
    }
   ],
   "source": [
    "R = 2\n",
    "C = len(ds) // 2 // R\n",
    "plt.figure(figsize=(C*3, R*2))\n",
    "i = 0\n",
    "vmin = 0\n",
    "vmax = 0\n",
    "for k in sorted(ds):\n",
    "    if k[1] == 'test':\n",
    "        d = ds[k]\n",
    "        preds = dnn.predict(d[feat_names[:1]])\n",
    "        plt.subplot(R, C, i + 1)\n",
    "        plt.title(k[0], fontsize=12)\n",
    "        plt.plot(d['Y_sig_mean_normalized'], preds, '.', alpha=0.1, markeredgewidth=0)\n",
    "        r = i // C\n",
    "        c = i % C\n",
    "        if r >= 1:\n",
    "            plt.xlabel('True regression outcome', fontsize=12)\n",
    "        if c == 0:\n",
    "            plt.ylabel('Predicted outcome', fontsize=12)\n",
    "        else:\n",
    "            plt.yticks([])\n",
    "        i += 1\n",
    "        vmin = min(vmin, np.min(preds))\n",
    "        vmax = max(vmax, np.max(preds))\n",
    "for i in range(R * C):\n",
    "    plt.subplot(R, C, i + 1)\n",
    "    plt.ylim((vmin, vmax))\n",
    "viz.savefig('pred_plots')\n",
    "plt.show()"
   ]
  },
  {
   "cell_type": "markdown",
   "metadata": {},
   "source": [
    "**calculate predictions on diff datasets**"
   ]
  },
  {
   "cell_type": "code",
   "execution_count": 2,
   "metadata": {},
   "outputs": [
    {
     "name": "stderr",
     "output_type": "stream",
     "text": [
      "100%|██████████| 5/5 [00:16<00:00,  2.67s/it]\n"
     ]
    }
   ],
   "source": [
    "normalize_by_train = False\n",
    "exclude_easy_tracks = True\n",
    "orig_dset = 'clath_aux+gak_a7d2'\n",
    "\n",
    "# set up lists\n",
    "dsets = ['validation', 'test']\n",
    "ys_list = [y_full_cv, y_test]\n",
    "preds_list = [preds_cv, preds_test]\n",
    "preds_proba_list = [preds_proba_cv, preds_proba_test]\n",
    "Y_max_list = [df_cv['Y_max'], df_test['Y_max']]\n",
    "\n",
    "# loop over new datasets\n",
    "outcome_def = 'y_consec_thresh'\n",
    "# outcome_def = 'y_rule_based'\n",
    "dset_names = [k for k in config.DSETS.keys()\n",
    "              if not k == orig_dset\n",
    "              and not 'pi4p' in k]\n",
    "for dset_name in tqdm(dset_names):\n",
    "    _, y_new, preds_new, preds_proba_new, Y_maxes = analyze_helper.normalize_and_predict(m0, feat_names_selected, dset_name,\n",
    "                                                                                         normalize_by_train,\n",
    "                                                                                         exclude_easy_tracks=exclude_easy_tracks)\n",
    "    dsets.append(dset_name)\n",
    "    ys_list.append(deepcopy(y_new))\n",
    "    preds_list.append(deepcopy(preds_new))\n",
    "    preds_proba_list.append(deepcopy(preds_proba_new))\n",
    "    Y_max_list.append(Y_maxes)"
   ]
  },
  {
   "cell_type": "markdown",
   "metadata": {},
   "source": [
    "**show metrics on different dsets**"
   ]
  },
  {
   "cell_type": "code",
   "execution_count": 5,
   "metadata": {},
   "outputs": [
    {
     "name": "stdout",
     "output_type": "stream",
     "text": [
      "if exclude_easy_tracks, this is just for hard tracks\n",
      "\\begin{tabular}{lrrr}\n",
      "\\toprule\n",
      "{} &  Accuracy &  Roc auc &  Balanced accuracy \\\\\n",
      "\\midrule\n",
      "Validation        &      0.74 &     0.81 &               0.74 \\\\\n",
      "Test              &      0.73 &     0.80 &               0.73 \\\\\n",
      "Clath\\_aux+gak     &      0.75 &     0.81 &               0.75 \\\\\n",
      "Clath\\_aux+gak\\_new &      0.76 &     0.83 &               0.76 \\\\\n",
      "\\bottomrule\n",
      "\\end{tabular}\n",
      "\n"
     ]
    }
   ],
   "source": [
    "def roundd(x):\n",
    "    try:\n",
    "        return x.round(2)\n",
    "    except:\n",
    "        return [y.round(2) for y in x]\n",
    "    \n",
    "def mean_diff(vals, preds):\n",
    "    return np.mean(vals[preds==1]) - np.mean(vals[preds==0])\n",
    "\n",
    "r_long = {}\n",
    "n = len(dsets)\n",
    "for s in train.scorers:\n",
    "    if s == 'roc_auc':\n",
    "        r_long[s] = [roundd(metrics.roc_auc_score(ys_list[i],\n",
    "                                                  preds_proba_list[i])) for i in range(n)]\n",
    "    elif 'curve' not in s and 'acc' in s:\n",
    "        r_long[s] = [roundd(train.scorers[s](ys_list[i], preds_list[i])) for i in range(n)]        \n",
    "r_long['diff_aux_max_by_class'] = [mean_diff(Y_max_list[i], preds_list[i]) for i in range(n)]\n",
    "r_long['aux+ ratio'] = [np.mean(ys_list[i]) for i in range(n)]\n",
    "\n",
    "print('if exclude_easy_tracks, this is just for hard tracks')\n",
    "r = pd.DataFrame.from_dict(r_long).transpose()\n",
    "r.columns = dsets\n",
    "r.round(2)\n",
    "\n",
    "# style results\n",
    "r = r[['validation', 'test', 'clath_aux+gak', 'clath_aux+gak_new']].round(2)\n",
    "r.columns = r.columns.map(str.capitalize)\n",
    "r = r.loc[['accuracy', 'roc_auc', 'balanced_accuracy']] # reorder rows\n",
    "r.index = r.index.map(str.capitalize)\n",
    "r.index = r.index.map(lambda s: str.replace(s, '_', ' '))\n",
    "r\n",
    "print(r.transpose().to_latex())"
   ]
  },
  {
   "cell_type": "markdown",
   "metadata": {},
   "source": [
    "# lower res data"
   ]
  },
  {
   "cell_type": "code",
   "execution_count": 95,
   "metadata": {},
   "outputs": [
    {
     "name": "stderr",
     "output_type": "stream",
     "text": [
      "100%|██████████| 1/1 [00:12<00:00, 12.51s/it]\n"
     ]
    }
   ],
   "source": [
    "dsets = ['clath_aux_dynamin']\n",
    "splits = ['test']\n",
    "meta = ['cell_num', 'Y_sig_mean', 'Y_sig_mean_normalized']\n",
    "dfs, feat_names = data.load_dfs_for_lstm(dsets=dsets, splits=splits, meta=meta, normalize=False)\n",
    "df = dfs[list(dfs.keys())[0]]\n",
    "y = df['y_consec_thresh'].values"
   ]
  },
  {
   "cell_type": "code",
   "execution_count": 144,
   "metadata": {},
   "outputs": [
    {
     "name": "stderr",
     "output_type": "stream",
     "text": [
      " 14%|█▍        | 1/7 [00:00<00:04,  1.43it/s]"
     ]
    },
    {
     "name": "stdout",
     "output_type": "stream",
     "text": [
      "0.8409655662051828\n"
     ]
    },
    {
     "name": "stderr",
     "output_type": "stream",
     "text": [
      " 29%|██▊       | 2/7 [00:01<00:04,  1.18it/s]"
     ]
    },
    {
     "name": "stdout",
     "output_type": "stream",
     "text": [
      "0.8275943675304698\n"
     ]
    },
    {
     "name": "stderr",
     "output_type": "stream",
     "text": [
      " 43%|████▎     | 3/7 [00:03<00:03,  1.05it/s]"
     ]
    },
    {
     "name": "stdout",
     "output_type": "stream",
     "text": [
      "0.8248727961188025\n"
     ]
    },
    {
     "name": "stderr",
     "output_type": "stream",
     "text": [
      " 57%|█████▋    | 4/7 [00:04<00:03,  1.02s/it]"
     ]
    },
    {
     "name": "stdout",
     "output_type": "stream",
     "text": [
      "0.8167080818838007\n"
     ]
    },
    {
     "name": "stderr",
     "output_type": "stream",
     "text": [
      " 71%|███████▏  | 5/7 [00:05<00:02,  1.07s/it]"
     ]
    },
    {
     "name": "stdout",
     "output_type": "stream",
     "text": [
      "0.8144598272393799\n"
     ]
    },
    {
     "name": "stderr",
     "output_type": "stream",
     "text": [
      " 86%|████████▌ | 6/7 [00:06<00:01,  1.11s/it]"
     ]
    },
    {
     "name": "stdout",
     "output_type": "stream",
     "text": [
      "0.8136315228966986\n"
     ]
    },
    {
     "name": "stderr",
     "output_type": "stream",
     "text": [
      "100%|██████████| 7/7 [00:07<00:00,  1.12s/it]"
     ]
    },
    {
     "name": "stdout",
     "output_type": "stream",
     "text": [
      "0.81008164714235\n"
     ]
    },
    {
     "name": "stderr",
     "output_type": "stream",
     "text": [
      "\n"
     ]
    }
   ],
   "source": [
    "accs = []\n",
    "DOWNSAMPLE_list = range(1, 8)\n",
    "for DOWNSAMPLE in tqdm(DOWNSAMPLE_list):\n",
    "\n",
    "    # downsample\n",
    "    d = deepcopy(df)\n",
    "    def resample_at_lower_freq(x, DOWNSAMPLE=2):\n",
    "        if DOWNSAMPLE == 1:\n",
    "            return x\n",
    "        arr = np.array(x[::DOWNSAMPLE])\n",
    "        n = arr.size\n",
    "        return np.interp(x=np.linspace(0, n, num=len(x)), xp=np.arange(n), fp=arr)\n",
    "    X_resampled = d['X'].apply(partial(resample_at_lower_freq, DOWNSAMPLE=DOWNSAMPLE))\n",
    "    \n",
    "    # normalize tracks\n",
    "    d['X_same_length'] = [features.downsample(X_resampled.iloc[i], 40)\n",
    "                           for i in range(len(df))] # downsampling\n",
    "    d = features.normalize_track(d, track='X_same_length', by_time_point=False)\n",
    "    x = d[['X_same_length_normalized']]\n",
    "    \n",
    "    # evaluate\n",
    "    preds = dnn.predict(x)\n",
    "    n = df.shape[0]\n",
    "    acc = np.mean((preds>0)==y)\n",
    "    accs.append(acc)\n",
    "    \n",
    "    print(acc)"
   ]
  },
  {
   "cell_type": "code",
   "execution_count": 145,
   "metadata": {},
   "outputs": [
    {
     "data": {
      "image/png": "[encoded data removed]",
      "text/plain": [
       "<Figure size 432x288 with 1 Axes>"
      ]
     },
     "metadata": {
      "needs_background": "light"
     },
     "output_type": "display_data"
    }
   ],
   "source": [
    "# plt.figure(dpi=300)\n",
    "plt.plot(DOWNSAMPLE_list, accs, '.-', lw=3, ms=18)\n",
    "plt.xlabel('Downsamping factor')\n",
    "plt.ylabel('Accuracy on difficult region')\n",
    "viz.savefig('downsampling')\n",
    "plt.show()"
   ]
  }
 ],
 "metadata": {
  "kernelspec": {
   "display_name": "Python 3",
   "language": "python",
   "name": "python3"
  },
  "language_info": {
   "codemirror_mode": {
    "name": "ipython",
    "version": 3
   },
   "file_extension": ".py",
   "mimetype": "text/x-python",
   "name": "python",
   "nbconvert_exporter": "python",
   "pygments_lexer": "ipython3",
   "version": "3.8.3"
  }
 },
 "nbformat": 4,
 "nbformat_minor": 4
}
