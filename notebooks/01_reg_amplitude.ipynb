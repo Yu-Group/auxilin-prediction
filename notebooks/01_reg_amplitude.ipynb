{
 "cells": [
  {
   "cell_type": "code",
   "execution_count": 1,
   "metadata": {},
   "outputs": [
    {
     "name": "stderr",
     "output_type": "stream",
     "text": [
      "/accounts/grad/xsli/.local/lib/python3.7/site-packages/statsmodels/tools/_testing.py:19: FutureWarning: pandas.util.testing is deprecated. Use the functions in the public API at pandas.testing instead.\n",
      "  import pandas.util.testing as tm\n",
      "/accounts/grad/xsli/.local/lib/python3.7/site-packages/sklearn/utils/deprecation.py:143: FutureWarning: The sklearn.metrics.scorer module is  deprecated in version 0.22 and will be removed in version 0.24. The corresponding classes / functions should instead be imported from sklearn.metrics. Anything that cannot be imported from sklearn.metrics is now part of the private API.\n",
      "  warnings.warn(message, FutureWarning)\n"
     ]
    }
   ],
   "source": [
    "%matplotlib inline\n",
    "%load_ext autoreload\n",
    "%autoreload 2\n",
    "import os\n",
    "from os.path import join as oj\n",
    "import sys\n",
    "sys.path.append('../src')\n",
    "import numpy as np\n",
    "import seaborn as sns\n",
    "import torch\n",
    "from matplotlib import pyplot as plt\n",
    "from sklearn import metrics\n",
    "from sklearn.linear_model import RidgeCV\n",
    "from sklearn.model_selection import train_test_split\n",
    "plt.style.use('seaborn')\n",
    "import data\n",
    "from skorch.callbacks import Checkpoint\n",
    "from skorch import NeuralNetRegressor\n",
    "#import models\n",
    "from tqdm import tqdm\n",
    "import train_reg\n",
    "import config\n",
    "import pandas as pd\n",
    "import features\n",
    "from scipy.stats import skew, pearsonr\n",
    "#df = data.get_tracks() # note: different Xs can be different shapes\n",
    "#df = data.remove_invalid_tracks(df)\n",
    "#df = data.preprocess(df)\n",
    "#df = data.add_outcome(df)\n",
    "#n = df.shape[0]"
   ]
  },
  {
   "cell_type": "code",
   "execution_count": 2,
   "metadata": {},
   "outputs": [],
   "source": [
    "dset = 'clath_aux_dynamin'\n",
    "outcome_def = 'Z_sig_mean'\n",
    "#out_dir = 'results/regression/Sep15'"
   ]
  },
  {
   "cell_type": "code",
   "execution_count": 7,
   "metadata": {},
   "outputs": [],
   "source": [
    "feat_names = ['mean_square_displacement',\n",
    "              'mean_total_displacement',\n",
    "              'X_max',\n",
    "              'X_mean',\n",
    "              'X_std',\n",
    "              'lifetime',\n",
    "              'X_d1',\n",
    "              'X_d2',\n",
    "              'X_d3'\n",
    "             ]"
   ]
  },
  {
   "cell_type": "code",
   "execution_count": 4,
   "metadata": {},
   "outputs": [],
   "source": [
    "df = pd.read_pickle(f'../data/tracks/tracks_{dset}.pkl')"
   ]
  },
  {
   "cell_type": "code",
   "execution_count": 6,
   "metadata": {},
   "outputs": [
    {
     "name": "stderr",
     "output_type": "stream",
     "text": [
      "../src/train_reg.py:82: RuntimeWarning: invalid value encountered in less\n",
      "  sigs = np.array(r[f'{track}_pvals']) < 0.05\n"
     ]
    }
   ],
   "source": [
    "df = df[df.catIdx.isin([1, 2])]\n",
    "df = df[df.lifetime > 15]\n",
    "df = features.add_basic_features(df)\n",
    "df = train_reg.log_transforms(df)\n",
    "df = features.add_dasc_features(df, bins=100, by_cell=True)\n",
    "df = train_reg.add_sig_mean(df)\n",
    "df_train = df[df.cell_num.isin(config.DSETS[dset]['train'])] \n",
    "df_test = df[df.cell_num.isin(config.DSETS[dset]['test'])] "
   ]
  },
  {
   "cell_type": "code",
   "execution_count": 19,
   "metadata": {},
   "outputs": [
    {
     "name": "stderr",
     "output_type": "stream",
     "text": [
      "100%|██████████| 4/4 [03:10<00:00, 47.56s/it]\n",
      "100%|██████████| 4/4 [05:17<00:00, 79.28s/it]\n",
      "100%|██████████| 4/4 [07:52<00:00, 118.11s/it]\n"
     ]
    }
   ],
   "source": [
    "df_train = df_train.dropna()\n",
    "for features in ['dasc', \n",
    "                 'basic', 'combined'\n",
    "                ]:\n",
    "    if features == 'dasc':\n",
    "        use_feature = feat_names[6:]\n",
    "    elif features == 'basic':\n",
    "        use_feature = feat_names[:6]\n",
    "    else:\n",
    "        use_feature = feat_names\n",
    "    out_dir = f'results/regression/Oct14_Y_{features}'\n",
    "    outcome_def = 'Y_sig_mean'\n",
    "    os.makedirs(out_dir, exist_ok=True)\n",
    "    for model_type in tqdm(['linear', 'gb', 'rf', 'ridge']):\n",
    "        out_name = f'{model_type}'\n",
    "                            #print(out_name)\n",
    "        #if use_processed and os.path.exists(f'{out_dir}/{out_name}.pkl'):\n",
    "        #    continue\n",
    "        train_reg.train_reg(df_train, feat_names=use_feature, model_type=model_type, \n",
    "                         outcome_def=outcome_def,\n",
    "                         out_name=f'{out_dir}/{out_name}.pkl') "
   ]
  },
  {
   "cell_type": "code",
   "execution_count": 20,
   "metadata": {},
   "outputs": [
    {
     "name": "stdout",
     "output_type": "stream",
     "text": [
      "R^2 with dasc features: 0.38202260602717586\n",
      "R^2 with basic features: 0.40579981656959496\n",
      "R^2 with combined features: 0.40979757747746537\n"
     ]
    }
   ],
   "source": [
    "for features in ['dasc', \n",
    "                 'basic', 'combined'\n",
    "                ]:\n",
    "    if features == 'dasc':\n",
    "        use_feature = feat_names[6:]\n",
    "    elif features == 'basic':\n",
    "        use_feature = feat_names[:6]\n",
    "    else:\n",
    "        use_feature = feat_names\n",
    "    m = pd.read_pickle(f'results/regression/Oct14_Y_{features}/gb.pkl')\n",
    "    df_test = df_test.dropna()\n",
    "    test_preds = train_reg.test_reg(df_test, m['model'], feat_names=use_feature, outcome_def=outcome_def)\n",
    "    print(f\"R^2 with {features} features: {test_preds['r2']}\")"
   ]
  },
  {
   "cell_type": "markdown",
   "metadata": {},
   "source": [
    "### Max strength prediction"
   ]
  },
  {
   "cell_type": "code",
   "execution_count": 91,
   "metadata": {},
   "outputs": [
    {
     "name": "stderr",
     "output_type": "stream",
     "text": [
      "/accounts/grad/xsli/.local/lib/python3.7/site-packages/pandas/core/series.py:679: RuntimeWarning: invalid value encountered in log\n",
      "  result = getattr(ufunc, method)(*inputs, **kwargs)\n",
      "../src/train_reg.py:81: RuntimeWarning: invalid value encountered in less\n",
      "  sigs = np.array(r[f'{track}_pvals']) < 0.05\n",
      "100%|██████████| 5/5 [16:28<00:00, 182.89s/it]\n"
     ]
    }
   ],
   "source": [
    "train_reg.load_and_train(dset, outcome_def, out_dir, feat_names=feat_names)"
   ]
  },
  {
   "cell_type": "code",
   "execution_count": 14,
   "metadata": {},
   "outputs": [
    {
     "name": "stderr",
     "output_type": "stream",
     "text": [
      "../src/train_reg.py:77: RuntimeWarning: invalid value encountered in less\n",
      "  sig_mean.append(0)\n"
     ]
    }
   ],
   "source": [
    "df = train_reg.add_sig_mean(df)"
   ]
  },
  {
   "cell_type": "code",
   "execution_count": 7,
   "metadata": {},
   "outputs": [],
   "source": [
    "df = df[df.catIdx.isin([1, 2])]\n",
    "df = df[df.lifetime > 15]"
   ]
  },
  {
   "cell_type": "code",
   "execution_count": 12,
   "metadata": {},
   "outputs": [],
   "source": [
    "df = features.add_basic_features(df)\n",
    "df_train = df[df.cell_num.isin(config.DSETS[dset]['train'])] \n",
    "df_test = df[df.cell_num.isin(config.DSETS[dset]['test'])] "
   ]
  },
  {
   "cell_type": "code",
   "execution_count": 94,
   "metadata": {},
   "outputs": [
    {
     "data": {
      "text/plain": [
       "model_type\n",
       "svm       0.148\n",
       "rf        0.196\n",
       "linear    0.200\n",
       "gb        0.225\n",
       "ridge     0.200\n",
       "Name: r2, dtype: float64"
      ]
     },
     "execution_count": 94,
     "metadata": {},
     "output_type": "execute_result"
    }
   ],
   "source": [
    "results = train_reg.load_results(out_dir)\n",
    "r = results\n",
    "r = r[[k for k in r if not 'std' in k]]\n",
    "r = r[[k for k in r if not '_f' in k]]\n",
    "# r = r[r.index.str.contains('ros')] # only use random sampling\n",
    "r['r2']"
   ]
  },
  {
   "cell_type": "code",
   "execution_count": 97,
   "metadata": {},
   "outputs": [],
   "source": [
    "m = pd.read_pickle(f'{out_dir}/gb.pkl')"
   ]
  },
  {
   "cell_type": "code",
   "execution_count": 103,
   "metadata": {},
   "outputs": [],
   "source": [
    "df_test = df_test.dropna()\n",
    "test_preds = train_reg.test_reg(df_test, m['model'], outcome_def=outcome_def)"
   ]
  },
  {
   "cell_type": "code",
   "execution_count": 1,
   "metadata": {},
   "outputs": [
    {
     "ename": "NameError",
     "evalue": "name 'test_preds' is not defined",
     "output_type": "error",
     "traceback": [
      "\u001b[0;31m---------------------------------------------------------------------------\u001b[0m",
      "\u001b[0;31mNameError\u001b[0m                                 Traceback (most recent call last)",
      "\u001b[0;32m<ipython-input-1-1e34ed016a17>\u001b[0m in \u001b[0;36m<module>\u001b[0;34m\u001b[0m\n\u001b[0;32m----> 1\u001b[0;31m \u001b[0mtest_preds\u001b[0m\u001b[0;34m\u001b[0m\u001b[0;34m\u001b[0m\u001b[0m\n\u001b[0m",
      "\u001b[0;31mNameError\u001b[0m: name 'test_preds' is not defined"
     ]
    }
   ],
   "source": [
    "test_preds"
   ]
  },
  {
   "cell_type": "code",
   "execution_count": 3,
   "metadata": {},
   "outputs": [],
   "source": [
    "df = pd.read_pickle('../data/tracks/tracks_clath_aux_dynamin.pkl')"
   ]
  },
  {
   "cell_type": "code",
   "execution_count": 4,
   "metadata": {},
   "outputs": [
    {
     "name": "stderr",
     "output_type": "stream",
     "text": [
      "../src/train_reg.py:82: RuntimeWarning: invalid value encountered in less\n",
      "  sigs = np.array(r[f'{track}_pvals']) < 0.05\n"
     ]
    }
   ],
   "source": [
    "df = train_reg.add_sig_mean(df)"
   ]
  },
  {
   "cell_type": "code",
   "execution_count": 11,
   "metadata": {},
   "outputs": [
    {
     "name": "stderr",
     "output_type": "stream",
     "text": [
      "  0%|          | 1/259739 [00:00<25:07:22,  2.87it/s]/accounts/grad/xsli/.local/lib/python3.7/site-packages/ipykernel_launcher.py:7: RuntimeWarning: invalid value encountered in less\n",
      "  import sys\n",
      "/accounts/grad/xsli/.local/lib/python3.7/site-packages/ipykernel_launcher.py:11: RuntimeWarning: invalid value encountered in less\n",
      "  # This is added back by InteractiveShellApp.init_path()\n",
      "100%|██████████| 259739/259739 [02:52<00:00, 1508.49it/s]\n"
     ]
    },
    {
     "data": {
      "image/png": "[encoded data removed]",
      "text/plain": [
       "<Figure size 576x396 with 1 Axes>"
      ]
     },
     "metadata": {},
     "output_type": "display_data"
    }
   ],
   "source": [
    "df['Z_max'] = [max(z) for z in df['Z']]\n",
    "df['Y_max_sig'] = np.nan\n",
    "df['Z_max_sig'] = np.nan\n",
    "for i in tqdm(range(df.shape[0])):\n",
    "    r = df.iloc[i]\n",
    "    try:\n",
    "        df['Y_max_sig'].iloc[i] = max(np.array(r['Y'])[np.array(r['Y_pvals']) < 0.05])\n",
    "    except:\n",
    "        pass\n",
    "    try:\n",
    "        df['Z_max_sig'].iloc[i] = max(np.array(r['Z'])[np.array(r['Z_pvals']) < 0.05])\n",
    "    except:\n",
    "        pass\n",
    "plt.hist(df['Z_max'], bins=100)\n",
    "plt.axvline(390)\n",
    "plt.show()"
   ]
  },
  {
   "cell_type": "code",
   "execution_count": 168,
   "metadata": {},
   "outputs": [
    {
     "name": "stderr",
     "output_type": "stream",
     "text": [
      "100%|██████████| 43926/43926 [00:20<00:00, 2136.02it/s]\n"
     ]
    }
   ],
   "source": [
    "df = add_dasc_features(df, bins=100, by_cell=True)"
   ]
  },
  {
   "cell_type": "code",
   "execution_count": 178,
   "metadata": {},
   "outputs": [
    {
     "name": "stderr",
     "output_type": "stream",
     "text": [
      "/accounts/grad/xsli/.local/lib/python3.7/site-packages/pandas/core/series.py:679: RuntimeWarning: invalid value encountered in log\n",
      "  result = getattr(ufunc, method)(*inputs, **kwargs)\n",
      "../src/train_reg.py:82: RuntimeWarning: invalid value encountered in less\n",
      "  sigs = np.array(r[f'{track}_pvals']) < 0.05\n"
     ]
    }
   ],
   "source": [
    "df = train_reg.log_transforms(df)\n",
    "df = train_reg.add_sig_mean(df)\n",
    "df_train = df[df.cell_num.isin(config.DSETS[dset]['train'])] \n",
    "df_test = df[df.cell_num.isin(config.DSETS[dset]['test'])] \n",
    "df_train = df_train.dropna()"
   ]
  },
  {
   "cell_type": "code",
   "execution_count": 206,
   "metadata": {},
   "outputs": [],
   "source": [
    "feat_names = ['mean_square_displacement',\n",
    "              'mean_total_displacement',\n",
    "              'X_max',\n",
    "              'X_mean',\n",
    "              'X_std',\n",
    "              'lifetime',\n",
    "              'X_d1',\n",
    "              'X_d2',\n",
    "              'X_d3'\n",
    "             ]"
   ]
  },
  {
   "cell_type": "code",
   "execution_count": 210,
   "metadata": {},
   "outputs": [
    {
     "name": "stderr",
     "output_type": "stream",
     "text": [
      "100%|██████████| 4/4 [08:39<00:00, 101.97s/it]\n"
     ]
    }
   ],
   "source": [
    "out_dir = 'results/regression/Oct14_Z'\n",
    "outcome_def = 'Z_sig_mean'\n",
    "os.makedirs(out_dir, exist_ok=True)\n",
    "for model_type in tqdm(['linear', 'gb', 'rf', 'ridge']):\n",
    "    out_name = f'{model_type}'\n",
    "                        #print(out_name)\n",
    "    #if use_processed and os.path.exists(f'{out_dir}/{out_name}.pkl'):\n",
    "    #    continue\n",
    "    train_reg.train_reg(df_train, feat_names=feat_names, model_type=model_type, \n",
    "                     outcome_def=outcome_def,\n",
    "                     out_name=f'{out_dir}/{out_name}.pkl') "
   ]
  },
  {
   "cell_type": "code",
   "execution_count": 173,
   "metadata": {},
   "outputs": [
    {
     "data": {
      "image/png": "[encoded data removed]",
      "text/plain": [
       "<Figure size 576x396 with 1 Axes>"
      ]
     },
     "metadata": {},
     "output_type": "display_data"
    }
   ],
   "source": [
    "plt.hist(df['X_d1'], bins=50)\n",
    "plt.show()"
   ]
  },
  {
   "cell_type": "code",
   "execution_count": 211,
   "metadata": {},
   "outputs": [
    {
     "data": {
      "text/plain": [
       "model_type\n",
       "linear    0.204\n",
       "rf        0.167\n",
       "gb        0.219\n",
       "ridge     0.204\n",
       "Name: r2, dtype: float64"
      ]
     },
     "execution_count": 211,
     "metadata": {},
     "output_type": "execute_result"
    }
   ],
   "source": [
    "results = train_reg.load_results(out_dir)\n",
    "r = results\n",
    "r = r[[k for k in r if not 'std' in k]]\n",
    "r = r[[k for k in r if not '_f' in k]]\n",
    "# r = r[r.index.str.contains('ros')] # only use random sampling\n",
    "r['r2']"
   ]
  },
  {
   "cell_type": "code",
   "execution_count": 203,
   "metadata": {},
   "outputs": [
    {
     "name": "stderr",
     "output_type": "stream",
     "text": [
      "100%|██████████| 4/4 [05:43<00:00, 67.57s/it]\n"
     ]
    }
   ],
   "source": [
    "feat_names = ['mean_square_displacement',\n",
    "              'mean_total_displacement',\n",
    "              'X_max',\n",
    "              'X_mean',\n",
    "              'X_std',\n",
    "              'lifetime',\n",
    "             ]\n",
    "out_dir = 'results/regression/Oct14_Z2'\n",
    "outcome_def = 'Z_sig_mean'\n",
    "os.makedirs(out_dir, exist_ok=True)\n",
    "for model_type in tqdm(['linear', 'gb', 'rf', 'ridge']):\n",
    "    out_name = f'{model_type}'\n",
    "                        #print(out_name)\n",
    "    #if use_processed and os.path.exists(f'{out_dir}/{out_name}.pkl'):\n",
    "    #    continue\n",
    "    train_reg.train_reg(df_train, feat_names=feat_names, model_type=model_type, \n",
    "                     outcome_def=outcome_def,\n",
    "                     out_name=f'{out_dir}/{out_name}.pkl') "
   ]
  },
  {
   "cell_type": "code",
   "execution_count": 204,
   "metadata": {},
   "outputs": [
    {
     "data": {
      "text/plain": [
       "model_type\n",
       "rf        0.167\n",
       "linear    0.193\n",
       "ridge     0.193\n",
       "gb        0.218\n",
       "Name: r2, dtype: float64"
      ]
     },
     "execution_count": 204,
     "metadata": {},
     "output_type": "execute_result"
    }
   ],
   "source": [
    "results = train_reg.load_results(out_dir)\n",
    "r = results\n",
    "r = r[[k for k in r if not 'std' in k]]\n",
    "r = r[[k for k in r if not '_f' in k]]\n",
    "# r = r[r.index.str.contains('ros')] # only use random sampling\n",
    "r['r2']"
   ]
  },
  {
   "cell_type": "code",
   "execution_count": 212,
   "metadata": {},
   "outputs": [],
   "source": [
    "m = pd.read_pickle('results/regression/Oct14_Z/gb.pkl')\n",
    "df_test = df_test.dropna()\n",
    "test_preds = train_reg.test_reg(df_test, m['model'], feat_names=feat_names, outcome_def=outcome_def)"
   ]
  },
  {
   "cell_type": "code",
   "execution_count": 213,
   "metadata": {},
   "outputs": [
    {
     "data": {
      "text/plain": [
       "{'preds': array([504.83189264, 597.79311845, 357.71997372, ..., 279.30316085,\n",
       "        827.68287023, 473.28020911]),\n",
       " 'r2': 0.27660053385079253,\n",
       " 'pearsonr': (0.5278621312738783, 0.0)}"
      ]
     },
     "execution_count": 213,
     "metadata": {},
     "output_type": "execute_result"
    }
   ],
   "source": [
    "test_preds"
   ]
  },
  {
   "cell_type": "code",
   "execution_count": 205,
   "metadata": {},
   "outputs": [
    {
     "data": {
      "text/plain": [
       "{'preds': array([515.37898705, 588.43487852, 360.31006304, ..., 352.18198644,\n",
       "        939.37737249, 481.11970375]),\n",
       " 'r2': 0.26396074093469224,\n",
       " 'pearsonr': (0.5170522292285932, 0.0)}"
      ]
     },
     "execution_count": 205,
     "metadata": {},
     "output_type": "execute_result"
    }
   ],
   "source": [
    "m = pd.read_pickle('results/regression/Oct14_Z2/gb.pkl')\n",
    "df_test = df_test.dropna()\n",
    "test_preds = train_reg.test_reg(df_test, m['model'], feat_names=feat_names[:6], outcome_def=outcome_def)\n",
    "test_preds"
   ]
  },
  {
   "cell_type": "code",
   "execution_count": null,
   "metadata": {},
   "outputs": [],
   "source": []
  }
 ],
 "metadata": {
  "kernelspec": {
   "display_name": "Python 3",
   "language": "python",
   "name": "python3"
  },
  "language_info": {
   "codemirror_mode": {
    "name": "ipython",
    "version": 3
   },
   "file_extension": ".py",
   "mimetype": "text/x-python",
   "name": "python",
   "nbconvert_exporter": "python",
   "pygments_lexer": "ipython3",
   "version": "3.7.5"
  },
  "pycharm": {
   "stem_cell": {
    "cell_type": "raw",
    "metadata": {
     "collapsed": false
    },
    "source": []
   }
  }
 },
 "nbformat": 4,
 "nbformat_minor": 4
}
