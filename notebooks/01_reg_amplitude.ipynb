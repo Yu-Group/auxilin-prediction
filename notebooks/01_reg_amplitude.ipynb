{
 "cells": [
  {
   "cell_type": "code",
   "execution_count": 24,
   "metadata": {},
   "outputs": [
    {
     "name": "stdout",
     "output_type": "stream",
     "text": [
      "The autoreload extension is already loaded. To reload it, use:\n",
      "  %reload_ext autoreload\n"
     ]
    }
   ],
   "source": [
    "%matplotlib inline\n",
    "%load_ext autoreload\n",
    "%autoreload 2\n",
    "import os\n",
    "from os.path import join as oj\n",
    "import sys\n",
    "sys.path.append('../src')\n",
    "import numpy as np\n",
    "import seaborn as sns\n",
    "import torch\n",
    "from matplotlib import pyplot as plt\n",
    "from sklearn import metrics\n",
    "from sklearn.linear_model import RidgeCV\n",
    "from sklearn.model_selection import train_test_split\n",
    "plt.style.use('dark_background')\n",
    "import data\n",
    "from skorch.callbacks import Checkpoint\n",
    "from skorch import NeuralNetRegressor\n",
    "#import models\n",
    "from tqdm import tqdm\n",
    "import train_reg\n",
    "import config\n",
    "import pandas as pd\n",
    "import features\n",
    "#df = data.get_tracks() # note: different Xs can be different shapes\n",
    "#df = data.remove_invalid_tracks(df)\n",
    "#df = data.preprocess(df)\n",
    "#df = data.add_outcome(df)\n",
    "#n = df.shape[0]"
   ]
  },
  {
   "cell_type": "code",
   "execution_count": 93,
   "metadata": {},
   "outputs": [],
   "source": [
    "dset = 'clath_aux_dynamin'\n",
    "outcome_def = 'Z_sig_mean'\n",
    "out_dir = 'results/regression/Sep15'"
   ]
  },
  {
   "cell_type": "code",
   "execution_count": 87,
   "metadata": {},
   "outputs": [],
   "source": [
    "feat_names = ['mean_square_displacement',\n",
    "              'mean_total_displacement',\n",
    "              'X_max',\n",
    "              'X_mean',\n",
    "              'X_std',\n",
    "              'lifetime'\n",
    "             ]"
   ]
  },
  {
   "cell_type": "markdown",
   "metadata": {},
   "source": [
    "### Max strength prediction"
   ]
  },
  {
   "cell_type": "code",
   "execution_count": 91,
   "metadata": {},
   "outputs": [
    {
     "name": "stderr",
     "output_type": "stream",
     "text": [
      "/accounts/grad/xsli/.local/lib/python3.7/site-packages/pandas/core/series.py:679: RuntimeWarning: invalid value encountered in log\n",
      "  result = getattr(ufunc, method)(*inputs, **kwargs)\n",
      "../src/train_reg.py:81: RuntimeWarning: invalid value encountered in less\n",
      "  sigs = np.array(r[f'{track}_pvals']) < 0.05\n",
      "100%|██████████| 5/5 [16:28<00:00, 182.89s/it]\n"
     ]
    }
   ],
   "source": [
    "train_reg.load_and_train(dset, outcome_def, out_dir, feat_names=feat_names)"
   ]
  },
  {
   "cell_type": "code",
   "execution_count": 14,
   "metadata": {},
   "outputs": [
    {
     "name": "stderr",
     "output_type": "stream",
     "text": [
      "../src/train_reg.py:77: RuntimeWarning: invalid value encountered in less\n",
      "  sig_mean.append(0)\n"
     ]
    }
   ],
   "source": [
    "df = train_reg.add_sig_mean(df)"
   ]
  },
  {
   "cell_type": "code",
   "execution_count": 27,
   "metadata": {},
   "outputs": [],
   "source": [
    "df_train = df[df.cell_num.isin(config.DSETS[dset]['train'])] \n",
    "df_test = df[df.cell_num.isin(config.DSETS[dset]['test'])] "
   ]
  },
  {
   "cell_type": "code",
   "execution_count": 94,
   "metadata": {},
   "outputs": [
    {
     "data": {
      "text/plain": [
       "model_type\n",
       "svm       0.148\n",
       "rf        0.196\n",
       "linear    0.200\n",
       "gb        0.225\n",
       "ridge     0.200\n",
       "Name: r2, dtype: float64"
      ]
     },
     "execution_count": 94,
     "metadata": {},
     "output_type": "execute_result"
    }
   ],
   "source": [
    "results = train_reg.load_results(out_dir)\n",
    "r = results\n",
    "r = r[[k for k in r if not 'std' in k]]\n",
    "r = r[[k for k in r if not '_f' in k]]\n",
    "# r = r[r.index.str.contains('ros')] # only use random sampling\n",
    "r['r2']"
   ]
  },
  {
   "cell_type": "code",
   "execution_count": 97,
   "metadata": {},
   "outputs": [],
   "source": [
    "m = pd.read_pickle(f'{out_dir}/gb.pkl')"
   ]
  },
  {
   "cell_type": "code",
   "execution_count": 103,
   "metadata": {},
   "outputs": [],
   "source": [
    "df_test = df_test.dropna()\n",
    "test_preds = train_reg.test_reg(df_test, m['model'], outcome_def=outcome_def)"
   ]
  },
  {
   "cell_type": "code",
   "execution_count": 104,
   "metadata": {},
   "outputs": [
    {
     "data": {
      "text/plain": [
       "{'preds': array([411.21317406, 516.00478196, 366.25512058, ..., 383.93901524,\n",
       "        799.78401161, 466.74874401]),\n",
       " 'r2': 0.2776157617689128,\n",
       " 'pearsonr': (0.5305645133591516, 0.0)}"
      ]
     },
     "execution_count": 104,
     "metadata": {},
     "output_type": "execute_result"
    }
   ],
   "source": [
    "test_preds"
   ]
  },
  {
   "cell_type": "code",
   "execution_count": null,
   "metadata": {},
   "outputs": [],
   "source": []
  }
 ],
 "metadata": {
  "kernelspec": {
   "display_name": "Python 3",
   "language": "python",
   "name": "python3"
  },
  "language_info": {
   "codemirror_mode": {
    "name": "ipython",
    "version": 3
   },
   "file_extension": ".py",
   "mimetype": "text/x-python",
   "name": "python",
   "nbconvert_exporter": "python",
   "pygments_lexer": "ipython3",
   "version": "3.7.5"
  },
  "pycharm": {
   "stem_cell": {
    "cell_type": "raw",
    "metadata": {
     "collapsed": false
    },
    "source": []
   }
  }
 },
 "nbformat": 4,
 "nbformat_minor": 4
}
