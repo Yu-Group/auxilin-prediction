{
 "cells": [
  {
   "cell_type": "code",
   "execution_count": null,
   "metadata": {},
   "outputs": [],
   "source": [
    "%matplotlib inline\n",
    "%load_ext autoreload\n",
    "%autoreload 2\n",
    "import os\n",
    "from copy import deepcopy\n",
    "import sys\n",
    "sys.path.append('../src')\n",
    "import numpy as np\n",
    "import seaborn as sns\n",
    "from matplotlib import pyplot as plt\n",
    "# plt.style.use('dark_background')\n",
    "import mat4py\n",
    "import data\n",
    "import pickle as pkl\n",
    "from viz import *\n",
    "import viz\n",
    "import trend_filtering"
   ]
  },
  {
   "cell_type": "code",
   "execution_count": null,
   "metadata": {},
   "outputs": [],
   "source": [
    "df = data.get_data(use_processed=True) # all_data=True\n",
    "df = df[df['valid'] == 1] # exclude test cells, short/long tracks, hotspots\n",
    "outcome = 'y_consec_thresh'"
   ]
  },
  {
   "cell_type": "markdown",
   "metadata": {},
   "source": [
    "# load dynamin tracks"
   ]
  },
  {
   "cell_type": "code",
   "execution_count": 4,
   "metadata": {},
   "outputs": [],
   "source": [
    "df = pd.read_pickle('../data/tracks/tracks_clath_aux_dynamin.pkl')"
   ]
  },
  {
   "cell_type": "code",
   "execution_count": null,
   "metadata": {},
   "outputs": [],
   "source": [
    "R, C = 3, 4\n",
    "plt.figure(figsize=(16, 10), dpi=200)\n",
    "lifetime_max = np.max(df.lifetime.values[:R * C])\n",
    "df = df.iloc[range(R * C)]\n",
    "for i in range(R * C):\n",
    "    if i < df.shape[0]:\n",
    "        ax = plt.subplot(R, C, i + 1)\n",
    "        row = df.iloc[i]\n",
    "#         plt.plot(row.X, color=cr, label='clathrin')\n",
    "        plt.plot(row.Y, color='green', label='auxilin')\n",
    "        plt.plot(row.Z, color=cp, label='dynamin')\n",
    "        plt.axhline(642.3754691658837, color='gray', alpha=0.5)\n",
    "        plt.xlim([-1, lifetime_max + 1])\n",
    "        ax.spines()\n",
    "#         plt.ylim([-10, 1e4 + 1])\n",
    "#     plt.axi('off')\n",
    "#         plt.yscale('log')\n",
    "plt.legend()\n",
    "plt.tight_layout()"
   ]
  },
  {
   "cell_type": "code",
   "execution_count": null,
   "metadata": {},
   "outputs": [],
   "source": []
  }
 ],
 "metadata": {
  "kernelspec": {
   "display_name": "Python 3",
   "language": "python",
   "name": "python3"
  },
  "language_info": {
   "codemirror_mode": {
    "name": "ipython",
    "version": 3
   },
   "file_extension": ".py",
   "mimetype": "text/x-python",
   "name": "python",
   "nbconvert_exporter": "python",
   "pygments_lexer": "ipython3",
   "version": "3.7.5"
  },
  "pycharm": {
   "stem_cell": {
    "cell_type": "raw",
    "metadata": {
     "collapsed": false
    },
    "source": []
   }
  }
 },
 "nbformat": 4,
 "nbformat_minor": 4
}
