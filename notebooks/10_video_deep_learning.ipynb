{
 "cells": [
  {
   "cell_type": "code",
   "execution_count": null,
   "metadata": {},
   "outputs": [],
   "source": [
    "%matplotlib inline\n",
    "%load_ext autoreload\n",
    "%autoreload 2\n",
    "import os\n",
    "from os.path import join as oj\n",
    "import sys\n",
    "sys.path.append('../src')\n",
    "import numpy as np\n",
    "import seaborn as sns\n",
    "import torch\n",
    "from matplotlib import pyplot as plt\n",
    "from sklearn import metrics\n",
    "from sklearn.linear_model import RidgeCV\n",
    "from sklearn.model_selection import train_test_split\n",
    "plt.style.use('dark_background')\n",
    "import data\n",
    "from skorch.callbacks import Checkpoint\n",
    "from skorch import NeuralNetRegressor\n",
    "from config import *\n",
    "from tqdm import tqdm\n",
    "import pickle as pkl\n",
    "import train_reg\n",
    "from copy import deepcopy\n",
    "import config\n",
    "import models\n",
    "import pandas as pd\n",
    "import features\n",
    "from scipy.stats import skew, pearsonr\n",
    "import outcomes\n",
    "import neural_networks\n",
    "import load_tracking\n",
    "from sklearn.model_selection import KFold\n",
    "from torch import nn, optim\n",
    "from torch.nn import functional as F\n",
    "from tqdm import tqdm"
   ]
  },
  {
   "cell_type": "code",
   "execution_count": null,
   "metadata": {},
   "outputs": [],
   "source": [
    "dsets = ['clath_aux+gak_a7d2', 'clath_aux+gak', 'clath_aux+gak_a7d2_new', 'clath_aux+gak_new', 'clath_gak']\n",
    "splits = ['train', 'test']\n",
    "#feat_names = ['X_same_length_normalized'] + data.select_final_feats(data.get_feature_names(df))\n",
    "              #['mean_total_displacement', 'mean_square_displacement', 'lifetime']\n",
    "meta = ['cell_num', 'Y_sig_mean', 'Y_sig_mean_normalized']\n",
    "dfs = {}\n",
    "length = 40\n",
    "for dset in tqdm(dsets):\n",
    "    \n",
    "    # load videos\n",
    "    df = data.get_data(dset=dset, use_processed=False, video_data=True)\n",
    "    \n",
    "    # remove invalid tracks\n",
    "    df = df[~(df.short | df.long | df.hotspots)]\n",
    "    \n",
    "    feat_names = ['X_video_same_length_normalized'] + data.select_final_feats(data.get_feature_names(df))\n",
    "    \n",
    "    # downsample tracks\n",
    "    df['X_video_same_length'] = [features.downsample_video(df.iloc[i]['X_video'], length=length)\n",
    "                               for i in range(len(df))]\n",
    "    # normalize tracks\n",
    "    df = features.normalize_video(df, video='X_video_same_length')\n",
    "\n",
    "    # regression response\n",
    "    df = train_reg.add_sig_mean(df)  \n",
    "    \n",
    "    # normalize features\n",
    "    for feat in feat_names:\n",
    "        if 'video' not in feat and 'X_same_length' not in feat:\n",
    "            df = features.normalize_feature(df, feat)\n",
    "    for split in splits:\n",
    "#         df = df[df.valid]\n",
    "#         df = df[df.lifetime > 15] # only keep hard tracks\n",
    "\n",
    "        dfs[(dset, split)] = deepcopy(df[df.cell_num.isin(config.DSETS[dset][split])]) # exclude held-out test data"
   ]
  },
  {
   "cell_type": "code",
   "execution_count": 25,
   "metadata": {},
   "outputs": [
    {
     "data": {
      "text/plain": [
       "True"
      ]
     },
     "execution_count": 25,
     "metadata": {},
     "output_type": "execute_result"
    }
   ],
   "source": [
    "np.array([df['X_video_same_length_normalized'].iloc[i].shape == (40, 10, 10) for i in range(len(df))]).all()"
   ]
  },
  {
   "cell_type": "code",
   "execution_count": null,
   "metadata": {},
   "outputs": [],
   "source": []
  }
 ],
 "metadata": {
  "kernelspec": {
   "display_name": "Python 3",
   "language": "python",
   "name": "python3"
  },
  "language_info": {
   "codemirror_mode": {
    "name": "ipython",
    "version": 3
   },
   "file_extension": ".py",
   "mimetype": "text/x-python",
   "name": "python",
   "nbconvert_exporter": "python",
   "pygments_lexer": "ipython3",
   "version": "3.7.5"
  }
 },
 "nbformat": 4,
 "nbformat_minor": 4
}
