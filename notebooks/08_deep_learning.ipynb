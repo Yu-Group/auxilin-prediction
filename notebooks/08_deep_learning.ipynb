{
 "cells": [
  {
   "cell_type": "code",
   "execution_count": 1,
   "metadata": {},
   "outputs": [
    {
     "name": "stderr",
     "output_type": "stream",
     "text": [
      "/accounts/grad/xsli/.local/lib/python3.7/site-packages/statsmodels/tools/_testing.py:19: FutureWarning: pandas.util.testing is deprecated. Use the functions in the public API at pandas.testing instead.\n",
      "  import pandas.util.testing as tm\n",
      "/accounts/grad/xsli/.local/lib/python3.7/site-packages/sklearn/utils/deprecation.py:143: FutureWarning: The sklearn.metrics.scorer module is  deprecated in version 0.22 and will be removed in version 0.24. The corresponding classes / functions should instead be imported from sklearn.metrics. Anything that cannot be imported from sklearn.metrics is now part of the private API.\n",
      "  warnings.warn(message, FutureWarning)\n"
     ]
    }
   ],
   "source": [
    "%matplotlib inline\n",
    "%load_ext autoreload\n",
    "%autoreload 2\n",
    "import os\n",
    "from os.path import join as oj\n",
    "import sys\n",
    "sys.path.append('../src')\n",
    "import numpy as np\n",
    "import seaborn as sns\n",
    "import torch\n",
    "from matplotlib import pyplot as plt\n",
    "from sklearn import metrics\n",
    "from sklearn.linear_model import RidgeCV\n",
    "from sklearn.model_selection import train_test_split\n",
    "plt.style.use('dark_background')\n",
    "import data\n",
    "from skorch.callbacks import Checkpoint\n",
    "from skorch import NeuralNetRegressor\n",
    "#import models\n",
    "from tqdm import tqdm\n",
    "import train_reg\n",
    "import config\n",
    "import pandas as pd\n",
    "import features\n",
    "from scipy.stats import skew, pearsonr\n",
    "import outcomes\n",
    "from sklearn.model_selection import KFold\n",
    "from torch import nn, optim\n",
    "from torch.nn import functional as F"
   ]
  },
  {
   "cell_type": "code",
   "execution_count": 2,
   "metadata": {},
   "outputs": [],
   "source": [
    "dset = 'clath_aux+gak_a7d2_new'\n",
    "df = data.get_data(dset=dset)"
   ]
  },
  {
   "cell_type": "markdown",
   "metadata": {},
   "source": [
    "## add regression response, downsample tracks"
   ]
  },
  {
   "cell_type": "code",
   "execution_count": 4,
   "metadata": {},
   "outputs": [],
   "source": [
    "length = 40\n",
    "df = train_reg.add_sig_mean(df) # regression response\n",
    "df['X_same_length'] = [features.downsample(df.iloc[i]['X'], length) for i in range(len(df))] # downsampling"
   ]
  },
  {
   "cell_type": "markdown",
   "metadata": {},
   "source": [
    "## extract feature names, get training data"
   ]
  },
  {
   "cell_type": "code",
   "execution_count": 5,
   "metadata": {},
   "outputs": [],
   "source": [
    "feat_names = data.get_feature_names(df)\n",
    "feat_names = [x for x in feat_names \n",
    "                      if not x.startswith('sc_') \n",
    "                      and not x.startswith('nmf_')\n",
    "                      and not x in ['center_max', 'left_max', 'right_max', 'up_max', 'down_max',\n",
    "                                   'X_max_around_Y_peak', 'X_max_after_Y_peak', 'X_quantiles',\n",
    "                                   'X_d1', 'X_d2', 'X_d3', 'slope_end', 'X_same_length'\n",
    "                                   ]\n",
    "                      and not x.startswith('pc_')\n",
    "                      and not 'log' in x\n",
    "                      and not 'binary' in x\n",
    "                     ]"
   ]
  },
  {
   "cell_type": "code",
   "execution_count": 6,
   "metadata": {},
   "outputs": [],
   "source": [
    "df_train = df[df.cell_num.isin(config.DSETS[dset]['train'])] \n",
    "df_train = df_train[df_train.lifetime > 15]\n",
    "df_train_nonna = df_train[feat_names + ['X_same_length', 'cell_num', 'Y_sig_mean']]\n",
    "df_train_nonna = df_train_nonna.dropna() "
   ]
  },
  {
   "cell_type": "markdown",
   "metadata": {},
   "source": [
    "## train fully connected network"
   ]
  },
  {
   "cell_type": "code",
   "execution_count": null,
   "metadata": {},
   "outputs": [
    {
     "name": "stderr",
     "output_type": "stream",
     "text": [
      "0it [00:00, ?it/s]"
     ]
    },
    {
     "name": "stdout",
     "output_type": "stream",
     "text": [
      "Looping over cv...\n",
      "Epoch: 99, Average loss: 1259.0460122699387\n",
      "Epoch: 199, Average loss: 1185.1182229990013\n",
      "Epoch: 299, Average loss: 1095.6385896704237\n",
      "Epoch: 399, Average loss: 1126.8110465116279\n",
      "Epoch: 499, Average loss: 1134.464055143387\n",
      "Epoch: 599, Average loss: 1278.131054715366\n",
      "Epoch: 699, Average loss: 1217.4097321301185\n",
      "Epoch: 799, Average loss: 1041.2802111570838\n",
      "Epoch: 899, Average loss: 1171.6033314310173\n",
      "Epoch: 999, Average loss: 1053.4302593094592\n",
      "Epoch: 1099, Average loss: 1402.9605863889285\n",
      "Epoch: 1199, Average loss: 1022.9412897702954\n",
      "Epoch: 1299, Average loss: 1102.0082304893708\n",
      "Epoch: 1399, Average loss: 1061.5520937366243\n",
      "Epoch: 1499, Average loss: 1187.0803787986874\n",
      "Epoch: 1599, Average loss: 1097.4739442145813\n",
      "Epoch: 1699, Average loss: 1095.2220448708804\n",
      "Epoch: 1799, Average loss: 1098.5336531602227\n",
      "Epoch: 1899, Average loss: 1240.5013910686262\n"
     ]
    },
    {
     "name": "stderr",
     "output_type": "stream",
     "text": [
      "1it [06:52, 412.39s/it]"
     ]
    },
    {
     "name": "stdout",
     "output_type": "stream",
     "text": [
      "Epoch: 1999, Average loss: 1205.6215134113284\n",
      "Epoch: 99, Average loss: 1267.6155188106795\n",
      "Epoch: 199, Average loss: 1211.9478724211165\n",
      "Epoch: 299, Average loss: 1181.5198346480583\n",
      "Epoch: 399, Average loss: 1152.7353326001214\n",
      "Epoch: 499, Average loss: 1153.2442828428398\n",
      "Epoch: 599, Average loss: 1129.4239608616506\n",
      "Epoch: 699, Average loss: 1126.9722485588593\n",
      "Epoch: 799, Average loss: 1119.879257054005\n",
      "Epoch: 899, Average loss: 1102.3409246055826\n",
      "Epoch: 999, Average loss: 1094.0667949787621\n",
      "Epoch: 1099, Average loss: 1102.6873008950242\n",
      "Epoch: 1199, Average loss: 1094.686608768204\n",
      "Epoch: 1299, Average loss: 1086.8673676425972\n",
      "Epoch: 1399, Average loss: 1083.0529808859224\n",
      "Epoch: 1499, Average loss: 1084.8435983009708\n",
      "Epoch: 1599, Average loss: 1068.981179839199\n",
      "Epoch: 1699, Average loss: 1066.926843143204\n",
      "Epoch: 1799, Average loss: 1066.3060243476941\n",
      "Epoch: 1899, Average loss: 1060.7195084951456\n"
     ]
    },
    {
     "name": "stderr",
     "output_type": "stream",
     "text": [
      "2it [13:16, 403.85s/it]"
     ]
    },
    {
     "name": "stdout",
     "output_type": "stream",
     "text": [
      "Epoch: 1999, Average loss: 1044.2140378489078\n",
      "Epoch: 99, Average loss: 1364.1400693456615\n",
      "Epoch: 199, Average loss: 1165.868492176387\n",
      "Epoch: 299, Average loss: 1146.9291073968704\n",
      "Epoch: 399, Average loss: 1061.1225195590328\n",
      "Epoch: 499, Average loss: 1087.953582859175\n",
      "Epoch: 599, Average loss: 1098.3107574679943\n",
      "Epoch: 699, Average loss: 1139.6662606685634\n",
      "Epoch: 799, Average loss: 1092.4548364153627\n",
      "Epoch: 899, Average loss: 1161.7917140825036\n",
      "Epoch: 999, Average loss: 1092.8023026315789\n",
      "Epoch: 1099, Average loss: 1081.3455280938833\n",
      "Epoch: 1199, Average loss: 1060.8385401849218\n",
      "Epoch: 1299, Average loss: 1220.363140113798\n",
      "Epoch: 1399, Average loss: 1163.4191056187767\n",
      "Epoch: 1499, Average loss: 1035.7920963726885\n",
      "Epoch: 1599, Average loss: 1105.3858819345662\n",
      "Epoch: 1699, Average loss: 1150.7081614509245\n",
      "Epoch: 1799, Average loss: 1069.8715771692746\n",
      "Epoch: 1899, Average loss: 1120.8740220483642\n"
     ]
    },
    {
     "name": "stderr",
     "output_type": "stream",
     "text": [
      "3it [20:11, 407.16s/it]"
     ]
    },
    {
     "name": "stdout",
     "output_type": "stream",
     "text": [
      "Epoch: 1999, Average loss: 1356.9432521337126\n",
      "Epoch: 99, Average loss: 1030.2488153413299\n",
      "Epoch: 199, Average loss: 976.2895657485562\n",
      "Epoch: 299, Average loss: 937.5574837109433\n",
      "Epoch: 399, Average loss: 922.4308733155634\n",
      "Epoch: 499, Average loss: 902.8825892196061\n",
      "Epoch: 599, Average loss: 895.0217773582111\n",
      "Epoch: 699, Average loss: 887.1019361765142\n",
      "Epoch: 799, Average loss: 881.2299533540648\n",
      "Epoch: 899, Average loss: 872.0272101288316\n",
      "Epoch: 999, Average loss: 868.9848308159336\n",
      "Epoch: 1099, Average loss: 866.5247760254701\n",
      "Epoch: 1199, Average loss: 860.3408392566267\n",
      "Epoch: 1299, Average loss: 851.3931956167629\n",
      "Epoch: 1399, Average loss: 849.8450225825559\n",
      "Epoch: 1499, Average loss: 845.1835480527174\n",
      "Epoch: 1599, Average loss: 842.5392140530134\n",
      "Epoch: 1699, Average loss: 837.9510402783948\n",
      "Epoch: 1799, Average loss: 832.7760624907448\n",
      "Epoch: 1899, Average loss: 830.7766733303716\n"
     ]
    },
    {
     "name": "stderr",
     "output_type": "stream",
     "text": [
      "4it [26:44, 402.90s/it]"
     ]
    },
    {
     "name": "stdout",
     "output_type": "stream",
     "text": [
      "Epoch: 1999, Average loss: 824.399590922553\n",
      "Epoch: 99, Average loss: 1164.928923371084\n",
      "Epoch: 199, Average loss: 1111.0277154728637\n",
      "Epoch: 299, Average loss: 1074.8692362847478\n",
      "Epoch: 399, Average loss: 1051.8179787468746\n",
      "Epoch: 499, Average loss: 1037.2908791734078\n",
      "Epoch: 599, Average loss: 1028.4694440358876\n",
      "Epoch: 699, Average loss: 1023.0489961759082\n",
      "Epoch: 799, Average loss: 1013.4586520076482\n",
      "Epoch: 899, Average loss: 1009.1502610678041\n",
      "Epoch: 999, Average loss: 1004.6890351522283\n",
      "Epoch: 1099, Average loss: 996.7651492866598\n",
      "Epoch: 1199, Average loss: 992.1894212384174\n",
      "Epoch: 1299, Average loss: 987.0425338285042\n",
      "Epoch: 1399, Average loss: 980.6314715399324\n",
      "Epoch: 1499, Average loss: 979.8364097661421\n",
      "Epoch: 1599, Average loss: 970.7187362112076\n",
      "Epoch: 1699, Average loss: 961.6552893807913\n",
      "Epoch: 1799, Average loss: 967.4446058243859\n",
      "Epoch: 1899, Average loss: 952.0199477864392\n"
     ]
    },
    {
     "name": "stderr",
     "output_type": "stream",
     "text": [
      "5it [33:17, 399.94s/it]"
     ]
    },
    {
     "name": "stdout",
     "output_type": "stream",
     "text": [
      "Epoch: 1999, Average loss: 948.6257537873216\n",
      "Epoch: 99, Average loss: 1277.5727480834753\n",
      "Epoch: 199, Average loss: 1216.1740310902896\n",
      "Epoch: 299, Average loss: 1158.460311967632\n",
      "Epoch: 399, Average loss: 1195.922558205565\n",
      "Epoch: 499, Average loss: 1130.9667891113004\n",
      "Epoch: 599, Average loss: 1134.2415974588303\n",
      "Epoch: 699, Average loss: 1110.2924297274276\n",
      "Epoch: 799, Average loss: 1054.9545446479274\n",
      "Epoch: 899, Average loss: 1103.170038330494\n",
      "Epoch: 999, Average loss: 1192.5332197614991\n",
      "Epoch: 1099, Average loss: 1053.8106899488928\n",
      "Epoch: 1199, Average loss: 1082.7428219051676\n",
      "Epoch: 1299, Average loss: 1069.918609809767\n",
      "Epoch: 1399, Average loss: 1081.7548889125496\n",
      "Epoch: 1499, Average loss: 1057.5871841283363\n",
      "Epoch: 1599, Average loss: 1059.6614494605337\n",
      "Epoch: 1699, Average loss: 1099.167305508234\n",
      "Epoch: 1799, Average loss: 1136.995838657013\n",
      "Epoch: 1899, Average loss: 1033.194962024418\n"
     ]
    },
    {
     "name": "stderr",
     "output_type": "stream",
     "text": [
      "6it [40:08, 403.49s/it]"
     ]
    },
    {
     "name": "stdout",
     "output_type": "stream",
     "text": [
      "Epoch: 1999, Average loss: 1192.8589224872233\n",
      "Epoch: 99, Average loss: 1263.8684864827007\n",
      "Epoch: 199, Average loss: 1229.7576691413362\n",
      "Epoch: 299, Average loss: 1201.404197016389\n",
      "Epoch: 399, Average loss: 1130.5830648550218\n",
      "Epoch: 499, Average loss: 1133.6304454405379\n",
      "Epoch: 599, Average loss: 1110.3781779661017\n",
      "Epoch: 699, Average loss: 1111.517229303824\n",
      "Epoch: 799, Average loss: 1134.5860239529345\n",
      "Epoch: 899, Average loss: 1112.335778820563\n",
      "Epoch: 999, Average loss: 1101.6599401176636\n",
      "Epoch: 1099, Average loss: 1131.1528575430732\n",
      "Epoch: 1199, Average loss: 1118.1939784983892\n",
      "Epoch: 1299, Average loss: 1133.1182501050566\n",
      "Epoch: 1399, Average loss: 1101.0188051547836\n",
      "Epoch: 1499, Average loss: 1126.0994361955456\n",
      "Epoch: 1599, Average loss: 1090.3355336881916\n",
      "Epoch: 1699, Average loss: 1096.3968255357893\n",
      "Epoch: 1799, Average loss: 1063.6780011206051\n",
      "Epoch: 1899, Average loss: 1057.5742313349208\n"
     ]
    },
    {
     "name": "stderr",
     "output_type": "stream",
     "text": [
      "7it [47:08, 408.34s/it]"
     ]
    },
    {
     "name": "stdout",
     "output_type": "stream",
     "text": [
      "Epoch: 1999, Average loss: 1056.257599103516\n",
      "Epoch: 99, Average loss: 1255.0078614008942\n",
      "Epoch: 199, Average loss: 1199.517976900149\n",
      "Epoch: 299, Average loss: 1157.1555141579731\n",
      "Epoch: 399, Average loss: 1128.9180234724292\n",
      "Epoch: 499, Average loss: 1123.42185171386\n",
      "Epoch: 599, Average loss: 1117.2181725037258\n",
      "Epoch: 699, Average loss: 1108.9489474664679\n",
      "Epoch: 799, Average loss: 1099.1657786885246\n",
      "Epoch: 899, Average loss: 1086.558830104322\n"
     ]
    }
   ],
   "source": [
    "out_dir = f'results/regression/deep_learning/Dec4'\n",
    "os.makedirs(out_dir, exist_ok=True)\n",
    "outcome_def = 'Y_sig_mean'\n",
    "train_reg.train_reg(df_train_nonna, \n",
    "                    feat_names=['X_same_length'] + feat_names,#['lifetime', 'X_max', 'mean_square_displacement'], \n",
    "                    model_type='fcnn', \n",
    "                    outcome_def=outcome_def,\n",
    "                    out_name=oj(out_dir, f'{dset}_{outcome_def}_fcnn.pkl'),\n",
    "                    fcnn_hidden_neurons=20,\n",
    "                    fcnn_epochs=2000)"
   ]
  },
  {
   "cell_type": "code",
   "execution_count": null,
   "metadata": {},
   "outputs": [],
   "source": []
  }
 ],
 "metadata": {
  "kernelspec": {
   "display_name": "Python 3",
   "language": "python",
   "name": "python3"
  },
  "language_info": {
   "codemirror_mode": {
    "name": "ipython",
    "version": 3
   },
   "file_extension": ".py",
   "mimetype": "text/x-python",
   "name": "python",
   "nbconvert_exporter": "python",
   "pygments_lexer": "ipython3",
   "version": "3.7.5"
  }
 },
 "nbformat": 4,
 "nbformat_minor": 4
}
