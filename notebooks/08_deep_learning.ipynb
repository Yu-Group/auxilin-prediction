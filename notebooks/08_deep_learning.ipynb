{
 "cells": [
  {
   "cell_type": "code",
   "execution_count": 66,
   "metadata": {},
   "outputs": [
    {
     "name": "stdout",
     "output_type": "stream",
     "text": [
      "The autoreload extension is already loaded. To reload it, use:\n",
      "  %reload_ext autoreload\n"
     ]
    }
   ],
   "source": [
    "%matplotlib inline\n",
    "%load_ext autoreload\n",
    "%autoreload 2\n",
    "import os\n",
    "from os.path import join as oj\n",
    "import sys\n",
    "sys.path.append('../src')\n",
    "import numpy as np\n",
    "import seaborn as sns\n",
    "import torch\n",
    "from matplotlib import pyplot as plt\n",
    "from sklearn import metrics\n",
    "from sklearn.linear_model import RidgeCV\n",
    "from sklearn.model_selection import train_test_split\n",
    "plt.style.use('dark_background')\n",
    "import data\n",
    "from skorch.callbacks import Checkpoint\n",
    "from skorch import NeuralNetRegressor\n",
    "from config import *\n",
    "from tqdm import tqdm\n",
    "import pickle as pkl\n",
    "import train_reg\n",
    "from copy import deepcopy\n",
    "import config\n",
    "import models\n",
    "import pandas as pd\n",
    "import features\n",
    "from scipy.stats import skew, pearsonr\n",
    "import outcomes\n",
    "import neural_networks\n",
    "from sklearn.model_selection import KFold\n",
    "from torch import nn, optim\n",
    "from torch.nn import functional as F"
   ]
  },
  {
   "cell_type": "markdown",
   "metadata": {},
   "source": [
    "# prepare data"
   ]
  },
  {
   "cell_type": "code",
   "execution_count": 121,
   "metadata": {},
   "outputs": [
    {
     "name": "stderr",
     "output_type": "stream",
     "text": [
      "\n",
      "\n",
      "  0%|          | 0/5 [00:00<?, ?it/s]\u001b[A\u001b[A\n",
      "\n",
      " 20%|██        | 1/5 [00:03<00:14,  3.66s/it]\u001b[A\u001b[A\n",
      "\n",
      " 40%|████      | 2/5 [00:06<00:09,  3.29s/it]\u001b[A\u001b[A../src/train_reg.py:83: RuntimeWarning: invalid value encountered in less\n",
      "  sigs = np.array(r[f'{track}_pvals']) < 0.05\n",
      "../src/train_reg.py:83: RuntimeWarning: invalid value encountered in less\n",
      "  sigs = np.array(r[f'{track}_pvals']) < 0.05\n",
      "\n",
      "\n",
      " 60%|██████    | 3/5 [00:16<00:11,  5.50s/it]\u001b[A\u001b[A\n",
      "\n",
      " 80%|████████  | 4/5 [00:21<00:05,  5.20s/it]\u001b[A\u001b[A\n",
      "\n",
      "100%|██████████| 5/5 [00:25<00:00,  5.00s/it]\u001b[A\u001b[A"
     ]
    }
   ],
   "source": [
    "# currently trained only on 'clath_aux+gak_a7d2_new'\n",
    "dsets = ['clath_aux+gak_a7d2', 'clath_aux+gak', 'clath_aux+gak_a7d2_new', 'clath_aux+gak_new', 'clath_gak']\n",
    "splits = ['train', 'test']\n",
    "#feat_names = ['X_same_length_normalized'] + data.select_final_feats(data.get_feature_names(df))\n",
    "              #['mean_total_displacement', 'mean_square_displacement', 'lifetime']\n",
    "meta = ['cell_num', 'Y_sig_mean', 'Y_sig_mean_normalized']\n",
    "dfs = {}\n",
    "for dset in tqdm(dsets):\n",
    "    for split in splits:\n",
    "        df = data.get_data(dset=dset)\n",
    "        df = df[~(df.short | df.long | df.hotspots)]\n",
    "#         df = df[df.valid]\n",
    "#         df = df[df.lifetime > 15] # only keep hard tracks\n",
    "        df = df[df.cell_num.isin(config.DSETS[dset][split])] # exclude held-out test data\n",
    "        feat_names = ['X_same_length_normalized'] + data.select_final_feats(data.get_feature_names(df))\n",
    "\n",
    "        # downsample tracks\n",
    "        length = 40\n",
    "        df['X_same_length'] = [features.downsample(df.iloc[i]['X'], length)\n",
    "                               for i in range(len(df))] # downsampling\n",
    "        # normalize tracks\n",
    "        df = features.normalize_track(df, track='X_same_length')\n",
    "\n",
    "        # regression response\n",
    "        df = train_reg.add_sig_mean(df)     \n",
    "\n",
    "        # remove extraneous feats\n",
    "        # df = df[feat_names + meta]\n",
    "#         df = df.dropna() \n",
    "\n",
    "        # normalize features\n",
    "        for feat in feat_names:\n",
    "            if 'X_same_length' not in feat:\n",
    "                df = features.normalize_feature(df, feat)\n",
    "\n",
    "        dfs[(dset, split)] = deepcopy(df)\n",
    "        # merge all dsets\n",
    "    #     if df_full is None:\n",
    "    #         df_full = deepcopy(df)\n",
    "    #     else:\n",
    "    #         df_full = df_full.merge(df)"
   ]
  },
  {
   "cell_type": "markdown",
   "metadata": {},
   "source": [
    "## train neural net"
   ]
  },
  {
   "cell_type": "code",
   "execution_count": 102,
   "metadata": {},
   "outputs": [
    {
     "name": "stdout",
     "output_type": "stream",
     "text": [
      "['mar19_2', 'maxconv', 'aug19_binary1', 'mar19_1', 'clips', 'dec12_deep_H=80', 'dec8_1', 'dec10_deep', 'apr28_1', 'dec13_deep_best', 'may7_1', 'dec10_cnn', 'may6_1', 'mar19_3', 'dec12_deep', 'dec12_deep_H=20', 'nov16', 'dec10_lstm']\n"
     ]
    }
   ],
   "source": [
    "df_train = dfs[('clath_aux+gak_a7d2_new', 'train')]\n",
    "print(os.listdir(DIR_RESULTS))\n",
    "out_dir = f'{DIR_RESULTS}/dec13_deep_best'\n",
    "# out_dir = f'results/regression/deep_learning/Dec11'"
   ]
  },
  {
   "cell_type": "code",
   "execution_count": null,
   "metadata": {},
   "outputs": [],
   "source": [
    "os.makedirs(out_dir, exist_ok=True)\n",
    "outcome_def = 'Y_sig_mean_normalized'\n",
    "num_epochs = 100\n",
    "num_hidden = 40\n",
    "for model_type in ['nn_lstm']: #['nn_cnn', 'fcnn', 'nn_lstm']: # = 'nn_cnn' # 'nn_lstm', 'fcnn', 'nn_cnn', 'nn_attention'\n",
    "    train_reg.train_reg(df_train,\n",
    "                        feat_names=feat_names,\n",
    "                        track_name='X_same_length_normalized',\n",
    "                        model_type=model_type, \n",
    "                        outcome_def=outcome_def,\n",
    "                        out_name=oj(out_dir, f'{dset}_{outcome_def}_{model_type}_{num_epochs}_{num_hidden}.pkl'),\n",
    "                        fcnn_hidden_neurons=num_hidden,\n",
    "                        fcnn_epochs=num_epochs)"
   ]
  },
  {
   "cell_type": "markdown",
   "metadata": {},
   "source": [
    "# analyze results"
   ]
  },
  {
   "cell_type": "code",
   "execution_count": 23,
   "metadata": {},
   "outputs": [
    {
     "name": "stdout",
     "output_type": "stream",
     "text": [
      "{'r2': [0.3410249004640089, 0.3208547273943092, 0.4126897499403642, 0.3594438570984312, 0.36538168636939417, 0.408612136123226, 0.3859741881617027, 0.4261156649998624], 'pearsonr': [0.5854548719270554, 0.56699047930762, 0.6433357214073335, 0.601086041946158, 0.6045239439241363, 0.6392560386371637, 0.6236078945096376, 0.6549200084527723]}\n",
      "dict_keys(['r2', 'pearsonr'])\n"
     ]
    },
    {
     "data": {
      "text/html": [
       "<div>\n",
       "<style scoped>\n",
       "    .dataframe tbody tr th:only-of-type {\n",
       "        vertical-align: middle;\n",
       "    }\n",
       "\n",
       "    .dataframe tbody tr th {\n",
       "        vertical-align: top;\n",
       "    }\n",
       "\n",
       "    .dataframe thead th {\n",
       "        text-align: right;\n",
       "    }\n",
       "</style>\n",
       "<table border=\"1\" class=\"dataframe\">\n",
       "  <thead>\n",
       "    <tr style=\"text-align: right;\">\n",
       "      <th></th>\n",
       "      <th>pearsonr</th>\n",
       "      <th>r2</th>\n",
       "    </tr>\n",
       "    <tr>\n",
       "      <th>model_type</th>\n",
       "      <th></th>\n",
       "      <th></th>\n",
       "    </tr>\n",
       "  </thead>\n",
       "  <tbody>\n",
       "    <tr>\n",
       "      <th>clath_aux+gak_a7d2_new_Y_sig_mean_normalized_nn_lstm_100_40</th>\n",
       "      <td>0.615</td>\n",
       "      <td>0.377</td>\n",
       "    </tr>\n",
       "  </tbody>\n",
       "</table>\n",
       "</div>"
      ],
      "text/plain": [
       "                                                    pearsonr     r2\n",
       "model_type                                                         \n",
       "clath_aux+gak_a7d2_new_Y_sig_mean_normalized_nn...     0.615  0.377"
      ]
     },
     "execution_count": 23,
     "metadata": {},
     "output_type": "execute_result"
    }
   ],
   "source": [
    "results = train_reg.load_results(out_dir)\n",
    "r = results\n",
    "r = r[[k for k in r if not 'std' in k]]\n",
    "r = r[[k for k in r if not '_f' in k]]\n",
    "# r = r[r.index.str.contains('ros')] # only use random sampling\n",
    "r = r.sort_values(by=['r2'], ascending=False)\n",
    "# r.style.background_gradient(cmap='viridis', axis=None) # all values on same cmap\n",
    "r[['pearsonr', 'r2']]"
   ]
  },
  {
   "cell_type": "markdown",
   "metadata": {},
   "source": [
    "# transfer to classification"
   ]
  },
  {
   "cell_type": "code",
   "execution_count": 131,
   "metadata": {},
   "outputs": [
    {
     "data": {
      "text/plain": [
       "<All keys matched successfully>"
      ]
     },
     "execution_count": 131,
     "metadata": {},
     "output_type": "execute_result"
    }
   ],
   "source": [
    "results = pkl.load(open('../models/clath_aux+gak_a7d2_new_Y_sig_mean_normalized_nn_lstm_100_40.pkl', 'rb'))\n",
    "dnn = neural_networks.neural_net_sklearn(D_in=40, H=40, p=17, arch='lstm')\n",
    "dnn.model.load_state_dict(results['model_state_dict'])"
   ]
  },
  {
   "cell_type": "code",
   "execution_count": null,
   "metadata": {},
   "outputs": [],
   "source": [
    "R = 2\n",
    "C = len(dfs) // 2 - 1\n",
    "\n",
    "# exclude the training data\n",
    "ds = {(k, v): dfs[(k, v)]\n",
    "      for (k, v) in dfs.keys()\n",
    "      if not k == 'clath_aux+gak_a7d2_new'}\n",
    "\n",
    "\n",
    "plt.figure(dpi=200, figsize=(C * 3, R * 3))\n",
    "for i, (k, v) in enumerate(ds.keys()):\n",
    "    df = ds[(k, v)]\n",
    "    X = df[feat_names]\n",
    "    y = df['y_consec_thresh']\n",
    "    preds = dnn.predict(X)\n",
    "    \n",
    "    plt.subplot(R, C, i + 1)\n",
    "    y_pred = (preds > 0).astype(int)\n",
    "    acc = np.mean(y_pred == y)\n",
    "    print(k, v, np.mean(y), acc)\n",
    "    plt.title(f'{k} {v} {acc:0.2f}', fontsize=10)\n",
    "    plt.hist(preds[y==0], alpha=1, label='aux-')\n",
    "    plt.hist(preds[y==1], alpha=0.5, label='aux+')\n",
    "    plt.yscale('log')\n",
    "    plt.xlabel('pred')\n",
    "    \n",
    "    if i == 0:\n",
    "        plt.legend()"
   ]
  },
  {
   "cell_type": "code",
   "execution_count": null,
   "metadata": {},
   "outputs": [],
   "source": [
    "R = 2\n",
    "C = len(dfs) // 2 - 1\n",
    "\n",
    "# exclude the training data\n",
    "ds = {(k, v): dfs[(k, v)]\n",
    "      for (k, v) in dfs.keys()\n",
    "      if not k == 'clath_aux+gak_a7d2_new'}\n",
    "\n",
    "\n",
    "plt.figure(dpi=200, figsize=(C * 3, R * 3))\n",
    "for i, (k, v) in enumerate(ds.keys()):\n",
    "    df = ds[(k, v)]\n",
    "    X = df[feat_names]\n",
    "    y = df['y_consec_thresh']\n",
    "    preds = dnn.predict(X)\n",
    "    \n",
    "    plt.subplot(R, C, i + 1)\n",
    "    plt.plot(preds, df['Y_sig_mean_normalized'], '.')\n",
    "    plt.xlabel('pred')\n",
    "    plt.ylabel('aux_sig_mean')"
   ]
  },
  {
   "cell_type": "markdown",
   "metadata": {},
   "source": [
    "# interpretation"
   ]
  },
  {
   "cell_type": "code",
   "execution_count": null,
   "metadata": {},
   "outputs": [],
   "source": [
    "df = dfs[('clath_aux+gak_a7d2', 'train')]\n",
    "X = df[feat_names]\n",
    "y = df['y_consec_thresh']\n",
    "acc_orig = np.mean((dnn.predict(X) > 0) == y)\n",
    "np.random.seed(13)\n",
    "\n",
    "imps = {feat_name: [] for feat_name in feat_names}\n",
    "reps = 3\n",
    "for feat_name in tqdm(feat_names):\n",
    "    for r in range(reps):\n",
    "        X_copy = deepcopy(X)\n",
    "        X_copy[feat_name] = np.random.permutation(X_copy[feat_name].values)\n",
    "        acc = np.mean((dnn.predict(X_copy) > 0) == y)\n",
    "        imps[feat_name].append(acc_orig - acc)"
   ]
  },
  {
   "cell_type": "code",
   "execution_count": null,
   "metadata": {},
   "outputs": [],
   "source": [
    "100 * pd.DataFrame.from_dict(imps).mean().sort_values(ascending=False)"
   ]
  }
 ],
 "metadata": {
  "kernelspec": {
   "display_name": "Python 3",
   "language": "python",
   "name": "python3"
  },
  "language_info": {
   "codemirror_mode": {
    "name": "ipython",
    "version": 3
   },
   "file_extension": ".py",
   "mimetype": "text/x-python",
   "name": "python",
   "nbconvert_exporter": "python",
   "pygments_lexer": "ipython3",
   "version": "3.7.5"
  }
 },
 "nbformat": 4,
 "nbformat_minor": 4
}
