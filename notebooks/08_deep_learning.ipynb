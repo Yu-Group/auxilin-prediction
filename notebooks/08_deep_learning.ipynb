{
 "cells": [
  {
   "cell_type": "code",
   "execution_count": 86,
   "metadata": {},
   "outputs": [
    {
     "name": "stdout",
     "output_type": "stream",
     "text": [
      "The autoreload extension is already loaded. To reload it, use:\n",
      "  %reload_ext autoreload\n"
     ]
    }
   ],
   "source": [
    "%matplotlib inline\n",
    "%load_ext autoreload\n",
    "%autoreload 2\n",
    "import os\n",
    "from os.path import join as oj\n",
    "import sys\n",
    "sys.path.append('../src')\n",
    "import numpy as np\n",
    "import seaborn as sns\n",
    "import torch\n",
    "from matplotlib import pyplot as plt\n",
    "from sklearn import metrics\n",
    "from sklearn.linear_model import RidgeCV\n",
    "from sklearn.model_selection import train_test_split\n",
    "plt.style.use('dark_background')\n",
    "import data\n",
    "from skorch.callbacks import Checkpoint\n",
    "from skorch import NeuralNetRegressor\n",
    "from config import *\n",
    "from tqdm import tqdm\n",
    "import train_reg\n",
    "import config\n",
    "import pandas as pd\n",
    "import features\n",
    "from scipy.stats import skew, pearsonr\n",
    "import outcomes\n",
    "from sklearn.model_selection import KFold\n",
    "from torch import nn, optim\n",
    "from torch.nn import functional as F"
   ]
  },
  {
   "cell_type": "markdown",
   "metadata": {},
   "source": [
    "# prepare data"
   ]
  },
  {
   "cell_type": "code",
   "execution_count": 196,
   "metadata": {},
   "outputs": [
    {
     "name": "stderr",
     "output_type": "stream",
     "text": [
      "../src/train_reg.py:83: RuntimeWarning: invalid value encountered in less\n",
      "  sigs = np.array(r[f'{track}_pvals']) < 0.05\n"
     ]
    }
   ],
   "source": [
    "dsets = ['clath_aux+gak_a7d2_new'] # this is one of the large datasets\n",
    "#feat_names = ['X_same_length_normalized'] + data.select_final_feats(data.get_feature_names(df))\n",
    "              #['mean_total_displacement', 'mean_square_displacement', 'lifetime']\n",
    "meta = ['cell_num', 'Y_sig_mean', 'Y_sig_mean_normalized']\n",
    "df_full = None\n",
    "for dset in dsets:\n",
    "    df = data.get_data(dset=dset)\n",
    "    df = df[df.lifetime > 15] # only keep hard tracks\n",
    "    df = df[df.cell_num.isin(config.DSETS[dset]['train'])] # exclude held-out test data\n",
    "    feat_names = ['X_same_length_normalized'] + data.select_final_feats(data.get_feature_names(df))\n",
    "    \n",
    "    # downsample tracks\n",
    "    length = 40\n",
    "    df['X_same_length'] = [features.downsample(df.iloc[i]['X'], length)\n",
    "                           for i in range(len(df))] # downsampling\n",
    "    # normalize tracks\n",
    "    df = features.normalize_track(df, track='X_same_length')\n",
    "    \n",
    "    # regression response\n",
    "    df = train_reg.add_sig_mean(df)     \n",
    "    \n",
    "    # remove extraneous feats\n",
    "    df = df[feat_names + meta]\n",
    "    df = df.dropna() \n",
    "    \n",
    "    # normalize features\n",
    "    for feat in feat_names:\n",
    "        if 'X_same_length' not in feat:\n",
    "            df = features.normalize_feature(df, feat)\n",
    "    \n",
    "    # merge all dsets\n",
    "#     if df_full is None:\n",
    "#         df_full = deepcopy(df)\n",
    "#     else:\n",
    "#         df_full = df_full.merge(df)"
   ]
  },
  {
   "cell_type": "markdown",
   "metadata": {},
   "source": [
    "## train neural net"
   ]
  },
  {
   "cell_type": "code",
   "execution_count": 198,
   "metadata": {},
   "outputs": [],
   "source": [
    "# decide on architecture\n",
    "#out_dir = f'{DIR_RESULTS}/dec10_deep'\n",
    "out_dir = f'results/regression/deep_learning/Dec11'"
   ]
  },
  {
   "cell_type": "code",
   "execution_count": null,
   "metadata": {},
   "outputs": [
    {
     "name": "stderr",
     "output_type": "stream",
     "text": [
      "\r",
      "0it [00:00, ?it/s]"
     ]
    },
    {
     "name": "stdout",
     "output_type": "stream",
     "text": [
      "Looping over cv...\n",
      "fitting dnn...\n"
     ]
    },
    {
     "name": "stderr",
     "output_type": "stream",
     "text": [
      "\r",
      "1it [05:12, 312.85s/it]"
     ]
    },
    {
     "name": "stdout",
     "output_type": "stream",
     "text": [
      "0.35479134591952133\n",
      "fitting dnn...\n"
     ]
    },
    {
     "name": "stderr",
     "output_type": "stream",
     "text": [
      "\r",
      "2it [10:06, 307.01s/it]"
     ]
    },
    {
     "name": "stdout",
     "output_type": "stream",
     "text": [
      "0.4103771348252616\n",
      "fitting dnn...\n"
     ]
    },
    {
     "name": "stderr",
     "output_type": "stream",
     "text": [
      "\r",
      "3it [15:21, 309.50s/it]"
     ]
    },
    {
     "name": "stdout",
     "output_type": "stream",
     "text": [
      "0.43377543675050234\n",
      "fitting dnn...\n"
     ]
    },
    {
     "name": "stderr",
     "output_type": "stream",
     "text": [
      "\r",
      "4it [20:22, 307.06s/it]"
     ]
    },
    {
     "name": "stdout",
     "output_type": "stream",
     "text": [
      "0.3394764714616395\n",
      "fitting dnn...\n"
     ]
    },
    {
     "name": "stderr",
     "output_type": "stream",
     "text": [
      "\r",
      "5it [25:32, 307.85s/it]"
     ]
    },
    {
     "name": "stdout",
     "output_type": "stream",
     "text": [
      "0.3004298821318502\n",
      "fitting dnn...\n"
     ]
    }
   ],
   "source": [
    "os.makedirs(out_dir, exist_ok=True)\n",
    "outcome_def = 'Y_sig_mean_normalized'\n",
    "num_epochs = 200\n",
    "num_hidden = 40\n",
    "for model_type in ['nn_cnn', 'fcnn']: # = 'nn_cnn' # 'nn_lstm', 'fcnn', 'nn_cnn', 'nn_attention'\n",
    "    train_reg.train_reg(df,\n",
    "                        feat_names=feat_names,\n",
    "                        track_name='X_same_length_normalized',\n",
    "                        model_type=model_type, \n",
    "                        outcome_def=outcome_def,\n",
    "                        out_name=oj(out_dir, f'{dset}_{outcome_def}_{model_type}_{num_epochs}_{num_hidden}.pkl'),\n",
    "                        fcnn_hidden_neurons=num_hidden,\n",
    "                        fcnn_epochs=num_epochs)"
   ]
  },
  {
   "cell_type": "markdown",
   "metadata": {},
   "source": [
    "# analyze results"
   ]
  },
  {
   "cell_type": "code",
   "execution_count": 204,
   "metadata": {},
   "outputs": [
    {
     "name": "stdout",
     "output_type": "stream",
     "text": [
      "{'r2': [0.35292968297812044, 0.41321238194309773, 0.4213124728107559, 0.34441119955718824, 0.3079348229670724, 0.33056927360656363, 0.40911555853457926, 0.3668184848391457], 'pearsonr': [0.5966738886061014, 0.6432680373493718, 0.6535560424380565, 0.587823062433223, 0.5581190719310201, 0.5772658447895979, 0.6398673829480921, 0.6081436611725487]}\n",
      "dict_keys(['r2', 'pearsonr'])\n",
      "{'r2': [0.3657887428322416, 0.4122538569014256, 0.4263862191200558, 0.36088525550063644, 0.3197916085025576, 0.34020802664287686, 0.4069579726894177, 0.3861140929989211], 'pearsonr': [0.6048387155814439, 0.6427490157692443, 0.6548975467904691, 0.6019669761449945, 0.5661079070233239, 0.5850302582256015, 0.6383533969995763, 0.6234599944148711]}\n",
      "dict_keys(['r2', 'pearsonr'])\n",
      "{'r2': [0.3453869748471894, 0.4074891206827066, 0.4197802515063189, 0.32252513243006153, 0.2724102411905601, 0.32948402443986513, 0.4097043441717406, 0.368706918317809], 'pearsonr': [0.589113214445168, 0.6405624654427993, 0.6508771489214968, 0.5684381791265567, 0.544389136658045, 0.5757320272377455, 0.6415066765955653, 0.6147574169702245]}\n",
      "dict_keys(['r2', 'pearsonr'])\n"
     ]
    },
    {
     "data": {
      "text/html": [
       "<div>\n",
       "<style scoped>\n",
       "    .dataframe tbody tr th:only-of-type {\n",
       "        vertical-align: middle;\n",
       "    }\n",
       "\n",
       "    .dataframe tbody tr th {\n",
       "        vertical-align: top;\n",
       "    }\n",
       "\n",
       "    .dataframe thead th {\n",
       "        text-align: right;\n",
       "    }\n",
       "</style>\n",
       "<table border=\"1\" class=\"dataframe\">\n",
       "  <thead>\n",
       "    <tr style=\"text-align: right;\">\n",
       "      <th></th>\n",
       "      <th>cv_accuracy_by_cell</th>\n",
       "      <th>pearsonr</th>\n",
       "      <th>r2</th>\n",
       "    </tr>\n",
       "    <tr>\n",
       "      <th>model_type</th>\n",
       "      <th></th>\n",
       "      <th></th>\n",
       "      <th></th>\n",
       "    </tr>\n",
       "  </thead>\n",
       "  <tbody>\n",
       "    <tr>\n",
       "      <th>clath_aux+gak_a7d2_new_Y_sig_mean_normalized_nn_lstm</th>\n",
       "      <td>[0.3657887428322416, 0.4122538569014256, 0.426...</td>\n",
       "      <td>0.614</td>\n",
       "      <td>0.377</td>\n",
       "    </tr>\n",
       "    <tr>\n",
       "      <th>clath_aux+gak_a7d2_new_Y_sig_mean_normalized_nn_cnn</th>\n",
       "      <td>[0.35292968297812044, 0.41321238194309773, 0.4...</td>\n",
       "      <td>0.607</td>\n",
       "      <td>0.368</td>\n",
       "    </tr>\n",
       "    <tr>\n",
       "      <th>clath_aux+gak_a7d2_new_Y_sig_mean_normalized_fcnn</th>\n",
       "      <td>[0.3453869748471894, 0.4074891206827066, 0.419...</td>\n",
       "      <td>0.602</td>\n",
       "      <td>0.358</td>\n",
       "    </tr>\n",
       "  </tbody>\n",
       "</table>\n",
       "</div>"
      ],
      "text/plain": [
       "                                                                                  cv_accuracy_by_cell  \\\n",
       "model_type                                                                                              \n",
       "clath_aux+gak_a7d2_new_Y_sig_mean_normalized_nn...  [0.3657887428322416, 0.4122538569014256, 0.426...   \n",
       "clath_aux+gak_a7d2_new_Y_sig_mean_normalized_nn...  [0.35292968297812044, 0.41321238194309773, 0.4...   \n",
       "clath_aux+gak_a7d2_new_Y_sig_mean_normalized_fcnn   [0.3453869748471894, 0.4074891206827066, 0.419...   \n",
       "\n",
       "                                                    pearsonr     r2  \n",
       "model_type                                                           \n",
       "clath_aux+gak_a7d2_new_Y_sig_mean_normalized_nn...     0.614  0.377  \n",
       "clath_aux+gak_a7d2_new_Y_sig_mean_normalized_nn...     0.607  0.368  \n",
       "clath_aux+gak_a7d2_new_Y_sig_mean_normalized_fcnn      0.602  0.358  "
      ]
     },
     "execution_count": 204,
     "metadata": {},
     "output_type": "execute_result"
    }
   ],
   "source": [
    "results = train_reg.load_results(out_dir)\n",
    "r = results\n",
    "r = r[[k for k in r if not 'std' in k]]\n",
    "r = r[[k for k in r if not '_f' in k]]\n",
    "# r = r[r.index.str.contains('ros')] # only use random sampling\n",
    "r = r.sort_values(by=['r2'], ascending=False)\n",
    "# r.style.background_gradient(cmap='viridis', axis=None) # all values on same cmap\n",
    "r"
   ]
  },
  {
   "cell_type": "code",
   "execution_count": null,
   "metadata": {},
   "outputs": [],
   "source": []
  }
 ],
 "metadata": {
  "kernelspec": {
   "display_name": "Python 3",
   "language": "python",
   "name": "python3"
  },
  "language_info": {
   "codemirror_mode": {
    "name": "ipython",
    "version": 3
   },
   "file_extension": ".py",
   "mimetype": "text/x-python",
   "name": "python",
   "nbconvert_exporter": "python",
   "pygments_lexer": "ipython3",
   "version": "3.7.5"
  }
 },
 "nbformat": 4,
 "nbformat_minor": 4
}
