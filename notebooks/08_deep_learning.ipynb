{
 "cells": [
  {
   "cell_type": "code",
   "execution_count": 9,
   "metadata": {},
   "outputs": [
    {
     "name": "stdout",
     "output_type": "stream",
     "text": [
      "The autoreload extension is already loaded. To reload it, use:\n",
      "  %reload_ext autoreload\n"
     ]
    }
   ],
   "source": [
    "%matplotlib inline\n",
    "%load_ext autoreload\n",
    "%autoreload 2\n",
    "import os\n",
    "from os.path import join as oj\n",
    "import sys\n",
    "sys.path.append('../src')\n",
    "import numpy as np\n",
    "import seaborn as sns\n",
    "import torch\n",
    "from matplotlib import pyplot as plt\n",
    "from sklearn import metrics\n",
    "from sklearn.linear_model import RidgeCV\n",
    "from sklearn.model_selection import train_test_split\n",
    "plt.style.use('dark_background')\n",
    "import data\n",
    "from skorch.callbacks import Checkpoint\n",
    "from skorch import NeuralNetRegressor\n",
    "from config import *\n",
    "from tqdm import tqdm\n",
    "import train_reg\n",
    "import config\n",
    "import pandas as pd\n",
    "import features\n",
    "from scipy.stats import skew, pearsonr\n",
    "import outcomes\n",
    "from sklearn.model_selection import KFold\n",
    "from torch import nn, optim\n",
    "from torch.nn import functional as F"
   ]
  },
  {
   "cell_type": "markdown",
   "metadata": {},
   "source": [
    "# prepare data"
   ]
  },
  {
   "cell_type": "code",
   "execution_count": 40,
   "metadata": {},
   "outputs": [
    {
     "name": "stderr",
     "output_type": "stream",
     "text": [
      "../src/train_reg.py:83: RuntimeWarning: invalid value encountered in less\n",
      "  sigs = np.array(r[f'{track}_pvals']) < 0.05\n"
     ]
    }
   ],
   "source": [
    "dsets = ['clath_aux+gak_a7d2_new'] # this is one of the large datasets\n",
    "feat_names = ['X_same_length', 'mean_total_displacement',\n",
    "              'mean_square_displacement', 'lifetime']\n",
    "meta = ['cell_num', 'Y_sig_mean']\n",
    "df_full = None\n",
    "for dset in dsets:\n",
    "    df = data.get_data(dset=dset)\n",
    "    df = df[df.lifetime > 15] # only keep hard tracks\n",
    "    df = df[df.cell_num.isin(config.DSETS[dset]['train'])] # exclude held-out test data\n",
    "    \n",
    "    # downsample tracks\n",
    "    length = 40\n",
    "    df['X_same_length'] = [features.downsample(df.iloc[i]['X'], length)\n",
    "                           for i in range(len(df))] # downsampling\n",
    "\n",
    "    # regression response\n",
    "    df = train_reg.add_sig_mean(df)     \n",
    "    \n",
    "    # remove extraneous feats\n",
    "    df = df[feat_names + meta]\n",
    "    df = df.dropna() \n",
    "    \n",
    "    # merge all dsets\n",
    "#     if df_full is None:\n",
    "#         df_full = deepcopy(df)\n",
    "#     else:\n",
    "#         df_full = df_full.merge(df)"
   ]
  },
  {
   "cell_type": "markdown",
   "metadata": {},
   "source": [
    "## train neural net"
   ]
  },
  {
   "cell_type": "code",
   "execution_count": 36,
   "metadata": {},
   "outputs": [],
   "source": [
    "# decide on architecture\n",
    "out_dir = f'{DIR_RESULTS}/dec10_deep'\n",
    "# out_dir = f'results/regression/deep_learning/Dec4'"
   ]
  },
  {
   "cell_type": "code",
   "execution_count": 37,
   "metadata": {},
   "outputs": [
    {
     "name": "stderr",
     "output_type": "stream",
     "text": [
      "100%|██████████| 100/100 [00:37<00:00,  2.75it/s]\n"
     ]
    }
   ],
   "source": [
    "os.makedirs(out_dir, exist_ok=True)\n",
    "outcome_def = 'Y_sig_mean'\n",
    "num_epochs = 100\n",
    "num_hidden = 20\n",
    "for model_type in [ 'nn_lstm', 'fcnn', 'nn_cnn']: # = 'nn_cnn' # 'nn_lstm', 'fcnn', 'nn_cnn', 'nn_attention'\n",
    "    train_reg.train_reg(df,\n",
    "                        feat_names=feat_names,\n",
    "                        model_type=model_type, \n",
    "                        outcome_def=outcome_def,\n",
    "                        out_name=oj(out_dir, f'{dset}_{outcome_def}_{model_type}.pkl'),\n",
    "                        fcnn_hidden_neurons=num_hidden,\n",
    "                        fcnn_epochs=num_epochs)"
   ]
  },
  {
   "cell_type": "markdown",
   "metadata": {},
   "source": [
    "# analyze results"
   ]
  },
  {
   "cell_type": "code",
   "execution_count": null,
   "metadata": {},
   "outputs": [],
   "source": [
    "results = train_reg.load_results(out_dir)\n",
    "r = results\n",
    "r = r[[k for k in r if not 'std' in k]]\n",
    "r = r[[k for k in r if not '_f' in k]]\n",
    "# r = r[r.index.str.contains('ros')] # only use random sampling\n",
    "r = r.sort_values(by=['r2'], ascending=False)\n",
    "# r.style.background_gradient(cmap='viridis', axis=None) # all values on same cmap\n",
    "r"
   ]
  },
  {
   "cell_type": "code",
   "execution_count": null,
   "metadata": {},
   "outputs": [],
   "source": []
  }
 ],
 "metadata": {
  "kernelspec": {
   "display_name": "Python 3",
   "language": "python",
   "name": "python3"
  },
  "language_info": {
   "codemirror_mode": {
    "name": "ipython",
    "version": 3
   },
   "file_extension": ".py",
   "mimetype": "text/x-python",
   "name": "python",
   "nbconvert_exporter": "python",
   "pygments_lexer": "ipython3",
   "version": "3.7.5"
  }
 },
 "nbformat": 4,
 "nbformat_minor": 4
}
