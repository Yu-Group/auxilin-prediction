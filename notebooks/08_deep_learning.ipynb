{
 "cells": [
  {
   "cell_type": "code",
   "execution_count": 86,
   "metadata": {},
   "outputs": [
    {
     "name": "stdout",
     "output_type": "stream",
     "text": [
      "The autoreload extension is already loaded. To reload it, use:\n",
      "  %reload_ext autoreload\n"
     ]
    }
   ],
   "source": [
    "%matplotlib inline\n",
    "%load_ext autoreload\n",
    "%autoreload 2\n",
    "import os\n",
    "from os.path import join as oj\n",
    "import sys\n",
    "sys.path.append('../src')\n",
    "import numpy as np\n",
    "import seaborn as sns\n",
    "import torch\n",
    "from matplotlib import pyplot as plt\n",
    "from sklearn import metrics\n",
    "from sklearn.linear_model import RidgeCV\n",
    "from sklearn.model_selection import train_test_split\n",
    "plt.style.use('dark_background')\n",
    "import data\n",
    "from skorch.callbacks import Checkpoint\n",
    "from skorch import NeuralNetRegressor\n",
    "from config import *\n",
    "from tqdm import tqdm\n",
    "import train_reg\n",
    "import config\n",
    "import pandas as pd\n",
    "import features\n",
    "from scipy.stats import skew, pearsonr\n",
    "import outcomes\n",
    "from sklearn.model_selection import KFold\n",
    "from torch import nn, optim\n",
    "from torch.nn import functional as F"
   ]
  },
  {
   "cell_type": "markdown",
   "metadata": {},
   "source": [
    "# prepare data"
   ]
  },
  {
   "cell_type": "code",
   "execution_count": 174,
   "metadata": {},
   "outputs": [
    {
     "name": "stderr",
     "output_type": "stream",
     "text": [
      "../src/train_reg.py:83: RuntimeWarning: invalid value encountered in less\n",
      "  sigs = np.array(r[f'{track}_pvals']) < 0.05\n"
     ]
    }
   ],
   "source": [
    "dsets = ['clath_aux+gak_a7d2_new'] # this is one of the large datasets\n",
    "feat_names = ['X_same_length_normalized', 'mean_total_displacement',\n",
    "              'mean_square_displacement', 'lifetime']\n",
    "meta = ['cell_num', 'Y_sig_mean', 'Y_sig_mean_normalized']\n",
    "df_full = None\n",
    "for dset in dsets:\n",
    "    df = data.get_data(dset=dset)\n",
    "    df = df[df.lifetime > 15] # only keep hard tracks\n",
    "    df = df[df.cell_num.isin(config.DSETS[dset]['train'])] # exclude held-out test data\n",
    "    \n",
    "    # downsample tracks\n",
    "    length = 40\n",
    "    df['X_same_length'] = [features.downsample(df.iloc[i]['X'], length)\n",
    "                           for i in range(len(df))] # downsampling\n",
    "    \n",
    "    # normalize features/tracks\n",
    "    df = features.normalize_track(df, track='X_same_length')\n",
    "    for feat in feat_names[1:]:\n",
    "        df = features.normalize_feature(df, feat)\n",
    "\n",
    "    # regression response\n",
    "    df = train_reg.add_sig_mean(df)     \n",
    "    \n",
    "    # remove extraneous feats\n",
    "    df = df[feat_names + meta]\n",
    "    df = df.dropna() \n",
    "    \n",
    "    # merge all dsets\n",
    "#     if df_full is None:\n",
    "#         df_full = deepcopy(df)\n",
    "#     else:\n",
    "#         df_full = df_full.merge(df)"
   ]
  },
  {
   "cell_type": "markdown",
   "metadata": {},
   "source": [
    "## train neural net"
   ]
  },
  {
   "cell_type": "code",
   "execution_count": 83,
   "metadata": {},
   "outputs": [],
   "source": [
    "# decide on architecture\n",
    "#out_dir = f'{DIR_RESULTS}/dec10_deep'\n",
    "#out_dir = f'results/regression/deep_learning/Dec10'"
   ]
  },
  {
   "cell_type": "code",
   "execution_count": 170,
   "metadata": {},
   "outputs": [
    {
     "name": "stderr",
     "output_type": "stream",
     "text": [
      "\r",
      "0it [00:00, ?it/s]"
     ]
    },
    {
     "name": "stdout",
     "output_type": "stream",
     "text": [
      "Looping over cv...\n",
      "fitting dnn...\n"
     ]
    },
    {
     "name": "stderr",
     "output_type": "stream",
     "text": [
      "\r",
      "1it [07:33, 453.70s/it]"
     ]
    },
    {
     "name": "stdout",
     "output_type": "stream",
     "text": [
      "0.35182113105726776\n",
      "fitting dnn...\n"
     ]
    },
    {
     "name": "stderr",
     "output_type": "stream",
     "text": [
      "\r",
      "2it [14:32, 443.14s/it]"
     ]
    },
    {
     "name": "stdout",
     "output_type": "stream",
     "text": [
      "0.4015514160392738\n",
      "fitting dnn...\n"
     ]
    },
    {
     "name": "stderr",
     "output_type": "stream",
     "text": [
      "\r",
      "3it [21:50, 441.76s/it]"
     ]
    },
    {
     "name": "stdout",
     "output_type": "stream",
     "text": [
      "0.400747189612112\n",
      "fitting dnn...\n"
     ]
    },
    {
     "name": "stderr",
     "output_type": "stream",
     "text": [
      "\r",
      "4it [29:27, 446.19s/it]"
     ]
    },
    {
     "name": "stdout",
     "output_type": "stream",
     "text": [
      "0.33849530559320296\n",
      "fitting dnn...\n"
     ]
    },
    {
     "name": "stderr",
     "output_type": "stream",
     "text": [
      "\r",
      "5it [37:31, 457.45s/it]"
     ]
    },
    {
     "name": "stdout",
     "output_type": "stream",
     "text": [
      "0.30469280129626386\n",
      "fitting dnn...\n"
     ]
    },
    {
     "name": "stderr",
     "output_type": "stream",
     "text": [
      "\r",
      "6it [45:33, 465.01s/it]"
     ]
    },
    {
     "name": "stdout",
     "output_type": "stream",
     "text": [
      "0.3157889507198859\n",
      "fitting dnn...\n"
     ]
    },
    {
     "name": "stderr",
     "output_type": "stream",
     "text": [
      "\r",
      "7it [53:49, 474.35s/it]"
     ]
    },
    {
     "name": "stdout",
     "output_type": "stream",
     "text": [
      "0.39279609947230987\n",
      "fitting dnn...\n"
     ]
    },
    {
     "name": "stderr",
     "output_type": "stream",
     "text": [
      "8it [1:01:26, 460.80s/it]"
     ]
    },
    {
     "name": "stdout",
     "output_type": "stream",
     "text": [
      "0.37963092609616433\n",
      "Training with full data...\n",
      "fitting dnn...\n"
     ]
    },
    {
     "name": "stderr",
     "output_type": "stream",
     "text": [
      "\n"
     ]
    }
   ],
   "source": [
    "os.makedirs(out_dir, exist_ok=True)\n",
    "outcome_def = 'Y_sig_mean_normalized'\n",
    "num_epochs = 100\n",
    "num_hidden = 40\n",
    "for model_type in ['nn_lstm']: # = 'nn_cnn' # 'nn_lstm', 'fcnn', 'nn_cnn', 'nn_attention'\n",
    "    train_reg.train_reg(df,\n",
    "                        feat_names=feat_names,\n",
    "                        track_name='X_same_length_normalized',\n",
    "                        model_type=model_type, \n",
    "                        outcome_def=outcome_def,\n",
    "                        out_name=oj(out_dir, f'{dset}_{outcome_def}_{model_type}.pkl'),\n",
    "                        fcnn_hidden_neurons=num_hidden,\n",
    "                        fcnn_epochs=num_epochs)"
   ]
  },
  {
   "cell_type": "code",
   "execution_count": null,
   "metadata": {},
   "outputs": [],
   "source": []
  },
  {
   "cell_type": "markdown",
   "metadata": {},
   "source": [
    "# analyze results"
   ]
  },
  {
   "cell_type": "code",
   "execution_count": 173,
   "metadata": {},
   "outputs": [
    {
     "name": "stdout",
     "output_type": "stream",
     "text": [
      "{'r2': [0.31163279314100656, 0.3453041601512681, 0.39706460939750887, 0.30246224065343696, 0.2809839933189948, 0.3054622017270293, 0.3570558211887991, 0.338949112417699], 'pearsonr': [0.5583629549382731, 0.5883389359726974, 0.6325927541751527, 0.5525102004287371, 0.5316454577400022, 0.5539241225633553, 0.5989862186629875, 0.5835063679131884]}\n",
      "dict_keys(['r2', 'pearsonr'])\n",
      "{'r2': [0.33521232098052733, 0.3889407525530788, 0.41655853395869635, 0.3315478305412497, 0.2878354054474871, 0.3134636081493648, 0.40023319427487514, 0.3650294111763208], 'pearsonr': [0.581252573324601, 0.623760069904918, 0.6471940871096604, 0.5815456321990675, 0.5450916045150992, 0.5623113039255007, 0.6326850791058214, 0.606304709982837]}\n",
      "dict_keys(['r2', 'pearsonr'])\n",
      "{'r2': [0.35182113105726776, 0.4015514160392738, 0.400747189612112, 0.33849530559320296, 0.30469280129626386, 0.3157889507198859, 0.39279609947230987, 0.37963092609616433], 'pearsonr': [0.5996547919485246, 0.6348907684608562, 0.6479268746710987, 0.5849324739000701, 0.5553632322937401, 0.5664975959663905, 0.6273828252006216, 0.6190734824708478]}\n",
      "dict_keys(['r2', 'pearsonr'])\n"
     ]
    },
    {
     "data": {
      "text/html": [
       "<div>\n",
       "<style scoped>\n",
       "    .dataframe tbody tr th:only-of-type {\n",
       "        vertical-align: middle;\n",
       "    }\n",
       "\n",
       "    .dataframe tbody tr th {\n",
       "        vertical-align: top;\n",
       "    }\n",
       "\n",
       "    .dataframe thead th {\n",
       "        text-align: right;\n",
       "    }\n",
       "</style>\n",
       "<table border=\"1\" class=\"dataframe\">\n",
       "  <thead>\n",
       "    <tr style=\"text-align: right;\">\n",
       "      <th></th>\n",
       "      <th>cv_accuracy_by_cell</th>\n",
       "      <th>pearsonr</th>\n",
       "      <th>r2</th>\n",
       "    </tr>\n",
       "    <tr>\n",
       "      <th>model_type</th>\n",
       "      <th></th>\n",
       "      <th></th>\n",
       "      <th></th>\n",
       "    </tr>\n",
       "  </thead>\n",
       "  <tbody>\n",
       "    <tr>\n",
       "      <th>clath_aux+gak_a7d2_new_Y_sig_mean_normalized_nn_lstm</th>\n",
       "      <td>[0.35182113105726776, 0.4015514160392738, 0.40...</td>\n",
       "      <td>0.604</td>\n",
       "      <td>0.361</td>\n",
       "    </tr>\n",
       "    <tr>\n",
       "      <th>clath_aux+gak_a7d2_new_Y_sig_mean_normalized_fcnn</th>\n",
       "      <td>[0.33521232098052733, 0.3889407525530788, 0.41...</td>\n",
       "      <td>0.597</td>\n",
       "      <td>0.354</td>\n",
       "    </tr>\n",
       "    <tr>\n",
       "      <th>clath_aux+gak_a7d2_new_Y_sig_mean_normalized_nn_cnn</th>\n",
       "      <td>[0.31163279314100656, 0.3453041601512681, 0.39...</td>\n",
       "      <td>0.574</td>\n",
       "      <td>0.328</td>\n",
       "    </tr>\n",
       "  </tbody>\n",
       "</table>\n",
       "</div>"
      ],
      "text/plain": [
       "                                                                                  cv_accuracy_by_cell  \\\n",
       "model_type                                                                                              \n",
       "clath_aux+gak_a7d2_new_Y_sig_mean_normalized_nn...  [0.35182113105726776, 0.4015514160392738, 0.40...   \n",
       "clath_aux+gak_a7d2_new_Y_sig_mean_normalized_fcnn   [0.33521232098052733, 0.3889407525530788, 0.41...   \n",
       "clath_aux+gak_a7d2_new_Y_sig_mean_normalized_nn...  [0.31163279314100656, 0.3453041601512681, 0.39...   \n",
       "\n",
       "                                                    pearsonr     r2  \n",
       "model_type                                                           \n",
       "clath_aux+gak_a7d2_new_Y_sig_mean_normalized_nn...     0.604  0.361  \n",
       "clath_aux+gak_a7d2_new_Y_sig_mean_normalized_fcnn      0.597  0.354  \n",
       "clath_aux+gak_a7d2_new_Y_sig_mean_normalized_nn...     0.574  0.328  "
      ]
     },
     "execution_count": 173,
     "metadata": {},
     "output_type": "execute_result"
    }
   ],
   "source": [
    "results = train_reg.load_results(out_dir)\n",
    "r = results\n",
    "r = r[[k for k in r if not 'std' in k]]\n",
    "r = r[[k for k in r if not '_f' in k]]\n",
    "# r = r[r.index.str.contains('ros')] # only use random sampling\n",
    "r = r.sort_values(by=['r2'], ascending=False)\n",
    "# r.style.background_gradient(cmap='viridis', axis=None) # all values on same cmap\n",
    "r"
   ]
  }
 ],
 "metadata": {
  "kernelspec": {
   "display_name": "Python 3",
   "language": "python",
   "name": "python3"
  },
  "language_info": {
   "codemirror_mode": {
    "name": "ipython",
    "version": 3
   },
   "file_extension": ".py",
   "mimetype": "text/x-python",
   "name": "python",
   "nbconvert_exporter": "python",
   "pygments_lexer": "ipython3",
   "version": "3.7.5"
  }
 },
 "nbformat": 4,
 "nbformat_minor": 4
}
