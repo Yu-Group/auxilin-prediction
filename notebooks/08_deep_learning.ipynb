{
 "cells": [
  {
   "cell_type": "code",
   "execution_count": 9,
   "metadata": {},
   "outputs": [
    {
     "name": "stdout",
     "output_type": "stream",
     "text": [
      "The autoreload extension is already loaded. To reload it, use:\n",
      "  %reload_ext autoreload\n"
     ]
    }
   ],
   "source": [
    "%matplotlib inline\n",
    "%load_ext autoreload\n",
    "%autoreload 2\n",
    "import os\n",
    "from os.path import join as oj\n",
    "import sys\n",
    "sys.path.append('../src')\n",
    "import numpy as np\n",
    "import seaborn as sns\n",
    "import torch\n",
    "from matplotlib import pyplot as plt\n",
    "from sklearn import metrics\n",
    "from sklearn.linear_model import RidgeCV\n",
    "from sklearn.model_selection import train_test_split\n",
    "plt.style.use('dark_background')\n",
    "import data\n",
    "from skorch.callbacks import Checkpoint\n",
    "from skorch import NeuralNetRegressor\n",
    "from config import *\n",
    "from tqdm import tqdm\n",
    "import train_reg\n",
    "import config\n",
    "import pandas as pd\n",
    "import features\n",
    "from scipy.stats import skew, pearsonr\n",
    "import outcomes\n",
    "from sklearn.model_selection import KFold\n",
    "from torch import nn, optim\n",
    "from torch.nn import functional as F"
   ]
  },
  {
   "cell_type": "markdown",
   "metadata": {},
   "source": [
    "# prepare data"
   ]
  },
  {
   "cell_type": "code",
   "execution_count": 40,
   "metadata": {},
   "outputs": [
    {
     "name": "stderr",
     "output_type": "stream",
     "text": [
      "../src/train_reg.py:83: RuntimeWarning: invalid value encountered in less\n",
      "  sigs = np.array(r[f'{track}_pvals']) < 0.05\n"
     ]
    }
   ],
   "source": [
    "dsets = ['clath_aux+gak_a7d2_new'] # this is one of the large datasets\n",
    "feat_names = ['X_same_length', 'mean_total_displacement',\n",
    "              'mean_square_displacement', 'lifetime']\n",
    "meta = ['cell_num', 'Y_sig_mean']\n",
    "df_full = None\n",
    "for dset in dsets:\n",
    "    df = data.get_data(dset=dset)\n",
    "    df = df[df.lifetime > 15] # only keep hard tracks\n",
    "    df = df[df.cell_num.isin(config.DSETS[dset]['train'])] # exclude held-out test data\n",
    "    \n",
    "    # downsample tracks\n",
    "    length = 40\n",
    "    df['X_same_length'] = [features.downsample(df.iloc[i]['X'], length)\n",
    "                           for i in range(len(df))] # downsampling\n",
    "\n",
    "    # regression response\n",
    "    df = train_reg.add_sig_mean(df)     \n",
    "    \n",
    "    # remove extraneous feats\n",
    "    df = df[feat_names + meta]\n",
    "    df = df.dropna() \n",
    "    \n",
    "    # merge all dsets\n",
    "#     if df_full is None:\n",
    "#         df_full = deepcopy(df)\n",
    "#     else:\n",
    "#         df_full = df_full.merge(df)"
   ]
  },
  {
   "cell_type": "markdown",
   "metadata": {},
   "source": [
    "## train neural net"
   ]
  },
  {
   "cell_type": "code",
   "execution_count": 36,
   "metadata": {},
   "outputs": [],
   "source": [
    "# decide on architecture\n",
    "out_dir = f'{DIR_RESULTS}/dec10_deep'\n",
    "# out_dir = f'results/regression/deep_learning/Dec4'"
   ]
  },
  {
   "cell_type": "code",
   "execution_count": 37,
   "metadata": {},
   "outputs": [
    {
     "name": "stderr",
     "output_type": "stream",
     "text": [
      "100%|██████████| 100/100 [00:37<00:00,  2.75it/s]\n"
     ]
    }
   ],
   "source": [
    "os.makedirs(out_dir, exist_ok=True)\n",
    "outcome_def = 'Y_sig_mean'\n",
    "num_epochs = 100\n",
    "num_hidden = 20\n",
    "for model_type in [ 'nn_lstm', 'fcnn', 'nn_cnn']: # = 'nn_cnn' # 'nn_lstm', 'fcnn', 'nn_cnn', 'nn_attention'\n",
    "    train_reg.train_reg(df,\n",
    "                        feat_names=feat_names,\n",
    "                        model_type=model_type, \n",
    "                        outcome_def=outcome_def,\n",
    "                        out_name=oj(out_dir, f'{dset}_{outcome_def}_{model_type}.pkl'),\n",
    "                        fcnn_hidden_neurons=num_hidden,\n",
    "                        fcnn_epochs=num_epochs)"
   ]
  },
  {
   "cell_type": "markdown",
   "metadata": {},
   "source": [
    "# analyze results"
   ]
  },
  {
   "cell_type": "code",
   "execution_count": 39,
   "metadata": {},
   "outputs": [
    {
     "name": "stdout",
     "output_type": "stream",
     "text": [
      "{'r2': [0.22065207252390961, 0.2563547629913744, 0.2880939093918967, 0.27601263002905874, 0.2537535676394833, 0.3583728130619288, 0.24911720548590122, 0.31005096646270314], 'pearsonr': [0.5935782428833882, 0.5775870631014847, 0.5602878898534248, 0.557773593167131, 0.5274713289435491, 0.600967953128585, 0.6345618685257912, 0.5626297095474697]}\n",
      "dict_keys(['r2', 'pearsonr'])\n",
      "{'r2': [-1.7804643716601247, -1.2376744635106083, -1.374558865574127, -0.733147571663531, -1.0138287542827298, -0.6223858838549365, -0.6202399539165495, -0.9802613520405998], 'pearsonr': [0.3174476193625304, 0.376058913381081, 0.33957780906042495, 0.36184644668071425, 0.3295159842852877, 0.40571672197074904, 0.4008338563746303, 0.3442416390508416]}\n",
      "dict_keys(['r2', 'pearsonr'])\n",
      "{'r2': [-1.7746432990748389, 0.22588681400214916, 0.2718245622728861, 0.25046333440540247, 0.2486752821555649, 0.36035165809677605, 0.1670131832803008, 0.30054097815271763], 'pearsonr': [0.502593821195028, 0.5800764476672919, 0.5566928944684711, 0.5559867406284895, 0.5257345287155694, 0.6026702141690338, 0.6170537973535383, 0.55271056769834]}\n",
      "dict_keys(['r2', 'pearsonr'])\n"
     ]
    },
    {
     "data": {
      "text/html": [
       "<div>\n",
       "<style scoped>\n",
       "    .dataframe tbody tr th:only-of-type {\n",
       "        vertical-align: middle;\n",
       "    }\n",
       "\n",
       "    .dataframe tbody tr th {\n",
       "        vertical-align: top;\n",
       "    }\n",
       "\n",
       "    .dataframe thead th {\n",
       "        text-align: right;\n",
       "    }\n",
       "</style>\n",
       "<table border=\"1\" class=\"dataframe\">\n",
       "  <thead>\n",
       "    <tr style=\"text-align: right;\">\n",
       "      <th></th>\n",
       "      <th>cv_accuracy_by_cell</th>\n",
       "      <th>pearsonr</th>\n",
       "      <th>r2</th>\n",
       "    </tr>\n",
       "    <tr>\n",
       "      <th>model_type</th>\n",
       "      <th></th>\n",
       "      <th></th>\n",
       "      <th></th>\n",
       "    </tr>\n",
       "  </thead>\n",
       "  <tbody>\n",
       "    <tr>\n",
       "      <th>clath_aux+gak_a7d2_new_Y_sig_mean_nn_cnn</th>\n",
       "      <td>[0.22065207252390961, 0.2563547629913744, 0.28...</td>\n",
       "      <td>0.575</td>\n",
       "      <td>0.271</td>\n",
       "    </tr>\n",
       "    <tr>\n",
       "      <th>clath_aux+gak_a7d2_new_Y_sig_mean_fcnn</th>\n",
       "      <td>[-1.7746432990748389, 0.22588681400214916, 0.2...</td>\n",
       "      <td>0.557</td>\n",
       "      <td>-0.072</td>\n",
       "    </tr>\n",
       "    <tr>\n",
       "      <th>clath_aux+gak_a7d2_new_Y_sig_mean_nn_lstm</th>\n",
       "      <td>[-1.7804643716601247, -1.2376744635106083, -1....</td>\n",
       "      <td>0.356</td>\n",
       "      <td>-1.110</td>\n",
       "    </tr>\n",
       "  </tbody>\n",
       "</table>\n",
       "</div>"
      ],
      "text/plain": [
       "                                                                         cv_accuracy_by_cell  \\\n",
       "model_type                                                                                     \n",
       "clath_aux+gak_a7d2_new_Y_sig_mean_nn_cnn   [0.22065207252390961, 0.2563547629913744, 0.28...   \n",
       "clath_aux+gak_a7d2_new_Y_sig_mean_fcnn     [-1.7746432990748389, 0.22588681400214916, 0.2...   \n",
       "clath_aux+gak_a7d2_new_Y_sig_mean_nn_lstm  [-1.7804643716601247, -1.2376744635106083, -1....   \n",
       "\n",
       "                                           pearsonr     r2  \n",
       "model_type                                                  \n",
       "clath_aux+gak_a7d2_new_Y_sig_mean_nn_cnn      0.575  0.271  \n",
       "clath_aux+gak_a7d2_new_Y_sig_mean_fcnn        0.557 -0.072  \n",
       "clath_aux+gak_a7d2_new_Y_sig_mean_nn_lstm     0.356 -1.110  "
      ]
     },
     "execution_count": 39,
     "metadata": {},
     "output_type": "execute_result"
    }
   ],
   "source": [
    "results = train_reg.load_results(out_dir)\n",
    "r = results\n",
    "r = r[[k for k in r if not 'std' in k]]\n",
    "r = r[[k for k in r if not '_f' in k]]\n",
    "# r = r[r.index.str.contains('ros')] # only use random sampling\n",
    "r = r.sort_values(by=['r2'], ascending=False)\n",
    "# r.style.background_gradient(cmap='viridis', axis=None) # all values on same cmap\n",
    "r"
   ]
  },
  {
   "cell_type": "code",
   "execution_count": null,
   "metadata": {},
   "outputs": [],
   "source": []
  }
 ],
 "metadata": {
  "kernelspec": {
   "display_name": "Python 3",
   "language": "python",
   "name": "python3"
  },
  "language_info": {
   "codemirror_mode": {
    "name": "ipython",
    "version": 3
   },
   "file_extension": ".py",
   "mimetype": "text/x-python",
   "name": "python",
   "nbconvert_exporter": "python",
   "pygments_lexer": "ipython3",
   "version": "3.7.5"
  }
 },
 "nbformat": 4,
 "nbformat_minor": 4
}
