{
 "cells": [
  {
   "cell_type": "code",
   "execution_count": 12,
   "metadata": {},
   "outputs": [
    {
     "name": "stdout",
     "output_type": "stream",
     "text": [
      "The autoreload extension is already loaded. To reload it, use:\n",
      "  %reload_ext autoreload\n"
     ]
    }
   ],
   "source": [
    "%matplotlib inline\n",
    "%load_ext autoreload\n",
    "%autoreload 2\n",
    "import warnings\n",
    "warnings.filterwarnings(\"ignore\")\n",
    "from matplotlib import pyplot as plt\n",
    "import seaborn as sns\n",
    "import numpy as np\n",
    "import os\n",
    "from os.path import join as oj\n",
    "from sklearn.feature_extraction.image import extract_patches_2d\n",
    "from sklearn.linear_model import LinearRegression, LogisticRegression, RidgeCV\n",
    "from sklearn.neural_network import MLPRegressor\n",
    "from sklearn.model_selection import cross_validate, train_test_split\n",
    "import mat4py\n",
    "from sklearn import metrics\n",
    "import numpy as np\n",
    "from collections import Counter\n",
    "from sklearn.datasets import make_classification\n",
    "from torch import nn\n",
    "import torch.nn.functional as F\n",
    "import torch\n",
    "from copy import deepcopy\n",
    "from sklearn import metrics\n",
    "plt.style.use('dark_background')\n",
    "import mat4py\n",
    "import pandas as pd\n",
    "import data\n",
    "import models\n",
    "import pickle as pkl\n",
    "from style import *\n",
    "import viz\n",
    "import copy\n",
    "import trend_filtering\n",
    "from tqdm import tqdm\n",
    "import train"
   ]
  },
  {
   "cell_type": "code",
   "execution_count": 13,
   "metadata": {},
   "outputs": [],
   "source": [
    "df = data.get_data(use_processed=True) # all_data=True\n",
    "outcome = 'y_consec_thresh'"
   ]
  },
  {
   "cell_type": "code",
   "execution_count": 4,
   "metadata": {},
   "outputs": [],
   "source": [
    "df_tf = copy.deepcopy(df)\n",
    "for i in range(len(df)):\n",
    "    df_tf['X'].iloc[i] = trend_filtering.trend_filtering(y=df['X'].iloc[i], vlambda=500, order=1) \n",
    "df_tf = data.preprocess(df_tf)"
   ]
  },
  {
   "cell_type": "code",
   "execution_count": 5,
   "metadata": {},
   "outputs": [],
   "source": [
    "feat_names = data.get_feature_names(df_tf)\n",
    "\n",
    "# don't use dict_feats\n",
    "feat_names = [x for x in feat_names \n",
    "              if not x.startswith('sc_') \n",
    "              and not x.startswith('nmf_')\n",
    "              and not x in ['center_max', 'left_max', 'right_max', 'up_max', 'down_max', \n",
    "                            'X_max_around_Y_peak', 'X_max_after_Y_peak', 'X_max_diff_after_Y_peak',\n",
    "                           'X_tf']\n",
    "              and not x.startswith('pc_')\n",
    "#               and not 'local' in x\n",
    "#               and not 'X_peak' in x\n",
    "#               and not 'slope' in x\n",
    "#               and not x in ['fall_final', 'fall_slope', 'fall_imp', 'fall']\n",
    "             ]"
   ]
  },
  {
   "cell_type": "code",
   "execution_count": 14,
   "metadata": {},
   "outputs": [
    {
     "name": "stderr",
     "output_type": "stream",
     "text": [
      "100%|██████████| 3/3 [01:26<00:00, 23.99s/it]\n"
     ]
    }
   ],
   "source": [
    "outcome_def = 'y_consec_thresh'\n",
    "# out_dir = f'results/outcome={outcome_def}'\n",
    "out_dir = oj('/scratch/users/vision/abc', 'mar7_tf_order_1')\n",
    "os.makedirs(out_dir, exist_ok=True)\n",
    "feature_selection_nums = [5] #[3, 5, 7, 12, 16]: # number of feature to select [4, 9, 11, 23, 35, 39]\n",
    "for feature_selection_num in feature_selection_nums:\n",
    "    for feature_selection in [None]: # select_lasso, select_rf, None\n",
    "        if feature_selection is None and feature_selection_num > feature_selection_nums[0]: # don't do extra computation\n",
    "            break\n",
    "        for model_type in tqdm(['rf', 'svm', 'mlp2']): #,'gb', 'logistic', 'dt', 'svm', 'gb', 'rf', 'mlp2', 'irf']):\n",
    "            for num_feats in [12, 16, 25, len(feat_names)]: #[16, 25, len(feat_names)]: # number of total features to consider\n",
    "                for balancing in ['ros']: # None, ros                        \n",
    "                    for balancing_ratio in [1.2]: # positive: negative  \n",
    "                        hyperparams = [0]\n",
    "                        for hyperparam in hyperparams: # 0 is default\n",
    "                            feats = feat_names[:num_feats]\n",
    "                            out_name = f'{model_type}_{num_feats}_{feature_selection}={feature_selection_num}_{balancing}={balancing_ratio}_h={hyperparam}'\n",
    "                            train.train(df_tf, feat_names=feats, model_type=model_type, \n",
    "                                        balancing=balancing, balancing_ratio=balancing_ratio,\n",
    "                                        outcome_def=outcome_def,\n",
    "                                        feature_selection=feature_selection,\n",
    "                                        feature_selection_num=feature_selection_num,\n",
    "                                        hyperparam=hyperparam,\n",
    "                                        out_name=f'{out_dir}/{out_name}.pkl')"
   ]
  },
  {
   "cell_type": "code",
   "execution_count": 15,
   "metadata": {},
   "outputs": [
    {
     "data": {
      "text/plain": [
       "[<matplotlib.lines.Line2D at 0x7fe387f1ff90>]"
      ]
     },
     "execution_count": 15,
     "metadata": {},
     "output_type": "execute_result"
    },
    {
     "data": {
      "image/png": "[encoded data removed]",
      "text/plain": [
       "<Figure size 432x288 with 1 Axes>"
      ]
     },
     "metadata": {},
     "output_type": "display_data"
    }
   ],
   "source": [
    "plt.plot(df['X'].iloc[0], color='red')\n",
    "plt.plot(df_tf['X'].iloc[0], color='green')"
   ]
  },
  {
   "cell_type": "code",
   "execution_count": null,
   "metadata": {},
   "outputs": [],
   "source": []
  }
 ],
 "metadata": {
  "kernelspec": {
   "display_name": "Python 3",
   "language": "python",
   "name": "python3"
  },
  "language_info": {
   "codemirror_mode": {
    "name": "ipython",
    "version": 3
   },
   "file_extension": ".py",
   "mimetype": "text/x-python",
   "name": "python",
   "nbconvert_exporter": "python",
   "pygments_lexer": "ipython3",
   "version": "3.7.5"
  }
 },
 "nbformat": 4,
 "nbformat_minor": 4
}
