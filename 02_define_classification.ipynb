{
 "cells": [
  {
   "cell_type": "code",
   "execution_count": 422,
   "metadata": {},
   "outputs": [
    {
     "name": "stdout",
     "output_type": "stream",
     "text": [
      "The autoreload extension is already loaded. To reload it, use:\n",
      "  %reload_ext autoreload\n"
     ]
    }
   ],
   "source": [
    "%matplotlib inline\n",
    "%load_ext autoreload\n",
    "%autoreload 2\n",
    "from matplotlib import pyplot as plt\n",
    "import seaborn as sns\n",
    "import numpy as np\n",
    "import os\n",
    "from os.path import join as oj\n",
    "from sklearn.feature_extraction.image import extract_patches_2d\n",
    "from sklearn.linear_model import LinearRegression, LogisticRegression, RidgeCV\n",
    "from sklearn.neural_network import MLPRegressor, MLPClassifier\n",
    "from sklearn.model_selection import cross_validate, train_test_split\n",
    "from sklearn.ensemble import RandomForestClassifier\n",
    "from sklearn.tree import DecisionTreeClassifier\n",
    "from sklearn.svm import SVC\n",
    "from sklearn import metrics\n",
    "import eli5\n",
    "import numpy as np\n",
    "from collections import Counter\n",
    "from sklearn.datasets import make_classification\n",
    "from torch import nn\n",
    "import torch.nn.functional as F\n",
    "import torch\n",
    "from copy import deepcopy\n",
    "from sklearn import metrics\n",
    "plt.style.use('dark_background')\n",
    "import mat4py\n",
    "import pandas as pd\n",
    "import data_tracks\n",
    "import models\n",
    "from imblearn.over_sampling import RandomOverSampler\n",
    "from sklearn.model_selection import KFold\n",
    "from colorama import Fore\n",
    "import pickle as pkl\n",
    "from tqdm import tqdm\n",
    "from style import *\n",
    "from sklearn import decomposition\n",
    "import matplotlib.gridspec as grd\n",
    "import itertools\n",
    "from sklearn import mixture\n",
    "from matplotlib_venn import venn3, venn2\n",
    "import viz\n",
    "outcome_def = 'y_consec_thresh'"
   ]
  },
  {
   "cell_type": "code",
   "execution_count": 423,
   "metadata": {},
   "outputs": [
    {
     "name": "stdout",
     "output_type": "stream",
     "text": [
      "loading + preprocessing data...\n",
      "\tloading tracks...\n",
      "\tpreprocessing data...\n",
      "\tremoving hotspots....\n",
      "\tadding features...\n",
      "valid:\t\t1966.0 aux+ / 7594 (0.259)\n",
      "----------------------------------------\n",
      "no_hotspots:\t1741.0 aux+ / 7357 (0.237)\n",
      "----------------------------------------\n",
      "lifetime<=26:\t4720 aux+ / 5127 (0.921)\n",
      "lifetime>=145:\t  62 aux- /   67 (0.925)\n",
      "remaining:\t1272 aux+ / 2163 (0.588)\n"
     ]
    }
   ],
   "source": [
    "df = data_tracks.get_data(use_processed=False, use_processed_dicts=True, \n",
    "                           outcome_def=outcome_def)\n",
    "viz.print_metadata()"
   ]
  },
  {
   "cell_type": "markdown",
   "metadata": {},
   "source": [
    "# visualize outcomes\n",
    "- take mean, take sigma, define events with a threshold"
   ]
  },
  {
   "cell_type": "code",
   "execution_count": 6,
   "metadata": {},
   "outputs": [
    {
     "data": {
      "image/png": "[encoded data removed]",
      "text/plain": [
       "<Figure size 432x288 with 1 Axes>"
      ]
     },
     "metadata": {},
     "output_type": "display_data"
    }
   ],
   "source": [
    "outcome = df[outcome_def]\n",
    "aux_pos = df['lifetime'][outcome==1] \n",
    "aux_neg = df['lifetime'][outcome==0] \n",
    "plt.hist(aux_pos, label='aux+', alpha=1, color=cb)\n",
    "plt.hist(aux_neg, label='aux-', alpha=0.7, color=cr)\n",
    "plt.xlabel('lifetime')\n",
    "plt.ylabel('count')\n",
    "plt.title(f'aux+: {aux_pos.shape[0]}, aux-: {aux_neg.shape[0]}, tot: {df.shape[0]}')\n",
    "plt.legend()\n",
    "plt.show()"
   ]
  },
  {
   "cell_type": "code",
   "execution_count": 6,
   "metadata": {},
   "outputs": [],
   "source": [
    "def sort_outcome(df, outcome_def):\n",
    "    outcome_score = df['Y_max'].values\n",
    "    idxs_sort = np.argsort(outcome_score)\n",
    "    return df[outcome_def].values[idxs_sort], df['Y'].values[idxs_sort]\n",
    "\n",
    "outcome_sort, Y_sort = sort_outcome(df, outcome_def)"
   ]
  },
  {
   "cell_type": "markdown",
   "metadata": {},
   "source": [
    "### Find rule-based model to define aux+"
   ]
  },
  {
   "cell_type": "code",
   "execution_count": 424,
   "metadata": {},
   "outputs": [],
   "source": [
    "verified_pids = data_tracks.get_labels()"
   ]
  },
  {
   "cell_type": "code",
   "execution_count": 425,
   "metadata": {},
   "outputs": [],
   "source": [
    "def cummax(arr):\n",
    "    res = [arr[0]]\n",
    "    for i in range(1, len(arr)):\n",
    "        res.append(max(arr[i], res[i-1]))\n",
    "    return res\n",
    "    \n",
    "def max_fall(arr):\n",
    "    cm = cummax(arr)\n",
    "    return np.max(np.array(cm) - np.array(arr))\n",
    "    \n",
    "def max_diff(arr):\n",
    "    return np.max(-np.diff(arr)) \n",
    "\n",
    "def max_absolute_fall(arr):\n",
    "    cm_rev = cummax(arr[::-1])[::-1]\n",
    "    return max(arr[i] - cm_rev[i+1] for i in range(len(arr)-1))"
   ]
  },
  {
   "cell_type": "code",
   "execution_count": 426,
   "metadata": {},
   "outputs": [],
   "source": [
    "# peak time\n",
    "df['Y_peak_time_frac'] = df['Y_peak_idx'].values / df['lifetime'].values\n",
    "df['peak_time_frac_diff'] = df['Y_peak_time_frac']  - df['X_peak_time_frac'] "
   ]
  },
  {
   "cell_type": "code",
   "execution_count": 427,
   "metadata": {},
   "outputs": [],
   "source": [
    "# local\n",
    "X_max_around_Y_peak = []\n",
    "X_max_before_Y_peak = []\n",
    "X_max_after_Y_peak = []\n",
    "X_max_fall_around_Y_peak = []  # max fall def: in a window around aux peak, max_{t_1>t_2} Cla(t_1) - Cla(t_2)\n",
    "X_max_diff_around_Y_peak = []  # max_{t in window} Cla(t) - Cla(t-1)\n",
    "X_max_abs_fall_around_Y_peak = []\n",
    "for i in range(len(df)):\n",
    "    pt = df['Y_peak_idx'].values[i]\n",
    "    lt = df['lifetime'].values[i]\n",
    "    left_bf = np.int(0.2 * lt)\n",
    "    right_bf = np.int(0.2 * lt)\n",
    "    arr_before = df['X'].iloc[i][: max(1, pt - left_bf)]\n",
    "    arr_around = df['X'].iloc[i][max(0, pt - left_bf): min(pt + right_bf, lt)]\n",
    "    arr_after = df['X'].iloc[i][min(pt + right_bf, lt - 1): ]\n",
    "    X_max_fall_around_Y_peak.append(max_fall(arr_around))\n",
    "    X_max_diff_around_Y_peak.append(max_diff(arr_around))\n",
    "    X_max_before_Y_peak.append(min(arr_before))\n",
    "    X_max_around_Y_peak.append(max(arr_around))\n",
    "    X_max_after_Y_peak.append(max(arr_after))\n",
    "    X_max_abs_fall_around_Y_peak.append(max_absolute_fall(arr))\n",
    "    \n",
    "df['X_max_fall_around_Y_peak'] = X_max_fall_around_Y_peak\n",
    "df['X_max_abs_fall_around_Y_peak'] = X_max_abs_fall_around_Y_peak\n",
    "df['X_max_diff_around_Y_peak'] = X_max_diff_around_Y_peak\n",
    "df['X_max_around_Y_peak'] = X_max_around_Y_peak\n",
    "df['X_max_before_Y_peak'] = X_max_before_Y_peak\n",
    "df['X_max_after_Y_peak'] = X_max_after_Y_peak\n",
    "df['X_max_diff_around_before'] = df['X_max_around_Y_peak'] - df['X_max_before_Y_peak']\n",
    "df['X_max_diff_around_after'] = df['X_max_around_Y_peak'] - df['X_max_after_Y_peak']"
   ]
  },
  {
   "cell_type": "code",
   "execution_count": 431,
   "metadata": {},
   "outputs": [],
   "source": [
    "Y_feat_names = ['y_consec_sig', \n",
    "                'y_conservative_thresh', \n",
    "                'Y_peak_time_frac',\n",
    "                'Y_max',\n",
    "                #'peak_time_frac_diff',\n",
    "                #'y_num_sig',\n",
    "                'X_max_fall_around_Y_peak',\n",
    "                #'X_max_diff_around_Y_peak',\n",
    "                #'X_max_abs_fall_around_Y_peak',\n",
    "                'X_max_diff_around_after', \n",
    "                #'X_max_diff_around_before'\n",
    "                ]"
   ]
  },
  {
   "cell_type": "code",
   "execution_count": 436,
   "metadata": {},
   "outputs": [
    {
     "data": {
      "text/plain": [
       "0.8825757575757576"
      ]
     },
     "execution_count": 436,
     "metadata": {},
     "output_type": "execute_result"
    }
   ],
   "source": [
    "outcome_def = 'y_consec_thresh' \n",
    "df_label_verified = df[df.pid.isin(verified_pids['neg'] + verified_pids['pos'])]\n",
    "X = df_label_verified[Y_feat_names] \n",
    "y = df_label_verified[outcome_def].values \n",
    "     \n",
    "m = RandomForestClassifier(n_estimators=100, max_depth=4, random_state=3) \n",
    "num_pts_by_fold_cv = [] \n",
    "cv_accuracy = [] \n",
    " \n",
    "cell_nums_train = np.array([1, 2, 3, 4, 5]) \n",
    "kf = KFold(n_splits=len(cell_nums_train)) \n",
    " \n",
    "for cv_idx, cv_val_idx in kf.split(cell_nums_train): \n",
    "     \n",
    "    idxs_test = df_label_verified.cell_num.isin(cell_nums_train[np.array(cv_val_idx)]) \n",
    "    idxs_train = df_label_verified.cell_num.isin(cell_nums_train[np.array(cv_idx)]) \n",
    "    X_test, Y_test = X[idxs_test], y[idxs_test] \n",
    "    X_train, Y_train = X[idxs_train], y[idxs_train] \n",
    "    num_pts_by_fold_cv.append(len(X_test)) \n",
    "    m.fit(X_train, Y_train) \n",
    "    cv_accuracy.append(m.score(X_test, Y_test)) \n",
    "     \n",
    "np.average(cv_accuracy, weights=num_pts_by_fold_cv)"
   ]
  },
  {
   "cell_type": "code",
   "execution_count": null,
   "metadata": {},
   "outputs": [],
   "source": [
    "R, C = 4, 3\n",
    "plt.figure(figsize=(6, 4), dpi=200)\n",
    "lifetime_max = np.max(df.lifetime.values[:R*C])\n",
    "for i in range(R * C):\n",
    "    plt.subplot(R, C, i + 1)\n",
    "    row = df.iloc[i]\n",
    "    n1 = np.where(df['y_consec_thresh'] == 0)[0][i]\n",
    "    #n1 = np.where(df['y_consec_thresh'] == 1)[0][i]\n",
    "    plt.plot(df.iloc[n1].X, color='red', label='clathrin')\n",
    "    plt.plot(df.iloc[n1].Y, color='green', label='auxilin')\n",
    "    plt.xlim((0, 100))\n",
    "    #if not i == R * C - C:\n",
    "    #plt.yticks([])\n",
    "    #plt.xticks([])\n",
    "#plt.legend()\n",
    "plt.tight_layout()\n",
    "plt.show()"
   ]
  },
  {
   "cell_type": "code",
   "execution_count": null,
   "metadata": {},
   "outputs": [],
   "source": [
    "R, C = 6, 3\n",
    "plt.figure(figsize=(6, 6), dpi=200)\n",
    "lifetime_max = np.max(df.lifetime.values[:R*C])\n",
    "for i in range(R * C):\n",
    "    plt.subplot(R, C, i + 1)\n",
    "    row = df.iloc[i]\n",
    "    n1 = np.where(df['y_consec_thresh'] == 1)[0][i]\n",
    "    #n1 = np.where(df['y_consec_thresh'] == 1)[0][i]\n",
    "    plt.plot(df.iloc[n1].X, color='red', label='clathrin')\n",
    "    plt.plot(df.iloc[n1].Y, color='green', label='auxilin')\n",
    "    plt.xlim((0, 100))\n",
    "    #if not i == R * C - C:\n",
    "    #plt.yticks([])\n",
    "    #plt.xticks([])\n",
    "#plt.legend()\n",
    "plt.tight_layout()\n",
    "plt.show()"
   ]
  },
  {
   "cell_type": "markdown",
   "metadata": {},
   "source": [
    "# viz curves"
   ]
  },
  {
   "cell_type": "code",
   "execution_count": null,
   "metadata": {},
   "outputs": [],
   "source": [
    "viz.plot_curves(df[df.pid.isin(data_tracks.get_labels()['hotspots'])])"
   ]
  },
  {
   "cell_type": "code",
   "execution_count": null,
   "metadata": {},
   "outputs": [],
   "source": [
    "R, C = 4, 5\n",
    "# plt.figure(dpi=200)\n",
    "plt.figure(figsize=(9, 8), dpi=200)\n",
    "n = Y_sort.shape[0]\n",
    "# idxs = list(range(10)) + list(range(n - 10, n)) # let's look at the top / bot\n",
    "idxs = list(range(num_neg - 40, num_neg + 40)) # let's look at ones in the middle\n",
    "for i in range(R * C):\n",
    "    plt.subplot(R, C, i + 1)\n",
    "    idx = idxs[i]\n",
    "    plt.plot(Y_sort[idx], color=cr if outcome_sort[idx] == 0 else cb)\n",
    "#     plt.axis('off')\n",
    "plt.tight_layout()"
   ]
  },
  {
   "cell_type": "markdown",
   "metadata": {},
   "source": [
    "**compare as a func of aux_max**"
   ]
  },
  {
   "cell_type": "code",
   "execution_count": null,
   "metadata": {},
   "outputs": [],
   "source": [
    "R, C = 20, 28\n",
    "# plt.figure(dpi=200)\n",
    "plt.figure(figsize=(28, 20))\n",
    "n = Y_sort.shape[0] # 1434\n",
    "\n",
    "idxs = np.array([np.arange(int(i), int(i) + C) for i in np.linspace(0, n - C, R)]).flatten() #list(range(10)) + list(range(n - 10, n))\n",
    "Ys = Y_sort[idxs]\n",
    "ymin = -200\n",
    "ymax = 4000\n",
    "\n",
    "for i in range(R * C):\n",
    "    plt.subplot(R, C, i + 1)\n",
    "    idx = idxs[i]\n",
    "    plt.plot(Ys[i], color=cr if outcome_sort[idx] == 0 else cb, lw=1)\n",
    "    plt.ylim((ymin - 1, ymax + 1))\n",
    "    plt.xlim((0, 120))\n",
    "    if not i == R * C - C:\n",
    "        plt.yticks([])\n",
    "        plt.xticks([])\n",
    "    if i % C == 0:\n",
    "        plt.ylabel(f'{np.max(Ys[i]):.0f}')\n",
    "#     plt.axis('off')\n",
    "plt.tight_layout()\n",
    "plt.subplots_adjust(hspace=0, wspace=0)\n",
    "plt.savefig('def.pdf')"
   ]
  },
  {
   "cell_type": "code",
   "execution_count": null,
   "metadata": {},
   "outputs": [],
   "source": [
    "aux_plus = df[outcome_def] == 1\n",
    "plt.hist(df[aux_plus]['Y_max'], color=cb, label='aux+', bins=100)\n",
    "plt.hist(df[~aux_plus]['Y_max'], color=cr, label='aux-', alpha=0.7, bins=100)\n",
    "plt.xlabel('aux_max')\n",
    "plt.ylabel('count')\n",
    "plt.legend()\n",
    "plt.show()"
   ]
  },
  {
   "cell_type": "markdown",
   "metadata": {},
   "source": [
    "**look at hotspots**"
   ]
  },
  {
   "cell_type": "code",
   "execution_count": 16,
   "metadata": {},
   "outputs": [
    {
     "name": "stdout",
     "output_type": "stream",
     "text": [
      "loading + preprocessing data...\n",
      "\tloading tracks...\n",
      "\tpreprocessing data...\n",
      "\tadding features...\n",
      "dict features not added!\n"
     ]
    }
   ],
   "source": [
    "dfh = data_tracks.get_data(use_processed=True, remove_hotspots=False,\n",
    "                         processed_file='processed/df_with_hotspots.pkl', metadata_file='processed/metadata_with_hotspots.pkl',)"
   ]
  },
  {
   "cell_type": "code",
   "execution_count": null,
   "metadata": {},
   "outputs": [],
   "source": [
    "dh = dfh[df.hotspots==1]\n",
    "R = int(np.sqrt(dh.shape[0]))\n",
    "C = (dh.shape[0] // R) + 1\n",
    "plt.figure(figsize=(C, R), dpi=200)\n",
    "\n",
    "for i in range(R * C):\n",
    "    if i < dh.shape[0]:\n",
    "        ax = plt.subplot(R, C, i + 1)\n",
    "        row = dh.iloc[i]\n",
    "        plt.axis('off')\n",
    "        Y = np.array(row['Y'])\n",
    "        ts = np.arange(Y.size)\n",
    "        plt.plot(ts, np.array(row['X']), color=cr, lw=1)\n",
    "        plt.plot(ts, Y, color='green', lw=1)\n",
    "        plt.plot(ts[row['sig_idxs']==True], Y[row['sig_idxs']], 'o', color='white', ms=1, alpha=0.5)\n",
    "\n",
    "    #     plt.plot(dh.iloc[i]['X'], color='red')\n",
    "        ax.text(.5, .9, f'{i}',\n",
    "                         horizontalalignment='right',\n",
    "                         transform=ax.transAxes)\n",
    "\n",
    "\n",
    "        plt.ylim((-1000, 4000))\n",
    "        plt.xlim((0, 120))\n",
    "\n",
    "# plt.suptitle(f'clath divided by 2 to fit on same scale xscale is 120')\n",
    "plt.tight_layout()\n",
    "plt.savefig('hotspots.pdf')\n",
    "plt.show()"
   ]
  },
  {
   "cell_type": "markdown",
   "metadata": {},
   "source": [
    "# compare different outcome defs"
   ]
  },
  {
   "cell_type": "code",
   "execution_count": null,
   "metadata": {},
   "outputs": [],
   "source": [
    "keys = ['y_thresh', 'y_single_sig', 'y_double_sig', 'y_consec_sig', 'y']\n",
    "mat = df[keys] #.corr()# make fig\n",
    "# plt.figure(dpi=200)\n",
    "# sns.heatmap(mat.corr(method='spearman'), annot=True,\n",
    "#             cmap=sns.diverging_palette(10, 240, as_cmap=True, center='light'), vmin=-1, vmax=1)\n",
    "# plt.show()\n",
    "\n",
    "plt.figure(dpi=200)\n",
    "sns.barplot(x=keys, y=mat.sum(), color=cb, alpha=1)\n",
    "plt.ylabel('num aux+')\n",
    "plt.xlabel('aux+ definition')"
   ]
  },
  {
   "cell_type": "code",
   "execution_count": null,
   "metadata": {},
   "outputs": [],
   "source": [
    "plt.figure(dpi=200)\n",
    "idxs = np.arange(df.shape[0])\n",
    "keys = ['y_thresh', 'y_single_sig', 'y_consec_sig']\n",
    "venn3([set(idxs[df[keys[0]] == 1]), set(idxs[df[keys[1]] == 1]), set(idxs[df[keys[2]] == 1])], keys)\n",
    "plt.show()"
   ]
  },
  {
   "cell_type": "markdown",
   "metadata": {},
   "source": [
    "# analyze aux+ p-value / amplitude defs"
   ]
  },
  {
   "cell_type": "code",
   "execution_count": 4,
   "metadata": {},
   "outputs": [],
   "source": [
    "aux = df.Y\n",
    "aux_p = df.Y_pvals\n",
    "\n",
    "ys = np.array(list(itertools.chain.from_iterable(aux)))\n",
    "ps = np.array(list(itertools.chain.from_iterable(aux_p.values)))\n",
    "\n",
    "ps_sig = ps < 0.05"
   ]
  },
  {
   "cell_type": "code",
   "execution_count": null,
   "metadata": {},
   "outputs": [],
   "source": [
    "R = 1\n",
    "C = 2\n",
    "plt.figure(figsize=(8, 4), dpi=200)\n",
    "plt.subplot(R, C, 1)\n",
    "plt.hist(ps, bins=100, color=cb) #ps[(ps < 0.5) * (ps > 0.01)])\n",
    "plt.yscale('log')\n",
    "plt.axvline(0.05, color=cr)\n",
    "plt.xlabel('auxilin p-value')\n",
    "plt.ylabel('count (log-scale)')\n",
    "# plt.xscale('log')\n",
    "# plt.ylabel()\n",
    "# plt.xlim((0, 0.1))\n",
    "print(f'num sig {np.sum(ps_sig):,d}')\n",
    "print(f'num nonsig {np.sum(~ps_sig):,d}')\n",
    "\n",
    "plt.subplot(R, C, 2)\n",
    "ys_sig = ys[ps_sig]\n",
    "(counts, bins, _) = plt.hist(ys_sig, bins=180, color=cb) #ps[(ps < 0.5) * (ps > 0.01)])\n",
    "idx_max = np.argmax(counts)\n",
    "aux_max = bins[idx_max]\n",
    "plt.axvline(aux_max, color=cr)\n",
    "plt.xlabel('auxilin amplitude')\n",
    "plt.ylabel('count')\n",
    "plt.tight_layout()\n",
    "plt.show()\n",
    "\n",
    "print('aux_max', aux_max)"
   ]
  },
  {
   "cell_type": "code",
   "execution_count": null,
   "metadata": {},
   "outputs": [],
   "source": [
    "ys_sig = ys_sig.reshape(-1, 1)\n",
    "mog = mixture.GaussianMixture(n_components=3)\n",
    "mog.fit(ys_sig.reshape(-1, 1))\n",
    "preds = mog.predict(ys_sig.reshape(-1, 1))\n",
    "\n",
    "# plot hist\n",
    "plt.figure(dpi=200)\n",
    "plt.hist(ys_sig, bins=bins, alpha=1, color=cb) #ps[(ps < 0.5) * (ps > 0.01)])\n",
    "samples, comps = mog.sample(n_samples=ys_sig.size) \n",
    "for i in [0, 2, 1]:\n",
    "    idxs = comps==i\n",
    "    plt.hist(samples[idxs], bins=bins, alpha=0.75, label=f'{mog.means_[i, 0]}')\n",
    "plt.axvline(aux_max, color='white')\n",
    "# plt.legend()\n",
    "\n",
    "plt.xlabel('auxilin amplitude (significant only)')\n",
    "plt.ylabel('count')\n",
    "plt.show()"
   ]
  }
 ],
 "metadata": {
  "kernelspec": {
   "display_name": "Python 3",
   "language": "python",
   "name": "python3"
  },
  "language_info": {
   "codemirror_mode": {
    "name": "ipython",
    "version": 3
   },
   "file_extension": ".py",
   "mimetype": "text/x-python",
   "name": "python",
   "nbconvert_exporter": "python",
   "pygments_lexer": "ipython3",
   "version": "3.7.5"
  }
 },
 "nbformat": 4,
 "nbformat_minor": 4
}
