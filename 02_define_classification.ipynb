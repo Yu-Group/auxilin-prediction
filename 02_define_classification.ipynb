{
 "cells": [
  {
   "cell_type": "code",
   "execution_count": 1,
   "metadata": {},
   "outputs": [
    {
     "name": "stderr",
     "output_type": "stream",
     "text": [
      "Using TensorFlow backend.\n",
      "/usr/local/linux/anaconda3.7/lib/python3.7/site-packages/tensorflow/python/framework/dtypes.py:516: FutureWarning: Passing (type, 1) or '1type' as a synonym of type is deprecated; in a future version of numpy, it will be understood as (type, (1,)) / '(1,)type'.\n",
      "  _np_qint8 = np.dtype([(\"qint8\", np.int8, 1)])\n",
      "/usr/local/linux/anaconda3.7/lib/python3.7/site-packages/tensorflow/python/framework/dtypes.py:517: FutureWarning: Passing (type, 1) or '1type' as a synonym of type is deprecated; in a future version of numpy, it will be understood as (type, (1,)) / '(1,)type'.\n",
      "  _np_quint8 = np.dtype([(\"quint8\", np.uint8, 1)])\n",
      "/usr/local/linux/anaconda3.7/lib/python3.7/site-packages/tensorflow/python/framework/dtypes.py:518: FutureWarning: Passing (type, 1) or '1type' as a synonym of type is deprecated; in a future version of numpy, it will be understood as (type, (1,)) / '(1,)type'.\n",
      "  _np_qint16 = np.dtype([(\"qint16\", np.int16, 1)])\n",
      "/usr/local/linux/anaconda3.7/lib/python3.7/site-packages/tensorflow/python/framework/dtypes.py:519: FutureWarning: Passing (type, 1) or '1type' as a synonym of type is deprecated; in a future version of numpy, it will be understood as (type, (1,)) / '(1,)type'.\n",
      "  _np_quint16 = np.dtype([(\"quint16\", np.uint16, 1)])\n",
      "/usr/local/linux/anaconda3.7/lib/python3.7/site-packages/tensorflow/python/framework/dtypes.py:520: FutureWarning: Passing (type, 1) or '1type' as a synonym of type is deprecated; in a future version of numpy, it will be understood as (type, (1,)) / '(1,)type'.\n",
      "  _np_qint32 = np.dtype([(\"qint32\", np.int32, 1)])\n",
      "/usr/local/linux/anaconda3.7/lib/python3.7/site-packages/tensorflow/python/framework/dtypes.py:525: FutureWarning: Passing (type, 1) or '1type' as a synonym of type is deprecated; in a future version of numpy, it will be understood as (type, (1,)) / '(1,)type'.\n",
      "  np_resource = np.dtype([(\"resource\", np.ubyte, 1)])\n",
      "/usr/local/linux/anaconda3.7/lib/python3.7/site-packages/tensorboard/compat/tensorflow_stub/dtypes.py:541: FutureWarning: Passing (type, 1) or '1type' as a synonym of type is deprecated; in a future version of numpy, it will be understood as (type, (1,)) / '(1,)type'.\n",
      "  _np_qint8 = np.dtype([(\"qint8\", np.int8, 1)])\n",
      "/usr/local/linux/anaconda3.7/lib/python3.7/site-packages/tensorboard/compat/tensorflow_stub/dtypes.py:542: FutureWarning: Passing (type, 1) or '1type' as a synonym of type is deprecated; in a future version of numpy, it will be understood as (type, (1,)) / '(1,)type'.\n",
      "  _np_quint8 = np.dtype([(\"quint8\", np.uint8, 1)])\n",
      "/usr/local/linux/anaconda3.7/lib/python3.7/site-packages/tensorboard/compat/tensorflow_stub/dtypes.py:543: FutureWarning: Passing (type, 1) or '1type' as a synonym of type is deprecated; in a future version of numpy, it will be understood as (type, (1,)) / '(1,)type'.\n",
      "  _np_qint16 = np.dtype([(\"qint16\", np.int16, 1)])\n",
      "/usr/local/linux/anaconda3.7/lib/python3.7/site-packages/tensorboard/compat/tensorflow_stub/dtypes.py:544: FutureWarning: Passing (type, 1) or '1type' as a synonym of type is deprecated; in a future version of numpy, it will be understood as (type, (1,)) / '(1,)type'.\n",
      "  _np_quint16 = np.dtype([(\"quint16\", np.uint16, 1)])\n",
      "/usr/local/linux/anaconda3.7/lib/python3.7/site-packages/tensorboard/compat/tensorflow_stub/dtypes.py:545: FutureWarning: Passing (type, 1) or '1type' as a synonym of type is deprecated; in a future version of numpy, it will be understood as (type, (1,)) / '(1,)type'.\n",
      "  _np_qint32 = np.dtype([(\"qint32\", np.int32, 1)])\n",
      "/usr/local/linux/anaconda3.7/lib/python3.7/site-packages/tensorboard/compat/tensorflow_stub/dtypes.py:550: FutureWarning: Passing (type, 1) or '1type' as a synonym of type is deprecated; in a future version of numpy, it will be understood as (type, (1,)) / '(1,)type'.\n",
      "  np_resource = np.dtype([(\"resource\", np.ubyte, 1)])\n"
     ]
    }
   ],
   "source": [
    "%matplotlib inline\n",
    "%load_ext autoreload\n",
    "%autoreload 2\n",
    "from matplotlib import pyplot as plt\n",
    "import seaborn as sns\n",
    "import numpy as np\n",
    "import os\n",
    "from os.path import join as oj\n",
    "from sklearn.feature_extraction.image import extract_patches_2d\n",
    "from sklearn.linear_model import LinearRegression, LogisticRegression, RidgeCV\n",
    "from sklearn.neural_network import MLPRegressor, MLPClassifier\n",
    "from sklearn.model_selection import cross_validate, train_test_split\n",
    "from sklearn.ensemble import RandomForestClassifier\n",
    "from sklearn.tree import DecisionTreeClassifier\n",
    "from sklearn.svm import SVC\n",
    "from sklearn import metrics\n",
    "import eli5\n",
    "import numpy as np\n",
    "from collections import Counter\n",
    "from sklearn.datasets import make_classification\n",
    "from torch import nn\n",
    "import torch.nn.functional as F\n",
    "import torch\n",
    "from copy import deepcopy\n",
    "from sklearn import metrics\n",
    "plt.style.use('dark_background')\n",
    "import mat4py\n",
    "import pandas as pd\n",
    "import data_tracks\n",
    "import models\n",
    "from imblearn.over_sampling import RandomOverSampler\n",
    "from sklearn.model_selection import KFold\n",
    "from colorama import Fore\n",
    "import pickle as pkl\n",
    "from tqdm import tqdm\n",
    "from style import *\n",
    "from sklearn import decomposition\n",
    "import matplotlib.gridspec as grd\n",
    "import itertools\n",
    "from sklearn import mixture\n",
    "from matplotlib_venn import venn3, venn2\n",
    "import viz\n",
    "outcome_def = 'y_consec_thresh'"
   ]
  },
  {
   "cell_type": "code",
   "execution_count": 13,
   "metadata": {},
   "outputs": [
    {
     "name": "stdout",
     "output_type": "stream",
     "text": [
      "valid:\t\t2066.0 aux+ / 7594 (0.272)\n",
      "----------------------------------------\n",
      "no_hotspots:\t1735.0 aux+ / 7245 (0.239)\n",
      "----------------------------------------\n",
      "lifetime<=26:\t4720 aux+ / 5127 (0.921)\n",
      "lifetime>=145:\t  62 aux- /   67 (0.925)\n",
      "remaining:\t1266 aux+ / 2051 (0.617)\n"
     ]
    }
   ],
   "source": [
    "df = data_tracks.get_data(use_processed=True, use_processed_dicts=True, \n",
    "                           outcome_def=outcome_def)\n",
    "viz.print_metadata()"
   ]
  },
  {
   "cell_type": "markdown",
   "metadata": {},
   "source": [
    "# unsure tracks"
   ]
  },
  {
   "cell_type": "code",
   "execution_count": 67,
   "metadata": {},
   "outputs": [
    {
     "name": "stdout",
     "output_type": "stream",
     "text": [
      "loading + preprocessing data...\n",
      "\tloading tracks...\n",
      "\tpreprocessing data...\n",
      "\tadding features...\n"
     ]
    }
   ],
   "source": [
    "df = data_tracks.get_data(use_processed=False, use_processed_dicts=True, \n",
    "                           outcome_def=outcome_def, remove_hotspots=False)"
   ]
  },
  {
   "cell_type": "code",
   "execution_count": null,
   "metadata": {},
   "outputs": [],
   "source": [
    "labels_cs = {\n",
    "    'pos': [2321, 11032, 4484, 4750, 8084, 6770, 6624, 2749, 6378, 7833, 4399, 9547, 2253],\n",
    "    'hotspots': [10069, 5485, 3146, 5560, 5600, 5937, 7688, 6055, 5670, 10235, 5583, 6151, 5720, 2553, 6040, 292, 5456, 2437, 5966, 5499, 10043, 10232, 5434, 6224, 5785, 6210, 2761, 6359, 6438, 5423, 5774, 7556, 5766, 7882, 7732, 5798, 2711, 2562, 5939, 2214, 2881, 2588, 10123, 6527, 10309, 2038, 2683, 5617, 2146, 4117, 10821, 2538, 5408, 5527, 6079, 7499, 6641, 2930, 5683, 6353, 5958, 2154, 5835],  # note first were labeled as neg, second were labeled as pos\n",
    "    'neg': [3964, 10054, 735, 846, 1362, 3823, 5389, 8834, 9565, 10882, 11166, 718]\n",
    "}\n",
    "labels_xl = {\n",
    "    'pos': [2321, 10996, 4454, 10431, 11032, 10057, 4484, 8084, 10754, 2382, 938, 2228, 10887, 6770, 10895, 10863, 6624, 10333, 4069, 10113, 4849, 9719, 10116, 245, 10077, 9547, 9557, 10457, 10037, 9900, 10146, 5507, 10517, 2749, 9563, 6378, 2014, 9714, 1353, 10117, 7504, 9724, 3141, 5797, 10508, 10374, 5593, 9932, 4399, 10632, 1039, 9904, 9930, 8505, 429, 10331, 5470, 8557, 7773, 10830, 10749, 2031, 3822, 7833, 5791, 10602, 2203, 542, 10843, 7759, 10483, 4827, 225, 7679, 9617, 2378, 5409, 10142, 9975, 10264, 918, 10148, 10066, 9917, 9485, 6400, 5961, 10023, 10418, 231, 10695, 3065, 6420, 7865, 9813, 10765, 6290, 2270, 729, 2626, 8424, 10199, 2200, 2854, 2253],\n",
    "    'hotspots': [10015, 6339, 3168, 7481, 7779, 646, 4117, 7891, 4324, 2146, 10007, 1162, 10330, 285, 5527, 7616, 5617, 4196, 7771, 2085, 1104, 5512, 8303, 4409, 7343, 2538, 7570, 3977, 2683, 2038, 10250, 2494, 10309, 8423, 2417, 6353, 2564, 685, 6471, 6527, 10123, 2173, 2588, 205, 2881, 5863, 5958, 5408, 2607, 2214, 5939, 2562, 6079, 8208, 2154, 2799, 3909, 5798, 7663, 2574, 7732, 5835, 7882, 5766, 7556, 6438, 6641, 6359, 2761, 6210, 5434, 10232, 10043, 6109, 2323, 9550, 2437, 5456, 2930, 5683, 413, 2553, 7499, 6151, 5583, 10235, 6055, 7688, 5600, 5560, 3146, 5485, 10069, 5423, 5499, 6224, 5937, 292],\n",
    "    'neg': [718, 735, 846, 1362, 3823, 5389, 8834, 9565, 10882, 11166, 10054]\n",
    "}\n",
    "    \n",
    "pos_all = set(labels_cs['pos']).union(set(labels_xl['pos']))\n",
    "pos_int = set(labels_cs['pos']).intersection(set(labels_xl['pos']))\n",
    "pos = pos_all - pos_int\n",
    "\n",
    "hots_all = set(labels_cs['hotspots']).union(set(labels_xl['hotspots']))\n",
    "hots_int = set(labels_cs['hotspots']).intersection(set(labels_xl['hotspots']))\n",
    "hots = hots_all - hots_int\n",
    "\n",
    "neg_all = set(labels_cs['neg']).union(set(labels_xl['neg']))\n",
    "neg_int = set(labels_cs['neg']).intersection(set(labels_xl['neg']))\n",
    "neg = neg_all - neg_int\n",
    "print(len(pos), len(hots), len(neg))\n",
    "print(neg)\n",
    "\n",
    "for k, inds in zip(['pos', 'hots', 'neg'], [pos, hots, neg]):\n",
    "    d = df[df.pid.isin(inds)]\n",
    "    print(k, d.shape)\n",
    "    R, C = 11, 10\n",
    "    plt.figure(figsize=(20, 24)) #, dpi=200)\n",
    "    lifetime_max = np.max(df.lifetime.values[:R*C])\n",
    "    print(lifetime_max)\n",
    "    for i in range(R * C):\n",
    "        if i < d.shape[0]:\n",
    "            plt.subplot(R, C, i + 1)\n",
    "            row = d.iloc[i]\n",
    "            plt.plot(row.X, color='red', label='clathrin')\n",
    "            plt.plot(row.Y, color='green', label='auxilin')\n",
    "            plt.axhline(642.3754691658837, color='gray', alpha=0.5)\n",
    "            plt.xlim([-1, lifetime_max + 1])\n",
    "            plt.title(row.pid)\n",
    "    #         plt.ylim([-10, max(max(df.X_max), max(df.Y_max)) + 1])\n",
    "            plt.axis('off')\n",
    "    plt.savefig(k + '.pdf')\n",
    "    plt.legend()\n",
    "    plt.tight_layout()\n",
    "#     plt.show()"
   ]
  },
  {
   "cell_type": "markdown",
   "metadata": {},
   "source": [
    "# visualize outcomes\n",
    "- take mean, take sigma, define events with a threshold"
   ]
  },
  {
   "cell_type": "code",
   "execution_count": 6,
   "metadata": {},
   "outputs": [
    {
     "data": {
      "image/png": "[encoded data removed]",
      "text/plain": [
       "<Figure size 432x288 with 1 Axes>"
      ]
     },
     "metadata": {},
     "output_type": "display_data"
    }
   ],
   "source": [
    "outcome = df[outcome_def]\n",
    "aux_pos = df['lifetime'][outcome==1] \n",
    "aux_neg = df['lifetime'][outcome==0] \n",
    "plt.hist(aux_pos, label='aux+', alpha=1, color=cb)\n",
    "plt.hist(aux_neg, label='aux-', alpha=0.7, color=cr)\n",
    "plt.xlabel('lifetime')\n",
    "plt.ylabel('count')\n",
    "plt.title(f'aux+: {aux_pos.shape[0]}, aux-: {aux_neg.shape[0]}, tot: {df.shape[0]}')\n",
    "plt.legend()\n",
    "plt.show()"
   ]
  },
  {
   "cell_type": "code",
   "execution_count": 6,
   "metadata": {},
   "outputs": [],
   "source": [
    "def sort_outcome(df, outcome_def):\n",
    "    outcome_score = df['Y_max'].values\n",
    "    idxs_sort = np.argsort(outcome_score)\n",
    "    return df[outcome_def].values[idxs_sort], df['Y'].values[idxs_sort]\n",
    "\n",
    "outcome_sort, Y_sort = sort_outcome(df, outcome_def)"
   ]
  },
  {
   "cell_type": "markdown",
   "metadata": {},
   "source": [
    "### Find rule-based model to define aux+"
   ]
  },
  {
   "cell_type": "code",
   "execution_count": 5,
   "metadata": {},
   "outputs": [],
   "source": [
    "verified_pids = data_tracks.get_labels()"
   ]
  },
  {
   "cell_type": "code",
   "execution_count": 6,
   "metadata": {},
   "outputs": [],
   "source": [
    "def cummax(arr):\n",
    "    res = [arr[0]]\n",
    "    for i in range(1, len(arr)):\n",
    "        res.append(max(arr[i], res[i-1]))\n",
    "    return res\n",
    "    \n",
    "def max_fall(arr):\n",
    "    cm = cummax(arr)\n",
    "    return np.max(np.array(cm) - np.array(arr))\n",
    "    \n",
    "def max_diff(arr):\n",
    "    return np.max(-np.diff(arr)) \n",
    "\n",
    "def max_absolute_fall(arr):\n",
    "    cm_rev = cummax(arr[::-1])[::-1]\n",
    "    return max(arr[i] - cm_rev[i+1] for i in range(len(arr)-1))"
   ]
  },
  {
   "cell_type": "code",
   "execution_count": 108,
   "metadata": {},
   "outputs": [],
   "source": [
    "# peak time\n",
    "df['Y_peak_time_frac'] = df['Y_peak_idx'].values / df['lifetime'].values\n",
    "df['peak_time_frac_diff'] = df['Y_peak_time_frac']  - df['X_peak_time_frac'] "
   ]
  },
  {
   "cell_type": "code",
   "execution_count": 473,
   "metadata": {},
   "outputs": [],
   "source": [
    "# local\n",
    "X_max_around_Y_peak = []\n",
    "X_max_before_Y_peak = []\n",
    "X_max_after_Y_peak = []\n",
    "X_max_fall_around_Y_peak = []  # max fall def: in a window around aux peak, max_{t_1>t_2} Cla(t_1) - Cla(t_2)\n",
    "X_max_diff_around_Y_peak = []  # max_{t in window} Cla(t) - Cla(t-1)\n",
    "X_max_abs_fall_around_Y_peak = []\n",
    "\n",
    "for i in range(len(df)):\n",
    "    pt = df['Y_peak_idx'].values[i]\n",
    "    lt = df['lifetime'].values[i]\n",
    "    left_bf = np.int(0.2 * lt)\n",
    "    right_bf = np.int(0.2 * lt)\n",
    "    arr_before = df['X'].iloc[i][: max(1, pt - left_bf)]\n",
    "    arr_around = df['X'].iloc[i][max(0, pt - left_bf): min(pt + right_bf, lt)]\n",
    "    arr_after = df['X'].iloc[i][min(pt + right_bf, lt - 1): ]\n",
    "    X_max_fall_around_Y_peak.append(max_fall(arr_around))\n",
    "    X_max_diff_around_Y_peak.append(max_diff(arr_around))\n",
    "    X_max_before_Y_peak.append(min(arr_before))\n",
    "    X_max_around_Y_peak.append(max(arr_around))\n",
    "    X_max_after_Y_peak.append(max(arr_after))\n",
    "    X_max_abs_fall_around_Y_peak.append(max_absolute_fall(arr_around))\n",
    "    \n",
    "df['X_max_fall_around_Y_peak'] = X_max_fall_around_Y_peak\n",
    "df['X_max_abs_fall_around_Y_peak'] = X_max_abs_fall_around_Y_peak\n",
    "df['X_max_diff_around_Y_peak'] = X_max_diff_around_Y_peak\n",
    "df['X_max_around_Y_peak'] = X_max_around_Y_peak\n",
    "df['X_max_before_Y_peak'] = X_max_before_Y_peak\n",
    "df['X_max_after_Y_peak'] = X_max_after_Y_peak\n",
    "df['X_max_diff_around_before'] = df['X_max_around_Y_peak'] - df['X_max_before_Y_peak']\n",
    "df['X_max_diff_around_after'] = df['X_max_around_Y_peak'] - df['X_max_after_Y_peak']\n",
    "df['y_z_score'] = (df['Y_max'].values - df['Y_mean'].values)/df['Y_std'].values"
   ]
  },
  {
   "cell_type": "code",
   "execution_count": 577,
   "metadata": {},
   "outputs": [],
   "source": [
    "def ols_coef(x, y):\n",
    "    cov_mat = np.cov(x, y)\n",
    "    coef = cov_mat[0, 1]/cov_mat[0, 0]\n",
    "    corr = cov_mat[0, 1]/np.sqrt(cov_mat[0, 0] * cov_mat[1, 1])\n",
    "    return coef, corr\n",
    "\n",
    "X_lr_coef_after_Y_peak = []\n",
    "X_lr_coef_before_Y_peak = []\n",
    "for i in range(len(df)):\n",
    "    pt = df['X_peak_idx'].values[i]\n",
    "    lt = df['lifetime'].values[i]\n",
    "    if lt - pt>1 and pt >= 1:\n",
    "        arr_after = df['X'].iloc[i][pt: min(pt+11, lt)]\n",
    "        coef, corr = ols_coef(np.array(range(pt, min(pt+11, lt))), arr_after)\n",
    "        coef_before, _ = ols_coef(np.array(range(max(pt-11, 0), pt + 1)), arr_before)\n",
    "        X_lr_coef_after_Y_peak.append(corr)\n",
    "        X_lr_coef_before_Y_peak.append(coef_before)\n",
    "    else:\n",
    "        X_lr_coef_after_Y_peak.append(0)\n",
    "        X_lr_coef_before_Y_peak.append(0)\n",
    "df['X_lr_coef_after_Y_peak'] = X_lr_coef_after_Y_peak\n",
    "df['X_lr_coef_before_Y_peak'] = X_lr_coef_before_Y_peak"
   ]
  },
  {
   "cell_type": "code",
   "execution_count": 169,
   "metadata": {},
   "outputs": [],
   "source": [
    "Y_feat_names = ['X_max',\n",
    "                'y_consec_sig', \n",
    "                'y_conservative_thresh', \n",
    "                'Y_peak_time_frac',\n",
    "                'Y_max',\n",
    "                'y_z_score',\n",
    "                #'y_score',\n",
    "                #'y_thresh',\n",
    "                #'peak_time_frac_diff',\n",
    "                #'y_num_sig',\n",
    "                #'X_max_fall_around_Y_peak',\n",
    "                #'X_lr_coef_after_Y_peak',\n",
    "                #'X_lr_coef_before_Y_peak',\n",
    "                #'X_max_diff_around_Y_peak',\n",
    "                #'X_max_abs_fall_around_Y_peak',\n",
    "                'X_max_diff', \n",
    "                #'X_max_diff_around_before'\n",
    "                ]"
   ]
  },
  {
   "cell_type": "code",
   "execution_count": 39,
   "metadata": {},
   "outputs": [],
   "source": [
    "import math\n",
    "def rule_based_label(t):\n",
    "    if t['Y_peak_time_frac'] < 0.2:\n",
    "        return 0\n",
    "    if t['y_consec_sig'] or t['y_conservative_thresh']:\n",
    "        return 1\n",
    "    if t['X_max_diff'] > 260 and t['y_z_score'] > 2.6:\n",
    "        return 1\n",
    "    return 0\n",
    "\n",
    "#p_label = np.array([rule_based_label(df_label_verified.iloc[i]) for i in range(len(df_label_verified))])\n",
    "\n",
    "#np.mean(p_label == df_label_verified[outcome_def].values)\n",
    "\n"
   ]
  },
  {
   "cell_type": "code",
   "execution_count": 96,
   "metadata": {},
   "outputs": [],
   "source": [
    "import math\n",
    "def rule_based_model(track):\n",
    "    if track['y_consec_sig'] or track['y_conservative_thresh']:\n",
    "        return 1\n",
    "    if track['X_max_diff'] > 350 and track['Y_max'] > 560:\n",
    "        return 1\n",
    "    return 0\n",
    "\n",
    "\n",
    "def get_rule_based_label(df):\n",
    "    \n",
    "    df['Y_peak_time_frac'] = df['Y_peak_idx'].values / df['lifetime'].values\n",
    "    df['y_z_score'] = (df['Y_max'].values - df['Y_mean'].values)/df['Y_std'].values\n",
    "    X_max_around_Y_peak = []\n",
    "    X_max_after_Y_peak = []\n",
    "    X_max_fall_around_Y_peak = []\n",
    "    for i in range(len(df)):\n",
    "        pt = df['Y_peak_idx'].values[i]\n",
    "        lt = df['lifetime'].values[i]\n",
    "        left_bf = np.int(0.2 * lt)\n",
    "        right_bf = np.int(0.1 * lt)\n",
    "        arr_around = df['X'].iloc[i][max(0, pt - left_bf): min(pt + right_bf, lt)]\n",
    "        arr_after = df['X'].iloc[i][min(pt + right_bf, lt - 1): ]\n",
    "        #X_max_fall_around_Y_peak.append(max_fall(arr_around))\n",
    "        X_max_around_Y_peak.append(max(arr_around))\n",
    "        X_max_after_Y_peak.append(max(arr_after))\n",
    "    #df['X_max_fall_around_Y_peak'] = X_max_fall_around_Y_peak\n",
    "    df['X_max_around_Y_peak'] = X_max_around_Y_peak\n",
    "    df['X_max_after_Y_peak'] = X_max_after_Y_peak\n",
    "    df['X_max_diff'] = df['X_max_around_Y_peak'] - df['X_max_after_Y_peak']\n",
    "    \n",
    "    df['y_rule_based'] = np.array([rule_based_model(df.iloc[i]) for i in range(len(df))])\n",
    "    return df\n",
    "    "
   ]
  },
  {
   "cell_type": "code",
   "execution_count": 97,
   "metadata": {},
   "outputs": [
    {
     "data": {
      "text/plain": [
       "0.9302779132130667"
      ]
     },
     "execution_count": 97,
     "metadata": {},
     "output_type": "execute_result"
    }
   ],
   "source": [
    "#df['y_rule_based'] = np.array([rule_based_label(df.iloc[i]) for i in range(len(df))])\n",
    "df = get_rule_based_label(df)\n",
    "#verified_pids = data_tracks.get_labels()\n",
    "outcome_def = 'y_consec_thresh' \n",
    "#df_label_verified = df[df.pid.isin(verified_pids['neg'] + verified_pids['pos'])]\n",
    "np.mean(df['y_rule_based'] == df[outcome_def].values)"
   ]
  },
  {
   "cell_type": "code",
   "execution_count": 172,
   "metadata": {},
   "outputs": [
    {
     "data": {
      "text/plain": [
       "0.937989163154726"
      ]
     },
     "execution_count": 172,
     "metadata": {},
     "output_type": "execute_result"
    }
   ],
   "source": [
    "outcome_def = 'y_consec_thresh' \n",
    "#df_label_verified = df[df.pid.isin(verified_pids['neg'] + verified_pids['pos'])]\n",
    "X = df[feat_names + Y_feat_names] \n",
    "y = df[outcome_def].values \n",
    "     \n",
    "m = RandomForestClassifier(n_estimators=100) \n",
    "#m = LogisticRegression()\n",
    "num_pts_by_fold_cv = [] \n",
    "cv_accuracy = [] \n",
    " \n",
    "cell_nums_train = np.array([1, 2, 3, 4, 5]) \n",
    "kf = KFold(n_splits=len(cell_nums_train)) \n",
    " \n",
    "for cv_idx, cv_val_idx in kf.split(cell_nums_train): \n",
    "     \n",
    "    idxs_test = df.cell_num.isin(cell_nums_train[np.array(cv_val_idx)]) \n",
    "    idxs_train = df.cell_num.isin(cell_nums_train[np.array(cv_idx)]) \n",
    "    X_test, Y_test = X[idxs_test], y[idxs_test] \n",
    "    X_train, Y_train = X[idxs_train], y[idxs_train] \n",
    "    num_pts_by_fold_cv.append(len(X_test)) \n",
    "    m.fit(X_train, Y_train) \n",
    "    cv_accuracy.append(m.score(X_test, Y_test)) \n",
    "     \n",
    "np.average(cv_accuracy, weights=num_pts_by_fold_cv)"
   ]
  },
  {
   "cell_type": "code",
   "execution_count": 33,
   "metadata": {},
   "outputs": [
    {
     "data": {
      "text/plain": [
       "array([0.04421338, 0.04018238, 0.19557851, 0.08435148, 0.06545535,\n",
       "       0.31853723, 0.14218359, 0.10949808])"
      ]
     },
     "execution_count": 33,
     "metadata": {},
     "output_type": "execute_result"
    }
   ],
   "source": [
    "m.feature_importances_"
   ]
  },
  {
   "cell_type": "code",
   "execution_count": null,
   "metadata": {},
   "outputs": [],
   "source": [
    "R, C = 4, 3\n",
    "plt.figure(figsize=(6, 4), dpi=200)\n",
    "lifetime_max = np.max(df.lifetime.values[:R*C])\n",
    "negs = np.where(df_label_verified['y_consec_thresh'] == 0)[0]\n",
    "k = 0\n",
    "for i in range(R * C):\n",
    "    plt.subplot(R, C, i + 1)\n",
    "    row = df.iloc[i]\n",
    "    while df_label_verified.iloc[negs[k]].X_max_diff_around_after < 500:\n",
    "        k += 1\n",
    "    #n1 = np.where(df['y_consec_thresh'] == 1)[0][i]\n",
    "    plt.plot(df_label_verified.iloc[negs[k]].X, color='red', label='clathrin')\n",
    "    plt.plot(df_label_verified.iloc[negs[k]].Y, color='green', label='auxilin')\n",
    "    plt.xlim((0, 100))\n",
    "    k += 1\n",
    "    #if not i == R * C - C:\n",
    "    #plt.yticks([])\n",
    "    #plt.xticks([])\n",
    "#plt.legend()\n",
    "plt.tight_layout()\n",
    "plt.show()"
   ]
  },
  {
   "cell_type": "code",
   "execution_count": null,
   "metadata": {},
   "outputs": [],
   "source": [
    "R, C = 6, 3\n",
    "plt.figure(figsize=(6, 6), dpi=200)\n",
    "lifetime_max = np.max(df.lifetime.values[:R*C])\n",
    "for i in range(R * C):\n",
    "    plt.subplot(R, C, i + 1)\n",
    "    n1 = np.where(df_label_verified['y_consec_thresh'] > )[0][i]\n",
    "    #n1 = np.where(df['y_consec_thresh'] == 1)[0][i]\n",
    "    plt.plot(df_label_verified.iloc[n1].X, color='red', label='clathrin')\n",
    "    plt.plot(df_label_verified.iloc[n1].Y, color='green', label='auxilin')\n",
    "    plt.xlim((0, 100))\n",
    "    #if not i == R * C - C:\n",
    "    #plt.yticks([])\n",
    "    #plt.xticks([])\n",
    "#plt.legend()\n",
    "plt.tight_layout()\n",
    "plt.show()"
   ]
  },
  {
   "cell_type": "code",
   "execution_count": 165,
   "metadata": {},
   "outputs": [],
   "source": [
    "from sklearn.manifold import TSNE\n",
    "df_no_consec = df[df.y_consec_sig == False]\n",
    "df_X = df_no_consec[Y_feat_names]"
   ]
  },
  {
   "cell_type": "code",
   "execution_count": 206,
   "metadata": {},
   "outputs": [],
   "source": [
    "from sklearn.decomposition import PCA, KernelPCA\n",
    "pca = PCA(n_components=2)\n",
    "X_new = pca.fit_transform(df_X)"
   ]
  },
  {
   "cell_type": "code",
   "execution_count": 207,
   "metadata": {},
   "outputs": [
    {
     "data": {
      "image/png": "[encoded data removed]",
      "text/plain": [
       "<Figure size 432x288 with 1 Axes>"
      ]
     },
     "metadata": {
      "needs_background": "dark"
     },
     "output_type": "display_data"
    }
   ],
   "source": [
    "fig, ax = plt.subplots()\n",
    "#X_new = X_new[np.where(df.y_consec_sig == False)[0],:]\n",
    "neg = np.where(df_no_consec[outcome_def] == False)[0]\n",
    "pos = np.where(df_no_consec[outcome_def] == True)[0]\n",
    "ax.scatter(X_new[neg,0], X_new[neg,1], c='purple', label='neg', alpha=.5, s=4)\n",
    "ax.scatter(X_new[pos,0], X_new[pos,1], c='yellow', label='pos', alpha=.5, s=4)\n",
    "ax.legend()\n",
    "ax.set_xlabel(\"pc 1\")\n",
    "ax.set_ylabel(\"pc 2\")\n",
    "plt.show()"
   ]
  },
  {
   "cell_type": "code",
   "execution_count": 208,
   "metadata": {},
   "outputs": [],
   "source": [
    "tsne = TSNE(n_components=2, perplexity=30)\n",
    "df_X = (df_X - df_X.mean()) / df_X.std()\n",
    "X_new = tsne.fit_transform(df_X)"
   ]
  },
  {
   "cell_type": "code",
   "execution_count": 211,
   "metadata": {},
   "outputs": [
    {
     "data": {
      "image/png": "[encoded data removed]",
      "text/plain": [
       "<Figure size 432x288 with 1 Axes>"
      ]
     },
     "metadata": {
      "needs_background": "dark"
     },
     "output_type": "display_data"
    }
   ],
   "source": [
    "fig, ax = plt.subplots()\n",
    "#X_new = X_new[np.where(df.y_consec_sig == False)[0],:]\n",
    "neg = np.where(df_no_consec[outcome_def] == False)[0]\n",
    "pos = np.where(df_no_consec[outcome_def] == True)[0]\n",
    "ax.scatter(X_new[neg,0], X_new[neg,1], c='purple', label='neg', alpha=.5, s=4)\n",
    "ax.scatter(X_new[pos,0], X_new[pos,1], c='yellow', label='pos', alpha=.5, s=4)\n",
    "ax.legend()\n",
    "ax.set_xlabel(\"dim 1\")\n",
    "ax.set_ylabel(\"dim 2\")\n",
    "plt.show()"
   ]
  },
  {
   "cell_type": "code",
   "execution_count": 202,
   "metadata": {},
   "outputs": [
    {
     "data": {
      "image/png": "[encoded data removed]",
      "text/plain": [
       "<Figure size 432x288 with 1 Axes>"
      ]
     },
     "metadata": {
      "needs_background": "dark"
     },
     "output_type": "display_data"
    }
   ],
   "source": [
    "fig, ax = plt.subplots()\n",
    "neg = np.where(df_no_consec[outcome_def] == False)[0]\n",
    "pos = np.where(df_no_consec[outcome_def] == True)[0]\n",
    "ax.scatter(df_no_consec['Y_max'].values[neg], df_no_consec['X_max_diff'].values[neg], c='purple', label='neg', alpha=.5, s=4)\n",
    "ax.scatter(df_no_consec['Y_max'].values[pos], df_no_consec['X_max_diff'].values[pos], c='yellow', label='pos', alpha=.5, s=4)\n",
    "ax.legend()\n",
    "ax.set_ylim((-2000, 2000))\n",
    "ax.set_xlim((0, 2000))\n",
    "ax.set_xlabel(\"Y_max\")\n",
    "ax.set_ylabel(\"X_max_diff\")\n",
    "plt.show()"
   ]
  },
  {
   "cell_type": "code",
   "execution_count": 173,
   "metadata": {},
   "outputs": [],
   "source": [
    "def extract_X_mat(df):\n",
    "    p1 = max(df['X_peak_idx'].values)\n",
    "    p2 = max(df['lifetime'].values - df['X_peak_idx'].values)\n",
    "    n = df.shape[0]\n",
    "    X_mat = np.zeros((n, p1 + p2)).astype(np.float32)\n",
    "    X = df['X'].values\n",
    "    for i in range(n):\n",
    "        x = X[i]\n",
    "        start = (p1 - df['X_peak_idx'].values[i])\n",
    "        end = start + df['lifetime'].values[i]\n",
    "        X_mat[i, start:end] = x\n",
    "    X_mat = np.nan_to_num(X_mat)\n",
    "    #X_mat -= np.min(X_mat)\n",
    "    #X_mat /= np.std(X_mat)\n",
    "    return X_mat"
   ]
  },
  {
   "cell_type": "code",
   "execution_count": 174,
   "metadata": {},
   "outputs": [],
   "source": [
    "df_X_mat = extract_X_mat(df)"
   ]
  },
  {
   "cell_type": "code",
   "execution_count": 176,
   "metadata": {},
   "outputs": [],
   "source": [
    "from sklearn.decomposition import PCA, KernelPCA\n",
    "pca = PCA(n_components=2)\n",
    "X_max_aligned = pca.fit_transform(df_X_mat)"
   ]
  },
  {
   "cell_type": "code",
   "execution_count": 180,
   "metadata": {},
   "outputs": [
    {
     "data": {
      "image/png": "[encoded data removed]",
      "text/plain": [
       "<Figure size 432x288 with 1 Axes>"
      ]
     },
     "metadata": {
      "needs_background": "dark"
     },
     "output_type": "display_data"
    }
   ],
   "source": [
    "fig, ax = plt.subplots()\n",
    "#X_new = X_new[np.where(df.y_consec_sig == False)[0],:]\n",
    "neg = np.where(df[outcome_def] == False)[0]\n",
    "pos = np.where(df[outcome_def] == True)[0]\n",
    "ax.scatter(X_max_aligned[neg,0], X_max_aligned[neg,1], c='purple', label='neg', alpha=.5, s=4)\n",
    "#ax.scatter(X_max_aligned[pos,0], X_max_aligned[pos,1], c='yellow', label='pos', alpha=.5, s=4)\n",
    "ax.legend()\n",
    "plt.show()"
   ]
  },
  {
   "cell_type": "code",
   "execution_count": 192,
   "metadata": {},
   "outputs": [
    {
     "data": {
      "text/plain": [
       "(2051, 247)"
      ]
     },
     "execution_count": 192,
     "metadata": {},
     "output_type": "execute_result"
    }
   ],
   "source": [
    "df_X_mat.shape"
   ]
  },
  {
   "cell_type": "code",
   "execution_count": 199,
   "metadata": {},
   "outputs": [],
   "source": [
    "tsne = TSNE(n_components=2, perplexity=150)\n",
    "df_X_mat = (df_X_mat - df_X_mat.mean()) / df_X_mat.std()\n",
    "X_new = tsne.fit_transform(df_X_mat)"
   ]
  },
  {
   "cell_type": "code",
   "execution_count": 200,
   "metadata": {},
   "outputs": [
    {
     "data": {
      "image/png": "[encoded data removed]",
      "text/plain": [
       "<Figure size 432x288 with 1 Axes>"
      ]
     },
     "metadata": {
      "needs_background": "dark"
     },
     "output_type": "display_data"
    }
   ],
   "source": [
    "fig, ax = plt.subplots()\n",
    "#X_new = X_new[np.where(df.y_consec_sig == False)[0],:]\n",
    "neg = np.where(df[outcome_def] == False)[0]\n",
    "pos = np.where(df[outcome_def] == True)[0]\n",
    "ax.scatter(X_new[neg,0], X_new[neg,1], c='purple', label='neg', alpha=.5, s=4)\n",
    "ax.scatter(X_new[pos,0], X_new[pos,1], c='yellow', label='pos', alpha=.5, s=4)\n",
    "ax.legend()\n",
    "plt.show()"
   ]
  },
  {
   "cell_type": "markdown",
   "metadata": {},
   "source": [
    "# viz curves"
   ]
  },
  {
   "cell_type": "code",
   "execution_count": null,
   "metadata": {},
   "outputs": [],
   "source": [
    "viz.plot_curves(df[df.pid.isin(data_tracks.get_labels()['hotspots'])])"
   ]
  },
  {
   "cell_type": "code",
   "execution_count": null,
   "metadata": {},
   "outputs": [],
   "source": [
    "R, C = 4, 5\n",
    "# plt.figure(dpi=200)\n",
    "plt.figure(figsize=(9, 8), dpi=200)\n",
    "n = Y_sort.shape[0]\n",
    "# idxs = list(range(10)) + list(range(n - 10, n)) # let's look at the top / bot\n",
    "idxs = list(range(num_neg - 40, num_neg + 40)) # let's look at ones in the middle\n",
    "for i in range(R * C):\n",
    "    plt.subplot(R, C, i + 1)\n",
    "    idx = idxs[i]\n",
    "    plt.plot(Y_sort[idx], color=cr if outcome_sort[idx] == 0 else cb)\n",
    "#     plt.axis('off')\n",
    "plt.tight_layout()"
   ]
  },
  {
   "cell_type": "markdown",
   "metadata": {},
   "source": [
    "**compare as a func of aux_max**"
   ]
  },
  {
   "cell_type": "code",
   "execution_count": null,
   "metadata": {},
   "outputs": [],
   "source": [
    "R, C = 20, 28\n",
    "# plt.figure(dpi=200)\n",
    "plt.figure(figsize=(28, 20))\n",
    "n = Y_sort.shape[0] # 1434\n",
    "\n",
    "idxs = np.array([np.arange(int(i), int(i) + C) for i in np.linspace(0, n - C, R)]).flatten() #list(range(10)) + list(range(n - 10, n))\n",
    "Ys = Y_sort[idxs]\n",
    "ymin = -200\n",
    "ymax = 4000\n",
    "\n",
    "for i in range(R * C):\n",
    "    plt.subplot(R, C, i + 1)\n",
    "    idx = idxs[i]\n",
    "    plt.plot(Ys[i], color=cr if outcome_sort[idx] == 0 else cb, lw=1)\n",
    "    plt.ylim((ymin - 1, ymax + 1))\n",
    "    plt.xlim((0, 120))\n",
    "    if not i == R * C - C:\n",
    "        plt.yticks([])\n",
    "        plt.xticks([])\n",
    "    if i % C == 0:\n",
    "        plt.ylabel(f'{np.max(Ys[i]):.0f}')\n",
    "#     plt.axis('off')\n",
    "plt.tight_layout()\n",
    "plt.subplots_adjust(hspace=0, wspace=0)\n",
    "plt.savefig('def.pdf')"
   ]
  },
  {
   "cell_type": "code",
   "execution_count": null,
   "metadata": {},
   "outputs": [],
   "source": [
    "aux_plus = df[outcome_def] == 1\n",
    "plt.hist(df[aux_plus]['Y_max'], color=cb, label='aux+', bins=100)\n",
    "plt.hist(df[~aux_plus]['Y_max'], color=cr, label='aux-', alpha=0.7, bins=100)\n",
    "plt.xlabel('aux_max')\n",
    "plt.ylabel('count')\n",
    "plt.legend()\n",
    "plt.show()"
   ]
  },
  {
   "cell_type": "markdown",
   "metadata": {},
   "source": [
    "**look at hotspots**"
   ]
  },
  {
   "cell_type": "code",
   "execution_count": 16,
   "metadata": {},
   "outputs": [
    {
     "name": "stdout",
     "output_type": "stream",
     "text": [
      "loading + preprocessing data...\n",
      "\tloading tracks...\n",
      "\tpreprocessing data...\n",
      "\tadding features...\n",
      "dict features not added!\n"
     ]
    }
   ],
   "source": [
    "dfh = data_tracks.get_data(use_processed=True, remove_hotspots=False,\n",
    "                         processed_file='processed/df_with_hotspots.pkl', metadata_file='processed/metadata_with_hotspots.pkl',)"
   ]
  },
  {
   "cell_type": "code",
   "execution_count": null,
   "metadata": {},
   "outputs": [],
   "source": [
    "dh = dfh[df.hotspots==1]\n",
    "R = int(np.sqrt(dh.shape[0]))\n",
    "C = (dh.shape[0] // R) + 1\n",
    "plt.figure(figsize=(C, R), dpi=200)\n",
    "\n",
    "for i in range(R * C):\n",
    "    if i < dh.shape[0]:\n",
    "        ax = plt.subplot(R, C, i + 1)\n",
    "        row = dh.iloc[i]\n",
    "        plt.axis('off')\n",
    "        Y = np.array(row['Y'])\n",
    "        ts = np.arange(Y.size)\n",
    "        plt.plot(ts, np.array(row['X']), color=cr, lw=1)\n",
    "        plt.plot(ts, Y, color='green', lw=1)\n",
    "        plt.plot(ts[row['sig_idxs']==True], Y[row['sig_idxs']], 'o', color='white', ms=1, alpha=0.5)\n",
    "\n",
    "    #     plt.plot(dh.iloc[i]['X'], color='red')\n",
    "        ax.text(.5, .9, f'{i}',\n",
    "                         horizontalalignment='right',\n",
    "                         transform=ax.transAxes)\n",
    "\n",
    "\n",
    "        plt.ylim((-1000, 4000))\n",
    "        plt.xlim((0, 120))\n",
    "\n",
    "# plt.suptitle(f'clath divided by 2 to fit on same scale xscale is 120')\n",
    "plt.tight_layout()\n",
    "plt.savefig('hotspots.pdf')\n",
    "plt.show()"
   ]
  },
  {
   "cell_type": "markdown",
   "metadata": {},
   "source": [
    "# compare different outcome defs"
   ]
  },
  {
   "cell_type": "code",
   "execution_count": null,
   "metadata": {},
   "outputs": [],
   "source": [
    "keys = ['y_thresh', 'y_single_sig', 'y_double_sig', 'y_consec_sig', 'y']\n",
    "mat = df[keys] #.corr()# make fig\n",
    "# plt.figure(dpi=200)\n",
    "# sns.heatmap(mat.corr(method='spearman'), annot=True,\n",
    "#             cmap=sns.diverging_palette(10, 240, as_cmap=True, center='light'), vmin=-1, vmax=1)\n",
    "# plt.show()\n",
    "\n",
    "plt.figure(dpi=200)\n",
    "sns.barplot(x=keys, y=mat.sum(), color=cb, alpha=1)\n",
    "plt.ylabel('num aux+')\n",
    "plt.xlabel('aux+ definition')"
   ]
  },
  {
   "cell_type": "code",
   "execution_count": null,
   "metadata": {},
   "outputs": [],
   "source": [
    "plt.figure(dpi=200)\n",
    "idxs = np.arange(df.shape[0])\n",
    "keys = ['y_thresh', 'y_single_sig', 'y_consec_sig']\n",
    "venn3([set(idxs[df[keys[0]] == 1]), set(idxs[df[keys[1]] == 1]), set(idxs[df[keys[2]] == 1])], keys)\n",
    "plt.show()"
   ]
  },
  {
   "cell_type": "markdown",
   "metadata": {},
   "source": [
    "# analyze aux+ p-value / amplitude defs"
   ]
  },
  {
   "cell_type": "code",
   "execution_count": 4,
   "metadata": {},
   "outputs": [],
   "source": [
    "aux = df.Y\n",
    "aux_p = df.Y_pvals\n",
    "\n",
    "ys = np.array(list(itertools.chain.from_iterable(aux)))\n",
    "ps = np.array(list(itertools.chain.from_iterable(aux_p.values)))\n",
    "\n",
    "ps_sig = ps < 0.05"
   ]
  },
  {
   "cell_type": "code",
   "execution_count": null,
   "metadata": {},
   "outputs": [],
   "source": [
    "R = 1\n",
    "C = 2\n",
    "plt.figure(figsize=(8, 4), dpi=200)\n",
    "plt.subplot(R, C, 1)\n",
    "plt.hist(ps, bins=100, color=cb) #ps[(ps < 0.5) * (ps > 0.01)])\n",
    "plt.yscale('log')\n",
    "plt.axvline(0.05, color=cr)\n",
    "plt.xlabel('auxilin p-value')\n",
    "plt.ylabel('count (log-scale)')\n",
    "# plt.xscale('log')\n",
    "# plt.ylabel()\n",
    "# plt.xlim((0, 0.1))\n",
    "print(f'num sig {np.sum(ps_sig):,d}')\n",
    "print(f'num nonsig {np.sum(~ps_sig):,d}')\n",
    "\n",
    "plt.subplot(R, C, 2)\n",
    "ys_sig = ys[ps_sig]\n",
    "(counts, bins, _) = plt.hist(ys_sig, bins=180, color=cb) #ps[(ps < 0.5) * (ps > 0.01)])\n",
    "idx_max = np.argmax(counts)\n",
    "aux_max = bins[idx_max]\n",
    "plt.axvline(aux_max, color=cr)\n",
    "plt.xlabel('auxilin amplitude')\n",
    "plt.ylabel('count')\n",
    "plt.tight_layout()\n",
    "plt.show()\n",
    "\n",
    "print('aux_max', aux_max)"
   ]
  },
  {
   "cell_type": "code",
   "execution_count": null,
   "metadata": {},
   "outputs": [],
   "source": [
    "ys_sig = ys_sig.reshape(-1, 1)\n",
    "mog = mixture.GaussianMixture(n_components=3)\n",
    "mog.fit(ys_sig.reshape(-1, 1))\n",
    "preds = mog.predict(ys_sig.reshape(-1, 1))\n",
    "\n",
    "# plot hist\n",
    "plt.figure(dpi=200)\n",
    "plt.hist(ys_sig, bins=bins, alpha=1, color=cb) #ps[(ps < 0.5) * (ps > 0.01)])\n",
    "samples, comps = mog.sample(n_samples=ys_sig.size) \n",
    "for i in [0, 2, 1]:\n",
    "    idxs = comps==i\n",
    "    plt.hist(samples[idxs], bins=bins, alpha=0.75, label=f'{mog.means_[i, 0]}')\n",
    "plt.axvline(aux_max, color='white')\n",
    "# plt.legend()\n",
    "\n",
    "plt.xlabel('auxilin amplitude (significant only)')\n",
    "plt.ylabel('count')\n",
    "plt.show()"
   ]
  }
 ],
 "metadata": {
  "kernelspec": {
   "display_name": "Python 3",
   "language": "python",
   "name": "python3"
  },
  "language_info": {
   "codemirror_mode": {
    "name": "ipython",
    "version": 3
   },
   "file_extension": ".py",
   "mimetype": "text/x-python",
   "name": "python",
   "nbconvert_exporter": "python",
   "pygments_lexer": "ipython3",
   "version": "3.7.5"
  }
 },
 "nbformat": 4,
 "nbformat_minor": 4
}
