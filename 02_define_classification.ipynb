{
 "cells": [
  {
   "cell_type": "code",
   "execution_count": null,
   "metadata": {},
   "outputs": [],
   "source": [
    "%matplotlib inline\n",
    "%load_ext autoreload\n",
    "%autoreload 2\n",
    "from matplotlib import pyplot as plt\n",
    "import seaborn as sns\n",
    "import numpy as np\n",
    "import os\n",
    "from os.path import join as oj\n",
    "from sklearn.feature_extraction.image import extract_patches_2d\n",
    "from sklearn.linear_model import LinearRegression, LogisticRegression, RidgeCV\n",
    "from sklearn.neural_network import MLPRegressor, MLPClassifier\n",
    "from sklearn.model_selection import cross_validate, train_test_split\n",
    "from sklearn.ensemble import RandomForestClassifier\n",
    "from sklearn.tree import DecisionTreeClassifier\n",
    "from sklearn.svm import SVC\n",
    "from sklearn import metrics\n",
    "import eli5\n",
    "import numpy as np\n",
    "from collections import Counter\n",
    "from sklearn.datasets import make_classification\n",
    "from torch import nn\n",
    "import torch.nn.functional as F\n",
    "import torch\n",
    "from copy import deepcopy\n",
    "from sklearn import metrics\n",
    "plt.style.use('dark_background')\n",
    "import mat4py\n",
    "import pandas as pd\n",
    "import data_tracks\n",
    "import models\n",
    "from imblearn.over_sampling import RandomOverSampler\n",
    "from sklearn.model_selection import KFold\n",
    "from colorama import Fore\n",
    "import pickle as pkl\n",
    "from tqdm import tqdm\n",
    "from style import *\n",
    "from sklearn import decomposition\n",
    "import matplotlib.gridspec as grd\n",
    "import itertools\n",
    "from sklearn import mixture\n",
    "from matplotlib_venn import venn3, venn2\n",
    "import viz"
   ]
  },
  {
   "cell_type": "markdown",
   "metadata": {},
   "source": [
    "**note: the analysis in this nb can be run for df (the full data) or df2 (the data after removing tracks by lifetime)**"
   ]
  },
  {
   "cell_type": "code",
   "execution_count": null,
   "metadata": {},
   "outputs": [],
   "source": [
    "outcome_def = 'y_consec_sig'\n",
    "'''        \n",
    "df = data_tracks.get_tracks() # note: different Xs can be different shapes\n",
    "df = data_tracks.remove_invalid_tracks(df)\n",
    "df = data_tracks.preprocess(df)\n",
    "df = data_tracks.add_outcomes(df)\n",
    "df2 = data_tracks.remove_tracks_by_lifetime(df, outcome_key=outcome_key, plot=False, acc_thresh=0.90)\n",
    "df2 = data_tracks.remove_tracks_by_aux_peak_time(df2)\n",
    "'''\n",
    "\n",
    "# df2 has already removed everything\n",
    "df2 = data_tracks.get_data(use_processed=False, use_processed_dicts=False, \n",
    "                           outcome_def=outcome_def)"
   ]
  },
  {
   "cell_type": "code",
   "execution_count": 7,
   "metadata": {},
   "outputs": [
    {
     "name": "stdout",
     "output_type": "stream",
     "text": [
      "num_tracks_orig 11414\n",
      "num_tracks_valid 8707\n",
      "num_aux_pos_valid 1726\n",
      "num_short 5809\n",
      "num_long 190\n",
      "acc_short 0.8970562919607505\n",
      "acc_long 0.9\n",
      "thresh_short 37\n",
      "thresh_long 129\n",
      "num_tracks_after_lifetime 1595\n",
      "num_aux_pos_after_lifetime 957\n",
      "num_tracks_after_peak_time 1434\n",
      "num_aux_pos_after_peak_time 889\n"
     ]
    }
   ],
   "source": [
    "# look at the metadata\n",
    "metadata_file = 'processed/metadata.pkl'\n",
    "metadata = pkl.load(open(metadata_file, 'rb'))\n",
    "for k, v in metadata.items():\n",
    "    print(k, v)"
   ]
  },
  {
   "cell_type": "markdown",
   "metadata": {},
   "source": [
    "# visualize outcomes\n",
    "- take mean, take sigma, define events with a threshold"
   ]
  },
  {
   "cell_type": "code",
   "execution_count": 4,
   "metadata": {},
   "outputs": [
    {
     "data": {
      "image/png": "[encoded data removed]",
      "text/plain": [
       "<Figure size 432x288 with 1 Axes>"
      ]
     },
     "metadata": {
      "needs_background": "dark"
     },
     "output_type": "display_data"
    }
   ],
   "source": [
    "outcome = df2[outcome_def]\n",
    "aux_pos = df2['lifetime'][outcome==1] \n",
    "aux_neg = df2['lifetime'][outcome==0] \n",
    "plt.hist(aux_pos, label='aux+', alpha=1, color=cb)\n",
    "plt.hist(aux_neg, label='aux-', alpha=0.7, color=cr)\n",
    "plt.xlabel('lifetime')\n",
    "plt.ylabel('count')\n",
    "plt.title(f'aux+: {aux_pos.shape[0]}, aux-: {aux_neg.shape[0]}, tot: {df2.shape[0]}')\n",
    "plt.legend()\n",
    "plt.show()"
   ]
  },
  {
   "cell_type": "code",
   "execution_count": 14,
   "metadata": {},
   "outputs": [],
   "source": [
    "def sort_outcome(df, outcome_def):\n",
    "    outcome_score = df['Y_max'].values\n",
    "    idxs_sort = np.argsort(outcome_score)\n",
    "    return df[outcome_def].values[idxs_sort], df['Y'].values[idxs_sort]\n",
    "\n",
    "# outcome_sort, Y_sort = sort_outcome(df, outcome_key='y_thresh')\n",
    "outcome_sort, Y_sort = sort_outcome(df2, outcome_def)"
   ]
  },
  {
   "cell_type": "markdown",
   "metadata": {},
   "source": [
    "**top and bottom**"
   ]
  },
  {
   "cell_type": "code",
   "execution_count": null,
   "metadata": {},
   "outputs": [],
   "source": [
    "R, C = 4, 5\n",
    "# plt.figure(dpi=200)\n",
    "plt.figure(figsize=(9, 8), dpi=200)\n",
    "n = Y_sort.shape[0]\n",
    "idxs = list(range(10)) + list(range(n - 10, n))\n",
    "for i in range(R * C):\n",
    "    plt.subplot(R, C, i + 1)\n",
    "    idx = idxs[i]\n",
    "    plt.plot(Y_sort[idx], color='green') #color=cr if outcome_sort[idx] == 0 else cb)\n",
    "#     plt.axis('off')\n",
    "plt.tight_layout()"
   ]
  },
  {
   "cell_type": "markdown",
   "metadata": {},
   "source": [
    "**around the thresh**"
   ]
  },
  {
   "cell_type": "code",
   "execution_count": null,
   "metadata": {},
   "outputs": [],
   "source": [
    "R, C = 8, 10\n",
    "# plt.figure(dpi=200)\n",
    "plt.figure(figsize=(18, 12))\n",
    "idxs = list(range(num_neg - 40, num_neg + 40)) # let's look at ones in the middle\n",
    "for i in range(R * C):\n",
    "    plt.subplot(R, C, i + 1)\n",
    "    idx = idxs[i]\n",
    "    plt.plot(Y_sort[idx], color='blue' if outcome_sort[idx] == 0 else 'orange')\n",
    "#     plt.axis('off')\n",
    "plt.tight_layout()"
   ]
  },
  {
   "cell_type": "markdown",
   "metadata": {},
   "source": [
    "**compare different outcome defs**"
   ]
  },
  {
   "cell_type": "code",
   "execution_count": null,
   "metadata": {},
   "outputs": [],
   "source": [
    "keys = ['y_thresh', 'y_single_sig', 'y_double_sig', 'y_consec_sig', 'y']\n",
    "mat = df[keys] #.corr()# make fig\n",
    "# plt.figure(dpi=200)\n",
    "# sns.heatmap(mat.corr(method='spearman'), annot=True,\n",
    "#             cmap=sns.diverging_palette(10, 240, as_cmap=True, center='light'), vmin=-1, vmax=1)\n",
    "# plt.show()\n",
    "\n",
    "plt.figure(dpi=200)\n",
    "sns.barplot(x=keys, y=mat.sum(), color=cb, alpha=1)\n",
    "plt.ylabel('num aux+')\n",
    "plt.xlabel('aux+ definition')"
   ]
  },
  {
   "cell_type": "code",
   "execution_count": null,
   "metadata": {},
   "outputs": [],
   "source": [
    "plt.figure(dpi=200)\n",
    "idxs = np.arange(df.shape[0])\n",
    "keys = ['y_thresh', 'y_single_sig', 'y_consec_sig']\n",
    "venn3([set(idxs[df[keys[0]] == 1]), set(idxs[df[keys[1]] == 1]), set(idxs[df[keys[2]] == 1])], keys)\n",
    "plt.show()"
   ]
  },
  {
   "cell_type": "code",
   "execution_count": null,
   "metadata": {},
   "outputs": [],
   "source": [
    "plt.figure(dpi=200)\n",
    "idxs = np.arange(df.shape[0])\n",
    "keys = ['y_single_sig', 'y_thresh']\n",
    "venn2([set(idxs[df[keys[0]] == 1]), set(idxs[df[keys[1]] == 1])], keys[:2])\n",
    "plt.show()"
   ]
  },
  {
   "cell_type": "markdown",
   "metadata": {},
   "source": [
    "**compare as a func of aux_max**"
   ]
  },
  {
   "cell_type": "code",
   "execution_count": null,
   "metadata": {},
   "outputs": [],
   "source": [
    "R, C = 20, 28\n",
    "# plt.figure(dpi=200)\n",
    "plt.figure(figsize=(28, 20))\n",
    "n = Y_sort.shape[0] # 1434\n",
    "\n",
    "idxs = np.array([np.arange(int(i), int(i) + C) for i in np.linspace(0, n - C, R)]).flatten() #list(range(10)) + list(range(n - 10, n))\n",
    "Ys = Y_sort[idxs]\n",
    "ymin = -200\n",
    "ymax = 4000\n",
    "\n",
    "for i in range(R * C):\n",
    "    plt.subplot(R, C, i + 1)\n",
    "    idx = idxs[i]\n",
    "    plt.plot(Ys[i], color=cr if outcome_sort[idx] == 0 else cb, lw=1)\n",
    "    plt.ylim((ymin - 1, ymax + 1))\n",
    "    plt.xlim((0, 120))\n",
    "    if not i == R * C - C:\n",
    "        plt.yticks([])\n",
    "        plt.xticks([])\n",
    "#     plt.axis('off')\n",
    "plt.tight_layout()\n",
    "plt.subplots_adjust(hspace=0, wspace=0)\n",
    "plt.savefig('def.pdf')"
   ]
  },
  {
   "cell_type": "code",
   "execution_count": null,
   "metadata": {},
   "outputs": [],
   "source": [
    "aux_plus = df2[outcome_def] == 1\n",
    "plt.hist(df2[aux_plus]['Y_max'], color=cb, label='aux+', bins=100)\n",
    "plt.hist(df2[~aux_plus]['Y_max'], color=cr, label='aux-', alpha=0.7, bins=100)\n",
    "plt.xlabel('aux_max')\n",
    "plt.ylabel('count')\n",
    "plt.legend()\n",
    "plt.show()"
   ]
  },
  {
   "cell_type": "markdown",
   "metadata": {},
   "source": [
    "# viz tracks where auxilin peaks first"
   ]
  },
  {
   "cell_type": "code",
   "execution_count": null,
   "metadata": {},
   "outputs": [],
   "source": [
    "outcomes = ['y_consec_sig'] # ['y_thresh', 'y_single_sig', 'y_consec_sig']\n",
    "for outcome in outcomes:\n",
    "    X_peak_idx = df2['X_peak_idx'] #np.array([np.argmax(x) for x in df2.X])\n",
    "    Y_peak_idx = df2['Y_peak_idx'] # np.array([np.argmax(y) for y in df2.Y])\n",
    "    idxs_err = Y_peak_idx < X_peak_idx\n",
    "    df_err = df2[idxs_err]\n",
    "    df_err_pos = df_err[df_err[outcome] == 1]\n",
    "    num_pos = df2[df2[outcome] == 1].shape[0]\n",
    "    num_pos_err = df_err_pos.shape[0] \n",
    "    frac_pos_err = num_pos_err / num_pos\n",
    "    print('num tot', df2.shape[0], 'num aux peaks first', df_err.shape[0], f'frac pos aux peaks first {frac_pos_err:0.3f}')\n",
    "    viz.plot_curves(df_err_pos)"
   ]
  },
  {
   "cell_type": "code",
   "execution_count": null,
   "metadata": {},
   "outputs": [],
   "source": [
    "plt.figure(dpi=300)\n",
    "plt.hist(df_err_pos.lifetime, bins=20, color=cb)\n",
    "plt.xlabel('lifetime')\n",
    "plt.ylabel('count')\n",
    "plt.title('aux+ with auxilin peaking first')\n",
    "plt.show()"
   ]
  },
  {
   "cell_type": "code",
   "execution_count": null,
   "metadata": {},
   "outputs": [],
   "source": [
    "R, C = 2, 1\n",
    "plt.figure(dpi=200)\n",
    "plt.subplot(R, C, 1)\n",
    "plt.hist(X_peak_idx[idxs_err], color=cr)\n",
    "plt.xlabel('Clathrin peak time')\n",
    "plt.ylabel('Count')\n",
    "plt.subplot(R, C, 2)\n",
    "plt.hist(Y_peak_idx[idxs_err], color=cr)\n",
    "plt.xlabel('Auxilin peak time')\n",
    "plt.ylabel('Count')\n",
    "plt.tight_layout()"
   ]
  },
  {
   "cell_type": "markdown",
   "metadata": {},
   "source": [
    "# analyze aux+ p-value / amplitude defs"
   ]
  },
  {
   "cell_type": "code",
   "execution_count": 4,
   "metadata": {},
   "outputs": [],
   "source": [
    "aux = df.Y\n",
    "aux_p = df.Y_pvals\n",
    "\n",
    "ys = np.array(list(itertools.chain.from_iterable(aux)))\n",
    "ps = np.array(list(itertools.chain.from_iterable(aux_p.values)))\n",
    "\n",
    "ps_sig = ps < 0.05"
   ]
  },
  {
   "cell_type": "code",
   "execution_count": null,
   "metadata": {},
   "outputs": [],
   "source": [
    "R = 1\n",
    "C = 2\n",
    "plt.figure(figsize=(8, 4), dpi=200)\n",
    "plt.subplot(R, C, 1)\n",
    "plt.hist(ps, bins=100, color=cb) #ps[(ps < 0.5) * (ps > 0.01)])\n",
    "plt.yscale('log')\n",
    "plt.axvline(0.05, color=cr)\n",
    "plt.xlabel('auxilin p-value')\n",
    "plt.ylabel('count (log-scale)')\n",
    "# plt.xscale('log')\n",
    "# plt.ylabel()\n",
    "# plt.xlim((0, 0.1))\n",
    "print(f'num sig {np.sum(ps_sig):,d}')\n",
    "print(f'num nonsig {np.sum(~ps_sig):,d}')\n",
    "\n",
    "plt.subplot(R, C, 2)\n",
    "ys_sig = ys[ps_sig]\n",
    "(counts, bins, _) = plt.hist(ys_sig, bins=180, color=cb) #ps[(ps < 0.5) * (ps > 0.01)])\n",
    "idx_max = np.argmax(counts)\n",
    "aux_max = bins[idx_max]\n",
    "plt.axvline(aux_max, color=cr)\n",
    "plt.xlabel('auxilin amplitude')\n",
    "plt.ylabel('count')\n",
    "plt.tight_layout()\n",
    "plt.show()\n",
    "\n",
    "print('aux_max', aux_max)"
   ]
  },
  {
   "cell_type": "code",
   "execution_count": null,
   "metadata": {},
   "outputs": [],
   "source": [
    "ys_sig = ys_sig.reshape(-1, 1)\n",
    "mog = mixture.GaussianMixture(n_components=3)\n",
    "mog.fit(ys_sig.reshape(-1, 1))\n",
    "preds = mog.predict(ys_sig.reshape(-1, 1))\n",
    "\n",
    "# plot hist\n",
    "plt.figure(dpi=200)\n",
    "plt.hist(ys_sig, bins=bins, alpha=1, color=cb) #ps[(ps < 0.5) * (ps > 0.01)])\n",
    "samples, comps = mog.sample(n_samples=ys_sig.size) \n",
    "for i in [0, 2, 1]:\n",
    "    idxs = comps==i\n",
    "    plt.hist(samples[idxs], bins=bins, alpha=0.75, label=f'{mog.means_[i, 0]}')\n",
    "plt.axvline(aux_max, color='white')\n",
    "# plt.legend()\n",
    "\n",
    "plt.xlabel('auxilin amplitude (significant only)')\n",
    "plt.ylabel('count')\n",
    "plt.show()"
   ]
  }
 ],
 "metadata": {
  "kernelspec": {
   "display_name": "Python 3",
   "language": "python",
   "name": "python3"
  },
  "language_info": {
   "codemirror_mode": {
    "name": "ipython",
    "version": 3
   },
   "file_extension": ".py",
   "mimetype": "text/x-python",
   "name": "python",
   "nbconvert_exporter": "python",
   "pygments_lexer": "ipython3",
   "version": "3.7.5"
  }
 },
 "nbformat": 4,
 "nbformat_minor": 4
}
