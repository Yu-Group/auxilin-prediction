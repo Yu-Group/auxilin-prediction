{
 "cells": [
  {
   "cell_type": "code",
   "execution_count": 1,
   "metadata": {},
   "outputs": [],
   "source": [
    "%matplotlib inline\n",
    "%load_ext autoreload\n",
    "%autoreload 2\n",
    "from matplotlib import pyplot as plt\n",
    "import seaborn as sns\n",
    "from os.path import join as oj\n",
    "import os\n",
    "import numpy as np\n",
    "from copy import deepcopy\n",
    "plt.style.use('dark_background')\n",
    "import mat4py\n",
    "import data\n",
    "import config\n",
    "import pickle as pkl\n",
    "from style import *\n",
    "import viz\n",
    "import trend_filtering\n",
    "outcome_def = 'y_consec_thresh'"
   ]
  },
  {
   "cell_type": "code",
   "execution_count": 3,
   "metadata": {},
   "outputs": [
    {
     "data": {
      "text/plain": [
       "['CLTA-TagRFP EGFP-Aux1-A7D2 EGFP-GAK-F6',\n",
       " 'CLTA-TagRFP EGFP-Aux1 EGFP-GAK F6',\n",
       " 'CLTA-TagRFP EGPF-Aux1 EGFP-GAK F6',\n",
       " 'cme']"
      ]
     },
     "execution_count": 3,
     "metadata": {},
     "output_type": "execute_result"
    }
   ],
   "source": [
    "os.listdir('/scratch/users/vision/data/abc_data/auxilin_new_data/AI_Clathrin_molecularPrediction/CLTA-TagRFP+-+ EGFP-Aux1-A7D2+-+ EGFP-GAK-F6+-+  TIRF data')"
   ]
  },
  {
   "cell_type": "code",
   "execution_count": 4,
   "metadata": {},
   "outputs": [
    {
     "name": "stdout",
     "output_type": "stream",
     "text": [
      "loading + preprocessing data...\n",
      "\tloading tracks...\n",
      "processed/tracks_clath_aux.pkl /scratch/users/vision/data/abc_data/auxilin_new_data/AI_Clathrin_molecularPrediction/CLTA-TagRFP+-+ EGFP-Aux1-A7D2+-+ EGFP-GAK-F6+-+  TIRF data\n",
      "CLTA-TagRFP EGFP-Aux1-A7D2 EGFP-GAK-F6/10\n"
     ]
    },
    {
     "name": "stderr",
     "output_type": "stream",
     "text": [
      "/accounts/projects/vision/chandan/auxilin-prediction/data.py:156: RuntimeWarning: All-NaN axis encountered\n",
      "  msd.append(np.nanmax(tracks['MotionAnalysis'][i]['MSD']))\n"
     ]
    },
    {
     "name": "stdout",
     "output_type": "stream",
     "text": [
      "CLTA-TagRFP EGFP-Aux1-A7D2 EGFP-GAK-F6/11\n",
      "CLTA-TagRFP EGFP-Aux1-A7D2 EGFP-GAK-F6/12\n",
      "CLTA-TagRFP EGFP-Aux1-A7D2 EGFP-GAK-F6/13\n"
     ]
    },
    {
     "ename": "UnboundLocalError",
     "evalue": "local variable 'fname1' referenced before assignment",
     "output_type": "error",
     "traceback": [
      "\u001b[0;31m---------------------------------------------------------------------------\u001b[0m",
      "\u001b[0;31mUnboundLocalError\u001b[0m                         Traceback (most recent call last)",
      "\u001b[0;32m<ipython-input-4-aa6089cfe873>\u001b[0m in \u001b[0;36m<module>\u001b[0;34m\u001b[0m\n\u001b[1;32m      1\u001b[0m df = data.get_data(dset='clath_aux', use_processed=True,\n\u001b[0;32m----> 2\u001b[0;31m                    use_processed_dicts=True, outcome_def=outcome_def)\n\u001b[0m",
      "\u001b[0;32m~/chandan/auxilin-prediction/data.py\u001b[0m in \u001b[0;36mget_data\u001b[0;34m(dset, use_processed, save_processed, processed_file, metadata_file, use_processed_dicts, outcome_def, all_data, acc_thresh)\u001b[0m\n\u001b[1;32m     50\u001b[0m         \u001b[0mmetadata\u001b[0m \u001b[0;34m=\u001b[0m \u001b[0;34m{\u001b[0m\u001b[0;34m}\u001b[0m\u001b[0;34m\u001b[0m\u001b[0;34m\u001b[0m\u001b[0m\n\u001b[1;32m     51\u001b[0m         \u001b[0mprint\u001b[0m\u001b[0;34m(\u001b[0m\u001b[0;34m'\\tloading tracks...'\u001b[0m\u001b[0;34m)\u001b[0m\u001b[0;34m\u001b[0m\u001b[0;34m\u001b[0m\u001b[0m\n\u001b[0;32m---> 52\u001b[0;31m         \u001b[0mdf\u001b[0m \u001b[0;34m=\u001b[0m \u001b[0mget_tracks\u001b[0m\u001b[0;34m(\u001b[0m\u001b[0mdata_dir\u001b[0m\u001b[0;34m=\u001b[0m\u001b[0mDATA_DIR\u001b[0m\u001b[0;34m,\u001b[0m \u001b[0msplit\u001b[0m\u001b[0;34m=\u001b[0m\u001b[0mSPLIT\u001b[0m\u001b[0;34m,\u001b[0m \u001b[0mall_data\u001b[0m\u001b[0;34m=\u001b[0m\u001b[0mall_data\u001b[0m\u001b[0;34m,\u001b[0m \u001b[0mdset\u001b[0m\u001b[0;34m=\u001b[0m\u001b[0mdset\u001b[0m\u001b[0;34m)\u001b[0m  \u001b[0;31m# note: different Xs can be different shapes\u001b[0m\u001b[0;34m\u001b[0m\u001b[0;34m\u001b[0m\u001b[0m\n\u001b[0m\u001b[1;32m     53\u001b[0m         \u001b[0mdf\u001b[0m\u001b[0;34m[\u001b[0m\u001b[0;34m'pid'\u001b[0m\u001b[0;34m]\u001b[0m \u001b[0;34m=\u001b[0m \u001b[0mnp\u001b[0m\u001b[0;34m.\u001b[0m\u001b[0marange\u001b[0m\u001b[0;34m(\u001b[0m\u001b[0mdf\u001b[0m\u001b[0;34m.\u001b[0m\u001b[0mshape\u001b[0m\u001b[0;34m[\u001b[0m\u001b[0;36m0\u001b[0m\u001b[0;34m]\u001b[0m\u001b[0;34m)\u001b[0m  \u001b[0;31m# assign each track a unique id\u001b[0m\u001b[0;34m\u001b[0m\u001b[0;34m\u001b[0m\u001b[0m\n\u001b[1;32m     54\u001b[0m         \u001b[0mdf\u001b[0m\u001b[0;34m[\u001b[0m\u001b[0;34m'valid'\u001b[0m\u001b[0;34m]\u001b[0m \u001b[0;34m=\u001b[0m \u001b[0;32mTrue\u001b[0m  \u001b[0;31m# all tracks start as valid\u001b[0m\u001b[0;34m\u001b[0m\u001b[0;34m\u001b[0m\u001b[0m\n",
      "\u001b[0;32m~/chandan/auxilin-prediction/data.py\u001b[0m in \u001b[0;36mget_tracks\u001b[0;34m(data_dir, split, all_data, processed_tracks_file, dset)\u001b[0m\n\u001b[1;32m    141\u001b[0m             \u001b[0mprint\u001b[0m\u001b[0;34m(\u001b[0m\u001b[0mcell_num\u001b[0m\u001b[0;34m)\u001b[0m\u001b[0;34m\u001b[0m\u001b[0;34m\u001b[0m\u001b[0m\n\u001b[1;32m    142\u001b[0m             \u001b[0mfname\u001b[0m \u001b[0;34m=\u001b[0m \u001b[0;34mf'{data_dir}/{upper_dir}/{cell_dir}/TagRFP/Tracking/ProcessedTracks.mat'\u001b[0m\u001b[0;34m\u001b[0m\u001b[0;34m\u001b[0m\u001b[0m\n\u001b[0;32m--> 143\u001b[0;31m             \u001b[0mcla\u001b[0m\u001b[0;34m,\u001b[0m \u001b[0maux\u001b[0m \u001b[0;34m=\u001b[0m \u001b[0mget_images\u001b[0m\u001b[0;34m(\u001b[0m\u001b[0;34mf'{data_dir}/{upper_dir}/{cell_dir}'\u001b[0m\u001b[0;34m)\u001b[0m\u001b[0;34m\u001b[0m\u001b[0;34m\u001b[0m\u001b[0m\n\u001b[0m\u001b[1;32m    144\u001b[0m             \u001b[0;31m# fname_image = oj(data_dir, upper_dir, cell_dir)\u001b[0m\u001b[0;34m\u001b[0m\u001b[0;34m\u001b[0m\u001b[0;34m\u001b[0m\u001b[0m\n\u001b[1;32m    145\u001b[0m             \u001b[0mmat\u001b[0m \u001b[0;34m=\u001b[0m \u001b[0mmat4py\u001b[0m\u001b[0;34m.\u001b[0m\u001b[0mloadmat\u001b[0m\u001b[0;34m(\u001b[0m\u001b[0mfname\u001b[0m\u001b[0;34m)\u001b[0m\u001b[0;34m\u001b[0m\u001b[0;34m\u001b[0m\u001b[0m\n",
      "\u001b[0;32m~/chandan/auxilin-prediction/data.py\u001b[0m in \u001b[0;36mget_images\u001b[0;34m(cell_dir)\u001b[0m\n\u001b[1;32m    108\u001b[0m         \u001b[0;32mif\u001b[0m \u001b[0;34m'tif'\u001b[0m \u001b[0;32min\u001b[0m \u001b[0mname\u001b[0m\u001b[0;34m:\u001b[0m\u001b[0;34m\u001b[0m\u001b[0;34m\u001b[0m\u001b[0m\n\u001b[1;32m    109\u001b[0m             \u001b[0mfname2\u001b[0m \u001b[0;34m=\u001b[0m \u001b[0mname\u001b[0m\u001b[0;34m\u001b[0m\u001b[0;34m\u001b[0m\u001b[0m\n\u001b[0;32m--> 110\u001b[0;31m     \u001b[0mX\u001b[0m \u001b[0;34m=\u001b[0m \u001b[0mimread\u001b[0m\u001b[0;34m(\u001b[0m\u001b[0moj\u001b[0m\u001b[0;34m(\u001b[0m\u001b[0mcell_dir\u001b[0m\u001b[0;34m,\u001b[0m \u001b[0;34m'TagRFP'\u001b[0m\u001b[0;34m,\u001b[0m \u001b[0mfname1\u001b[0m\u001b[0;34m)\u001b[0m\u001b[0;34m)\u001b[0m  \u001b[0;31m# .astype(np.float32) # X = RFP(clathrin) (num_images x H x W)\u001b[0m\u001b[0;34m\u001b[0m\u001b[0;34m\u001b[0m\u001b[0m\n\u001b[0m\u001b[1;32m    111\u001b[0m     \u001b[0mY\u001b[0m \u001b[0;34m=\u001b[0m \u001b[0mimread\u001b[0m\u001b[0;34m(\u001b[0m\u001b[0moj\u001b[0m\u001b[0;34m(\u001b[0m\u001b[0mcell_dir\u001b[0m\u001b[0;34m,\u001b[0m \u001b[0;34m'EGFP'\u001b[0m\u001b[0;34m,\u001b[0m \u001b[0mfname2\u001b[0m\u001b[0;34m)\u001b[0m\u001b[0;34m)\u001b[0m  \u001b[0;31m# .astype(np.float32) # Y = EGFP (auxilin) (num_image x H x W)\u001b[0m\u001b[0;34m\u001b[0m\u001b[0;34m\u001b[0m\u001b[0m\n\u001b[1;32m    112\u001b[0m     \u001b[0;32mreturn\u001b[0m \u001b[0mX\u001b[0m\u001b[0;34m,\u001b[0m \u001b[0mY\u001b[0m\u001b[0;34m\u001b[0m\u001b[0;34m\u001b[0m\u001b[0m\n",
      "\u001b[0;31mUnboundLocalError\u001b[0m: local variable 'fname1' referenced before assignment"
     ]
    }
   ],
   "source": [
    "df = data.get_data(dset='clath_aux', use_processed=True,\n",
    "                   use_processed_dicts=True, outcome_def=outcome_def)"
   ]
  },
  {
   "cell_type": "code",
   "execution_count": 60,
   "metadata": {},
   "outputs": [],
   "source": [
    "dset='orig'\n",
    "use_processed=True\n",
    "use_processed_dicts=True\n",
    "outcome_def=outcome_def"
   ]
  },
  {
   "cell_type": "code",
   "execution_count": 62,
   "metadata": {},
   "outputs": [],
   "source": [
    "DATA_DIR = config.DATA_DIRS[dset]\n",
    "SPLIT = config.SPLITS[dset]\n",
    "LABELS = config.LABELS[dset]"
   ]
  },
  {
   "cell_type": "code",
   "execution_count": 64,
   "metadata": {},
   "outputs": [],
   "source": [
    "df = get_tracks(data_dir=DATA_DIR,\n",
    "                split=SPLIT)"
   ]
  },
  {
   "cell_type": "code",
   "execution_count": 80,
   "metadata": {},
   "outputs": [
    {
     "data": {
      "text/plain": [
       "'fdasl;kjfds'"
      ]
     },
     "execution_count": 80,
     "metadata": {},
     "output_type": "execute_result"
    }
   ],
   "source": [
    "'fdasl;kjfds.pkl'[:-4]"
   ]
  },
  {
   "cell_type": "code",
   "execution_count": 71,
   "metadata": {},
   "outputs": [
    {
     "data": {
      "text/plain": [
       "{'num_tracks': 9624,\n",
       " 'num_tracks_valid': 6383,\n",
       " 'num_aux_pos_valid': 1789.0,\n",
       " 'num_hotspots_valid': 316,\n",
       " 'num_short': 3583,\n",
       " 'num_long': 40,\n",
       " 'acc_short': 0.9508791515489813,\n",
       " 'acc_long': 0.95,\n",
       " 'thresh_short': 15,\n",
       " 'thresh_long': 154,\n",
       " 'num_tracks_hard': 2444,\n",
       " 'num_aux_pos_hard': 1273}"
      ]
     },
     "execution_count": 71,
     "metadata": {},
     "output_type": "execute_result"
    }
   ],
   "source": [
    "metadata"
   ]
  },
  {
   "cell_type": "code",
   "execution_count": 48,
   "metadata": {},
   "outputs": [
    {
     "data": {
      "text/plain": [
       "{'orig': '/scratch/users/vision/data/abc_data/auxilin_data_tracked',\n",
       " 'clath_aux': '/scratch/users/vision/data/abc_data/auxilin_new_data/AI_Clathrin_molecularPrediction/CLTA-TagRFP+-+ EGFP-Aux1-A7D2+-+ EGFP-GAK-F6+-+  TIRF data',\n",
       " 'clath_aux_diff': '/scratch/users/vision/data/abc_data/auxilin_new_data/AI_Clathrin_molecularPrediction/CLTA-TagRFP+-+ EGFP-GAK-A8+-+  TIRF data',\n",
       " 'clath_pi4p': '/scratch/users/vision/data/abc_data/auxilin_new_data/AI_Clathrin_molecularPrediction/CLTA-TagRFP+-+ EGFP-DrrA-Aux1 PI4P probe TIRF data',\n",
       " 'ap2_pi4p': '/scratch/users/vision/data/abc_data/auxilin_new_data/AI_Clathrin_molecularPrediction/AP2-TagRFP+-+ EGFP-DrrA-Aux1 PI4P probe TIRF data'}"
      ]
     },
     "execution_count": 48,
     "metadata": {},
     "output_type": "execute_result"
    }
   ],
   "source": [
    "config.DATA_DIRS"
   ]
  },
  {
   "cell_type": "code",
   "execution_count": 77,
   "metadata": {},
   "outputs": [],
   "source": [
    "metadata = pkl.load(open('processed/metadata.pkl', 'rb'))"
   ]
  },
  {
   "cell_type": "code",
   "execution_count": 78,
   "metadata": {},
   "outputs": [
    {
     "data": {
      "text/plain": [
       "{'num_tracks': 11414,\n",
       " 'num_tracks_valid': 7594,\n",
       " 'num_aux_pos_valid': 2066.0,\n",
       " 'num_hotspots_valid': 349,\n",
       " 'num_short': 4266,\n",
       " 'num_long': 43,\n",
       " 'acc_short': 0.9503047351148617,\n",
       " 'acc_long': 0.9534883720930233,\n",
       " 'thresh_short': 15,\n",
       " 'thresh_long': 161,\n",
       " 'num_tracks_hard': 2936,\n",
       " 'num_aux_pos_hard': 1482}"
      ]
     },
     "execution_count": 78,
     "metadata": {},
     "output_type": "execute_result"
    }
   ],
   "source": [
    "metadata"
   ]
  },
  {
   "cell_type": "code",
   "execution_count": 29,
   "metadata": {},
   "outputs": [
    {
     "name": "stdout",
     "output_type": "stream",
     "text": [
      " A7D2  'EGFP-GAK F6'  'Icon'$'\\r'\n"
     ]
    }
   ],
   "source": [
    "!ls /scratch/users/vision/data/abc_data/auxilin_data_tracked"
   ]
  },
  {
   "cell_type": "code",
   "execution_count": 72,
   "metadata": {},
   "outputs": [
    {
     "data": {
      "text/plain": [
       "array(['A7D2/1', 'A7D2/2', 'A7D2/3', 'A7D2/4', 'A7D2/5', 'A7D2/6',\n",
       "       'A7D2/8'], dtype=object)"
      ]
     },
     "execution_count": 72,
     "metadata": {},
     "output_type": "execute_result"
    }
   ],
   "source": [
    "df['cell_num'].unique()"
   ]
  },
  {
   "cell_type": "code",
   "execution_count": null,
   "metadata": {},
   "outputs": [],
   "source": []
  }
 ],
 "metadata": {
  "kernelspec": {
   "display_name": "Python 3",
   "language": "python",
   "name": "python3"
  },
  "language_info": {
   "codemirror_mode": {
    "name": "ipython",
    "version": 3
   },
   "file_extension": ".py",
   "mimetype": "text/x-python",
   "name": "python",
   "nbconvert_exporter": "python",
   "pygments_lexer": "ipython3",
   "version": "3.7.5"
  }
 },
 "nbformat": 4,
 "nbformat_minor": 4
}
