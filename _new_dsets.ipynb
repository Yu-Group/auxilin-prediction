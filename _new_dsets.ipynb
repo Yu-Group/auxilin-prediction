{
 "cells": [
  {
   "cell_type": "code",
   "execution_count": 74,
   "metadata": {},
   "outputs": [
    {
     "name": "stdout",
     "output_type": "stream",
     "text": [
      "The autoreload extension is already loaded. To reload it, use:\n",
      "  %reload_ext autoreload\n"
     ]
    }
   ],
   "source": [
    "%matplotlib inline\n",
    "%load_ext autoreload\n",
    "%autoreload 2\n",
    "from matplotlib import pyplot as plt\n",
    "import seaborn as sns\n",
    "from os.path import join as oj\n",
    "import os\n",
    "import numpy as np\n",
    "from copy import deepcopy\n",
    "plt.style.use('dark_background')\n",
    "import mat4py\n",
    "import data\n",
    "import config\n",
    "import pickle as pkl\n",
    "from style import *\n",
    "import viz\n",
    "import trend_filtering\n",
    "outcome_def = 'y_consec_thresh'"
   ]
  },
  {
   "cell_type": "code",
   "execution_count": 75,
   "metadata": {},
   "outputs": [],
   "source": [
    "from data import *"
   ]
  },
  {
   "cell_type": "code",
   "execution_count": 76,
   "metadata": {},
   "outputs": [],
   "source": [
    "df = data.get_data(dset='orig', use_processed=True,\n",
    "                   use_processed_dicts=True, outcome_def=outcome_def)"
   ]
  },
  {
   "cell_type": "code",
   "execution_count": 60,
   "metadata": {},
   "outputs": [],
   "source": [
    "dset='orig'\n",
    "use_processed=True\n",
    "use_processed_dicts=True\n",
    "outcome_def=outcome_def"
   ]
  },
  {
   "cell_type": "code",
   "execution_count": 62,
   "metadata": {},
   "outputs": [],
   "source": [
    "DATA_DIR = config.DATA_DIRS[dset]\n",
    "SPLIT = config.SPLITS[dset]\n",
    "LABELS = config.LABELS[dset]"
   ]
  },
  {
   "cell_type": "code",
   "execution_count": 64,
   "metadata": {},
   "outputs": [],
   "source": [
    "df = get_tracks(data_dir=DATA_DIR,\n",
    "                split=SPLIT)"
   ]
  },
  {
   "cell_type": "code",
   "execution_count": 69,
   "metadata": {},
   "outputs": [
    {
     "data": {
      "text/plain": [
       "(8873, 109)"
      ]
     },
     "execution_count": 69,
     "metadata": {},
     "output_type": "execute_result"
    }
   ],
   "source": [
    "df.shape"
   ]
  },
  {
   "cell_type": "code",
   "execution_count": 71,
   "metadata": {},
   "outputs": [
    {
     "data": {
      "text/plain": [
       "{'num_tracks': 9624,\n",
       " 'num_tracks_valid': 6383,\n",
       " 'num_aux_pos_valid': 1789.0,\n",
       " 'num_hotspots_valid': 316,\n",
       " 'num_short': 3583,\n",
       " 'num_long': 40,\n",
       " 'acc_short': 0.9508791515489813,\n",
       " 'acc_long': 0.95,\n",
       " 'thresh_short': 15,\n",
       " 'thresh_long': 154,\n",
       " 'num_tracks_hard': 2444,\n",
       " 'num_aux_pos_hard': 1273}"
      ]
     },
     "execution_count": 71,
     "metadata": {},
     "output_type": "execute_result"
    }
   ],
   "source": [
    "metadata"
   ]
  },
  {
   "cell_type": "code",
   "execution_count": 48,
   "metadata": {},
   "outputs": [
    {
     "data": {
      "text/plain": [
       "{'orig': '/scratch/users/vision/data/abc_data/auxilin_data_tracked',\n",
       " 'clath_aux': '/scratch/users/vision/data/abc_data/auxilin_new_data/AI_Clathrin_molecularPrediction/CLTA-TagRFP+-+ EGFP-Aux1-A7D2+-+ EGFP-GAK-F6+-+  TIRF data',\n",
       " 'clath_aux_diff': '/scratch/users/vision/data/abc_data/auxilin_new_data/AI_Clathrin_molecularPrediction/CLTA-TagRFP+-+ EGFP-GAK-A8+-+  TIRF data',\n",
       " 'clath_pi4p': '/scratch/users/vision/data/abc_data/auxilin_new_data/AI_Clathrin_molecularPrediction/CLTA-TagRFP+-+ EGFP-DrrA-Aux1 PI4P probe TIRF data',\n",
       " 'ap2_pi4p': '/scratch/users/vision/data/abc_data/auxilin_new_data/AI_Clathrin_molecularPrediction/AP2-TagRFP+-+ EGFP-DrrA-Aux1 PI4P probe TIRF data'}"
      ]
     },
     "execution_count": 48,
     "metadata": {},
     "output_type": "execute_result"
    }
   ],
   "source": [
    "config.DATA_DIRS"
   ]
  },
  {
   "cell_type": "code",
   "execution_count": 77,
   "metadata": {},
   "outputs": [],
   "source": [
    "metadata = pkl.load(open('processed/metadata.pkl', 'rb'))"
   ]
  },
  {
   "cell_type": "code",
   "execution_count": 78,
   "metadata": {},
   "outputs": [
    {
     "data": {
      "text/plain": [
       "{'num_tracks': 11414,\n",
       " 'num_tracks_valid': 7594,\n",
       " 'num_aux_pos_valid': 2066.0,\n",
       " 'num_hotspots_valid': 349,\n",
       " 'num_short': 4266,\n",
       " 'num_long': 43,\n",
       " 'acc_short': 0.9503047351148617,\n",
       " 'acc_long': 0.9534883720930233,\n",
       " 'thresh_short': 15,\n",
       " 'thresh_long': 161,\n",
       " 'num_tracks_hard': 2936,\n",
       " 'num_aux_pos_hard': 1482}"
      ]
     },
     "execution_count": 78,
     "metadata": {},
     "output_type": "execute_result"
    }
   ],
   "source": [
    "metadata"
   ]
  },
  {
   "cell_type": "code",
   "execution_count": 29,
   "metadata": {},
   "outputs": [
    {
     "name": "stdout",
     "output_type": "stream",
     "text": [
      " A7D2  'EGFP-GAK F6'  'Icon'$'\\r'\n"
     ]
    }
   ],
   "source": [
    "!ls /scratch/users/vision/data/abc_data/auxilin_data_tracked"
   ]
  },
  {
   "cell_type": "code",
   "execution_count": 72,
   "metadata": {},
   "outputs": [
    {
     "data": {
      "text/plain": [
       "array(['A7D2/1', 'A7D2/2', 'A7D2/3', 'A7D2/4', 'A7D2/5', 'A7D2/6',\n",
       "       'A7D2/8'], dtype=object)"
      ]
     },
     "execution_count": 72,
     "metadata": {},
     "output_type": "execute_result"
    }
   ],
   "source": [
    "df['cell_num'].unique()"
   ]
  },
  {
   "cell_type": "code",
   "execution_count": null,
   "metadata": {},
   "outputs": [],
   "source": []
  }
 ],
 "metadata": {
  "kernelspec": {
   "display_name": "Python 3",
   "language": "python",
   "name": "python3"
  },
  "language_info": {
   "codemirror_mode": {
    "name": "ipython",
    "version": 3
   },
   "file_extension": ".py",
   "mimetype": "text/x-python",
   "name": "python",
   "nbconvert_exporter": "python",
   "pygments_lexer": "ipython3",
   "version": "3.7.5"
  }
 },
 "nbformat": 4,
 "nbformat_minor": 4
}
