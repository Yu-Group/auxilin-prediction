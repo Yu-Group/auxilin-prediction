{
 "cells": [
  {
   "cell_type": "code",
   "execution_count": 31,
   "metadata": {},
   "outputs": [
    {
     "name": "stdout",
     "output_type": "stream",
     "text": [
      "The autoreload extension is already loaded. To reload it, use:\n",
      "  %reload_ext autoreload\n"
     ]
    }
   ],
   "source": [
    "%matplotlib inline\n",
    "%load_ext autoreload\n",
    "%autoreload 2\n",
    "from matplotlib import pyplot as plt\n",
    "import seaborn as sns\n",
    "import numpy as np\n",
    "import os\n",
    "from os.path import join as oj\n",
    "from sklearn.feature_extraction.image import extract_patches_2d\n",
    "from sklearn.linear_model import LinearRegression, LogisticRegression, RidgeCV\n",
    "from sklearn.neural_network import MLPRegressor, MLPClassifier\n",
    "from sklearn.model_selection import cross_validate, train_test_split\n",
    "from sklearn.ensemble import RandomForestClassifier\n",
    "from sklearn.tree import DecisionTreeClassifier\n",
    "from sklearn.svm import SVC\n",
    "from sklearn import metrics\n",
    "import eli5\n",
    "import numpy as np\n",
    "from collections import Counter\n",
    "from sklearn.datasets import make_classification\n",
    "from torch import nn\n",
    "import torch.nn.functional as F\n",
    "import torch\n",
    "from copy import deepcopy\n",
    "from sklearn import metrics\n",
    "plt.style.use('dark_background')\n",
    "import mat4py\n",
    "import pandas as pd\n",
    "import data_tracks\n",
    "from skorch.callbacks import Checkpoint, TrainEndCheckpoint\n",
    "from skorch import NeuralNetRegressor, NeuralNetClassifier\n",
    "import models\n",
    "from imblearn.over_sampling import RandomOverSampler\n",
    "from sklearn.model_selection import KFold\n",
    "from colorama import Fore\n",
    "import pickle as pkl\n",
    "from tqdm import tqdm\n",
    "import train\n",
    "\n",
    "from sklearn import decomposition\n",
    "import matplotlib.gridspec as grd"
   ]
  },
  {
   "cell_type": "code",
   "execution_count": null,
   "metadata": {},
   "outputs": [],
   "source": [
    "df = data_tracks.get_data()\n",
    "n = df.shape[0]"
   ]
  },
  {
   "cell_type": "markdown",
   "metadata": {},
   "source": [
    "# logistic classifier"
   ]
  },
  {
   "cell_type": "code",
   "execution_count": 2,
   "metadata": {},
   "outputs": [
    {
     "data": {
      "image/png": "[encoded data removed]",
      "text/plain": [
       "<Figure size 432x288 with 1 Axes>"
      ]
     },
     "metadata": {
      "needs_background": "dark"
     },
     "output_type": "display_data"
    }
   ],
   "source": [
    "sns.regplot('X_max', 'y_thresh', df, scatter_kws={'alpha': 0.1}, logistic=True)\n",
    "plt.hist(df['lifetime'][df['y_thresh']==0], alpha=0.5)\n",
    "plt.hist(df['lifetime'][df['y_thresh']==1], alpha=0.5)\n",
    "plt.show()"
   ]
  },
  {
   "cell_type": "code",
   "execution_count": 10,
   "metadata": {},
   "outputs": [
    {
     "data": {
      "text/plain": [
       "Index(['X', 'Y', 'X_pval', 'Y_pvals', 'catIdx', 'total_displacement',\n",
       "       'mean_square_displacement', 'lifetime', 'x_pos', 'y_pos', 'cell_num',\n",
       "       'len', 'X_max', 'X_min', 'X_mean', 'X_std', 'Y_max', 'Y_mean', 'Y_std',\n",
       "       'rise', 'fall', 'max_diff', 'min_diff', 'outcome_score', 'outcome',\n",
       "       'sc_0', 'sc_1', 'sc_2', 'sc_3', 'sc_4', 'sc_5', 'sc_6', 'sc_7', 'sc_8',\n",
       "       'sc_9', 'sc_10', 'sc_11'],\n",
       "      dtype='object')"
      ]
     },
     "execution_count": 10,
     "metadata": {},
     "output_type": "execute_result"
    }
   ],
   "source": [
    "df.keys()"
   ]
  },
  {
   "cell_type": "code",
   "execution_count": null,
   "metadata": {},
   "outputs": [],
   "source": [
    "outcome_def = 'y_consec_sig'\n",
    "for balancing in ['ros']:\n",
    "    for model_type in tqdm(['gb', 'logistic', 'dt', 'svm', 'rf', 'mlp2']):\n",
    "        for num_feats in [4, 9, 11]: #[23]:# [4, 6, 7, 9, 11]:\n",
    "    #         feat_names = ['X_max', 'lifetime', 'total_displacement', 'mean_square_displacement', 'rise', 'fall']\n",
    "            scs = [f'sc_{i}' for i in range(12)]\n",
    "            feat_names = ['X_max', 'lifetime', 'total_displacement', 'mean_square_displacement', \n",
    "                          'rise', 'fall', 'X_std', 'X_min', 'X_mean', 'max_diff', 'min_diff'] + scs\n",
    "            feat_names = feat_names[:num_feats]\n",
    "            train.train(df, feat_names=feat_names, model_type=model_type, balancing=balancing, outcome_def=outcome_def,\n",
    "                        out_name=f'results/classify_outcome={outcome_def}/{model_type}_{balancing}_{len(feat_names)}.pkl')"
   ]
  },
  {
   "cell_type": "code",
   "execution_count": null,
   "metadata": {},
   "outputs": [],
   "source": [
    "feat_names = ['X_max', 'lifetime', 'total_displacement', 'mean_square_displacement', \n",
    "                          'rise', 'fall', 'X_std', 'X_min', 'X_mean', 'max_diff', 'min_diff']\n",
    "X = df[feat_names]\n",
    "X = (X - X.mean()) / X.std()\n",
    "y = df['y_thresh'].values\n",
    "\n",
    "# visualize correlations between the data\n",
    "mat = deepcopy(X)\n",
    "mat['y_thresh'] = y\n",
    "\n",
    "# make fig\n",
    "plt.figure(dpi=200)\n",
    "sns.heatmap(mat.corr(method='spearman'), cmap=sns.diverging_palette(10, 240, as_cmap=True, center='light'), vmin=-1, vmax=1)\n",
    "plt.show()"
   ]
  },
  {
   "cell_type": "markdown",
   "metadata": {},
   "source": [
    "# dim reduction"
   ]
  },
  {
   "cell_type": "code",
   "execution_count": 68,
   "metadata": {},
   "outputs": [],
   "source": [
    "feat_names = ['X_max', 'lifetime', 'total_displacement', 'mean_square_displacement', \n",
    "                          'rise', 'fall', 'X_std', 'X_min', 'X_mean', 'max_diff', 'min_diff']\n",
    "X = df[feat_names]\n",
    "X = (X - X.mean()) / X.std()\n",
    "y = df['y_thresh'].values"
   ]
  },
  {
   "cell_type": "markdown",
   "metadata": {},
   "source": [
    "**look at pcs**"
   ]
  },
  {
   "cell_type": "code",
   "execution_count": null,
   "metadata": {},
   "outputs": [],
   "source": [
    "def plot_pcs(pca, comps):\n",
    "\n",
    "    # create a 2 X 2 grid \n",
    "    gs = grd.GridSpec(2, 2, height_ratios=[2,10], \n",
    "                      width_ratios=[12, 1], wspace=0.1, hspace=0)\n",
    "\n",
    "    var_norm = pca.explained_variance_ / np.sum(pca.explained_variance_) * 100\n",
    "    # plot explained variance\n",
    "    ax2 = plt.subplot(gs[0])\n",
    "    ax2.bar(np.arange(0, comps.shape[1]), var_norm, \n",
    "            color='gray', width=0.8)\n",
    "    plt.title('Explained variance (%)')\n",
    "    ax2.spines['right'].set_visible(False)\n",
    "    ax2.spines['top'].set_visible(False)\n",
    "    ax2.yaxis.set_ticks_position('left')\n",
    "    ax2.set_yticks([0, max(var_norm)])\n",
    "    plt.xlim((-0.5, comps.shape[1]-0.5))\n",
    "    \n",
    "    # plot pcs\n",
    "    ax = plt.subplot(gs[2])\n",
    "    p = ax.imshow(comps, interpolation='None', cmap=sns.diverging_palette(10, 240, as_cmap=True, center='light'), aspect='auto') #, vmin=-1, vmax=1)\n",
    "#     plt.ylabel('Feature number')\n",
    "    plt.xlabel('PCA component number')\n",
    "    ax.set_yticklabels(list(X))\n",
    "    ax.set_yticks(range(len(list(X))))\n",
    "    \n",
    "\n",
    "    # make colorbar\n",
    "    colorAx = plt.subplot(gs[3])\n",
    "    cb = plt.colorbar(p, cax = colorAx)\n",
    "    plt.show()\n",
    "    \n",
    "\n",
    "# perform pca\n",
    "pca = decomposition.PCA(whiten=True)\n",
    "# pca = decomposition.SparsePCA()\n",
    "# pca = decomposition.NMF()\n",
    "pca.fit(X)\n",
    "comps = pca.components_.transpose()\n",
    "plt.figure(figsize=(6, 5), dpi=200)\n",
    "plot_pcs(pca, comps)"
   ]
  },
  {
   "cell_type": "code",
   "execution_count": null,
   "metadata": {},
   "outputs": [],
   "source": [
    "pca = decomposition.PCA(n_components=2)\n",
    "X_reduced = pca.fit_transform(X)\n",
    "plt.figure(dpi=200)\n",
    "plt.scatter(X_reduced[:, 0], X_reduced[:, 1], c=df['y_thresh'].values, alpha=0.1)\n",
    "plt.xlabel('PC1')\n",
    "plt.ylabel('PC2')\n",
    "#             cdf[np.arange(X.shape[0]), cmap='viridis', alpha=0.1)\n",
    "plt.show()"
   ]
  }
 ],
 "metadata": {
  "kernelspec": {
   "display_name": "Python 3",
   "language": "python",
   "name": "python3"
  },
  "language_info": {
   "codemirror_mode": {
    "name": "ipython",
    "version": 3
   },
   "file_extension": ".py",
   "mimetype": "text/x-python",
   "name": "python",
   "nbconvert_exporter": "python",
   "pygments_lexer": "ipython3",
   "version": "3.7.5"
  }
 },
 "nbformat": 4,
 "nbformat_minor": 4
}
