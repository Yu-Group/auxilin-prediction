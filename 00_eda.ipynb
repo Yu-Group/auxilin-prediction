{
 "cells": [
  {
   "cell_type": "code",
   "execution_count": 3,
   "metadata": {},
   "outputs": [
    {
     "name": "stdout",
     "output_type": "stream",
     "text": [
      "The autoreload extension is already loaded. To reload it, use:\n",
      "  %reload_ext autoreload\n"
     ]
    }
   ],
   "source": [
    "%matplotlib inline\n",
    "%load_ext autoreload\n",
    "%autoreload 2\n",
    "from matplotlib import pyplot as plt\n",
    "import seaborn as sns\n",
    "import numpy as np\n",
    "import os\n",
    "from os.path import join as oj\n",
    "from sklearn.feature_extraction.image import extract_patches_2d\n",
    "from sklearn.linear_model import LinearRegression, LogisticRegression, RidgeCV\n",
    "from sklearn.neural_network import MLPRegressor\n",
    "from sklearn.model_selection import cross_validate, train_test_split\n",
    "import mat4py\n",
    "from sklearn import metrics\n",
    "import numpy as np\n",
    "from collections import Counter\n",
    "from sklearn.datasets import make_classification\n",
    "from torch import nn\n",
    "import torch.nn.functional as F\n",
    "import torch\n",
    "from copy import deepcopy\n",
    "from sklearn import metrics\n",
    "plt.style.use('dark_background')\n",
    "import mat4py\n",
    "import pandas as pd\n",
    "import data_tracks\n",
    "import models\n",
    "from imblearn.over_sampling import RandomOverSampler\n",
    "import pickle as pkl\n",
    "from style import *\n",
    "import viz"
   ]
  },
  {
   "cell_type": "code",
   "execution_count": 4,
   "metadata": {},
   "outputs": [
    {
     "data": {
      "text/plain": [
       "Index(['X', 'Y', 'X_pvals', 'Y_pvals', 'pixel', 'pixel_left', 'pixel_right',\n",
       "       'pixel_up', 'pixel_down', 'catIdx', 'total_displacement',\n",
       "       'mean_square_displacement', 'lifetime', 'x_pos', 'y_pos', 'center_max',\n",
       "       'left_max', 'right_max', 'up_max', 'down_max', 'cell_num', 'X_max',\n",
       "       'X_min', 'X_mean', 'X_std', 'Y_max', 'Y_mean', 'Y_std', 'rise', 'fall',\n",
       "       'max_diff', 'min_diff', 'y_score', 'y_thresh', 'y', 'y_single_sig',\n",
       "       'y_double_sig', 'y_consec_sig', 'sc_0', 'sc_1', 'sc_2', 'sc_3', 'sc_4',\n",
       "       'sc_5', 'sc_6', 'sc_7', 'sc_8', 'sc_9', 'sc_10', 'sc_11', 'nmf_0',\n",
       "       'nmf_1', 'nmf_2', 'nmf_3', 'nmf_4', 'nmf_5', 'nmf_6', 'nmf_7', 'nmf_8',\n",
       "       'nmf_9', 'nmf_10', 'nmf_11', 'X_smooth_spl', 'X_smooth_spl_dx',\n",
       "       'X_smooth_spl_d2x', 'X_max_spl', 'dx_max_spl', 'd2x_max_spl',\n",
       "       'num_local_max_spl', 'num_local_min_spl', 'pc_0', 'pc_1', 'pc_2',\n",
       "       'pc_3', 'pc_4', 'pc_5', 'pc_6', 'pc_7', 'pc_8', 'pc_9'],\n",
       "      dtype='object')"
      ]
     },
     "execution_count": 4,
     "metadata": {},
     "output_type": "execute_result"
    }
   ],
   "source": [
    "df = data_tracks.get_data(use_processed=True, use_processed_dicts=True)\n",
    "n = df.shape[0]\n",
    "df.keys()"
   ]
  },
  {
   "cell_type": "markdown",
   "metadata": {},
   "source": [
    "# visualize a single example"
   ]
  },
  {
   "cell_type": "code",
   "execution_count": null,
   "metadata": {},
   "outputs": [],
   "source": [
    "# pick a single interesting example\n",
    "# ex = df[df.lifetime > 250].iloc[0]\n",
    "ex = df[(df.lifetime > 30) * (df.lifetime < 40) * (df.y_consec_sig == 1)].iloc[0]\n",
    "plt.figure(dpi=200)\n",
    "plt.plot(ex['X'], color='red', label='clathrin')\n",
    "plt.plot(ex['Y'], color='green', label='auxilin')\n",
    "plt.xlabel('Time')\n",
    "plt.ylabel('Amplitude')\n",
    "plt.legend()\n",
    "plt.show()"
   ]
  },
  {
   "cell_type": "markdown",
   "metadata": {},
   "source": [
    "# basic eda"
   ]
  },
  {
   "cell_type": "code",
   "execution_count": null,
   "metadata": {},
   "outputs": [],
   "source": [
    "viz.plot_curves(df, hline=False)"
   ]
  },
  {
   "cell_type": "code",
   "execution_count": null,
   "metadata": {},
   "outputs": [],
   "source": [
    "plt.plot(df['x_pos'], df['y_pos'], 'o', alpha=0.1)"
   ]
  },
  {
   "cell_type": "markdown",
   "metadata": {},
   "source": [
    "# look at learned dictionaries"
   ]
  },
  {
   "cell_type": "code",
   "execution_count": null,
   "metadata": {},
   "outputs": [],
   "source": [
    "print(os.listdir('processed/dictionaries'))\n",
    "# d = pkl.load(open(f'processed/dictionaries/' + 'sc_12_alpha=1.pkl', 'rb'))\n",
    "d = pkl.load(open(f'processed/dictionaries/' + 'nmf_12.pkl', 'rb'))\n",
    "R, C = 3, 4\n",
    "i = 0\n",
    "plt.figure(dpi=200)\n",
    "vmin = d.components_.min()\n",
    "vmax = d.components_.max()\n",
    "# print('err', d.reconstruction_err_ / np.linalg.norm(X_mat, ord='fro'))\n",
    "for r in range(R):\n",
    "    for c in range(C):\n",
    "        plt.subplot(R, C, i + 1)\n",
    "        plt.plot(d.components_[i], color=cr)\n",
    "        i += 1\n",
    "        plt.ylim((vmin, vmax))\n",
    "        if r < R-1:\n",
    "            plt.xticks([])\n",
    "        if c > 0:\n",
    "            plt.yticks([])\n",
    "plt.tight_layout()\n",
    "plt.show()"
   ]
  },
  {
   "cell_type": "markdown",
   "metadata": {},
   "source": [
    "# viz tracks where auxilin peaks first"
   ]
  },
  {
   "cell_type": "code",
   "execution_count": null,
   "metadata": {},
   "outputs": [],
   "source": [
    "outcomes = ['y_thresh', 'y_single_sig', 'y_consec_sig']\n",
    "for outcome in outcomes:\n",
    "    X_peak_idx = np.array([np.argmax(x) for x in df.X])\n",
    "    Y_peak_idx = np.array([np.argmax(y) for y in df.Y])\n",
    "    idxs_err = Y_peak_idx < X_peak_idx\n",
    "    df_err = df[idxs_err]\n",
    "    df_err_pos = df_err[df_err[outcome] == 1]\n",
    "    num_pos = df[df[outcome] == 1].shape[0]\n",
    "    num_pos_err = df_err_pos.shape[0] \n",
    "    frac_pos_err = num_pos_err / num_pos\n",
    "    print('num tot', df.shape[0], 'num aux peaks first', df_err.shape[0], f'frac pos aux peaks first {frac_pos_err:0.3f}')\n",
    "    viz.plot_curves(df_err_pos)"
   ]
  },
  {
   "cell_type": "code",
   "execution_count": null,
   "metadata": {},
   "outputs": [],
   "source": [
    "plt.figure(dpi=300)\n",
    "plt.hist(df_err_pos.lifetime, bins=20, color=cb)\n",
    "plt.xlabel('lifetime')\n",
    "plt.ylabel('count')\n",
    "plt.title('aux+ with auxilin peaking first')\n",
    "plt.show()"
   ]
  },
  {
   "cell_type": "code",
   "execution_count": null,
   "metadata": {},
   "outputs": [],
   "source": [
    "R, C = 2, 1\n",
    "plt.figure(dpi=200)\n",
    "plt.subplot(R, C, 1)\n",
    "plt.hist(X_peak_idx[idxs_err], color=cr)\n",
    "plt.xlabel('Clathrin peak time')\n",
    "plt.ylabel('Count')\n",
    "plt.subplot(R, C, 2)\n",
    "plt.hist(Y_peak_idx[idxs_err], color=cr)\n",
    "plt.xlabel('Auxilin peak time')\n",
    "plt.ylabel('Count')\n",
    "plt.tight_layout()"
   ]
  },
  {
   "cell_type": "markdown",
   "metadata": {},
   "source": [
    "# visualize splines"
   ]
  },
  {
   "cell_type": "code",
   "execution_count": null,
   "metadata": {},
   "outputs": [],
   "source": [
    "viz.plot_curves(df_err, extra_key='X_smooth_spl')"
   ]
  },
  {
   "cell_type": "markdown",
   "metadata": {},
   "source": [
    "# analyze tracking"
   ]
  },
  {
   "cell_type": "code",
   "execution_count": 1,
   "metadata": {},
   "outputs": [],
   "source": [
    "fname = f'/scratch/users/vision/data/abc_data/auxilin_data_tracked/A7D2/Cell1_1s/TagRFP/Tracking/ProcessedTracks.mat'\n",
    "mat = mat4py.loadmat(fname)\n",
    "tracks = mat['tracks']"
   ]
  },
  {
   "cell_type": "code",
   "execution_count": 3,
   "metadata": {},
   "outputs": [
    {
     "name": "stdout",
     "output_type": "stream",
     "text": [
      "clath 300 aux 300\n"
     ]
    }
   ],
   "source": [
    "i = 2\n",
    "x = tracks['x'][i][0]\n",
    "xx = tracks['x'][i][1]\n",
    "\n",
    "print('clath', len(x), 'aux', len(xx))"
   ]
  },
  {
   "cell_type": "code",
   "execution_count": null,
   "metadata": {},
   "outputs": [],
   "source": [
    "for i in range(1000):\n",
    "    print(tracks['t'][i][:5])"
   ]
  },
  {
   "cell_type": "markdown",
   "metadata": {},
   "source": [
    "# new feats"
   ]
  },
  {
   "cell_type": "code",
   "execution_count": null,
   "metadata": {},
   "outputs": [],
   "source": []
  }
 ],
 "metadata": {
  "kernelspec": {
   "display_name": "Python 3",
   "language": "python",
   "name": "python3"
  },
  "language_info": {
   "codemirror_mode": {
    "name": "ipython",
    "version": 3
   },
   "file_extension": ".py",
   "mimetype": "text/x-python",
   "name": "python",
   "nbconvert_exporter": "python",
   "pygments_lexer": "ipython3",
   "version": "3.7.5"
  }
 },
 "nbformat": 4,
 "nbformat_minor": 4
}
