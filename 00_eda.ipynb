{
 "cells": [
  {
   "cell_type": "code",
   "execution_count": 28,
   "metadata": {},
   "outputs": [
    {
     "name": "stdout",
     "output_type": "stream",
     "text": [
      "The autoreload extension is already loaded. To reload it, use:\n",
      "  %reload_ext autoreload\n"
     ]
    }
   ],
   "source": [
    "%matplotlib inline\n",
    "%load_ext autoreload\n",
    "%autoreload 2\n",
    "from matplotlib import pyplot as plt\n",
    "import seaborn as sns\n",
    "import numpy as np\n",
    "import os\n",
    "from os.path import join as oj\n",
    "from sklearn.feature_extraction.image import extract_patches_2d\n",
    "from sklearn.linear_model import LinearRegression, LogisticRegression, RidgeCV\n",
    "from sklearn.neural_network import MLPRegressor\n",
    "from sklearn.model_selection import cross_validate, train_test_split\n",
    "import mat4py\n",
    "from sklearn import metrics\n",
    "import numpy as np\n",
    "from collections import Counter\n",
    "from sklearn.datasets import make_classification\n",
    "from torch import nn\n",
    "import torch.nn.functional as F\n",
    "import torch\n",
    "from copy import deepcopy\n",
    "from sklearn import metrics\n",
    "plt.style.use('dark_background')\n",
    "import mat4py\n",
    "import pandas as pd\n",
    "import data_tracks\n",
    "import models\n",
    "import pickle as pkl\n",
    "from style import *\n",
    "import viz"
   ]
  },
  {
   "cell_type": "code",
   "execution_count": 29,
   "metadata": {},
   "outputs": [],
   "source": [
    "df = data_tracks.get_data()"
   ]
  },
  {
   "cell_type": "markdown",
   "metadata": {},
   "source": [
    "# look at tracks themselves"
   ]
  },
  {
   "cell_type": "code",
   "execution_count": 4,
   "metadata": {},
   "outputs": [],
   "source": [
    "auxilin_dir = '/scratch/users/vision/data/abc_data/auxilin_data_tracked'\n",
    "\n",
    "    # 8 cell folders [1, 2, 3, ..., 8]\n",
    "cell_num = 1\n",
    "fname = f'{auxilin_dir}/A7D2/Cell{cell_num}_1s/TagRFP/Tracking/ProcessedTracks.mat'\n",
    "# cla, aux = get_images(f'Cell{cell_num}_1s', auxilin_dir=auxilin_dir)\n",
    "# fname_image = data_dir = oj(auxilin_dir, 'A7D2', f'Cell{cell_num}_1s')\n",
    "mat = mat4py.loadmat(fname)\n",
    "tracks = mat['tracks']"
   ]
  },
  {
   "cell_type": "code",
   "execution_count": 5,
   "metadata": {},
   "outputs": [
    {
     "data": {
      "text/plain": [
       "dict_keys(['t', 'f', 'x', 'y', 'A', 'c', 'x_pstd', 'y_pstd', 'A_pstd', 'c_pstd', 'sigma_r', 'SE_sigma_r', 'pval_Ar', 'isPSF', 'tracksFeatIndxCG', 'gapVect', 'gapStatus', 'gapIdx', 'seqOfEvents', 'nSeg', 'visibility', 'lifetime_s', 'start', 'end', 'startBuffer', 'endBuffer', 'MotionAnalysis', 'maskA', 'maskN', 'RSS', 'mask_Ar', 'hval_Ar', 'hval_AD', 'catIdx', 'isCCP', 'significantMaster', 'significantVsBackground', 'significantSlave'])"
      ]
     },
     "execution_count": 5,
     "metadata": {},
     "output_type": "execute_result"
    }
   ],
   "source": [
    "tracks.keys()"
   ]
  },
  {
   "cell_type": "markdown",
   "metadata": {},
   "source": [
    "# visualize a single example"
   ]
  },
  {
   "cell_type": "code",
   "execution_count": null,
   "metadata": {},
   "outputs": [],
   "source": [
    "# pick a single interesting example\n",
    "# ex = df[df.lifetime > 250].iloc[0]\n",
    "ex = df[(df.lifetime > 30) * (df.lifetime < 40) * (df.y_consec_sig == 1)].iloc[0]\n",
    "plt.figure(dpi=200)\n",
    "plt.plot(ex['X'], color='red', label='clathrin')\n",
    "plt.plot(ex['Y'], color='green', label='auxilin')\n",
    "plt.xlabel('Time')\n",
    "plt.ylabel('Amplitude')\n",
    "plt.legend()\n",
    "plt.show()"
   ]
  },
  {
   "cell_type": "markdown",
   "metadata": {},
   "source": [
    "# basic eda"
   ]
  },
  {
   "cell_type": "code",
   "execution_count": null,
   "metadata": {},
   "outputs": [],
   "source": [
    "viz.plot_curves(df, hline=False)"
   ]
  },
  {
   "cell_type": "code",
   "execution_count": null,
   "metadata": {},
   "outputs": [],
   "source": [
    "plt.plot(df['x_pos'], df['y_pos'], 'o', alpha=0.1)"
   ]
  },
  {
   "cell_type": "markdown",
   "metadata": {},
   "source": [
    "# look at learned dictionaries"
   ]
  },
  {
   "cell_type": "code",
   "execution_count": null,
   "metadata": {},
   "outputs": [],
   "source": [
    "print(os.listdir('processed/dictionaries'))\n",
    "# d = pkl.load(open(f'processed/dictionaries/' + 'sc_12_alpha=1.pkl', 'rb'))\n",
    "d = pkl.load(open(f'processed/dictionaries/' + 'nmf_12.pkl', 'rb'))\n",
    "R, C = 3, 4\n",
    "i = 0\n",
    "plt.figure(dpi=200)\n",
    "vmin = d.components_.min()\n",
    "vmax = d.components_.max()\n",
    "# print('err', d.reconstruction_err_ / np.linalg.norm(X_mat, ord='fro'))\n",
    "for r in range(R):\n",
    "    for c in range(C):\n",
    "        plt.subplot(R, C, i + 1)\n",
    "        plt.plot(d.components_[i], color=cr)\n",
    "        i += 1\n",
    "        plt.ylim((vmin, vmax))\n",
    "        if r < R-1:\n",
    "            plt.xticks([])\n",
    "        if c > 0:\n",
    "            plt.yticks([])\n",
    "plt.tight_layout()\n",
    "plt.show()"
   ]
  },
  {
   "cell_type": "markdown",
   "metadata": {},
   "source": [
    "# viz tracks where auxilin peaks first"
   ]
  },
  {
   "cell_type": "code",
   "execution_count": null,
   "metadata": {},
   "outputs": [],
   "source": [
    "outcomes = ['y_thresh', 'y_consec_sig', 'y_consec_thresh']\n",
    "for outcome in outcomes:\n",
    "    X_peak_idx = np.array([np.argmax(x) for x in df.X])\n",
    "    Y_peak_idx = np.array([np.argmax(y) for y in df.Y])\n",
    "    idxs_err = Y_peak_idx < X_peak_idx\n",
    "    df_err = df[idxs_err]\n",
    "    df_err_pos = df_err[df_err[outcome] == 1]\n",
    "    num_pos = df[df[outcome] == 1].shape[0]\n",
    "    num_pos_err = df_err_pos.shape[0] \n",
    "    frac_pos_err = num_pos_err / num_pos\n",
    "    print('num tot', df.shape[0], 'num aux peaks first', df_err.shape[0], f'frac pos aux peaks first {frac_pos_err:0.3f}')\n",
    "    viz.plot_curves(df_err_pos)"
   ]
  },
  {
   "cell_type": "code",
   "execution_count": null,
   "metadata": {},
   "outputs": [],
   "source": [
    "plt.figure(dpi=300)\n",
    "plt.hist(df_err_pos.lifetime, bins=20, color=cb)\n",
    "plt.xlabel('lifetime')\n",
    "plt.ylabel('count')\n",
    "plt.title('aux+ with auxilin peaking first')\n",
    "plt.show()"
   ]
  },
  {
   "cell_type": "code",
   "execution_count": null,
   "metadata": {},
   "outputs": [],
   "source": [
    "R, C = 2, 1\n",
    "plt.figure(dpi=200)\n",
    "plt.subplot(R, C, 1)\n",
    "plt.hist(X_peak_idx[idxs_err], color=cr)\n",
    "plt.xlabel('Clathrin peak time')\n",
    "plt.ylabel('Count')\n",
    "plt.subplot(R, C, 2)\n",
    "plt.hist(Y_peak_idx[idxs_err], color=cr)\n",
    "plt.xlabel('Auxilin peak time')\n",
    "plt.ylabel('Count')\n",
    "plt.tight_layout()"
   ]
  },
  {
   "cell_type": "markdown",
   "metadata": {},
   "source": [
    "# visualize splines"
   ]
  },
  {
   "cell_type": "code",
   "execution_count": null,
   "metadata": {},
   "outputs": [],
   "source": [
    "viz.plot_curves(df_err, extra_key='X_smooth_spl')"
   ]
  },
  {
   "cell_type": "markdown",
   "metadata": {},
   "source": [
    "# analyze tracking"
   ]
  },
  {
   "cell_type": "code",
   "execution_count": 1,
   "metadata": {},
   "outputs": [],
   "source": [
    "fname = f'/scratch/users/vision/data/abc_data/auxilin_data_tracked/A7D2/Cell1_1s/TagRFP/Tracking/ProcessedTracks.mat'\n",
    "mat = mat4py.loadmat(fname)\n",
    "tracks = mat['tracks']"
   ]
  },
  {
   "cell_type": "code",
   "execution_count": 3,
   "metadata": {},
   "outputs": [
    {
     "name": "stdout",
     "output_type": "stream",
     "text": [
      "clath 300 aux 300\n"
     ]
    }
   ],
   "source": [
    "i = 2\n",
    "x = tracks['x'][i][0]\n",
    "xx = tracks['x'][i][1]\n",
    "\n",
    "print('clath', len(x), 'aux', len(xx))"
   ]
  },
  {
   "cell_type": "code",
   "execution_count": null,
   "metadata": {},
   "outputs": [],
   "source": [
    "for i in range(1000):\n",
    "    print(tracks['t'][i][:5])"
   ]
  },
  {
   "cell_type": "markdown",
   "metadata": {},
   "source": [
    "# new feats\n",
    "**gets the clathrin traces aligned by their maximum, padded by zeros when necessary**"
   ]
  },
  {
   "cell_type": "code",
   "execution_count": 75,
   "metadata": {},
   "outputs": [],
   "source": [
    "def get_peak(row, num=21):\n",
    "    vals = np.empty(2 * num + 1) * np.nan \n",
    "    # vals = np.zeros(2 * num + 1)\n",
    "    x = row['X']\n",
    "    peak_idx = row['X_peak_idx']\n",
    "    x_before = x[max(0,  peak_idx - num): peak_idx]\n",
    "    \n",
    "    vals[num - len(x_before): num] = x_before\n",
    "    vals[num] = x[peak_idx]\n",
    "    \n",
    "    x_after = x[peak_idx + 1: peak_idx + num + 1]\n",
    "    vals[num + 1: num + 1 + len(x_after)] = x_after\n",
    "    return vals\n",
    "mat = np.vstack(df.apply(get_peak, axis=1).values)\n",
    "window_size = mat[0].size\n",
    "mid = (window_size // 2)"
   ]
  },
  {
   "cell_type": "code",
   "execution_count": null,
   "metadata": {},
   "outputs": [],
   "source": [
    "outcome_def = 'y_consec_thresh'\n",
    "R, C = 8, 8\n",
    "i = 0\n",
    "plt.figure(figsize=(C, R), dpi=200)\n",
    "vmin = np.nanmin(mat)\n",
    "vmax = np.nanmax(mat)\n",
    "# print('err', d.reconstruction_err_ / np.linalg.norm(X_mat, ord='fro'))\n",
    "\n",
    "pos = df[outcome_def]==1\n",
    "args = np.argsort(df[pos]['fall_local_11'].values)\n",
    "mat_pos = mat[pos][args]\n",
    "falls = df['fall_local_11'][pos].iloc[args].values\n",
    "\n",
    "for r in range(R):\n",
    "    for c in range(C):\n",
    "        plt.subplot(R, C, i + 1)\n",
    "        plt.title(f'{falls[i]:.2e}')\n",
    "        plt.plot(mat_pos[i * 8], color=cb, lw=1)\n",
    "        plt.plot(mid, mat_pos[i * 8][mid], 'o', color='white', ms=2)\n",
    "        \n",
    "        \n",
    "        plt.ylim((vmin, vmax))\n",
    "        if r < R-1:\n",
    "            plt.xticks([])\n",
    "        if c > 0:\n",
    "            plt.yticks([])\n",
    "            \n",
    "        i += 1\n",
    "plt.tight_layout()\n",
    "# plt.savefig('peak_aligned.pdf')\n",
    "plt.show()"
   ]
  },
  {
   "cell_type": "code",
   "execution_count": null,
   "metadata": {},
   "outputs": [],
   "source": []
  }
 ],
 "metadata": {
  "kernelspec": {
   "display_name": "Python 3",
   "language": "python",
   "name": "python3"
  },
  "language_info": {
   "codemirror_mode": {
    "name": "ipython",
    "version": 3
   },
   "file_extension": ".py",
   "mimetype": "text/x-python",
   "name": "python",
   "nbconvert_exporter": "python",
   "pygments_lexer": "ipython3",
   "version": "3.7.5"
  }
 },
 "nbformat": 4,
 "nbformat_minor": 4
}
