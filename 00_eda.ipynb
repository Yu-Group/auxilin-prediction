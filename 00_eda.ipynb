{
 "cells": [
  {
   "cell_type": "code",
   "execution_count": 2,
   "metadata": {},
   "outputs": [],
   "source": [
    "%matplotlib inline\n",
    "%load_ext autoreload\n",
    "%autoreload 2\n",
    "from matplotlib import pyplot as plt\n",
    "import seaborn as sns\n",
    "import numpy as np\n",
    "import os\n",
    "from os.path import join as oj\n",
    "from sklearn.feature_extraction.image import extract_patches_2d\n",
    "from sklearn.linear_model import LinearRegression, LogisticRegression, RidgeCV\n",
    "from sklearn.neural_network import MLPRegressor\n",
    "from sklearn.model_selection import cross_validate, train_test_split\n",
    "import mat4py\n",
    "from sklearn import metrics\n",
    "import numpy as np\n",
    "from collections import Counter\n",
    "from sklearn.datasets import make_classification\n",
    "from torch import nn\n",
    "import torch.nn.functional as F\n",
    "import torch\n",
    "from copy import deepcopy\n",
    "from sklearn import metrics\n",
    "plt.style.use('dark_background')\n",
    "import mat4py\n",
    "import pandas as pd\n",
    "import data\n",
    "import models\n",
    "import pickle as pkl\n",
    "from style import *\n",
    "import viz"
   ]
  },
  {
   "cell_type": "code",
   "execution_count": 24,
   "metadata": {},
   "outputs": [],
   "source": [
    "df = data.get_data(use_processed=True) # all_data=True\n",
    "outcome = 'y_consec_thresh'"
   ]
  },
  {
   "cell_type": "markdown",
   "metadata": {},
   "source": [
    "# look at tracks themselves"
   ]
  },
  {
   "cell_type": "code",
   "execution_count": 59,
   "metadata": {},
   "outputs": [],
   "source": [
    "auxilin_dir = '/scratch/users/vision/data/abc_data/auxilin_data_tracked'\n",
    "\n",
    "    # 8 cell folders [1, 2, 3, ..., 8]\n",
    "cell_num = 1\n",
    "fname = f'{auxilin_dir}/A7D2/Cell{cell_num}_1s/TagRFP/Tracking/ProcessedTracks.mat'\n",
    "# cla, aux = get_images(f'Cell{cell_num}_1s', auxilin_dir=auxilin_dir)\n",
    "# fname_image = data_dir = oj(auxilin_dir, 'A7D2', f'Cell{cell_num}_1s')\n",
    "mat = mat4py.loadmat(fname)\n",
    "tracks = mat['tracks']"
   ]
  },
  {
   "cell_type": "code",
   "execution_count": 60,
   "metadata": {},
   "outputs": [
    {
     "data": {
      "text/plain": [
       "dict_keys(['t', 'f', 'x', 'y', 'A', 'c', 'x_pstd', 'y_pstd', 'A_pstd', 'c_pstd', 'sigma_r', 'SE_sigma_r', 'pval_Ar', 'isPSF', 'tracksFeatIndxCG', 'gapVect', 'gapStatus', 'gapIdx', 'seqOfEvents', 'nSeg', 'visibility', 'lifetime_s', 'start', 'end', 'startBuffer', 'endBuffer', 'MotionAnalysis', 'maskA', 'maskN', 'RSS', 'mask_Ar', 'hval_Ar', 'hval_AD', 'catIdx', 'isCCP', 'significantMaster', 'significantVsBackground', 'significantSlave'])"
      ]
     },
     "execution_count": 60,
     "metadata": {},
     "output_type": "execute_result"
    }
   ],
   "source": [
    "tracks.keys()"
   ]
  },
  {
   "cell_type": "markdown",
   "metadata": {},
   "source": [
    "# visualize a single example"
   ]
  },
  {
   "cell_type": "code",
   "execution_count": null,
   "metadata": {},
   "outputs": [],
   "source": [
    "# pick a single interesting example\n",
    "# ex = df[df.lifetime > 250].iloc[0]\n",
    "ex = df[(df.lifetime > 30) * (df[outcome] == 1)]\n",
    "ex = ex.sort_values(by='Y_max')\n",
    "# .iloc[5]\n",
    "ex = ex.iloc[-5]\n",
    "plt.figure(dpi=200)\n",
    "plt.plot(ex['X'], color='red', label='clathrin')\n",
    "plt.plot(ex['Y'], color='green', label='auxilin')\n",
    "plt.xlabel('Time')\n",
    "plt.ylabel('Amplitude')\n",
    "plt.legend()\n",
    "plt.show()"
   ]
  },
  {
   "cell_type": "markdown",
   "metadata": {},
   "source": [
    "# basic eda"
   ]
  },
  {
   "cell_type": "code",
   "execution_count": null,
   "metadata": {},
   "outputs": [],
   "source": [
    "viz.plot_curves(df, hline=False)"
   ]
  },
  {
   "cell_type": "code",
   "execution_count": null,
   "metadata": {},
   "outputs": [],
   "source": [
    "plt.plot(df['x_pos'], df['y_pos'], 'o', alpha=0.1)"
   ]
  },
  {
   "cell_type": "markdown",
   "metadata": {},
   "source": [
    "# look at displacement features"
   ]
  },
  {
   "cell_type": "code",
   "execution_count": 40,
   "metadata": {},
   "outputs": [],
   "source": [
    "# functions to compute msd of track over time\n",
    "def f(a, b):\n",
    "    '''msd\n",
    "    '''\n",
    "    da = np.diff(a)\n",
    "    db = np.diff(b)\n",
    "    return np.sum(np.sqrt(np.square(da) + np.square(db)))\n",
    "\n",
    "def f2(a, b):\n",
    "    '''msd at end\n",
    "    '''\n",
    "    l = int(len(a) * 0.25 + 5)\n",
    "    da = np.diff(a)[-l:]\n",
    "    db = np.diff(b)[-l:]\n",
    "    return np.sum(np.sqrt(np.square(da) + np.square(db)))\n",
    "\n",
    "def f3(a, b):\n",
    "    '''curve of sd\n",
    "    '''\n",
    "    da = np.diff(a)\n",
    "    db = np.diff(b)\n",
    "    return np.sqrt(np.square(da) + np.square(db))\n",
    "\n",
    "x = df['x_pos_seq'].values\n",
    "y = df['y_pos_seq'].values\n",
    "msd_tot = [f3(a, b) for a, b in zip(x, y)]\n",
    "df['msd_alt'] = msd_tot"
   ]
  },
  {
   "cell_type": "code",
   "execution_count": null,
   "metadata": {},
   "outputs": [],
   "source": [
    "R, C = 2, 1\n",
    "d = df[df[outcome]==1]\n",
    "plt.figure(figsize=(8, 4), dpi=300)\n",
    "plt.subplot(R, C, 1)\n",
    "for i in range(50):\n",
    "    r = d.iloc[i]\n",
    "    xs = np.arange(r.lifetime - 1) / (r.lifetime - 1)\n",
    "    plt.plot(xs, r['msd_alt'], alpha=0.1, color=cb)\n",
    "    plt.xticks([])\n",
    "    plt.ylim(0, 8)\n",
    "plt.ylabel('aux+ square\\ndisplacement')\n",
    "plt.subplot(R, C, 2)    \n",
    "d = df[(df[outcome]==0) * (df.lifetime > 30)]\n",
    "for i in range(50):\n",
    "    r = d.iloc[i]\n",
    "    xs = np.arange(r.lifetime - 1) / (r.lifetime - 1)\n",
    "    plt.plot(xs, r['msd_alt'], alpha=0.1, color=cr)    \n",
    "    plt.ylim(0, 8)    \n",
    "    plt.xlabel('lifetime (frac)')\n",
    "plt.ylabel('aux- square\\ndisplacement')    "
   ]
  },
  {
   "cell_type": "code",
   "execution_count": 4,
   "metadata": {},
   "outputs": [],
   "source": [
    "# plt.plot(msd_tot, df['mean_square_displacement'])"
   ]
  },
  {
   "cell_type": "code",
   "execution_count": 5,
   "metadata": {},
   "outputs": [],
   "source": [
    "# plt.plot(x[0], y[0])"
   ]
  },
  {
   "cell_type": "code",
   "execution_count": null,
   "metadata": {},
   "outputs": [],
   "source": [
    "viz.jointplot_grouped('msd_alt', 'fall', 'y_consec_thresh', df, scatter_alpha=0.1)\n",
    "plt.savefig('msd_alt_fall.png', dpi=400)"
   ]
  },
  {
   "cell_type": "code",
   "execution_count": null,
   "metadata": {},
   "outputs": [],
   "source": [
    "# plt.plot(df['msd_tot'], df['Y_max'], 'o', alpha=0.1)\n",
    "# sns.lmplot('msd_tot', 'Y_max', data=df)\n",
    "sns.jointplot('msd_alt', 'Y_max', data=df, kind='reg')\n",
    "plt.ylabel('aux max')\n",
    "plt.savefig('msd_alt.png', dpi=400)\n",
    "# sns.jointplot(x, y, kind=\"reg\", stat_func=r2)"
   ]
  },
  {
   "cell_type": "markdown",
   "metadata": {},
   "source": [
    "# look at learned dictionaries"
   ]
  },
  {
   "cell_type": "code",
   "execution_count": null,
   "metadata": {},
   "outputs": [],
   "source": [
    "print(os.listdir('processed/dictionaries'))\n",
    "# d = pkl.load(open(f'processed/dictionaries/' + 'sc_12_alpha=1.pkl', 'rb'))\n",
    "d = pkl.load(open(f'processed/dictionaries/' + 'nmf_12.pkl', 'rb'))\n",
    "R, C = 3, 4\n",
    "i = 0\n",
    "plt.figure(dpi=200)\n",
    "vmin = d.components_.min()\n",
    "vmax = d.components_.max()\n",
    "# print('err', d.reconstruction_err_ / np.linalg.norm(X_mat, ord='fro'))\n",
    "for r in range(R):\n",
    "    for c in range(C):\n",
    "        plt.subplot(R, C, i + 1)\n",
    "        plt.plot(d.components_[i], color=cr)\n",
    "        i += 1\n",
    "        plt.ylim((vmin, vmax))\n",
    "        if r < R-1:\n",
    "            plt.xticks([])\n",
    "        if c > 0:\n",
    "            plt.yticks([])\n",
    "plt.tight_layout()\n",
    "plt.show()"
   ]
  },
  {
   "cell_type": "markdown",
   "metadata": {},
   "source": [
    "# viz tracks where auxilin peaks first"
   ]
  },
  {
   "cell_type": "code",
   "execution_count": null,
   "metadata": {},
   "outputs": [],
   "source": [
    "outcomes = ['y_thresh', 'y_consec_sig', 'y_consec_thresh']\n",
    "for outcome in outcomes:\n",
    "    X_peak_idx = np.array([np.argmax(x) for x in df.X])\n",
    "    Y_peak_idx = np.array([np.argmax(y) for y in df.Y])\n",
    "    idxs_err = Y_peak_idx < X_peak_idx\n",
    "    df_err = df[idxs_err]\n",
    "    df_err_pos = df_err[df_err[outcome] == 1]\n",
    "    num_pos = df[df[outcome] == 1].shape[0]\n",
    "    num_pos_err = df_err_pos.shape[0] \n",
    "    frac_pos_err = num_pos_err / num_pos\n",
    "    print('num tot', df.shape[0], 'num aux peaks first', df_err.shape[0], f'frac pos aux peaks first {frac_pos_err:0.3f}')\n",
    "    viz.plot_curves(df_err_pos)"
   ]
  },
  {
   "cell_type": "code",
   "execution_count": null,
   "metadata": {},
   "outputs": [],
   "source": [
    "plt.figure(dpi=300)\n",
    "plt.hist(df_err_pos.lifetime, bins=20, color=cb)\n",
    "plt.xlabel('lifetime')\n",
    "plt.ylabel('count')\n",
    "plt.title('aux+ with auxilin peaking first')\n",
    "plt.show()"
   ]
  },
  {
   "cell_type": "code",
   "execution_count": null,
   "metadata": {},
   "outputs": [],
   "source": [
    "R, C = 2, 1\n",
    "plt.figure(dpi=200)\n",
    "plt.subplot(R, C, 1)\n",
    "plt.hist(X_peak_idx[idxs_err], color=cr)\n",
    "plt.xlabel('Clathrin peak time')\n",
    "plt.ylabel('Count')\n",
    "plt.subplot(R, C, 2)\n",
    "plt.hist(Y_peak_idx[idxs_err], color=cr)\n",
    "plt.xlabel('Auxilin peak time')\n",
    "plt.ylabel('Count')\n",
    "plt.tight_layout()"
   ]
  },
  {
   "cell_type": "markdown",
   "metadata": {},
   "source": [
    "# visualize splines"
   ]
  },
  {
   "cell_type": "code",
   "execution_count": null,
   "metadata": {},
   "outputs": [],
   "source": [
    "viz.plot_curves(df_err, extra_key='X_smooth_spl')"
   ]
  },
  {
   "cell_type": "markdown",
   "metadata": {},
   "source": [
    "# analyze tracking"
   ]
  },
  {
   "cell_type": "code",
   "execution_count": 1,
   "metadata": {},
   "outputs": [],
   "source": [
    "fname = f'/scratch/users/vision/data/abc_data/auxilin_data_tracked/A7D2/Cell1_1s/TagRFP/Tracking/ProcessedTracks.mat'\n",
    "mat = mat4py.loadmat(fname)\n",
    "tracks = mat['tracks']"
   ]
  },
  {
   "cell_type": "code",
   "execution_count": 3,
   "metadata": {},
   "outputs": [
    {
     "name": "stdout",
     "output_type": "stream",
     "text": [
      "clath 300 aux 300\n"
     ]
    }
   ],
   "source": [
    "i = 2\n",
    "x = tracks['x'][i][0]\n",
    "xx = tracks['x'][i][1]\n",
    "\n",
    "print('clath', len(x), 'aux', len(xx))"
   ]
  },
  {
   "cell_type": "code",
   "execution_count": null,
   "metadata": {},
   "outputs": [],
   "source": [
    "for i in range(1000):\n",
    "    print(tracks['t'][i][:5])"
   ]
  },
  {
   "cell_type": "markdown",
   "metadata": {},
   "source": [
    "# feats centered around peak\n",
    "**gets the clathrin traces aligned by their maximum, padded by zeros when necessary**"
   ]
  },
  {
   "cell_type": "code",
   "execution_count": 75,
   "metadata": {},
   "outputs": [],
   "source": [
    "def get_peak(row, num=21):\n",
    "    vals = np.empty(2 * num + 1) * np.nan \n",
    "    # vals = np.zeros(2 * num + 1)\n",
    "    x = row['X']\n",
    "    peak_idx = row['X_peak_idx']\n",
    "    x_before = x[max(0,  peak_idx - num): peak_idx]\n",
    "    \n",
    "    vals[num - len(x_before): num] = x_before\n",
    "    vals[num] = x[peak_idx]\n",
    "    \n",
    "    x_after = x[peak_idx + 1: peak_idx + num + 1]\n",
    "    vals[num + 1: num + 1 + len(x_after)] = x_after\n",
    "    return vals\n",
    "mat = np.vstack(df.apply(get_peak, axis=1).values)\n",
    "window_size = mat[0].size\n",
    "mid = (window_size // 2)"
   ]
  },
  {
   "cell_type": "code",
   "execution_count": null,
   "metadata": {},
   "outputs": [],
   "source": [
    "outcome_def = 'y_consec_thresh'\n",
    "R, C = 8, 8\n",
    "i = 0\n",
    "plt.figure(figsize=(C, R), dpi=200)\n",
    "vmin = np.nanmin(mat)\n",
    "vmax = np.nanmax(mat)\n",
    "# print('err', d.reconstruction_err_ / np.linalg.norm(X_mat, ord='fro'))\n",
    "\n",
    "pos = df[outcome_def]==1\n",
    "args = np.argsort(df[pos]['fall_local_11'].values)\n",
    "mat_pos = mat[pos][args]\n",
    "falls = df['fall_local_11'][pos].iloc[args].values\n",
    "\n",
    "for r in range(R):\n",
    "    for c in range(C):\n",
    "        plt.subplot(R, C, i + 1)\n",
    "        plt.title(f'{falls[i]:.2e}')\n",
    "        plt.plot(mat_pos[i * 8], color=cb, lw=1)\n",
    "        plt.plot(mid, mat_pos[i * 8][mid], 'o', color='white', ms=2)\n",
    "        \n",
    "        \n",
    "        plt.ylim((vmin, vmax))\n",
    "        if r < R-1:\n",
    "            plt.xticks([])\n",
    "        if c > 0:\n",
    "            plt.yticks([])\n",
    "            \n",
    "        i += 1\n",
    "plt.tight_layout()\n",
    "# plt.savefig('peak_aligned.pdf')\n",
    "plt.show()"
   ]
  },
  {
   "cell_type": "markdown",
   "metadata": {},
   "source": [
    "# pairplot of most relevant feats"
   ]
  },
  {
   "cell_type": "code",
   "execution_count": null,
   "metadata": {},
   "outputs": [],
   "source": [
    "d = df[['fall', 'X_max', 'rise', 'slope_end', outcome]]\n",
    "sns.pairplot(d, hue=outcome)\n",
    "plt.savefig('out.pdf')\n",
    "plt.show()"
   ]
  },
  {
   "cell_type": "code",
   "execution_count": null,
   "metadata": {},
   "outputs": [],
   "source": [
    "d = df[['fall', 'fall_extended', 'fall_late_extended'] + [outcome]]\n",
    "sns.pairplot(d, hue=outcome)\n",
    "plt.show()"
   ]
  },
  {
   "cell_type": "markdown",
   "metadata": {},
   "source": [
    "# spike-times plot"
   ]
  },
  {
   "cell_type": "code",
   "execution_count": null,
   "metadata": {},
   "outputs": [],
   "source": [
    "plt.figure(dpi=300)\n",
    "plt.hist(df['Y_peak_idx'] - df['X_peak_idx'], bins=20)\n",
    "plt.xlabel('aux peak time - clath peak time')\n",
    "plt.ylabel('count')\n",
    "plt.show()"
   ]
  },
  {
   "cell_type": "markdown",
   "metadata": {},
   "source": [
    "# spike magnitude plot"
   ]
  },
  {
   "cell_type": "code",
   "execution_count": null,
   "metadata": {},
   "outputs": [],
   "source": [
    "plt.figure(dpi=300)\n",
    "plt.scatter(df['X_max'], df['fall'], c=df['Y_max'], alpha=0.5, marker='.')\n",
    "plt.colorbar()\n",
    "plt.xlabel('clath max')\n",
    "plt.ylabel('fall')\n",
    "plt.show()"
   ]
  },
  {
   "cell_type": "markdown",
   "metadata": {},
   "source": [
    "## TP/FP videos"
   ]
  },
  {
   "cell_type": "code",
   "execution_count": 13,
   "metadata": {},
   "outputs": [],
   "source": [
    "from array2gif import write_gif"
   ]
  },
  {
   "cell_type": "code",
   "execution_count": 5,
   "metadata": {},
   "outputs": [],
   "source": [
    "X, Y = {}, {}\n",
    "for cell_num in range(1, 7):\n",
    "    X[cell_num], Y[cell_num] = data.get_images(f'Cell{cell_num}_1s')"
   ]
  },
  {
   "cell_type": "code",
   "execution_count": 7,
   "metadata": {},
   "outputs": [],
   "source": [
    "fp_ids = [2466, 2547, 2577, 2612, 2631, 2667, 2679, 2705, 2732, 2750, 2756, 2776, 2795, 2473, 2435, 2962]\n",
    "tp_ids = [8988, 3174, 2969, 2966, 2944, 2939, 2937, 2920, 2918, 2910, 2889, 2884, 2874, 2861, 2854, 2851]"
   ]
  },
  {
   "cell_type": "code",
   "execution_count": 74,
   "metadata": {},
   "outputs": [],
   "source": [
    "for idx in fp_ids:\n",
    "    i = np.where(df['pid'] == idx)[0][0]\n",
    "    track = df.iloc[i]\n",
    "    cell_num = track['cell_num']\n",
    "    minx, miny, maxx, maxy = min(track['x_pos_seq']), min(track['y_pos_seq']), max(track['x_pos_seq']), max(track['y_pos_seq'])\n",
    "    clath = X[cell_num][int(track['t']):(int(track['t'])+track['lifetime']), :, :][:, (int(miny)-5):(int(maxy)+5), :][:, :, (int(minx)-5):(int(maxx)+5)]\n",
    "    clath = 255.0 * (clath - X[cell_num].min()) / (clath.max() - X[cell_num].min())\n",
    "    clip = np.repeat(np.expand_dims(clath, axis=3), 3, axis=3) # convert to rgb\n",
    "    write_gif(clip, f'fp_clips/{idx}.gif', fps=5)\n",
    "    \n",
    "for idx in tp_ids:\n",
    "    i = np.where(df['pid'] == idx)[0][0]\n",
    "    track = df.iloc[i]\n",
    "    cell_num = track['cell_num']\n",
    "    minx, miny, maxx, maxy = min(track['x_pos_seq']), min(track['y_pos_seq']), max(track['x_pos_seq']), max(track['y_pos_seq'])\n",
    "    clath = X[cell_num][int(track['t']):(int(track['t'])+track['lifetime']), :, :][:, (int(miny)-5):(int(maxy)+5), :][:, :, (int(minx)-5):(int(maxx)+5)]\n",
    "    clath = 255.0 * (clath - X[cell_num].min()) / (clath.max() - X[cell_num].min())\n",
    "    clip = np.repeat(np.expand_dims(clath, axis=3), 3, axis=3) # convert to rgb\n",
    "    #clip = 255 * (clip - X[cell_num].min()) / (clip.max() - X[cell_num].min())\n",
    "    write_gif(clip, f'tp_clips/{idx}.gif', fps=5)"
   ]
  },
  {
   "cell_type": "code",
   "execution_count": 61,
   "metadata": {},
   "outputs": [],
   "source": [
    "clath = X[cell_num][int(track['t']):(int(track['t'])+track['lifetime']), :, :][:, (int(miny)-5):(int(maxy)+5), :][:, :, (int(minx)-5):(int(maxx)+5)]"
   ]
  },
  {
   "cell_type": "markdown",
   "metadata": {},
   "source": [
    "# kymographs"
   ]
  },
  {
   "cell_type": "code",
   "execution_count": 43,
   "metadata": {},
   "outputs": [],
   "source": [
    "def plot_kymograph(df, pids, X, Y):\n",
    "    \n",
    "    df = df[df.pid.isin(pids)]\n",
    "    #df = df[df.lifetime >= 50]\n",
    "    #df = df[df.y_consec_thresh == 0]\n",
    "    #cla = np.array([[X[df.cell_num.iloc[i]].mean()]*int(df.t.iloc[i])+ \n",
    "    #                 [np.mean(X[df.cell_num.iloc[i]][int(df.t.iloc[i]) + j][int(df.y_pos_seq.iloc[i][j]-1):int(df.y_pos_seq.iloc[i][j]+2),:][:,int(df.x_pos_seq.iloc[i][j])])\n",
    "    #                 for j in range(df.lifetime.iloc[i])] +\n",
    "    #                 [X[df.cell_num.iloc[i]].mean()]*(300 - int(df.t.iloc[i]) - df.lifetime.iloc[i]) for i in range(len(df))])\n",
    "    cla = []\n",
    "    for i in range(len(df)):\n",
    "        xmean = X[df.cell_num.iloc[i]].mean()\n",
    "        xmean = X[1].min()\n",
    "        t, lt = int(df.t.iloc[i]), df.lifetime.iloc[i]\n",
    "        x_pos, y_pos = df.x_pos_seq.iloc[i], df.y_pos_seq.iloc[i]\n",
    "        trace = [xmean]*t + [np.mean(X[df.cell_num.iloc[i]][t+j][int(y_pos[j]-1):int(y_pos[j]+2),:][:,int(x_pos[j]-1):int(x_pos[j]+2)]) for j in range(lt)] + [xmean]*(300 - t - lt)\n",
    "        cla.append(trace)\n",
    "    cla = np.array(cla)\n",
    "    #print(cla.max())\n",
    "    cla = (cla - X[1].min())/(5572 - X[1].min())\n",
    "    cla_sparse = []\n",
    "    for i in range(len(df)):\n",
    "        cla_sparse.append(cla[i])\n",
    "        cla_sparse.append([0]*300)\n",
    "        cla_sparse.append([0]*300)\n",
    "        cla_sparse.append([0]*300)\n",
    "    aux = np.array([[Y[1].min()]*int(df.t.iloc[i])+ \n",
    "                     [Y[df.cell_num.iloc[i]][int(df.t.iloc[i]) + j, int(df.y_pos_seq.iloc[i][j]), int(df.x_pos_seq.iloc[i][j])]\n",
    "                     for j in range(df.lifetime.iloc[i])] +\n",
    "                     [Y[1].min()]*(300 - int(df.t.iloc[i]) - df.lifetime.iloc[i]) for i in range(len(df))])\n",
    "    #print(aux.max())\n",
    "    aux = (aux - Y[1].min())/(4045 - Y[1].min())\n",
    "    aux_sparse = []\n",
    "    for i in range(len(df)):\n",
    "        aux_sparse.append([0]*300)\n",
    "        aux_sparse.append(aux[i])\n",
    "        aux_sparse.append([0]*300)\n",
    "        aux_sparse.append([0]*300)\n",
    "    return np.array([[[cla_sparse[i][j], aux_sparse[i][j], 0] for i in range(len(df)*4)] for j in range(300)])"
   ]
  },
  {
   "cell_type": "code",
   "execution_count": 75,
   "metadata": {},
   "outputs": [],
   "source": [
    "def plot_kymograph_aligned(df, pids, X, Y):\n",
    "    \n",
    "    df = df[df.pid.isin(pids)]\n",
    "    lmax = max(df.lifetime.values)\n",
    "    #df = df[df.lifetime >= 50]\n",
    "    #df = df[df.y_consec_thresh == 0]\n",
    "    #cla = np.array([[X[df.cell_num.iloc[i]].mean()]*int(df.t.iloc[i])+ \n",
    "    #                 [np.mean(X[df.cell_num.iloc[i]][int(df.t.iloc[i]) + j][int(df.y_pos_seq.iloc[i][j]-1):int(df.y_pos_seq.iloc[i][j]+2),:][:,int(df.x_pos_seq.iloc[i][j])])\n",
    "    #                 for j in range(df.lifetime.iloc[i])] +\n",
    "    #                 [X[df.cell_num.iloc[i]].mean()]*(300 - int(df.t.iloc[i]) - df.lifetime.iloc[i]) for i in range(len(df))])\n",
    "    cla = []\n",
    "    for i in range(len(df)):\n",
    "        xmean = X[df.cell_num.iloc[i]].mean()\n",
    "        xmean = X[1].min()\n",
    "        t, lt = int(df.t.iloc[i]), df.lifetime.iloc[i]\n",
    "        x_pos, y_pos = df.x_pos_seq.iloc[i], df.y_pos_seq.iloc[i]\n",
    "        trace = [np.mean(X[df.cell_num.iloc[i]][t+j][int(y_pos[j]-1):int(y_pos[j]+2),:][:,int(x_pos[j]-1):int(x_pos[j]+2)]) for j in range(lt)] + [xmean]*(lmax - lt)\n",
    "        cla.append(trace)\n",
    "    cla = np.array(cla)\n",
    "    print(cla.max())\n",
    "    cla = (cla - X[1].min())/(7681 - X[1].min())\n",
    "    cla_sparse = []\n",
    "    for i in range(len(df)):\n",
    "        cla_sparse.append(cla[i])\n",
    "        cla_sparse.append([0]*lmax)\n",
    "        cla_sparse.append([0]*lmax)\n",
    "        cla_sparse.append([0]*lmax)\n",
    "    aux = np.array([[Y[df.cell_num.iloc[i]][int(df.t.iloc[i]) + j, int(df.y_pos_seq.iloc[i][j]), int(df.x_pos_seq.iloc[i][j])]\n",
    "                     for j in range(df.lifetime.iloc[i])] +\n",
    "                     [Y[1].min()]*(lmax - df.lifetime.iloc[i]) for i in range(len(df))])\n",
    "    print(aux.max())\n",
    "    aux = (aux - Y[1].min())/(6346 - Y[1].min())\n",
    "    aux_sparse = []\n",
    "    for i in range(len(df)):\n",
    "        aux_sparse.append([0]*lmax)\n",
    "        aux_sparse.append(aux[i])\n",
    "        aux_sparse.append([0]*lmax)\n",
    "        aux_sparse.append([0]*lmax)\n",
    "    return np.array([[[cla_sparse[i][j], aux_sparse[i][j], 0] for i in range(len(df)*4)] for j in range(lmax)])"
   ]
  },
  {
   "cell_type": "code",
   "execution_count": 51,
   "metadata": {},
   "outputs": [
    {
     "data": {
      "text/plain": [
       "[]"
      ]
     },
     "execution_count": 51,
     "metadata": {},
     "output_type": "execute_result"
    },
    {
     "data": {
      "image/png": "[encoded data removed]",
      "text/plain": [
       "<Figure size 720x432 with 1 Axes>"
      ]
     },
     "metadata": {},
     "output_type": "display_data"
    }
   ],
   "source": [
    "kg = plot_kymograph_aligned(df, fp_ids, X, Y)\n",
    "fig, ax = plt.subplots(figsize=(10, 6))\n",
    "ax.imshow(kg, aspect=.2)\n",
    "ax.set_xticks([])"
   ]
  },
  {
   "cell_type": "code",
   "execution_count": null,
   "metadata": {},
   "outputs": [],
   "source": [
    "kg = plot_kymograph(df, tp_ids, X, Y)\n",
    "fig, ax = plt.subplots(figsize=(10, 6))\n",
    "ax.imshow(kg, aspect=.2)\n",
    "ax.set_xticks([])"
   ]
  },
  {
   "cell_type": "code",
   "execution_count": 72,
   "metadata": {},
   "outputs": [
    {
     "name": "stdout",
     "output_type": "stream",
     "text": [
      "7680.333333333333\n",
      "6346\n"
     ]
    }
   ],
   "source": [
    "#np.argsort(df.Y_max)[::-1][:50]\n",
    "tp_ids = df.pid.values[np.argsort(df.Y_max)[::-1][:50]]\n",
    "kg = plot_kymograph_aligned(df, tp_ids, X, Y)"
   ]
  },
  {
   "cell_type": "code",
   "execution_count": 76,
   "metadata": {},
   "outputs": [
    {
     "data": {
      "text/plain": [
       "[]"
      ]
     },
     "execution_count": 76,
     "metadata": {},
     "output_type": "execute_result"
    },
    {
     "data": {
      "image/png": "[encoded data removed]",
      "text/plain": [
       "<Figure size 720x432 with 1 Axes>"
      ]
     },
     "metadata": {},
     "output_type": "display_data"
    }
   ],
   "source": [
    "fig, ax = plt.subplots(figsize=(10, 6))\n",
    "ax.imshow(kg, aspect=0.5)\n",
    "ax.set_xticks([])"
   ]
  },
  {
   "cell_type": "code",
   "execution_count": 77,
   "metadata": {},
   "outputs": [
    {
     "name": "stdout",
     "output_type": "stream",
     "text": [
      "7036.555555555556\n",
      "2590\n"
     ]
    }
   ],
   "source": [
    "tn_ids = df.pid.values[np.argsort(df.Y_max)[:50]]\n",
    "kg = plot_kymograph_aligned(df, tn_ids, X, Y)"
   ]
  },
  {
   "cell_type": "code",
   "execution_count": 78,
   "metadata": {},
   "outputs": [
    {
     "data": {
      "text/plain": [
       "[]"
      ]
     },
     "execution_count": 78,
     "metadata": {},
     "output_type": "execute_result"
    },
    {
     "data": {
      "image/png": "[encoded data removed]",
      "text/plain": [
       "<Figure size 720x432 with 1 Axes>"
      ]
     },
     "metadata": {},
     "output_type": "display_data"
    }
   ],
   "source": [
    "fig, ax = plt.subplots(figsize=(10, 6))\n",
    "ax.imshow(kg, aspect=0.5)\n",
    "ax.set_xticks([])"
   ]
  },
  {
   "cell_type": "markdown",
   "metadata": {},
   "source": [
    "### Random projections"
   ]
  },
  {
   "cell_type": "code",
   "execution_count": 118,
   "metadata": {},
   "outputs": [],
   "source": [
    "from sklearn.random_projection import GaussianRandomProjection as GRP\n",
    "\n",
    "df = data.get_data(use_processed=True) \n",
    "feat_names = data.get_feature_names(df)\n",
    "\n",
    "# don't use dict_feats\n",
    "feat_names = [x for x in feat_names \n",
    "              if not x.startswith('sc_') \n",
    "              and not x.startswith('nmf_')\n",
    "              and not x in ['center_max', 'left_max', 'right_max', 'up_max', 'down_max', \n",
    "                            'X_max_around_Y_peak', 'X_max_after_Y_peak', 'X_max_diff_after_Y_peak',\n",
    "                           'X_peak_last_15', 'X_peak_last_5', 'X_peak_time_frac', \n",
    "                           'rise_extended', 'fall_extended', 'fall_late_extended', 'lifetime_extended']\n",
    "              and not x.startswith('pc_')\n",
    "#               and not 'local' in x\n",
    "#               and not 'X_peak' in x\n",
    "#               and not 'slope' in x\n",
    "#               and not x in ['fall_final', 'fall_slope', 'fall_imp', 'fall']\n",
    "             ]"
   ]
  },
  {
   "cell_type": "code",
   "execution_count": 119,
   "metadata": {},
   "outputs": [
    {
     "data": {
      "text/plain": [
       "['total_displacement',\n",
       " 'mean_square_displacement',\n",
       " 'lifetime',\n",
       " 'X_max',\n",
       " 'X_max_extended',\n",
       " 'X_min',\n",
       " 'X_mean',\n",
       " 'X_std',\n",
       " 'slope_end',\n",
       " 'rise',\n",
       " 'fall',\n",
       " 'fall_final',\n",
       " 'rise_slope',\n",
       " 'fall_slope',\n",
       " 'rise_local_3',\n",
       " 'fall_local_3',\n",
       " 'rise_local_11',\n",
       " 'fall_local_11',\n",
       " 'max_diff',\n",
       " 'min_diff',\n",
       " 'fall_imp',\n",
       " 'X_max_spl',\n",
       " 'dx_max_spl',\n",
       " 'd2x_max_spl',\n",
       " 'num_local_max_spl',\n",
       " 'num_local_min_spl',\n",
       " 'end_linear_fit',\n",
       " 'start_linear_fit']"
      ]
     },
     "execution_count": 119,
     "metadata": {},
     "output_type": "execute_result"
    }
   ],
   "source": [
    "feat_names"
   ]
  },
  {
   "cell_type": "code",
   "execution_count": 131,
   "metadata": {},
   "outputs": [],
   "source": [
    "feat_names = feat_names[:12]\n",
    "for name in feat_names:\n",
    "    #if 'peak' not in name:\n",
    "    df[name] = boxcox(df[name] - df[name].min() + 1)[0]\n",
    "\n",
    "X = df[feat_names]\n",
    "X = (X - X.mean()) / X.std()\n",
    "grp = GRP(n_components=2)\n",
    "X_new = grp.fit_transform(X)"
   ]
  },
  {
   "cell_type": "code",
   "execution_count": 132,
   "metadata": {},
   "outputs": [],
   "source": [
    "from sklearn.decomposition import PCA\n",
    "pca = PCA(n_components=10)\n",
    "X_new_pca = pca.fit_transform(X)"
   ]
  },
  {
   "cell_type": "code",
   "execution_count": 81,
   "metadata": {},
   "outputs": [
    {
     "data": {
      "text/plain": [
       "10"
      ]
     },
     "execution_count": 81,
     "metadata": {},
     "output_type": "execute_result"
    }
   ],
   "source": [
    "len(feat_names)"
   ]
  },
  {
   "cell_type": "code",
   "execution_count": 139,
   "metadata": {},
   "outputs": [
    {
     "data": {
      "image/png": "[encoded data removed]",
      "text/plain": [
       "<Figure size 432x288 with 1 Axes>"
      ]
     },
     "metadata": {},
     "output_type": "display_data"
    }
   ],
   "source": [
    "\n",
    "import pylab \n",
    "import scipy.stats as stats\n",
    "from scipy.stats import boxcox\n",
    "\n",
    "#X_trans = boxcox(df['X_max'])\n",
    "stats.probplot(X_new_pca[:, 6], dist=\"norm\", plot=pylab)\n",
    "#stats.probplot(X_new[:, 1], dist=\"norm\", plot=pylab)\n",
    "pylab.show()\n"
   ]
  },
  {
   "cell_type": "code",
   "execution_count": 102,
   "metadata": {},
   "outputs": [],
   "source": [
    "import warnings\n",
    "warnings.filterwarnings(\"ignore\")"
   ]
  },
  {
   "cell_type": "code",
   "execution_count": 89,
   "metadata": {},
   "outputs": [],
   "source": [
    "for i in range(10):\n",
    "    df[f'trans_pca_{i}'] = X_new_pca[:, i]"
   ]
  },
  {
   "cell_type": "code",
   "execution_count": 90,
   "metadata": {},
   "outputs": [],
   "source": [
    "feat_names = [f'trans_pca_{i}' for i in range(10)]"
   ]
  },
  {
   "cell_type": "code",
   "execution_count": 121,
   "metadata": {},
   "outputs": [
    {
     "name": "stderr",
     "output_type": "stream",
     "text": [
      "100%|██████████| 1/1 [00:01<00:00,  1.25s/it]\n",
      "100%|██████████| 1/1 [00:05<00:00,  5.11s/it]\n",
      "100%|██████████| 1/1 [00:01<00:00,  1.45s/it]\n",
      "100%|██████████| 1/1 [00:01<00:00,  1.66s/it]\n"
     ]
    }
   ],
   "source": [
    "outcome_def = 'y_consec_thresh'\n",
    "# out_dir = f'results/outcome={outcome_def}'\n",
    "out_dir = f'results/march2_1'\n",
    "os.makedirs(out_dir, exist_ok=True)\n",
    "feature_selection_nums = [3, 5, 7] #[3, 5, 7, 12, 16]: # number of feature to select [4, 9, 11, 23, 35, 39]\n",
    "for feature_selection_num in feature_selection_nums:\n",
    "    for feature_selection in ['select_rf', None]: # select_lasso, select_rf, None\n",
    "        if feature_selection is None and feature_selection_num > feature_selection_nums[0]: # don't do extra computation\n",
    "            break\n",
    "        for model_type in tqdm(['qda']): #,'gb', 'logistic', 'dt', 'svm', 'gb', 'rf', 'mlp2', 'irf']):\n",
    "            for num_feats in [12, 17, len(feat_names)]: #[16, 25, len(feat_names)]: # number of total features to consider\n",
    "                for balancing in ['ros']: # None, ros                        \n",
    "                    for balancing_ratio in [0.8, 1, 1.2]: # positive: negative  \n",
    "                        hyperparams = [0] if model_type in ['logistic', 'rf', 'gb', 'dt', 'irf', 'qda'] else [-1, 0, 1]\n",
    "                        for hyperparam in hyperparams: # 0 is default\n",
    "                            feats = feat_names[:num_feats]\n",
    "                            out_name = f'{model_type}_{num_feats}_{feature_selection}={feature_selection_num}_{balancing}={balancing_ratio}_h={hyperparam}'\n",
    "                            train.train(df, feat_names=feats, model_type=model_type, \n",
    "                                        balancing=balancing, balancing_ratio=balancing_ratio,\n",
    "                                        outcome_def=outcome_def,\n",
    "                                        feature_selection=feature_selection,\n",
    "                                        feature_selection_num=feature_selection_num,\n",
    "                                        hyperparam=hyperparam,\n",
    "                                        out_name=f'{out_dir}/{out_name}.pkl')"
   ]
  },
  {
   "cell_type": "code",
   "execution_count": 122,
   "metadata": {},
   "outputs": [],
   "source": [
    "import analyze_helper\n",
    "outcome_def = 'y_consec_thresh'\n",
    "out_dir = 'results/march2_1'\n",
    "results = analyze_helper.load_results(out_dir)"
   ]
  },
  {
   "cell_type": "code",
   "execution_count": 123,
   "metadata": {},
   "outputs": [
    {
     "name": "stdout",
     "output_type": "stream",
     "text": [
      "valid:\t\t2066.0 aux+ / 7594 (0.272)\n",
      "----------------------------------------\n",
      "no_hotspots:\t1735.0 aux+ / 7245 (0.239)\n",
      "----------------------------------------\n",
      "lifetime<=26:\t4720 aux+ / 5127 (0.921)\n",
      "lifetime>=145:\t  62 aux- /   67 (0.925)\n",
      "remaining:\t1266 aux+ / 2051 (0.617)\n",
      "----------------------------------------\n",
      "predicted acc:\t\t\t  0.719\n",
      "total acc:\t\t\t  0.864\n"
     ]
    }
   ],
   "source": [
    "viz.print_metadata(acc=results.accuracy.max())"
   ]
  },
  {
   "cell_type": "code",
   "execution_count": 117,
   "metadata": {},
   "outputs": [
    {
     "data": {
      "text/html": [
       "<style  type=\"text/css\" >\n",
       "    #T_e6700492_5cdd_11ea_b5ad_18037319446drow0_col0 {\n",
       "            background-color:  #fde725;\n",
       "        }    #T_e6700492_5cdd_11ea_b5ad_18037319446drow0_col1 {\n",
       "            background-color:  #24aa83;\n",
       "        }    #T_e6700492_5cdd_11ea_b5ad_18037319446drow0_col2 {\n",
       "            background-color:  #fde725;\n",
       "        }    #T_e6700492_5cdd_11ea_b5ad_18037319446drow0_col3 {\n",
       "            background-color:  #365d8d;\n",
       "        }    #T_e6700492_5cdd_11ea_b5ad_18037319446drow0_col4 {\n",
       "            background-color:  #fde725;\n",
       "        }    #T_e6700492_5cdd_11ea_b5ad_18037319446drow0_col5 {\n",
       "            background-color:  #fde725;\n",
       "        }    #T_e6700492_5cdd_11ea_b5ad_18037319446drow1_col0 {\n",
       "            background-color:  #fde725;\n",
       "        }    #T_e6700492_5cdd_11ea_b5ad_18037319446drow1_col1 {\n",
       "            background-color:  #24aa83;\n",
       "        }    #T_e6700492_5cdd_11ea_b5ad_18037319446drow1_col2 {\n",
       "            background-color:  #fde725;\n",
       "        }    #T_e6700492_5cdd_11ea_b5ad_18037319446drow1_col3 {\n",
       "            background-color:  #365d8d;\n",
       "        }    #T_e6700492_5cdd_11ea_b5ad_18037319446drow1_col4 {\n",
       "            background-color:  #fde725;\n",
       "        }    #T_e6700492_5cdd_11ea_b5ad_18037319446drow1_col5 {\n",
       "            background-color:  #fde725;\n",
       "        }    #T_e6700492_5cdd_11ea_b5ad_18037319446drow2_col0 {\n",
       "            background-color:  #cde11d;\n",
       "        }    #T_e6700492_5cdd_11ea_b5ad_18037319446drow2_col1 {\n",
       "            background-color:  #73d056;\n",
       "        }    #T_e6700492_5cdd_11ea_b5ad_18037319446drow2_col2 {\n",
       "            background-color:  #4ac16d;\n",
       "        }    #T_e6700492_5cdd_11ea_b5ad_18037319446drow2_col3 {\n",
       "            background-color:  #1f968b;\n",
       "        }    #T_e6700492_5cdd_11ea_b5ad_18037319446drow2_col4 {\n",
       "            background-color:  #26ad81;\n",
       "        }    #T_e6700492_5cdd_11ea_b5ad_18037319446drow2_col5 {\n",
       "            background-color:  #fde725;\n",
       "        }    #T_e6700492_5cdd_11ea_b5ad_18037319446drow3_col0 {\n",
       "            background-color:  #cde11d;\n",
       "        }    #T_e6700492_5cdd_11ea_b5ad_18037319446drow3_col1 {\n",
       "            background-color:  #73d056;\n",
       "        }    #T_e6700492_5cdd_11ea_b5ad_18037319446drow3_col2 {\n",
       "            background-color:  #4ac16d;\n",
       "        }    #T_e6700492_5cdd_11ea_b5ad_18037319446drow3_col3 {\n",
       "            background-color:  #1f968b;\n",
       "        }    #T_e6700492_5cdd_11ea_b5ad_18037319446drow3_col4 {\n",
       "            background-color:  #26ad81;\n",
       "        }    #T_e6700492_5cdd_11ea_b5ad_18037319446drow3_col5 {\n",
       "            background-color:  #fde725;\n",
       "        }    #T_e6700492_5cdd_11ea_b5ad_18037319446drow4_col0 {\n",
       "            background-color:  #40bd72;\n",
       "        }    #T_e6700492_5cdd_11ea_b5ad_18037319446drow4_col1 {\n",
       "            background-color:  #fde725;\n",
       "        }    #T_e6700492_5cdd_11ea_b5ad_18037319446drow4_col2 {\n",
       "            background-color:  #46327e;\n",
       "        }    #T_e6700492_5cdd_11ea_b5ad_18037319446drow4_col3 {\n",
       "            background-color:  #fde725;\n",
       "        }    #T_e6700492_5cdd_11ea_b5ad_18037319446drow4_col4 {\n",
       "            background-color:  #440154;\n",
       "        }    #T_e6700492_5cdd_11ea_b5ad_18037319446drow4_col5 {\n",
       "            background-color:  #fde725;\n",
       "        }    #T_e6700492_5cdd_11ea_b5ad_18037319446drow5_col0 {\n",
       "            background-color:  #40bd72;\n",
       "        }    #T_e6700492_5cdd_11ea_b5ad_18037319446drow5_col1 {\n",
       "            background-color:  #fde725;\n",
       "        }    #T_e6700492_5cdd_11ea_b5ad_18037319446drow5_col2 {\n",
       "            background-color:  #46327e;\n",
       "        }    #T_e6700492_5cdd_11ea_b5ad_18037319446drow5_col3 {\n",
       "            background-color:  #fde725;\n",
       "        }    #T_e6700492_5cdd_11ea_b5ad_18037319446drow5_col4 {\n",
       "            background-color:  #440154;\n",
       "        }    #T_e6700492_5cdd_11ea_b5ad_18037319446drow5_col5 {\n",
       "            background-color:  #fde725;\n",
       "        }    #T_e6700492_5cdd_11ea_b5ad_18037319446drow6_col0 {\n",
       "            background-color:  #453581;\n",
       "        }    #T_e6700492_5cdd_11ea_b5ad_18037319446drow6_col1 {\n",
       "            background-color:  #3c508b;\n",
       "        }    #T_e6700492_5cdd_11ea_b5ad_18037319446drow6_col2 {\n",
       "            background-color:  #26ad81;\n",
       "        }    #T_e6700492_5cdd_11ea_b5ad_18037319446drow6_col3 {\n",
       "            background-color:  #481467;\n",
       "        }    #T_e6700492_5cdd_11ea_b5ad_18037319446drow6_col4 {\n",
       "            background-color:  #a8db34;\n",
       "        }    #T_e6700492_5cdd_11ea_b5ad_18037319446drow6_col5 {\n",
       "            background-color:  #69cd5b;\n",
       "        }    #T_e6700492_5cdd_11ea_b5ad_18037319446drow7_col0 {\n",
       "            background-color:  #481c6e;\n",
       "        }    #T_e6700492_5cdd_11ea_b5ad_18037319446drow7_col1 {\n",
       "            background-color:  #52c569;\n",
       "        }    #T_e6700492_5cdd_11ea_b5ad_18037319446drow7_col2 {\n",
       "            background-color:  #471365;\n",
       "        }    #T_e6700492_5cdd_11ea_b5ad_18037319446drow7_col3 {\n",
       "            background-color:  #29af7f;\n",
       "        }    #T_e6700492_5cdd_11ea_b5ad_18037319446drow7_col4 {\n",
       "            background-color:  #472e7c;\n",
       "        }    #T_e6700492_5cdd_11ea_b5ad_18037319446drow7_col5 {\n",
       "            background-color:  #bade28;\n",
       "        }    #T_e6700492_5cdd_11ea_b5ad_18037319446drow8_col0 {\n",
       "            background-color:  #440154;\n",
       "        }    #T_e6700492_5cdd_11ea_b5ad_18037319446drow8_col1 {\n",
       "            background-color:  #24aa83;\n",
       "        }    #T_e6700492_5cdd_11ea_b5ad_18037319446drow8_col2 {\n",
       "            background-color:  #440154;\n",
       "        }    #T_e6700492_5cdd_11ea_b5ad_18037319446drow8_col3 {\n",
       "            background-color:  #20a386;\n",
       "        }    #T_e6700492_5cdd_11ea_b5ad_18037319446drow8_col4 {\n",
       "            background-color:  #482071;\n",
       "        }    #T_e6700492_5cdd_11ea_b5ad_18037319446drow8_col5 {\n",
       "            background-color:  #60ca60;\n",
       "        }    #T_e6700492_5cdd_11ea_b5ad_18037319446drow9_col0 {\n",
       "            background-color:  #440154;\n",
       "        }    #T_e6700492_5cdd_11ea_b5ad_18037319446drow9_col1 {\n",
       "            background-color:  #440154;\n",
       "        }    #T_e6700492_5cdd_11ea_b5ad_18037319446drow9_col2 {\n",
       "            background-color:  #2c738e;\n",
       "        }    #T_e6700492_5cdd_11ea_b5ad_18037319446drow9_col3 {\n",
       "            background-color:  #440154;\n",
       "        }    #T_e6700492_5cdd_11ea_b5ad_18037319446drow9_col4 {\n",
       "            background-color:  #4ec36b;\n",
       "        }    #T_e6700492_5cdd_11ea_b5ad_18037319446drow9_col5 {\n",
       "            background-color:  #440154;\n",
       "        }</style>  \n",
       "<table id=\"T_e6700492_5cdd_11ea_b5ad_18037319446d\" > \n",
       "<thead>    <tr> \n",
       "        <th class=\"blank level0\" ></th> \n",
       "        <th class=\"col_heading level0 col0\" >accuracy</th> \n",
       "        <th class=\"col_heading level0 col1\" >balanced_accuracy</th> \n",
       "        <th class=\"col_heading level0 col2\" >f1</th> \n",
       "        <th class=\"col_heading level0 col3\" >precision</th> \n",
       "        <th class=\"col_heading level0 col4\" >recall</th> \n",
       "        <th class=\"col_heading level0 col5\" >roc_auc</th> \n",
       "    </tr>    <tr> \n",
       "        <th class=\"index_name level0\" >model_type</th> \n",
       "        <th class=\"blank\" ></th> \n",
       "        <th class=\"blank\" ></th> \n",
       "        <th class=\"blank\" ></th> \n",
       "        <th class=\"blank\" ></th> \n",
       "        <th class=\"blank\" ></th> \n",
       "        <th class=\"blank\" ></th> \n",
       "    </tr></thead> \n",
       "<tbody>    <tr> \n",
       "        <th id=\"T_e6700492_5cdd_11ea_b5ad_18037319446dlevel0_row0\" class=\"row_heading level0 row0\" >qda_16_select_rf=7_ros=1.2_h=0</th> \n",
       "        <td id=\"T_e6700492_5cdd_11ea_b5ad_18037319446drow0_col0\" class=\"data row0 col0\" >0.719</td> \n",
       "        <td id=\"T_e6700492_5cdd_11ea_b5ad_18037319446drow0_col1\" class=\"data row0 col1\" >0.696</td> \n",
       "        <td id=\"T_e6700492_5cdd_11ea_b5ad_18037319446drow0_col2\" class=\"data row0 col2\" >0.783</td> \n",
       "        <td id=\"T_e6700492_5cdd_11ea_b5ad_18037319446drow0_col3\" class=\"data row0 col3\" >0.747</td> \n",
       "        <td id=\"T_e6700492_5cdd_11ea_b5ad_18037319446drow0_col4\" class=\"data row0 col4\" >0.84</td> \n",
       "        <td id=\"T_e6700492_5cdd_11ea_b5ad_18037319446drow0_col5\" class=\"data row0 col5\" >0.767</td> \n",
       "    </tr>    <tr> \n",
       "        <th id=\"T_e6700492_5cdd_11ea_b5ad_18037319446dlevel0_row1\" class=\"row_heading level0 row1\" >qda_12_select_rf=7_ros=1.2_h=0</th> \n",
       "        <td id=\"T_e6700492_5cdd_11ea_b5ad_18037319446drow1_col0\" class=\"data row1 col0\" >0.719</td> \n",
       "        <td id=\"T_e6700492_5cdd_11ea_b5ad_18037319446drow1_col1\" class=\"data row1 col1\" >0.696</td> \n",
       "        <td id=\"T_e6700492_5cdd_11ea_b5ad_18037319446drow1_col2\" class=\"data row1 col2\" >0.783</td> \n",
       "        <td id=\"T_e6700492_5cdd_11ea_b5ad_18037319446drow1_col3\" class=\"data row1 col3\" >0.747</td> \n",
       "        <td id=\"T_e6700492_5cdd_11ea_b5ad_18037319446drow1_col4\" class=\"data row1 col4\" >0.84</td> \n",
       "        <td id=\"T_e6700492_5cdd_11ea_b5ad_18037319446drow1_col5\" class=\"data row1 col5\" >0.767</td> \n",
       "    </tr>    <tr> \n",
       "        <th id=\"T_e6700492_5cdd_11ea_b5ad_18037319446dlevel0_row2\" class=\"row_heading level0 row2\" >qda_16_select_rf=7_ros=1_h=0</th> \n",
       "        <td id=\"T_e6700492_5cdd_11ea_b5ad_18037319446drow2_col0\" class=\"data row2 col0\" >0.718</td> \n",
       "        <td id=\"T_e6700492_5cdd_11ea_b5ad_18037319446drow2_col1\" class=\"data row2 col1\" >0.702</td> \n",
       "        <td id=\"T_e6700492_5cdd_11ea_b5ad_18037319446drow2_col2\" class=\"data row2 col2\" >0.777</td> \n",
       "        <td id=\"T_e6700492_5cdd_11ea_b5ad_18037319446drow2_col3\" class=\"data row2 col3\" >0.756</td> \n",
       "        <td id=\"T_e6700492_5cdd_11ea_b5ad_18037319446drow2_col4\" class=\"data row2 col4\" >0.814</td> \n",
       "        <td id=\"T_e6700492_5cdd_11ea_b5ad_18037319446drow2_col5\" class=\"data row2 col5\" >0.767</td> \n",
       "    </tr>    <tr> \n",
       "        <th id=\"T_e6700492_5cdd_11ea_b5ad_18037319446dlevel0_row3\" class=\"row_heading level0 row3\" >qda_12_select_rf=7_ros=1_h=0</th> \n",
       "        <td id=\"T_e6700492_5cdd_11ea_b5ad_18037319446drow3_col0\" class=\"data row3 col0\" >0.718</td> \n",
       "        <td id=\"T_e6700492_5cdd_11ea_b5ad_18037319446drow3_col1\" class=\"data row3 col1\" >0.702</td> \n",
       "        <td id=\"T_e6700492_5cdd_11ea_b5ad_18037319446drow3_col2\" class=\"data row3 col2\" >0.777</td> \n",
       "        <td id=\"T_e6700492_5cdd_11ea_b5ad_18037319446drow3_col3\" class=\"data row3 col3\" >0.756</td> \n",
       "        <td id=\"T_e6700492_5cdd_11ea_b5ad_18037319446drow3_col4\" class=\"data row3 col4\" >0.814</td> \n",
       "        <td id=\"T_e6700492_5cdd_11ea_b5ad_18037319446drow3_col5\" class=\"data row3 col5\" >0.767</td> \n",
       "    </tr>    <tr> \n",
       "        <th id=\"T_e6700492_5cdd_11ea_b5ad_18037319446dlevel0_row4\" class=\"row_heading level0 row4\" >qda_16_select_rf=7_ros=0.8_h=0</th> \n",
       "        <td id=\"T_e6700492_5cdd_11ea_b5ad_18037319446drow4_col0\" class=\"data row4 col0\" >0.715</td> \n",
       "        <td id=\"T_e6700492_5cdd_11ea_b5ad_18037319446drow4_col1\" class=\"data row4 col1\" >0.709</td> \n",
       "        <td id=\"T_e6700492_5cdd_11ea_b5ad_18037319446drow4_col2\" class=\"data row4 col2\" >0.765</td> \n",
       "        <td id=\"T_e6700492_5cdd_11ea_b5ad_18037319446drow4_col3\" class=\"data row4 col3\" >0.774</td> \n",
       "        <td id=\"T_e6700492_5cdd_11ea_b5ad_18037319446drow4_col4\" class=\"data row4 col4\" >0.772</td> \n",
       "        <td id=\"T_e6700492_5cdd_11ea_b5ad_18037319446drow4_col5\" class=\"data row4 col5\" >0.767</td> \n",
       "    </tr>    <tr> \n",
       "        <th id=\"T_e6700492_5cdd_11ea_b5ad_18037319446dlevel0_row5\" class=\"row_heading level0 row5\" >qda_12_select_rf=7_ros=0.8_h=0</th> \n",
       "        <td id=\"T_e6700492_5cdd_11ea_b5ad_18037319446drow5_col0\" class=\"data row5 col0\" >0.715</td> \n",
       "        <td id=\"T_e6700492_5cdd_11ea_b5ad_18037319446drow5_col1\" class=\"data row5 col1\" >0.709</td> \n",
       "        <td id=\"T_e6700492_5cdd_11ea_b5ad_18037319446drow5_col2\" class=\"data row5 col2\" >0.765</td> \n",
       "        <td id=\"T_e6700492_5cdd_11ea_b5ad_18037319446drow5_col3\" class=\"data row5 col3\" >0.774</td> \n",
       "        <td id=\"T_e6700492_5cdd_11ea_b5ad_18037319446drow5_col4\" class=\"data row5 col4\" >0.772</td> \n",
       "        <td id=\"T_e6700492_5cdd_11ea_b5ad_18037319446drow5_col5\" class=\"data row5 col5\" >0.767</td> \n",
       "    </tr>    <tr> \n",
       "        <th id=\"T_e6700492_5cdd_11ea_b5ad_18037319446dlevel0_row6\" class=\"row_heading level0 row6\" >qda_10_None=3_ros=1.2_h=0</th> \n",
       "        <td id=\"T_e6700492_5cdd_11ea_b5ad_18037319446drow6_col0\" class=\"data row6 col0\" >0.708</td> \n",
       "        <td id=\"T_e6700492_5cdd_11ea_b5ad_18037319446drow6_col1\" class=\"data row6 col1\" >0.684</td> \n",
       "        <td id=\"T_e6700492_5cdd_11ea_b5ad_18037319446drow6_col2\" class=\"data row6 col2\" >0.775</td> \n",
       "        <td id=\"T_e6700492_5cdd_11ea_b5ad_18037319446drow6_col3\" class=\"data row6 col3\" >0.738</td> \n",
       "        <td id=\"T_e6700492_5cdd_11ea_b5ad_18037319446drow6_col4\" class=\"data row6 col4\" >0.831</td> \n",
       "        <td id=\"T_e6700492_5cdd_11ea_b5ad_18037319446drow6_col5\" class=\"data row6 col5\" >0.754</td> \n",
       "    </tr>    <tr> \n",
       "        <th id=\"T_e6700492_5cdd_11ea_b5ad_18037319446dlevel0_row7\" class=\"row_heading level0 row7\" >qda_17_None=3_ros=0.8_h=0</th> \n",
       "        <td id=\"T_e6700492_5cdd_11ea_b5ad_18037319446drow7_col0\" class=\"data row7 col0\" >0.707</td> \n",
       "        <td id=\"T_e6700492_5cdd_11ea_b5ad_18037319446drow7_col1\" class=\"data row7 col1\" >0.7</td> \n",
       "        <td id=\"T_e6700492_5cdd_11ea_b5ad_18037319446drow7_col2\" class=\"data row7 col2\" >0.763</td> \n",
       "        <td id=\"T_e6700492_5cdd_11ea_b5ad_18037319446drow7_col3\" class=\"data row7 col3\" >0.76</td> \n",
       "        <td id=\"T_e6700492_5cdd_11ea_b5ad_18037319446drow7_col4\" class=\"data row7 col4\" >0.781</td> \n",
       "        <td id=\"T_e6700492_5cdd_11ea_b5ad_18037319446drow7_col5\" class=\"data row7 col5\" >0.761</td> \n",
       "    </tr>    <tr> \n",
       "        <th id=\"T_e6700492_5cdd_11ea_b5ad_18037319446dlevel0_row8\" class=\"row_heading level0 row8\" >qda_10_None=3_ros=0.8_h=0</th> \n",
       "        <td id=\"T_e6700492_5cdd_11ea_b5ad_18037319446drow8_col0\" class=\"data row8 col0\" >0.706</td> \n",
       "        <td id=\"T_e6700492_5cdd_11ea_b5ad_18037319446drow8_col1\" class=\"data row8 col1\" >0.696</td> \n",
       "        <td id=\"T_e6700492_5cdd_11ea_b5ad_18037319446drow8_col2\" class=\"data row8 col2\" >0.762</td> \n",
       "        <td id=\"T_e6700492_5cdd_11ea_b5ad_18037319446drow8_col3\" class=\"data row8 col3\" >0.758</td> \n",
       "        <td id=\"T_e6700492_5cdd_11ea_b5ad_18037319446drow8_col4\" class=\"data row8 col4\" >0.778</td> \n",
       "        <td id=\"T_e6700492_5cdd_11ea_b5ad_18037319446drow8_col5\" class=\"data row8 col5\" >0.753</td> \n",
       "    </tr>    <tr> \n",
       "        <th id=\"T_e6700492_5cdd_11ea_b5ad_18037319446dlevel0_row9\" class=\"row_heading level0 row9\" >qda_16_select_rf=5_ros=1_h=0</th> \n",
       "        <td id=\"T_e6700492_5cdd_11ea_b5ad_18037319446drow9_col0\" class=\"data row9 col0\" >0.706</td> \n",
       "        <td id=\"T_e6700492_5cdd_11ea_b5ad_18037319446drow9_col1\" class=\"data row9 col1\" >0.676</td> \n",
       "        <td id=\"T_e6700492_5cdd_11ea_b5ad_18037319446drow9_col2\" class=\"data row9 col2\" >0.77</td> \n",
       "        <td id=\"T_e6700492_5cdd_11ea_b5ad_18037319446drow9_col3\" class=\"data row9 col3\" >0.736</td> \n",
       "        <td id=\"T_e6700492_5cdd_11ea_b5ad_18037319446drow9_col4\" class=\"data row9 col4\" >0.821</td> \n",
       "        <td id=\"T_e6700492_5cdd_11ea_b5ad_18037319446drow9_col5\" class=\"data row9 col5\" >0.71</td> \n",
       "    </tr></tbody> \n",
       "</table> "
      ],
      "text/plain": [
       "<pandas.io.formats.style.Styler at 0x7f94da00bc50>"
      ]
     },
     "execution_count": 117,
     "metadata": {},
     "output_type": "execute_result"
    }
   ],
   "source": [
    "r = results\n",
    "r = r[[k for k in r if not 'std' in k]]\n",
    "r = r[[k for k in r if not '_f' in k]]\n",
    "# r = r[r.index.str.contains('ros')] # only use random sampling\n",
    "r = r.sort_values(by=['accuracy', 'balanced_accuracy'], ascending=False).head(10)\n",
    "# r.style.background_gradient(cmap='viridis', axis=None) # all values on same cmap\n",
    "r.style.background_gradient(cmap='viridis', axis=0) # columns differently colored\n",
    "# r.style.apply(viz.highlight_max, subset=[k for k in r if not 'std' in k])"
   ]
  },
  {
   "cell_type": "markdown",
   "metadata": {},
   "source": [
    "# label checking"
   ]
  },
  {
   "cell_type": "code",
   "execution_count": 20,
   "metadata": {},
   "outputs": [
    {
     "name": "stdout",
     "output_type": "stream",
     "text": [
      "26 52\n"
     ]
    }
   ],
   "source": [
    "neg = [221, 248, 255, 274, 291, 294, 350, 358, 364, 384, 434, 481, 518, 535, 588, 590, 602, 604, 638, 668, 675, 708, 752, 778, 808, 827]\n",
    "pos = [3982, 8243, 777, 3940, 7559, 2455, 4748, 633, 2177, 1205, 603, 7972, 8458, 3041, 924, 8786, 4116, 885, 6298, 4658, 7889, 982, 829, 1210, 3054, 504]\n",
    "\n",
    "n1 = len(neg)\n",
    "\n",
    "full = np.array(neg + pos)\n",
    "n2 = len(full)\n",
    "print(n1, n2)"
   ]
  },
  {
   "cell_type": "code",
   "execution_count": 23,
   "metadata": {},
   "outputs": [],
   "source": [
    "import random\n",
    "random.seed(15)\n",
    "samps = np.array(random.sample(range(n2), 36))\n",
    "pids = full[samps]\n",
    "labs = samps >= n1"
   ]
  },
  {
   "cell_type": "code",
   "execution_count": null,
   "metadata": {},
   "outputs": [],
   "source": [
    "viz.plot_curves(df[df.pid.isin(pids)]) #, extra_key='X_smooth_spl')"
   ]
  },
  {
   "cell_type": "code",
   "execution_count": null,
   "metadata": {},
   "outputs": [],
   "source": []
  }
 ],
 "metadata": {
  "kernelspec": {
   "display_name": "Python 3",
   "language": "python",
   "name": "python3"
  },
  "language_info": {
   "codemirror_mode": {
    "name": "ipython",
    "version": 3
   },
   "file_extension": ".py",
   "mimetype": "text/x-python",
   "name": "python",
   "nbconvert_exporter": "python",
   "pygments_lexer": "ipython3",
   "version": "3.7.5"
  }
 },
 "nbformat": 4,
 "nbformat_minor": 4
}
