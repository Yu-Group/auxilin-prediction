{
 "cells": [
  {
   "cell_type": "code",
   "execution_count": 1,
   "metadata": {},
   "outputs": [
    {
     "name": "stderr",
     "output_type": "stream",
     "text": [
      "/accounts/projects/vision/.local/lib/python3.7/site-packages/sklearn/utils/deprecation.py:144: FutureWarning: The sklearn.metrics.scorer module is  deprecated in version 0.22 and will be removed in version 0.24. The corresponding classes / functions should instead be imported from sklearn.metrics. Anything that cannot be imported from sklearn.metrics is now part of the private API.\n",
      "  warnings.warn(message, FutureWarning)\n"
     ]
    }
   ],
   "source": [
    "%matplotlib inline\n",
    "%load_ext autoreload\n",
    "%autoreload 2\n",
    "from matplotlib import pyplot as plt\n",
    "import seaborn as sns\n",
    "import numpy as np\n",
    "import os\n",
    "from os.path import join as oj\n",
    "from sklearn.feature_extraction.image import extract_patches_2d\n",
    "from sklearn.linear_model import LinearRegression, LogisticRegression, RidgeCV\n",
    "from sklearn.neural_network import MLPRegressor\n",
    "from sklearn.model_selection import cross_validate, train_test_split\n",
    "import mat4py\n",
    "from sklearn import metrics\n",
    "import numpy as np\n",
    "from collections import Counter\n",
    "from sklearn.datasets import make_classification\n",
    "from torch import nn\n",
    "import torch.nn.functional as F\n",
    "import torch\n",
    "from copy import deepcopy\n",
    "from sklearn import metrics\n",
    "plt.style.use('dark_background')\n",
    "import mat4py\n",
    "import pandas as pd\n",
    "import data_tracks\n",
    "import models\n",
    "import pickle as pkl\n",
    "from style import *\n",
    "import viz"
   ]
  },
  {
   "cell_type": "code",
   "execution_count": 36,
   "metadata": {},
   "outputs": [],
   "source": [
    "df = data_tracks.get_data(use_processed=True) # all_data=True\n",
    "outcome = 'y_consec_thresh'"
   ]
  },
  {
   "cell_type": "markdown",
   "metadata": {},
   "source": [
    "# look at tracks themselves"
   ]
  },
  {
   "cell_type": "code",
   "execution_count": 59,
   "metadata": {},
   "outputs": [],
   "source": [
    "auxilin_dir = '/scratch/users/vision/data/abc_data/auxilin_data_tracked'\n",
    "\n",
    "    # 8 cell folders [1, 2, 3, ..., 8]\n",
    "cell_num = 1\n",
    "fname = f'{auxilin_dir}/A7D2/Cell{cell_num}_1s/TagRFP/Tracking/ProcessedTracks.mat'\n",
    "# cla, aux = get_images(f'Cell{cell_num}_1s', auxilin_dir=auxilin_dir)\n",
    "# fname_image = data_dir = oj(auxilin_dir, 'A7D2', f'Cell{cell_num}_1s')\n",
    "mat = mat4py.loadmat(fname)\n",
    "tracks = mat['tracks']"
   ]
  },
  {
   "cell_type": "code",
   "execution_count": 60,
   "metadata": {},
   "outputs": [
    {
     "data": {
      "text/plain": [
       "dict_keys(['t', 'f', 'x', 'y', 'A', 'c', 'x_pstd', 'y_pstd', 'A_pstd', 'c_pstd', 'sigma_r', 'SE_sigma_r', 'pval_Ar', 'isPSF', 'tracksFeatIndxCG', 'gapVect', 'gapStatus', 'gapIdx', 'seqOfEvents', 'nSeg', 'visibility', 'lifetime_s', 'start', 'end', 'startBuffer', 'endBuffer', 'MotionAnalysis', 'maskA', 'maskN', 'RSS', 'mask_Ar', 'hval_Ar', 'hval_AD', 'catIdx', 'isCCP', 'significantMaster', 'significantVsBackground', 'significantSlave'])"
      ]
     },
     "execution_count": 60,
     "metadata": {},
     "output_type": "execute_result"
    }
   ],
   "source": [
    "tracks.keys()"
   ]
  },
  {
   "cell_type": "markdown",
   "metadata": {},
   "source": [
    "# visualize a single example"
   ]
  },
  {
   "cell_type": "code",
   "execution_count": null,
   "metadata": {},
   "outputs": [],
   "source": [
    "# pick a single interesting example\n",
    "# ex = df[df.lifetime > 250].iloc[0]\n",
    "ex = df[(df.lifetime > 30) * (df[outcome] == 1)]\n",
    "ex = ex.sort_values(by='Y_max')\n",
    "# .iloc[5]\n",
    "ex = ex.iloc[-5]\n",
    "plt.figure(dpi=200)\n",
    "plt.plot(ex['X'], color='red', label='clathrin')\n",
    "plt.plot(ex['Y'], color='green', label='auxilin')\n",
    "plt.xlabel('Time')\n",
    "plt.ylabel('Amplitude')\n",
    "plt.legend()\n",
    "plt.show()"
   ]
  },
  {
   "cell_type": "markdown",
   "metadata": {},
   "source": [
    "# basic eda"
   ]
  },
  {
   "cell_type": "code",
   "execution_count": null,
   "metadata": {},
   "outputs": [],
   "source": [
    "viz.plot_curves(df, hline=False)"
   ]
  },
  {
   "cell_type": "code",
   "execution_count": null,
   "metadata": {},
   "outputs": [],
   "source": [
    "plt.plot(df['x_pos'], df['y_pos'], 'o', alpha=0.1)"
   ]
  },
  {
   "cell_type": "markdown",
   "metadata": {},
   "source": [
    "# look at displacement features"
   ]
  },
  {
   "cell_type": "code",
   "execution_count": 40,
   "metadata": {},
   "outputs": [],
   "source": [
    "# functions to compute msd of track over time\n",
    "def f(a, b):\n",
    "    '''msd\n",
    "    '''\n",
    "    da = np.diff(a)\n",
    "    db = np.diff(b)\n",
    "    return np.sum(np.sqrt(np.square(da) + np.square(db)))\n",
    "\n",
    "def f2(a, b):\n",
    "    '''msd at end\n",
    "    '''\n",
    "    l = int(len(a) * 0.25 + 5)\n",
    "    da = np.diff(a)[-l:]\n",
    "    db = np.diff(b)[-l:]\n",
    "    return np.sum(np.sqrt(np.square(da) + np.square(db)))\n",
    "\n",
    "def f3(a, b):\n",
    "    '''curve of sd\n",
    "    '''\n",
    "    da = np.diff(a)\n",
    "    db = np.diff(b)\n",
    "    return np.sqrt(np.square(da) + np.square(db))\n",
    "\n",
    "x = df['x_pos_seq'].values\n",
    "y = df['y_pos_seq'].values\n",
    "msd_tot = [f3(a, b) for a, b in zip(x, y)]\n",
    "df['msd_alt'] = msd_tot"
   ]
  },
  {
   "cell_type": "code",
   "execution_count": null,
   "metadata": {},
   "outputs": [],
   "source": [
    "R, C = 2, 1\n",
    "d = df[df[outcome]==1]\n",
    "plt.figure(figsize=(8, 4), dpi=300)\n",
    "plt.subplot(R, C, 1)\n",
    "for i in range(50):\n",
    "    r = d.iloc[i]\n",
    "    xs = np.arange(r.lifetime - 1) / (r.lifetime - 1)\n",
    "    plt.plot(xs, r['msd_alt'], alpha=0.1, color=cb)\n",
    "    plt.xticks([])\n",
    "    plt.ylim(0, 8)\n",
    "plt.ylabel('aux+ square\\ndisplacement')\n",
    "plt.subplot(R, C, 2)    \n",
    "d = df[(df[outcome]==0) * (df.lifetime > 30)]\n",
    "for i in range(50):\n",
    "    r = d.iloc[i]\n",
    "    xs = np.arange(r.lifetime - 1) / (r.lifetime - 1)\n",
    "    plt.plot(xs, r['msd_alt'], alpha=0.1, color=cr)    \n",
    "    plt.ylim(0, 8)    \n",
    "    plt.xlabel('lifetime (frac)')\n",
    "plt.ylabel('aux- square\\ndisplacement')    "
   ]
  },
  {
   "cell_type": "code",
   "execution_count": 4,
   "metadata": {},
   "outputs": [],
   "source": [
    "# plt.plot(msd_tot, df['mean_square_displacement'])"
   ]
  },
  {
   "cell_type": "code",
   "execution_count": 5,
   "metadata": {},
   "outputs": [],
   "source": [
    "# plt.plot(x[0], y[0])"
   ]
  },
  {
   "cell_type": "code",
   "execution_count": null,
   "metadata": {},
   "outputs": [],
   "source": [
    "viz.jointplot_grouped('msd_alt', 'fall', 'y_consec_thresh', df, scatter_alpha=0.1)\n",
    "plt.savefig('msd_alt_fall.png', dpi=400)"
   ]
  },
  {
   "cell_type": "code",
   "execution_count": null,
   "metadata": {},
   "outputs": [],
   "source": [
    "# plt.plot(df['msd_tot'], df['Y_max'], 'o', alpha=0.1)\n",
    "# sns.lmplot('msd_tot', 'Y_max', data=df)\n",
    "sns.jointplot('msd_alt', 'Y_max', data=df, kind='reg')\n",
    "plt.ylabel('aux max')\n",
    "plt.savefig('msd_alt.png', dpi=400)\n",
    "# sns.jointplot(x, y, kind=\"reg\", stat_func=r2)"
   ]
  },
  {
   "cell_type": "markdown",
   "metadata": {},
   "source": [
    "# look at learned dictionaries"
   ]
  },
  {
   "cell_type": "code",
   "execution_count": null,
   "metadata": {},
   "outputs": [],
   "source": [
    "print(os.listdir('processed/dictionaries'))\n",
    "# d = pkl.load(open(f'processed/dictionaries/' + 'sc_12_alpha=1.pkl', 'rb'))\n",
    "d = pkl.load(open(f'processed/dictionaries/' + 'nmf_12.pkl', 'rb'))\n",
    "R, C = 3, 4\n",
    "i = 0\n",
    "plt.figure(dpi=200)\n",
    "vmin = d.components_.min()\n",
    "vmax = d.components_.max()\n",
    "# print('err', d.reconstruction_err_ / np.linalg.norm(X_mat, ord='fro'))\n",
    "for r in range(R):\n",
    "    for c in range(C):\n",
    "        plt.subplot(R, C, i + 1)\n",
    "        plt.plot(d.components_[i], color=cr)\n",
    "        i += 1\n",
    "        plt.ylim((vmin, vmax))\n",
    "        if r < R-1:\n",
    "            plt.xticks([])\n",
    "        if c > 0:\n",
    "            plt.yticks([])\n",
    "plt.tight_layout()\n",
    "plt.show()"
   ]
  },
  {
   "cell_type": "markdown",
   "metadata": {},
   "source": [
    "# viz tracks where auxilin peaks first"
   ]
  },
  {
   "cell_type": "code",
   "execution_count": null,
   "metadata": {},
   "outputs": [],
   "source": [
    "outcomes = ['y_thresh', 'y_consec_sig', 'y_consec_thresh']\n",
    "for outcome in outcomes:\n",
    "    X_peak_idx = np.array([np.argmax(x) for x in df.X])\n",
    "    Y_peak_idx = np.array([np.argmax(y) for y in df.Y])\n",
    "    idxs_err = Y_peak_idx < X_peak_idx\n",
    "    df_err = df[idxs_err]\n",
    "    df_err_pos = df_err[df_err[outcome] == 1]\n",
    "    num_pos = df[df[outcome] == 1].shape[0]\n",
    "    num_pos_err = df_err_pos.shape[0] \n",
    "    frac_pos_err = num_pos_err / num_pos\n",
    "    print('num tot', df.shape[0], 'num aux peaks first', df_err.shape[0], f'frac pos aux peaks first {frac_pos_err:0.3f}')\n",
    "    viz.plot_curves(df_err_pos)"
   ]
  },
  {
   "cell_type": "code",
   "execution_count": null,
   "metadata": {},
   "outputs": [],
   "source": [
    "plt.figure(dpi=300)\n",
    "plt.hist(df_err_pos.lifetime, bins=20, color=cb)\n",
    "plt.xlabel('lifetime')\n",
    "plt.ylabel('count')\n",
    "plt.title('aux+ with auxilin peaking first')\n",
    "plt.show()"
   ]
  },
  {
   "cell_type": "code",
   "execution_count": null,
   "metadata": {},
   "outputs": [],
   "source": [
    "R, C = 2, 1\n",
    "plt.figure(dpi=200)\n",
    "plt.subplot(R, C, 1)\n",
    "plt.hist(X_peak_idx[idxs_err], color=cr)\n",
    "plt.xlabel('Clathrin peak time')\n",
    "plt.ylabel('Count')\n",
    "plt.subplot(R, C, 2)\n",
    "plt.hist(Y_peak_idx[idxs_err], color=cr)\n",
    "plt.xlabel('Auxilin peak time')\n",
    "plt.ylabel('Count')\n",
    "plt.tight_layout()"
   ]
  },
  {
   "cell_type": "markdown",
   "metadata": {},
   "source": [
    "# visualize splines"
   ]
  },
  {
   "cell_type": "code",
   "execution_count": null,
   "metadata": {},
   "outputs": [],
   "source": [
    "viz.plot_curves(df_err, extra_key='X_smooth_spl')"
   ]
  },
  {
   "cell_type": "markdown",
   "metadata": {},
   "source": [
    "# analyze tracking"
   ]
  },
  {
   "cell_type": "code",
   "execution_count": 1,
   "metadata": {},
   "outputs": [],
   "source": [
    "fname = f'/scratch/users/vision/data/abc_data/auxilin_data_tracked/A7D2/Cell1_1s/TagRFP/Tracking/ProcessedTracks.mat'\n",
    "mat = mat4py.loadmat(fname)\n",
    "tracks = mat['tracks']"
   ]
  },
  {
   "cell_type": "code",
   "execution_count": 3,
   "metadata": {},
   "outputs": [
    {
     "name": "stdout",
     "output_type": "stream",
     "text": [
      "clath 300 aux 300\n"
     ]
    }
   ],
   "source": [
    "i = 2\n",
    "x = tracks['x'][i][0]\n",
    "xx = tracks['x'][i][1]\n",
    "\n",
    "print('clath', len(x), 'aux', len(xx))"
   ]
  },
  {
   "cell_type": "code",
   "execution_count": null,
   "metadata": {},
   "outputs": [],
   "source": [
    "for i in range(1000):\n",
    "    print(tracks['t'][i][:5])"
   ]
  },
  {
   "cell_type": "markdown",
   "metadata": {},
   "source": [
    "# feats centered around peak\n",
    "**gets the clathrin traces aligned by their maximum, padded by zeros when necessary**"
   ]
  },
  {
   "cell_type": "code",
   "execution_count": 75,
   "metadata": {},
   "outputs": [],
   "source": [
    "def get_peak(row, num=21):\n",
    "    vals = np.empty(2 * num + 1) * np.nan \n",
    "    # vals = np.zeros(2 * num + 1)\n",
    "    x = row['X']\n",
    "    peak_idx = row['X_peak_idx']\n",
    "    x_before = x[max(0,  peak_idx - num): peak_idx]\n",
    "    \n",
    "    vals[num - len(x_before): num] = x_before\n",
    "    vals[num] = x[peak_idx]\n",
    "    \n",
    "    x_after = x[peak_idx + 1: peak_idx + num + 1]\n",
    "    vals[num + 1: num + 1 + len(x_after)] = x_after\n",
    "    return vals\n",
    "mat = np.vstack(df.apply(get_peak, axis=1).values)\n",
    "window_size = mat[0].size\n",
    "mid = (window_size // 2)"
   ]
  },
  {
   "cell_type": "code",
   "execution_count": null,
   "metadata": {},
   "outputs": [],
   "source": [
    "outcome_def = 'y_consec_thresh'\n",
    "R, C = 8, 8\n",
    "i = 0\n",
    "plt.figure(figsize=(C, R), dpi=200)\n",
    "vmin = np.nanmin(mat)\n",
    "vmax = np.nanmax(mat)\n",
    "# print('err', d.reconstruction_err_ / np.linalg.norm(X_mat, ord='fro'))\n",
    "\n",
    "pos = df[outcome_def]==1\n",
    "args = np.argsort(df[pos]['fall_local_11'].values)\n",
    "mat_pos = mat[pos][args]\n",
    "falls = df['fall_local_11'][pos].iloc[args].values\n",
    "\n",
    "for r in range(R):\n",
    "    for c in range(C):\n",
    "        plt.subplot(R, C, i + 1)\n",
    "        plt.title(f'{falls[i]:.2e}')\n",
    "        plt.plot(mat_pos[i * 8], color=cb, lw=1)\n",
    "        plt.plot(mid, mat_pos[i * 8][mid], 'o', color='white', ms=2)\n",
    "        \n",
    "        \n",
    "        plt.ylim((vmin, vmax))\n",
    "        if r < R-1:\n",
    "            plt.xticks([])\n",
    "        if c > 0:\n",
    "            plt.yticks([])\n",
    "            \n",
    "        i += 1\n",
    "plt.tight_layout()\n",
    "# plt.savefig('peak_aligned.pdf')\n",
    "plt.show()"
   ]
  },
  {
   "cell_type": "markdown",
   "metadata": {},
   "source": [
    "# pairplot of most relevant feats"
   ]
  },
  {
   "cell_type": "code",
   "execution_count": null,
   "metadata": {},
   "outputs": [],
   "source": [
    "d = df[['fall', 'X_max', 'rise', 'slope_end', outcome]]\n",
    "sns.pairplot(d, hue=outcome)\n",
    "plt.savefig('out.pdf')\n",
    "plt.show()"
   ]
  },
  {
   "cell_type": "code",
   "execution_count": null,
   "metadata": {},
   "outputs": [],
   "source": [
    "d = df[['fall', 'fall_extended', 'fall_late_extended'] + [outcome]]\n",
    "sns.pairplot(d, hue=outcome)\n",
    "plt.show()"
   ]
  },
  {
   "cell_type": "markdown",
   "metadata": {},
   "source": [
    "# spike-times plot"
   ]
  },
  {
   "cell_type": "code",
   "execution_count": null,
   "metadata": {},
   "outputs": [],
   "source": [
    "plt.figure(dpi=300)\n",
    "plt.hist(df['Y_peak_idx'] - df['X_peak_idx'], bins=20)\n",
    "plt.xlabel('aux peak time - clath peak time')\n",
    "plt.ylabel('count')\n",
    "plt.show()"
   ]
  },
  {
   "cell_type": "markdown",
   "metadata": {},
   "source": [
    "# spike magnitude plot"
   ]
  },
  {
   "cell_type": "code",
   "execution_count": null,
   "metadata": {},
   "outputs": [],
   "source": [
    "plt.figure(dpi=300)\n",
    "plt.scatter(df['X_max'], df['fall'], c=df['Y_max'], alpha=0.5, marker='.')\n",
    "plt.colorbar()\n",
    "plt.xlabel('clath max')\n",
    "plt.ylabel('fall')\n",
    "plt.show()"
   ]
  },
  {
   "cell_type": "markdown",
   "metadata": {},
   "source": [
    "## TP/FP videos"
   ]
  },
  {
   "cell_type": "code",
   "execution_count": 13,
   "metadata": {},
   "outputs": [],
   "source": [
    "from array2gif import write_gif"
   ]
  },
  {
   "cell_type": "code",
   "execution_count": 5,
   "metadata": {},
   "outputs": [],
   "source": [
    "X, Y = {}, {}\n",
    "for cell_num in range(1, 7):\n",
    "    X[cell_num], Y[cell_num] = data_tracks.get_images(f'Cell{cell_num}_1s')"
   ]
  },
  {
   "cell_type": "code",
   "execution_count": 7,
   "metadata": {},
   "outputs": [],
   "source": [
    "fp_ids = [2466, 2547, 2577, 2612, 2631, 2667, 2679, 2705, 2732, 2750, 2756, 2776, 2795, 2473, 2435, 2962]\n",
    "tp_ids = [8988, 3174, 2969, 2966, 2944, 2939, 2937, 2920, 2918, 2910, 2889, 2884, 2874, 2861, 2854, 2851]"
   ]
  },
  {
   "cell_type": "code",
   "execution_count": 74,
   "metadata": {},
   "outputs": [],
   "source": [
    "for idx in fp_ids:\n",
    "    i = np.where(df['pid'] == idx)[0][0]\n",
    "    track = df.iloc[i]\n",
    "    cell_num = track['cell_num']\n",
    "    minx, miny, maxx, maxy = min(track['x_pos_seq']), min(track['y_pos_seq']), max(track['x_pos_seq']), max(track['y_pos_seq'])\n",
    "    clath = X[cell_num][int(track['t']):(int(track['t'])+track['lifetime']), :, :][:, (int(miny)-5):(int(maxy)+5), :][:, :, (int(minx)-5):(int(maxx)+5)]\n",
    "    clath = 255.0 * (clath - X[cell_num].min()) / (clath.max() - X[cell_num].min())\n",
    "    clip = np.repeat(np.expand_dims(clath, axis=3), 3, axis=3) # convert to rgb\n",
    "    write_gif(clip, f'fp_clips/{idx}.gif', fps=5)\n",
    "    \n",
    "for idx in tp_ids:\n",
    "    i = np.where(df['pid'] == idx)[0][0]\n",
    "    track = df.iloc[i]\n",
    "    cell_num = track['cell_num']\n",
    "    minx, miny, maxx, maxy = min(track['x_pos_seq']), min(track['y_pos_seq']), max(track['x_pos_seq']), max(track['y_pos_seq'])\n",
    "    clath = X[cell_num][int(track['t']):(int(track['t'])+track['lifetime']), :, :][:, (int(miny)-5):(int(maxy)+5), :][:, :, (int(minx)-5):(int(maxx)+5)]\n",
    "    clath = 255.0 * (clath - X[cell_num].min()) / (clath.max() - X[cell_num].min())\n",
    "    clip = np.repeat(np.expand_dims(clath, axis=3), 3, axis=3) # convert to rgb\n",
    "    #clip = 255 * (clip - X[cell_num].min()) / (clip.max() - X[cell_num].min())\n",
    "    write_gif(clip, f'tp_clips/{idx}.gif', fps=5)"
   ]
  },
  {
   "cell_type": "code",
   "execution_count": 61,
   "metadata": {},
   "outputs": [],
   "source": [
    "clath = X[cell_num][int(track['t']):(int(track['t'])+track['lifetime']), :, :][:, (int(miny)-5):(int(maxy)+5), :][:, :, (int(minx)-5):(int(maxx)+5)]"
   ]
  },
  {
   "cell_type": "markdown",
   "metadata": {},
   "source": [
    "# kymographs"
   ]
  },
  {
   "cell_type": "code",
   "execution_count": 43,
   "metadata": {},
   "outputs": [],
   "source": [
    "def plot_kymograph(df, pids, X, Y):\n",
    "    \n",
    "    df = df[df.pid.isin(pids)]\n",
    "    #df = df[df.lifetime >= 50]\n",
    "    #df = df[df.y_consec_thresh == 0]\n",
    "    #cla = np.array([[X[df.cell_num.iloc[i]].mean()]*int(df.t.iloc[i])+ \n",
    "    #                 [np.mean(X[df.cell_num.iloc[i]][int(df.t.iloc[i]) + j][int(df.y_pos_seq.iloc[i][j]-1):int(df.y_pos_seq.iloc[i][j]+2),:][:,int(df.x_pos_seq.iloc[i][j])])\n",
    "    #                 for j in range(df.lifetime.iloc[i])] +\n",
    "    #                 [X[df.cell_num.iloc[i]].mean()]*(300 - int(df.t.iloc[i]) - df.lifetime.iloc[i]) for i in range(len(df))])\n",
    "    cla = []\n",
    "    for i in range(len(df)):\n",
    "        xmean = X[df.cell_num.iloc[i]].mean()\n",
    "        xmean = X[1].min()\n",
    "        t, lt = int(df.t.iloc[i]), df.lifetime.iloc[i]\n",
    "        x_pos, y_pos = df.x_pos_seq.iloc[i], df.y_pos_seq.iloc[i]\n",
    "        trace = [xmean]*t + [np.mean(X[df.cell_num.iloc[i]][t+j][int(y_pos[j]-1):int(y_pos[j]+2),:][:,int(x_pos[j]-1):int(x_pos[j]+2)]) for j in range(lt)] + [xmean]*(300 - t - lt)\n",
    "        cla.append(trace)\n",
    "    cla = np.array(cla)\n",
    "    #print(cla.max())\n",
    "    cla = (cla - X[1].min())/(5572 - X[1].min())\n",
    "    cla_sparse = []\n",
    "    for i in range(len(df)):\n",
    "        cla_sparse.append(cla[i])\n",
    "        cla_sparse.append([0]*300)\n",
    "        cla_sparse.append([0]*300)\n",
    "        cla_sparse.append([0]*300)\n",
    "    aux = np.array([[Y[1].min()]*int(df.t.iloc[i])+ \n",
    "                     [Y[df.cell_num.iloc[i]][int(df.t.iloc[i]) + j, int(df.y_pos_seq.iloc[i][j]), int(df.x_pos_seq.iloc[i][j])]\n",
    "                     for j in range(df.lifetime.iloc[i])] +\n",
    "                     [Y[1].min()]*(300 - int(df.t.iloc[i]) - df.lifetime.iloc[i]) for i in range(len(df))])\n",
    "    #print(aux.max())\n",
    "    aux = (aux - Y[1].min())/(4045 - Y[1].min())\n",
    "    aux_sparse = []\n",
    "    for i in range(len(df)):\n",
    "        aux_sparse.append([0]*300)\n",
    "        aux_sparse.append(aux[i])\n",
    "        aux_sparse.append([0]*300)\n",
    "        aux_sparse.append([0]*300)\n",
    "    return np.array([[[cla_sparse[i][j], aux_sparse[i][j], 0] for i in range(len(df)*4)] for j in range(300)])"
   ]
  },
  {
   "cell_type": "code",
   "execution_count": 75,
   "metadata": {},
   "outputs": [],
   "source": [
    "def plot_kymograph_aligned(df, pids, X, Y):\n",
    "    \n",
    "    df = df[df.pid.isin(pids)]\n",
    "    lmax = max(df.lifetime.values)\n",
    "    #df = df[df.lifetime >= 50]\n",
    "    #df = df[df.y_consec_thresh == 0]\n",
    "    #cla = np.array([[X[df.cell_num.iloc[i]].mean()]*int(df.t.iloc[i])+ \n",
    "    #                 [np.mean(X[df.cell_num.iloc[i]][int(df.t.iloc[i]) + j][int(df.y_pos_seq.iloc[i][j]-1):int(df.y_pos_seq.iloc[i][j]+2),:][:,int(df.x_pos_seq.iloc[i][j])])\n",
    "    #                 for j in range(df.lifetime.iloc[i])] +\n",
    "    #                 [X[df.cell_num.iloc[i]].mean()]*(300 - int(df.t.iloc[i]) - df.lifetime.iloc[i]) for i in range(len(df))])\n",
    "    cla = []\n",
    "    for i in range(len(df)):\n",
    "        xmean = X[df.cell_num.iloc[i]].mean()\n",
    "        xmean = X[1].min()\n",
    "        t, lt = int(df.t.iloc[i]), df.lifetime.iloc[i]\n",
    "        x_pos, y_pos = df.x_pos_seq.iloc[i], df.y_pos_seq.iloc[i]\n",
    "        trace = [np.mean(X[df.cell_num.iloc[i]][t+j][int(y_pos[j]-1):int(y_pos[j]+2),:][:,int(x_pos[j]-1):int(x_pos[j]+2)]) for j in range(lt)] + [xmean]*(lmax - lt)\n",
    "        cla.append(trace)\n",
    "    cla = np.array(cla)\n",
    "    print(cla.max())\n",
    "    cla = (cla - X[1].min())/(7681 - X[1].min())\n",
    "    cla_sparse = []\n",
    "    for i in range(len(df)):\n",
    "        cla_sparse.append(cla[i])\n",
    "        cla_sparse.append([0]*lmax)\n",
    "        cla_sparse.append([0]*lmax)\n",
    "        cla_sparse.append([0]*lmax)\n",
    "    aux = np.array([[Y[df.cell_num.iloc[i]][int(df.t.iloc[i]) + j, int(df.y_pos_seq.iloc[i][j]), int(df.x_pos_seq.iloc[i][j])]\n",
    "                     for j in range(df.lifetime.iloc[i])] +\n",
    "                     [Y[1].min()]*(lmax - df.lifetime.iloc[i]) for i in range(len(df))])\n",
    "    print(aux.max())\n",
    "    aux = (aux - Y[1].min())/(6346 - Y[1].min())\n",
    "    aux_sparse = []\n",
    "    for i in range(len(df)):\n",
    "        aux_sparse.append([0]*lmax)\n",
    "        aux_sparse.append(aux[i])\n",
    "        aux_sparse.append([0]*lmax)\n",
    "        aux_sparse.append([0]*lmax)\n",
    "    return np.array([[[cla_sparse[i][j], aux_sparse[i][j], 0] for i in range(len(df)*4)] for j in range(lmax)])"
   ]
  },
  {
   "cell_type": "code",
   "execution_count": 51,
   "metadata": {},
   "outputs": [
    {
     "data": {
      "text/plain": [
       "[]"
      ]
     },
     "execution_count": 51,
     "metadata": {},
     "output_type": "execute_result"
    },
    {
     "data": {
      "image/png": "[encoded data removed]",
      "text/plain": [
       "<Figure size 720x432 with 1 Axes>"
      ]
     },
     "metadata": {},
     "output_type": "display_data"
    }
   ],
   "source": [
    "kg = plot_kymograph_aligned(df, fp_ids, X, Y)\n",
    "fig, ax = plt.subplots(figsize=(10, 6))\n",
    "ax.imshow(kg, aspect=.2)\n",
    "ax.set_xticks([])"
   ]
  },
  {
   "cell_type": "code",
   "execution_count": null,
   "metadata": {},
   "outputs": [],
   "source": [
    "kg = plot_kymograph(df, tp_ids, X, Y)\n",
    "fig, ax = plt.subplots(figsize=(10, 6))\n",
    "ax.imshow(kg, aspect=.2)\n",
    "ax.set_xticks([])"
   ]
  },
  {
   "cell_type": "code",
   "execution_count": 72,
   "metadata": {},
   "outputs": [
    {
     "name": "stdout",
     "output_type": "stream",
     "text": [
      "7680.333333333333\n",
      "6346\n"
     ]
    }
   ],
   "source": [
    "#np.argsort(df.Y_max)[::-1][:50]\n",
    "tp_ids = df.pid.values[np.argsort(df.Y_max)[::-1][:50]]\n",
    "kg = plot_kymograph_aligned(df, tp_ids, X, Y)"
   ]
  },
  {
   "cell_type": "code",
   "execution_count": 76,
   "metadata": {},
   "outputs": [
    {
     "data": {
      "text/plain": [
       "[]"
      ]
     },
     "execution_count": 76,
     "metadata": {},
     "output_type": "execute_result"
    },
    {
     "data": {
      "image/png": "[encoded data removed]",
      "text/plain": [
       "<Figure size 720x432 with 1 Axes>"
      ]
     },
     "metadata": {},
     "output_type": "display_data"
    }
   ],
   "source": [
    "fig, ax = plt.subplots(figsize=(10, 6))\n",
    "ax.imshow(kg, aspect=0.5)\n",
    "ax.set_xticks([])"
   ]
  },
  {
   "cell_type": "code",
   "execution_count": 77,
   "metadata": {},
   "outputs": [
    {
     "name": "stdout",
     "output_type": "stream",
     "text": [
      "7036.555555555556\n",
      "2590\n"
     ]
    }
   ],
   "source": [
    "tn_ids = df.pid.values[np.argsort(df.Y_max)[:50]]\n",
    "kg = plot_kymograph_aligned(df, tn_ids, X, Y)"
   ]
  },
  {
   "cell_type": "code",
   "execution_count": 78,
   "metadata": {},
   "outputs": [
    {
     "data": {
      "text/plain": [
       "[]"
      ]
     },
     "execution_count": 78,
     "metadata": {},
     "output_type": "execute_result"
    },
    {
     "data": {
      "image/png": "[encoded data removed]",
      "text/plain": [
       "<Figure size 720x432 with 1 Axes>"
      ]
     },
     "metadata": {},
     "output_type": "display_data"
    }
   ],
   "source": [
    "fig, ax = plt.subplots(figsize=(10, 6))\n",
    "ax.imshow(kg, aspect=0.5)\n",
    "ax.set_xticks([])"
   ]
  },
  {
   "cell_type": "markdown",
   "metadata": {},
   "source": [
    "# label checking"
   ]
  },
  {
   "cell_type": "code",
   "execution_count": 20,
   "metadata": {},
   "outputs": [
    {
     "name": "stdout",
     "output_type": "stream",
     "text": [
      "26 52\n"
     ]
    }
   ],
   "source": [
    "neg = [221, 248, 255, 274, 291, 294, 350, 358, 364, 384, 434, 481, 518, 535, 588, 590, 602, 604, 638, 668, 675, 708, 752, 778, 808, 827]\n",
    "pos = [3982, 8243, 777, 3940, 7559, 2455, 4748, 633, 2177, 1205, 603, 7972, 8458, 3041, 924, 8786, 4116, 885, 6298, 4658, 7889, 982, 829, 1210, 3054, 504]\n",
    "\n",
    "n1 = len(neg)\n",
    "\n",
    "full = np.array(neg + pos)\n",
    "n2 = len(full)\n",
    "print(n1, n2)"
   ]
  },
  {
   "cell_type": "code",
   "execution_count": 23,
   "metadata": {},
   "outputs": [],
   "source": [
    "import random\n",
    "random.seed(15)\n",
    "samps = np.array(random.sample(range(n2), 36))\n",
    "pids = full[samps]\n",
    "labs = samps >= n1"
   ]
  },
  {
   "cell_type": "code",
   "execution_count": null,
   "metadata": {},
   "outputs": [],
   "source": [
    "viz.plot_curves(df[df.pid.isin(pids)]) #, extra_key='X_smooth_spl')"
   ]
  },
  {
   "cell_type": "code",
   "execution_count": null,
   "metadata": {},
   "outputs": [],
   "source": []
  }
 ],
 "metadata": {
  "kernelspec": {
   "display_name": "Python 3",
   "language": "python",
   "name": "python3"
  },
  "language_info": {
   "codemirror_mode": {
    "name": "ipython",
    "version": 3
   },
   "file_extension": ".py",
   "mimetype": "text/x-python",
   "name": "python",
   "nbconvert_exporter": "python",
   "pygments_lexer": "ipython3",
   "version": "3.7.5"
  }
 },
 "nbformat": 4,
 "nbformat_minor": 4
}
